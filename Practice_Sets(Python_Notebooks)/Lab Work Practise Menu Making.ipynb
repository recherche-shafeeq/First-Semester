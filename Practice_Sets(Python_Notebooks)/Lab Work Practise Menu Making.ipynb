{
 "cells": [
  {
   "cell_type": "code",
   "execution_count": 2,
   "metadata": {},
   "outputs": [
    {
     "name": "stdout",
     "output_type": "stream",
     "text": [
      "Enter Menu Type: Expresso Mocha Chillers/Over Ice/Chocolate Chillers/Fusion:Over Ice\n",
      "Small/RegularSmall\n",
      "Dish:Saturated Iced Coffee\n",
      "Enter Quantity:1\n",
      "Enough/Not EnoughNot Enough\n",
      "Enter Menu Type: Expresso Mocha Chillers/Over Ice/Chocolate Chillers/Fusion:Chocolate Chillers\n",
      "Small/RegularRegular\n",
      "Dish:Iced Chocolate\n",
      "Enter Quantity:2\n",
      "Enough/Not EnoughEnough\n",
      "Saturated Iced Coffee :   300\n",
      "Iced Chocolate :   730\n",
      "Bill\n",
      "Cost of Dishes: 1030\n",
      "Tax: 40\n",
      "Service Charges: 20\n",
      "Total Cost: 1080\n"
     ]
    }
   ],
   "source": [
    "Expresso_Mocha_Chillers = {\"Small\":{\"Vanilla Chiller\":361,\"Cream Cookies\":361,\"Hazulnet\":396,\"Toffee Nut Chiller\":399},\"Regular\":{\"Vanilla Chiller\":409,\"Cream Cookies\":409,\"Hazulnet\":461,\"Toffee Nut Chiller\":509}}\n",
    "Over_Ice                = {\"Small\":{\"Saturated Iced Coffee\":300,\"Blueberry Lemonade\":250,\"Apple Soda\":335,\"Lime Soda\":355,\"Iced Teas\":239},\"Regular\":{\"Saturated Iced Coffee\":374,\"Blueberry Lemonade\":291,\"Apple Soda\":348,\"Lime Soda\":361,\"Iced Teas\":291}}\n",
    "Chocolate_Chillers      = {\"Small\":{\"Iced Chocolate\":348,\"Chocolate Delight\":348},\"Regular\":{\"Iced Chocolate\":365,\"Chocolate Delight\":400}}\n",
    "Fusion                  = {\"Small\":{\"Iced Lime\":335,\"Chai Chiller\":348},\"Regular\":{\"Iced Lime\":348,\"Chai Chiller\":400}}\n",
    "emptydic = {}\n",
    "Choice = \"Show Menu\"\n",
    "counter = 0\n",
    "\n",
    "while Choice!= \"Enough\":\n",
    "    menutype = input(\"Enter Menu Type: Expresso Mocha Chillers/Over Ice/Chocolate Chillers/Fusion:\")\n",
    "    size     = input(\"Small/Regular\")\n",
    "    dish     = input(\"Dish:\")\n",
    "    quantity = int(input(\"Enter Quantity:\"))\n",
    "\n",
    "    if menutype == \"Expresso Mocha Chillers\":\n",
    "        if size == \"Small\":\n",
    "            for i in Expresso_Mocha_Chillers[\"Small\"]:\n",
    "                if i == dish:\n",
    "                    a = Expresso_Mocha_Chillers[\"Small\"][i]\n",
    "                    d_p1= a*quantity\n",
    "                    emptydic[i] = d_p1\n",
    "        if size == \"Regular\":\n",
    "            for j in Expresso_Mocha_Chillers[\"Regular\"]:\n",
    "                if j == dish:\n",
    "                    b = Expresso_Mocha_Chillers[\"Regular\"][j]\n",
    "                    d_p2= b*quantity\n",
    "                    emptydic[j] = d_p2\n",
    "    \n",
    "    if menutype == \"Over Ice\":\n",
    "        if size == \"Small\":\n",
    "            for k in Over_Ice[\"Small\"]:\n",
    "                if k == dish:\n",
    "                    c = Over_Ice[\"Small\"][k]\n",
    "                    d_p3= c*quantity\n",
    "                    emptydic[k]= d_p3\n",
    "        if size == \"Regular\":\n",
    "            for l in Over_Ice[\"Regular\"]:\n",
    "                if l == dish:\n",
    "                    d = Over_Ice[\"Regular\"][l]\n",
    "                    d_p4 = c*quantity\n",
    "                    emptydic[l]= d_p4          \n",
    "    if menutype == \"Chocolate Chillers\":\n",
    "        if size == \"Small\":\n",
    "            for m in Chocolate_Chillers[\"Small\"]:\n",
    "                if m == dish:\n",
    "                    e = Chocolate_Chillers[\"Small\"][m]\n",
    "                    d_p5= e*quantity\n",
    "                    emptydic[m]= d_p5\n",
    "        if size == \"Regular\":\n",
    "            for n in Chocolate_Chillers[\"Regular\"]:\n",
    "                if n == dish:\n",
    "                    f = Chocolate_Chillers[\"Regular\"][n]\n",
    "                    d_p6 = f*quantity\n",
    "                    emptydic[n]= d_p6\n",
    "    if menutype == \"Fusion\":\n",
    "        if size == \"Small\":\n",
    "            for o in Fusion[\"Small\"]:\n",
    "                if o == dish:\n",
    "                    g = Fusion[\"Small\"][o]\n",
    "                    d_p7= g*quantity\n",
    "                    emptydic[o]= d_p7\n",
    "        if size == \"Regular\":\n",
    "            for p in Fusion[\"Regular\"]:\n",
    "                if p == dish:\n",
    "                    h = Fusion[\"Regular\"][p]\n",
    "                    d_p8= h*quantity\n",
    "                    emptydic[p] = d_p8\n",
    "    Choice = input(\"Enough/Not Enough\")\n",
    "tax = 0\n",
    "for x,y in emptydic.items():\n",
    "    print(x,\":  \",y)\n",
    "    counter +=y\n",
    "    \n",
    "    tax += 20\n",
    "print(\"Bill\")\n",
    "print(\"Cost of Dishes:\",counter)\n",
    "print(\"Tax:\",tax)\n",
    "print(\"Service Charges:\",20)\n",
    "print(\"Total Cost:\",counter+tax+10)\n",
    "handler  = os.path.join(\"res\",\"Class.txt\")\n",
    "with open()"
   ]
  },
  {
   "cell_type": "code",
   "execution_count": null,
   "metadata": {},
   "outputs": [],
   "source": [
    "Expresso Mocha Chillers = {Small:{Vanilla Chiller:361,Cream Cookies:361,Hazulnet:396,Toffee Nut Chiller:399},Regular:{Vanilla Chiller:409,Cream Cookies:409,Hazulnet:461,Toffee Nut Chiller:509}}\n",
    "Over Ice = {Small:{Saturated Iced Coffee:300,Blueberry Lemonade:250,Apple Soda:335,Lime Soda:355,Iced Teas:239},Regular{Saturated Iced Coffee:374,Blueberry Lemonade:291,Apple Soda:348,Lime Soda:361,Iced Teas:291}}\n",
    "Chocolate Chillers = {Small:{Iced Chocolate:348,Chocolate Delight:348},Regular:{Iced Chocolate:365,Chocolate Delight:400}}\n",
    "Fusion = {Small:{Iced Lime:335,Chai Chiller:348},Regular{Iced Lime:348,Chai Chiller:400}}"
   ]
  },
  {
   "cell_type": "code",
   "execution_count": null,
   "metadata": {},
   "outputs": [],
   "source": [
    "Expresso_Mocha_Chillers = {\"Small\":{\"Vanilla Chiller\":361,\"Cream Cookies\":361,\"Hazulnet\":396,\"Toffee Nut Chiller\":399},\"Regular\":{\"Vanilla Chiller\":409,\"Cream Cookies\":409,\"Hazulnet\":461,\"Toffee Nut Chiller\":509}}\n",
    "Over_Ice                = {\"Small\":{\"Saturated Iced Coffee\":300,\"Blueberry Lemonade\":250,\"Apple Soda\":335,\"Lime Soda\":355,\"Iced Teas\":239},\"Regular\":{\"Saturated Iced Coffee\":374,\"Blueberry Lemonade\":291,\"Apple Soda\":348,\"Lime Soda\":361,\"Iced Teas\":291}}\n",
    "Chocolate_Chillers      = {\"Small\":{\"Iced Chocolate\":348,\"Chocolate Delight\":348},\"Regular\":{\"Iced Chocolate\":365,\"Chocolate Delight\":400}}\n",
    "Fusion                  = {\"Small\":{\"Iced Lime\":335,\"Chai Chiller\":348},\"Regular\":{\"Iced Lime\":348,\"Chai Chiller\":400}}\n",
    "for i in Expresso_Mocha_Chillers[\"Small\"]:\n",
    "    print(i)"
   ]
  },
  {
   "cell_type": "code",
   "execution_count": 3,
   "metadata": {},
   "outputs": [],
   "source": [
    "q_dish1 = 0\n",
    "q_dish2 = 0\n",
    "q_dish3 = 0\n",
    "q_dish4 = 0"
   ]
  },
  {
   "cell_type": "code",
   "execution_count": 12,
   "metadata": {},
   "outputs": [],
   "source": [
    "import os\n",
    "handler  = os.path.join(\"res\",\"Class.txt\")\n",
    "with open(handler,\"w\") as f:\n",
    "    total = counter+tax+10\n",
    "    total= str(total)\n",
    "    f.write(total)\n"
   ]
  },
  {
   "cell_type": "code",
   "execution_count": null,
   "metadata": {},
   "outputs": [],
   "source": []
  }
 ],
 "metadata": {
  "kernelspec": {
   "display_name": "Python 3",
   "language": "python",
   "name": "python3"
  },
  "language_info": {
   "codemirror_mode": {
    "name": "ipython",
    "version": 3
   },
   "file_extension": ".py",
   "mimetype": "text/x-python",
   "name": "python",
   "nbconvert_exporter": "python",
   "pygments_lexer": "ipython3",
   "version": "3.6.5"
  }
 },
 "nbformat": 4,
 "nbformat_minor": 2
}
