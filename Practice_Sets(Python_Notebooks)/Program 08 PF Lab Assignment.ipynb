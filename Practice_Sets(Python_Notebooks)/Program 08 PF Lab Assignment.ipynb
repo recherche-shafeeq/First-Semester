{
 "cells": [
  {
   "cell_type": "code",
   "execution_count": null,
   "metadata": {},
   "outputs": [],
   "source": [
    "#program 08\n",
    "a = input(\"enter roll_no:\")\n",
    "b = input(\"enter the list of lab task marks:\")\n",
    "b = b.split(\",\") # the entered list in string form separated by comma will be converted to a list\n",
    "print(b)\n",
    "c = input(\"enter the list of quiz marks:\")\n",
    "c = c.split(\",\")\n",
    "print(c)\n",
    "counter1 = 0\n",
    "counter2 = 0\n",
    "m_task = 0\n",
    "m_quiz = 0\n",
    "for i in b:\n",
    "    counter1 +=1\n",
    "    m_task += int(i)\n",
    "for j in c:\n",
    "    counter2 +=1\n",
    "    m_quiz += int(j)\n",
    "mean = (m_task+m_quiz)/(counter1+counter2)"
   ]
  }
 ],
 "metadata": {
  "kernelspec": {
   "display_name": "Python 3",
   "language": "python",
   "name": "python3"
  },
  "language_info": {
   "codemirror_mode": {
    "name": "ipython",
    "version": 3
   },
   "file_extension": ".py",
   "mimetype": "text/x-python",
   "name": "python",
   "nbconvert_exporter": "python",
   "pygments_lexer": "ipython3",
   "version": "3.6.5"
  }
 },
 "nbformat": 4,
 "nbformat_minor": 2
}
