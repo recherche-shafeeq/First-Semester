{
 "cells": [
  {
   "cell_type": "code",
   "execution_count": 1,
   "metadata": {},
   "outputs": [
    {
     "name": "stdout",
     "output_type": "stream",
     "text": [
      "enter roll_no:p19-0039\n",
      "enter the list of lab task marks:8,8,8,8,8\n",
      "enter the list of quiz marks:8,8,8,8,8\n",
      "Enter examination marks:45\n",
      "You get A grade\n"
     ]
    }
   ],
   "source": [
    "#program 08\n",
    "a = input(\"enter roll_no:\")\n",
    "b = input(\"enter the list of lab task marks:\")\n",
    "b = b.split(\",\") # the entered list in string form separated by comma will be converted to a list\n",
    "c = input(\"enter the list of quiz marks:\")\n",
    "c = c.split(\",\")\n",
    "m_task = 0\n",
    "m_quiz = 0\n",
    "ten_count1 = 0\n",
    "ten_count2 = 0\n",
    "for i in b:\n",
    "    m_task += int(i)\n",
    "    ten_count1 += 10\n",
    "for j in c:\n",
    "    m_quiz += int(j)\n",
    "    ten_count2 += 10\n",
    "d = (m_task+m_quiz)/(ten_count1+ten_count2)\n",
    "e = d*100\n",
    "if e < 40:\n",
    "    print(\"You get F grade\")\n",
    "else:\n",
    "    per_t = (m_task/ten_count1)*25\n",
    "    per_q = (m_task/ten_count2)*25\n",
    "    ex_m = int(input(\"Enter examination marks:\"))\n",
    "    f = (ex_m/50)*50\n",
    "    per = per_t+per_q+ex_m\n",
    "if per >= 80 and per <=100:\n",
    "    print(\"You get A grade\")\n",
    "elif per >= 70 and per < 80:\n",
    "    print(\"You get B grade\")\n",
    "elif per >=60 and per < 70:\n",
    "    print(\"You get C grade\")\n",
    "elif per >= 50 and per < 60:\n",
    "    print(\"You get D grade\")\n",
    "elif per <50:\n",
    "    print(\"You get E grade\")\n"
   ]
  },
  {
   "cell_type": "code",
   "execution_count": null,
   "metadata": {},
   "outputs": [],
   "source": []
  },
  {
   "cell_type": "code",
   "execution_count": null,
   "metadata": {},
   "outputs": [],
   "source": []
  }
 ],
 "metadata": {
  "kernelspec": {
   "display_name": "Python 3",
   "language": "python",
   "name": "python3"
  },
  "language_info": {
   "codemirror_mode": {
    "name": "ipython",
    "version": 3
   },
   "file_extension": ".py",
   "mimetype": "text/x-python",
   "name": "python",
   "nbconvert_exporter": "python",
   "pygments_lexer": "ipython3",
   "version": "3.6.5"
  }
 },
 "nbformat": 4,
 "nbformat_minor": 2
}
