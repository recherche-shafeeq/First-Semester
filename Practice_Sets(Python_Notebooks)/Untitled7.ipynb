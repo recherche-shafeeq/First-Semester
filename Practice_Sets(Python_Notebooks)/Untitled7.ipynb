{
 "cells": [
  {
   "cell_type": "code",
   "execution_count": 3,
   "metadata": {},
   "outputs": [],
   "source": [
    "from math import pi"
   ]
  },
  {
   "cell_type": "code",
   "execution_count": 16,
   "metadata": {},
   "outputs": [],
   "source": [
    "def find_diameter_circumference_area(radius):\n",
    "    D=2*radius\n",
    "    result=D\n",
    "    print(D)\n",
    "    C=2*pi*radius\n",
    "    return C\n",
    "    A=pi*(radius**2)\n",
    "    return "
   ]
  },
  {
   "cell_type": "code",
   "execution_count": 17,
   "metadata": {},
   "outputs": [
    {
     "name": "stdout",
     "output_type": "stream",
     "text": [
      "14\n"
     ]
    }
   ],
   "source": [
    "find_diameter_circumference_area(7)"
   ]
  },
  {
   "cell_type": "code",
   "execution_count": 1,
   "metadata": {},
   "outputs": [],
   "source": [
    "from math import pi\n",
    "def find_diameter_circumference_area(radius):\n",
    "    D=2*radius\n",
    "    result=D\n",
    "    print (\"D=\",D)\n",
    "    C=2*pi*radius\n",
    "    print (\"C=\",C)\n",
    "    A=pi*(radius**2)   \n",
    "    print (\"A=\",A)"
   ]
  },
  {
   "cell_type": "code",
   "execution_count": 2,
   "metadata": {},
   "outputs": [
    {
     "name": "stdout",
     "output_type": "stream",
     "text": [
      "D= 8\n",
      "C= 25.132741228718345\n",
      "A= 50.26548245743669\n"
     ]
    }
   ],
   "source": [
    "find_diameter_circumference_area(4)"
   ]
  },
  {
   "cell_type": "code",
   "execution_count": 54,
   "metadata": {},
   "outputs": [],
   "source": [
    "def grams_kilograms(pounds):\n",
    "    result=pounds*0.454 #1 pound=0.454 kilogram\n",
    "    print(\"Kilogram=\",result)\n",
    "    result=pounds*453.59237\n",
    "    print(\"Grams=\",result)"
   ]
  },
  {
   "cell_type": "code",
   "execution_count": 57,
   "metadata": {},
   "outputs": [
    {
     "name": "stdout",
     "output_type": "stream",
     "text": [
      "Kilogram= 4.086\n",
      "Grams= 4082.33133\n"
     ]
    }
   ],
   "source": [
    "grams_kilograms(9)"
   ]
  },
  {
   "cell_type": "raw",
   "metadata": {},
   "source": [
    "\n",
    "\n"
   ]
  },
  {
   "cell_type": "code",
   "execution_count": 1,
   "metadata": {},
   "outputs": [],
   "source": [
    "def find_area(length,width):\n",
    "    result=length*width\n",
    "    print(\"Area=\",result)"
   ]
  },
  {
   "cell_type": "code",
   "execution_count": 2,
   "metadata": {},
   "outputs": [
    {
     "name": "stdout",
     "output_type": "stream",
     "text": [
      "Area= 42\n"
     ]
    }
   ],
   "source": [
    "find_area(6,7)"
   ]
  },
  {
   "cell_type": "code",
   "execution_count": null,
   "metadata": {},
   "outputs": [],
   "source": [
    "\n",
    "\n",
    "\n",
    "\n",
    "\n"
   ]
  },
  {
   "cell_type": "code",
   "execution_count": null,
   "metadata": {},
   "outputs": [],
   "source": []
  }
 ],
 "metadata": {
  "kernelspec": {
   "display_name": "Python 3",
   "language": "python",
   "name": "python3"
  },
  "language_info": {
   "codemirror_mode": {
    "name": "ipython",
    "version": 3
   },
   "file_extension": ".py",
   "mimetype": "text/x-python",
   "name": "python",
   "nbconvert_exporter": "python",
   "pygments_lexer": "ipython3",
   "version": "3.6.5"
  }
 },
 "nbformat": 4,
 "nbformat_minor": 2
}
