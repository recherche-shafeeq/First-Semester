{
 "cells": [
  {
   "cell_type": "code",
   "execution_count": 1,
   "metadata": {},
   "outputs": [],
   "source": [
    "a = [2,3,4,5]"
   ]
  },
  {
   "cell_type": "code",
   "execution_count": 2,
   "metadata": {},
   "outputs": [
    {
     "ename": "SyntaxError",
     "evalue": "can't delete function call (<ipython-input-2-299541ca8b9e>, line 1)",
     "output_type": "error",
     "traceback": [
      "\u001b[1;36m  File \u001b[1;32m\"<ipython-input-2-299541ca8b9e>\"\u001b[1;36m, line \u001b[1;32m1\u001b[0m\n\u001b[1;33m    del a(2)\u001b[0m\n\u001b[1;37m       ^\u001b[0m\n\u001b[1;31mSyntaxError\u001b[0m\u001b[1;31m:\u001b[0m can't delete function call\n"
     ]
    }
   ],
   "source": [
    "del a(2)"
   ]
  },
  {
   "cell_type": "code",
   "execution_count": 3,
   "metadata": {},
   "outputs": [],
   "source": [
    "def fib(n):\n",
    "    if n <= 0:\n",
    "        return n\n",
    "    a,b = 0,1\n",
    "    for i in range(1,n+1):\n",
    "        a , b = b ,a+b\n",
    "    return a"
   ]
  },
  {
   "cell_type": "code",
   "execution_count": null,
   "metadata": {},
   "outputs": [],
   "source": [
    "def sqrt(x,guess = 0):\n",
    "    if x <0:\n",
    "        raise ValueError(\"Please enter a number greater than 0\")\n",
    "    if good_enough(x,guess):\n",
    "        return guess\n",
    "    else:\n",
    "        new_guess = improve_guess(x,guess)\n",
    "        sqrt(x,new_guess)\n",
    "def good_enough(x,guess):\n",
    "    if abs(abs(guess*guess)-x) < 0.1:\n",
    "        return True\n",
    "    else:\n",
    "        return False\n",
    "def improve_guess(x,guess):\n",
    "    if guess <0.1:\n",
    "        return guess+0.1\n",
    "    else:\n",
    "        return guess-0.1\n",
    "sqrt(25,4.9)"
   ]
  }
 ],
 "metadata": {
  "kernelspec": {
   "display_name": "Python 3",
   "language": "python",
   "name": "python3"
  },
  "language_info": {
   "codemirror_mode": {
    "name": "ipython",
    "version": 3
   },
   "file_extension": ".py",
   "mimetype": "text/x-python",
   "name": "python",
   "nbconvert_exporter": "python",
   "pygments_lexer": "ipython3",
   "version": "3.6.5"
  }
 },
 "nbformat": 4,
 "nbformat_minor": 2
}
