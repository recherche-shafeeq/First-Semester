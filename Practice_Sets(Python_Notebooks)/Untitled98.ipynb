{
 "cells": [
  {
   "cell_type": "code",
   "execution_count": 3,
   "metadata": {},
   "outputs": [],
   "source": [
    "a = list(\"sdakfjflasj\")"
   ]
  },
  {
   "cell_type": "code",
   "execution_count": 4,
   "metadata": {},
   "outputs": [],
   "source": [
    "a.sort()"
   ]
  },
  {
   "cell_type": "code",
   "execution_count": 5,
   "metadata": {},
   "outputs": [
    {
     "name": "stdout",
     "output_type": "stream",
     "text": [
      "['a', 'a', 'd', 'f', 'f', 'j', 'j', 'k', 'l', 's', 's']\n"
     ]
    }
   ],
   "source": [
    "print(a)"
   ]
  },
  {
   "cell_type": "code",
   "execution_count": 6,
   "metadata": {},
   "outputs": [
    {
     "data": {
      "text/plain": [
       "'aadffjjklss'"
      ]
     },
     "execution_count": 6,
     "metadata": {},
     "output_type": "execute_result"
    }
   ],
   "source": [
    "\"\".join(a)"
   ]
  },
  {
   "cell_type": "code",
   "execution_count": 9,
   "metadata": {},
   "outputs": [],
   "source": [
    "def longest(s1, s2):\n",
    "    a = list(s1)\n",
    "    b = list(s2)\n",
    "    lst1 = []\n",
    "    for i in a:\n",
    "        if i not in lst1:\n",
    "            lst1.append(i)\n",
    "    lst2  =[]\n",
    "    for j in b:\n",
    "         if j not in lst2:\n",
    "                lst2.append(j)\n",
    "    print(lst1,lst2)\n",
    "    lst1.sort()\n",
    "    lst2.sort()\n",
    "    if len(lst1) > len(lst2):\n",
    "        return \"\".join(lst1)\n",
    "    else:\n",
    "        return \"\".join(lst2)"
   ]
  },
  {
   "cell_type": "code",
   "execution_count": 12,
   "metadata": {},
   "outputs": [
    {
     "name": "stdout",
     "output_type": "stream",
     "text": [
      "['x', 'y', 's', 'd', 'f', 'g', 'h', 'a', 'b', 'c', 'e', 'w'] ['x', 'y', 'a', 'b', 'k', 'l', 'm', 'o', 'p', 'q']\n"
     ]
    },
    {
     "data": {
      "text/plain": [
       "'abcdefghswxy'"
      ]
     },
     "execution_count": 12,
     "metadata": {},
     "output_type": "execute_result"
    }
   ],
   "source": [
    "longest(\"xysdfghaabbbccccdefww\",\"xxxxyyyyabklmopq\")"
   ]
  },
  {
   "cell_type": "code",
   "execution_count": null,
   "metadata": {},
   "outputs": [],
   "source": []
  },
  {
   "cell_type": "code",
   "execution_count": null,
   "metadata": {},
   "outputs": [],
   "source": []
  }
 ],
 "metadata": {
  "kernelspec": {
   "display_name": "Python 3",
   "language": "python",
   "name": "python3"
  },
  "language_info": {
   "codemirror_mode": {
    "name": "ipython",
    "version": 3
   },
   "file_extension": ".py",
   "mimetype": "text/x-python",
   "name": "python",
   "nbconvert_exporter": "python",
   "pygments_lexer": "ipython3",
   "version": "3.6.5"
  }
 },
 "nbformat": 4,
 "nbformat_minor": 2
}
