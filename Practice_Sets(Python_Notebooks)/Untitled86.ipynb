{
 "cells": [
  {
   "cell_type": "code",
   "execution_count": 10,
   "metadata": {},
   "outputs": [],
   "source": [
    "emp_dir = []\n",
    "import os\n",
    "directory = \"res\"\n",
    "handle = os.path.join(directory,\"datafile.csv\")\n",
    "with open(os.path.join(directory,\"Myfile.txt\"),\"a\") as f:\n",
    "    with open(handle, \"r\") as g:\n",
    "        counter = 0\n",
    "        for i in g:\n",
    "            counter += 1\n",
    "            if counter == 1:\n",
    "                continue\n",
    "            emp_dir.append(i.strip().split(\",\"))"
   ]
  },
  {
   "cell_type": "code",
   "execution_count": 33,
   "metadata": {},
   "outputs": [],
   "source": [
    "new_dic = {}\n",
    "for i in emp_dir:\n",
    "    name = i[1]\n",
    "    counter = 0\n",
    "    for j in i[2:]:\n",
    "        counter += float(j)\n",
    "    counter = str(counter)\n",
    "    new_dic[name] = counter\n",
    "    with open(os.path.join(\"res\",\"Myfile.txt\"), \"a\") as f:\n",
    "        f.write(name+\" \"+counter+\"\\n\")"
   ]
  },
  {
   "cell_type": "code",
   "execution_count": 53,
   "metadata": {},
   "outputs": [],
   "source": [
    "def split_safe(s):\n",
    "    lst = []\n",
    "    counter = 0\n",
    "    ss = \"\"\n",
    "    for i in s:\n",
    "        counter += 1\n",
    "        \n",
    "        if i != \",\":\n",
    "            ss += i\n",
    "        elif (i == \",\" or counter == len(s)):\n",
    "            lst.append(ss)\n",
    "            ss = \"\"\n",
    "    print(lst)"
   ]
  },
  {
   "cell_type": "code",
   "execution_count": 54,
   "metadata": {},
   "outputs": [
    {
     "name": "stdout",
     "output_type": "stream",
     "text": [
      "['Ali', 'Farooq', \"'Street 10\", ' Sector E2', \" Phase1'\"]\n"
     ]
    }
   ],
   "source": [
    "split_safe(\"Ali,Farooq,'Street 10, Sector E2, Phase1',34\")"
   ]
  },
  {
   "cell_type": "code",
   "execution_count": 55,
   "metadata": {},
   "outputs": [],
   "source": [
    "string = \"Ali,Farooq,'Street 10, Sector E2, Phase1',34\""
   ]
  },
  {
   "cell_type": "code",
   "execution_count": 57,
   "metadata": {},
   "outputs": [
    {
     "data": {
      "text/plain": [
       "11"
      ]
     },
     "execution_count": 57,
     "metadata": {},
     "output_type": "execute_result"
    }
   ],
   "source": [
    "string.index(\"'\")"
   ]
  },
  {
   "cell_type": "code",
   "execution_count": 58,
   "metadata": {},
   "outputs": [],
   "source": [
    "def split_safe(s):\n",
    "    ind = 0\n",
    "    lst = ['']\n",
    "    boolee = 0\n",
    "    boole = 0\n",
    "    \n",
    "    for ch in s:\n",
    "        if ch == ',' and boolee == 0:\n",
    "            lst.append('')\n",
    "            ind += 1\n",
    "            boole  = 1\n",
    "            \n",
    "        elif ch == \"'\" and boolee == 0:\n",
    "            boolee = 1\n",
    "            \n",
    "        elif ch == \"'\" and boolee == 1:\n",
    "            boolee = 0\n",
    "            \n",
    "        elif ch == \" \" and boole ==0:\n",
    "            lst[ind] = lst[ind] + ch\n",
    "            \n",
    "        elif ch !=' ':\n",
    "            lst[ind] = lst[ind] + ch\n",
    "            boole = 0\n",
    "            \n",
    "    return lst"
   ]
  },
  {
   "cell_type": "code",
   "execution_count": 60,
   "metadata": {},
   "outputs": [
    {
     "data": {
      "text/plain": [
       "'ab'"
      ]
     },
     "execution_count": 60,
     "metadata": {},
     "output_type": "execute_result"
    }
   ],
   "source": [
    "\"abc\"[0:2]"
   ]
  },
  {
   "cell_type": "code",
   "execution_count": null,
   "metadata": {},
   "outputs": [],
   "source": [
    "asser"
   ]
  },
  {
   "cell_type": "code",
   "execution_count": null,
   "metadata": {},
   "outputs": [],
   "source": []
  }
 ],
 "metadata": {
  "kernelspec": {
   "display_name": "Python 3",
   "language": "python",
   "name": "python3"
  },
  "language_info": {
   "codemirror_mode": {
    "name": "ipython",
    "version": 3
   },
   "file_extension": ".py",
   "mimetype": "text/x-python",
   "name": "python",
   "nbconvert_exporter": "python",
   "pygments_lexer": "ipython3",
   "version": "3.6.5"
  }
 },
 "nbformat": 4,
 "nbformat_minor": 2
}
