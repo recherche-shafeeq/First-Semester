{
 "cells": [
  {
   "cell_type": "code",
   "execution_count": 4,
   "metadata": {},
   "outputs": [
    {
     "data": {
      "text/plain": [
       "['Name,Father Name,Address,Age',\n",
       " \"Ali,Farooq,'Street 10, Sector E2, Phase1',34\",\n",
       " \"Bilal,Khan,'Sector E3, Phase1',76\",\n",
       " 'Khan,Ajmal,Nowhere,65']"
      ]
     },
     "execution_count": 4,
     "metadata": {},
     "output_type": "execute_result"
    }
   ],
   "source": [
    "rows=[]\n",
    "import os\n",
    "file=os.path.join(\"res\",\"assignment.txt\")\n",
    "with open(file,\"r\") as f:\n",
    "    for line in f:\n",
    "        rows.append(line.strip())\n",
    "rows"
   ]
  },
  {
   "cell_type": "code",
   "execution_count": null,
   "metadata": {},
   "outputs": [],
   "source": [
    "def split_safe(line):\n",
    "    a=[]\n",
    "    for i in line:\n",
    "        i\n",
    "\n",
    "    "
   ]
  },
  {
   "cell_type": "code",
   "execution_count": null,
   "metadata": {},
   "outputs": [],
   "source": [
    "x=\"Ali,Farooq,'Street 10, Sector E2, Phase1',34\"\n",
    "split_safe(x)"
   ]
  },
  {
   "cell_type": "code",
   "execution_count": null,
   "metadata": {},
   "outputs": [],
   "source": [
    "Name,Father Name,Address,Age\n",
    "Ali,Farooq,'Street 10, Sector E2, Phase1',34\n",
    "Bilal,Khan,'Sector E3, Phase1',76\n",
    "Khan,Ajmal,Nowhere,65"
   ]
  }
 ],
 "metadata": {
  "kernelspec": {
   "display_name": "Python 3",
   "language": "python",
   "name": "python3"
  },
  "language_info": {
   "codemirror_mode": {
    "name": "ipython",
    "version": 3
   },
   "file_extension": ".py",
   "mimetype": "text/x-python",
   "name": "python",
   "nbconvert_exporter": "python",
   "pygments_lexer": "ipython3",
   "version": "3.6.5"
  }
 },
 "nbformat": 4,
 "nbformat_minor": 2
}
