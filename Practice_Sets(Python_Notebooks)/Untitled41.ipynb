{
 "cells": [
  {
   "cell_type": "code",
   "execution_count": null,
   "metadata": {},
   "outputs": [],
   "source": []
  },
  {
   "cell_type": "code",
   "execution_count": 79,
   "metadata": {},
   "outputs": [],
   "source": [
    "def get_student_marks(l):\n",
    "    ans_dic={}\n",
    "    a=l[0][\"roll_no\"]\n",
    "    b=l[0][\"marks\"]\n",
    "    ini1=0\n",
    "    for i in (\"english\",\"calculus\"):\n",
    "        c=b[i]\n",
    "        for j in c:\n",
    "            if j ==None:\n",
    "                continue\n",
    "            ini1+=j\n",
    "            if i==\"english\":\n",
    "                v=ini1\n",
    "                e=i\n",
    "            elif i==\"calculus\":\n",
    "                n=ini1\n",
    "                f=i\n",
    "    ans_dic[a]={e:v,f:n}\n",
    "    g=l[1][\"roll_no\"]\n",
    "    h=l[1][\"marks\"]\n",
    "    k=0\n",
    "    for l in \"english\",\"programming fundaments\":\n",
    "        m=h[l]\n",
    "        for n in m:\n",
    "            if n==None:\n",
    "                continue\n",
    "            k+=n\n",
    "            if l==\"english\":\n",
    "                o=k\n",
    "                p=l\n",
    "            elif l==\"programming fundaments\":\n",
    "                q=k\n",
    "                r=l\n",
    "    ans_dic[g]={p:o,r:q}\n",
    "    k1=0\n",
    "    for l in \"calculus\",\"programming fundaments\":\n",
    "        m1=l[2][\"marks\"][l]\n",
    "        for n1 in m1:\n",
    "            if n1==None:\n",
    "                continue\n",
    "            k1+=n1\n",
    "            if l1==\"calculus\":\n",
    "                o1=k1\n",
    "                p1=l1\n",
    "            elif l1==\"programming fundaments\":\n",
    "                q1=k1\n",
    "                r1=l1\n",
    "    ans_dic[\"p18-1003\"]={p1:o1,r1:q1}\n",
    "    return(ans_dic)"
   ]
  },
  {
   "cell_type": "code",
   "execution_count": 84,
   "metadata": {},
   "outputs": [],
   "source": [
    "x= [ \n",
    "        {'roll_no': 'p18-1001', 'marks': {\n",
    "                'english': (1.4, 2.5, 15, 9.6, 33), \n",
    "                'calculus': (2.4, 1.5, 12, 1.6, 21),\n",
    "            }, 'attendance': 88.4\n",
    "        }, \n",
    "        {'roll_no': 'p18-1002', 'marks': {\n",
    "                'english': (2.4, 1.5, 12, 1.6, 21),\n",
    "                'programming fundaments': (2.4, 1.5, 12, 1.6, 21),\n",
    "            }, 'attendance': 79.4\n",
    "        }, \n",
    "        {'roll_no': 'p18-1003', 'marks': {\n",
    "                'calculus': (2.4, 1.5, 12, None, 21), \n",
    "                'programming fundamentals': (2.4, 1.5, 12, 1.6, 21), \n",
    "            }, 'attendance': 79.4\n",
    "        }, \n",
    "    ]"
   ]
  },
  {
   "cell_type": "code",
   "execution_count": 85,
   "metadata": {},
   "outputs": [
    {
     "ename": "TypeError",
     "evalue": "string indices must be integers",
     "output_type": "error",
     "traceback": [
      "\u001b[1;31m---------------------------------------------------------------------------\u001b[0m",
      "\u001b[1;31mTypeError\u001b[0m                                 Traceback (most recent call last)",
      "\u001b[1;32m<ipython-input-85-abb9843184a6>\u001b[0m in \u001b[0;36m<module>\u001b[1;34m()\u001b[0m\n\u001b[1;32m----> 1\u001b[1;33m \u001b[0mget_student_marks\u001b[0m\u001b[1;33m(\u001b[0m\u001b[0mx\u001b[0m\u001b[1;33m)\u001b[0m\u001b[1;33m\u001b[0m\u001b[0m\n\u001b[0m",
      "\u001b[1;32m<ipython-input-79-3446f08d34c9>\u001b[0m in \u001b[0;36mget_student_marks\u001b[1;34m(l)\u001b[0m\n\u001b[0;32m     35\u001b[0m     \u001b[0mk1\u001b[0m\u001b[1;33m=\u001b[0m\u001b[1;36m0\u001b[0m\u001b[1;33m\u001b[0m\u001b[0m\n\u001b[0;32m     36\u001b[0m     \u001b[1;32mfor\u001b[0m \u001b[0ml\u001b[0m \u001b[1;32min\u001b[0m \u001b[1;34m\"calculus\"\u001b[0m\u001b[1;33m,\u001b[0m\u001b[1;34m\"programming fundaments\"\u001b[0m\u001b[1;33m:\u001b[0m\u001b[1;33m\u001b[0m\u001b[0m\n\u001b[1;32m---> 37\u001b[1;33m         \u001b[0mm1\u001b[0m\u001b[1;33m=\u001b[0m\u001b[0ml\u001b[0m\u001b[1;33m[\u001b[0m\u001b[1;36m2\u001b[0m\u001b[1;33m]\u001b[0m\u001b[1;33m[\u001b[0m\u001b[1;34m\"marks\"\u001b[0m\u001b[1;33m]\u001b[0m\u001b[1;33m[\u001b[0m\u001b[0ml\u001b[0m\u001b[1;33m]\u001b[0m\u001b[1;33m\u001b[0m\u001b[0m\n\u001b[0m\u001b[0;32m     38\u001b[0m         \u001b[1;32mfor\u001b[0m \u001b[0mn1\u001b[0m \u001b[1;32min\u001b[0m \u001b[0mm1\u001b[0m\u001b[1;33m:\u001b[0m\u001b[1;33m\u001b[0m\u001b[0m\n\u001b[0;32m     39\u001b[0m             \u001b[1;32mif\u001b[0m \u001b[0mn1\u001b[0m\u001b[1;33m==\u001b[0m\u001b[1;32mNone\u001b[0m\u001b[1;33m:\u001b[0m\u001b[1;33m\u001b[0m\u001b[0m\n",
      "\u001b[1;31mTypeError\u001b[0m: string indices must be integers"
     ]
    }
   ],
   "source": [
    "get_student_marks(x)"
   ]
  },
  {
   "cell_type": "code",
   "execution_count": 71,
   "metadata": {},
   "outputs": [],
   "source": [
    "def get_student_marks(l):\n",
    "    ans_dic={}\n",
    "    a=l[0][\"roll_no\"]\n",
    "    b=l[0][\"marks\"]\n",
    "    ini1=0\n",
    "    ini2=0\n",
    "    for i in (\"english\",\"calculus\"):\n",
    "        c=b[i]\n",
    "        for j in c:\n",
    "            if j ==None:\n",
    "                continue\n",
    "            if i==\"english\":\n",
    "                ini1+=j\n",
    "                e=i\n",
    "            elif i==\"calculus\":\n",
    "                ini2+=j\n",
    "                f=i\n",
    "    ans_dic[a]={e:ini1,f:ini2}\n",
    "    g=l[1][\"roll_no\"]\n",
    "    h=l[1][\"marks\"]\n",
    "    k1=0\n",
    "    k2=0\n",
    "    for l in \"english\",\"programming fundaments\":\n",
    "        m=h[l]\n",
    "        for n in m:\n",
    "            if n==None:\n",
    "                continue\n",
    "            \n",
    "            if l==\"english\":\n",
    "                k1+=n\n",
    "                p=l\n",
    "            elif l==\"programming fundaments\":\n",
    "                k2+=n\n",
    "                r=l\n",
    "    ans_dic[g]={p:k1,r:k2}\n",
    "    \n",
    "    \n",
    "    return (ans_dic)"
   ]
  },
  {
   "cell_type": "code",
   "execution_count": 72,
   "metadata": {},
   "outputs": [],
   "source": [
    "def get(l):\n",
    "    a=l[2][\"roll_no\"]\n",
    "    b=l[2][\"marks\"]\n",
    "    ini2=0\n",
    "    for i in \"calculus\",\"programming fundaments\":\n",
    "        c = b[i]\n",
    "        for j in c:\n",
    "            if j==None:\n",
    "                continue\n",
    "            ini2+=j\n",
    "            if i==\"calculus\":\n",
    "                d=ini2\n",
    "                f=i\n",
    "            elif i==\"programming fundaments\":\n",
    "                e=ini2\n",
    "                g=i\n",
    "    ans_dic[a]={f:d,g:e}\n",
    "    "
   ]
  },
  {
   "cell_type": "code",
   "execution_count": 73,
   "metadata": {},
   "outputs": [],
   "source": [
    "def get_student_marks(l):\n",
    "    ans_dic={}\n",
    "    a=l[0][\"roll_no\"]\n",
    "    b=l[0][\"marks\"]\n",
    "    ini1=0\n",
    "    for i in (\"english\",\"calculus\"):\n",
    "        c=b[i]\n",
    "        for j in c:\n",
    "            if j ==None:\n",
    "                continue\n",
    "            ini1+=j\n",
    "            if i==\"english\":\n",
    "                v=ini1\n",
    "                e=i\n",
    "            elif i==\"calculus\":\n",
    "                n=ini1\n",
    "                f=i\n",
    "    ans_dic[a]={e:v,f:n}\n",
    "    g=l[1][\"roll_no\"]\n",
    "    h=l[1][\"marks\"]\n",
    "    k=0\n",
    "    for l in \"english\",\"programming fundaments\":\n",
    "        m=h[l]\n",
    "        for n in m:\n",
    "            if n==None:\n",
    "                continue\n",
    "            k+=n\n",
    "            if l==\"english\":\n",
    "                o=k\n",
    "                p=l\n",
    "            elif l==\"programming fundaments\":\n",
    "                q=k\n",
    "                r=l\n",
    "    ans_dic[g]={p:o,r:q}\n",
    "    return(ans_dic)"
   ]
  },
  {
   "cell_type": "code",
   "execution_count": 52,
   "metadata": {},
   "outputs": [
    {
     "name": "stdout",
     "output_type": "stream",
     "text": [
      "No Python documentation found for 'string indices must be integers'.\n",
      "Use help() to get the interactive help utility.\n",
      "Use help(str) for help on the str class.\n",
      "\n"
     ]
    }
   ],
   "source": [
    "help(\"string indices must be integers\")"
   ]
  },
  {
   "cell_type": "code",
   "execution_count": 53,
   "metadata": {},
   "outputs": [],
   "source": [
    "t={'roll_no': 'p18-1003', \n",
    "    'marks': {'calculus': (2.4, 1.5, 12, None, 21),'programming fundamentals': (2.4, 1.5, 12, 1.6, 21),},\n",
    "    'attendance': 79.4}"
   ]
  },
  {
   "cell_type": "code",
   "execution_count": 78,
   "metadata": {},
   "outputs": [
    {
     "data": {
      "text/plain": [
       "'p18-1003'"
      ]
     },
     "execution_count": 78,
     "metadata": {},
     "output_type": "execute_result"
    }
   ],
   "source": [
    "x[2][\"roll_no\"]"
   ]
  },
  {
   "cell_type": "code",
   "execution_count": 60,
   "metadata": {},
   "outputs": [
    {
     "data": {
      "text/plain": [
       "dict_keys(['roll_no', 'marks', 'attendance'])"
      ]
     },
     "execution_count": 60,
     "metadata": {},
     "output_type": "execute_result"
    }
   ],
   "source": [
    "t.keys()"
   ]
  },
  {
   "cell_type": "code",
   "execution_count": 70,
   "metadata": {},
   "outputs": [
    {
     "data": {
      "text/plain": [
       "dict_values(['p18-1003', {'calculus': (2.4, 1.5, 12, None, 21), 'programming fundamentals': (2.4, 1.5, 12, 1.6, 21)}, 79.4])"
      ]
     },
     "execution_count": 70,
     "metadata": {},
     "output_type": "execute_result"
    }
   ],
   "source": [
    "t.values()"
   ]
  },
  {
   "cell_type": "code",
   "execution_count": 65,
   "metadata": {},
   "outputs": [
    {
     "data": {
      "text/plain": [
       "dict_items([('roll_no', 'p18-1003'), ('marks', {'calculus': (2.4, 1.5, 12, None, 21), 'programming fundamentals': (2.4, 1.5, 12, 1.6, 21)}), ('attendance', 79.4)])"
      ]
     },
     "execution_count": 65,
     "metadata": {},
     "output_type": "execute_result"
    }
   ],
   "source": [
    "t.items()"
   ]
  },
  {
   "cell_type": "code",
   "execution_count": 66,
   "metadata": {},
   "outputs": [
    {
     "name": "stdout",
     "output_type": "stream",
     "text": [
      "('roll_no', 'p18-1003')\n",
      "('marks', {'calculus': (2.4, 1.5, 12, None, 21), 'programming fundamentals': (2.4, 1.5, 12, 1.6, 21)})\n",
      "('attendance', 79.4)\n"
     ]
    }
   ],
   "source": [
    "for i in t.items():\n",
    "    print(i)"
   ]
  },
  {
   "cell_type": "code",
   "execution_count": 83,
   "metadata": {},
   "outputs": [
    {
     "ename": "ValueError",
     "evalue": "'roll_no' is not in list",
     "output_type": "error",
     "traceback": [
      "\u001b[1;31m---------------------------------------------------------------------------\u001b[0m",
      "\u001b[1;31mValueError\u001b[0m                                Traceback (most recent call last)",
      "\u001b[1;32m<ipython-input-83-b17cf3da24bd>\u001b[0m in \u001b[0;36m<module>\u001b[1;34m()\u001b[0m\n\u001b[1;32m----> 1\u001b[1;33m \u001b[0mx\u001b[0m\u001b[1;33m.\u001b[0m\u001b[0mindex\u001b[0m\u001b[1;33m(\u001b[0m\u001b[1;34m\"roll_no\"\u001b[0m\u001b[1;33m)\u001b[0m\u001b[1;33m\u001b[0m\u001b[0m\n\u001b[0m",
      "\u001b[1;31mValueError\u001b[0m: 'roll_no' is not in list"
     ]
    }
   ],
   "source": [
    "x.index()"
   ]
  },
  {
   "cell_type": "code",
   "execution_count": null,
   "metadata": {},
   "outputs": [],
   "source": []
  }
 ],
 "metadata": {
  "kernelspec": {
   "display_name": "Python 3",
   "language": "python",
   "name": "python3"
  },
  "language_info": {
   "codemirror_mode": {
    "name": "ipython",
    "version": 3
   },
   "file_extension": ".py",
   "mimetype": "text/x-python",
   "name": "python",
   "nbconvert_exporter": "python",
   "pygments_lexer": "ipython3",
   "version": "3.6.5"
  }
 },
 "nbformat": 4,
 "nbformat_minor": 2
}
