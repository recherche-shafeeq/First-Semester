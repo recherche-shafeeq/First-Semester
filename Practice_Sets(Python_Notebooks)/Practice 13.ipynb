{
 "cells": [
  {
   "cell_type": "code",
   "execution_count": null,
   "metadata": {},
   "outputs": [],
   "source": [
    "student_data=[ \n",
    "        {'roll_no': 'p18-1001', 'marks': {\n",
    "                'english': (1.4, 2.5, 15, 9.6, 33), \n",
    "                'calculus': (2.4, 1.5, 12, 1.6, 21),\n",
    "            }, 'attendance': 88.4\n",
    "        }, \n",
    "        {'roll_no': 'p18-1002', 'marks': {\n",
    "                'english': (2.4, 1.5, 12, 1.6, 21),\n",
    "                'programming fundaments': (2.4, 1.5, 12, 1.6, 21),\n",
    "            }, 'attendance': 79.4\n",
    "        }, \n",
    "        {'roll_no': 'p18-1003', 'marks': {\n",
    "                'calculus': (2.4, 1.5, 12, None, 21), \n",
    "                'programming fundamentals': (2.4, 1.5, 12, 1.6, 21), \n",
    "            }, 'attendance': 79.4\n",
    "        }, \n",
    "    ]"
   ]
  },
  {
   "cell_type": "code",
   "execution_count": null,
   "metadata": {},
   "outputs": [],
   "source": [
    "def collect_data(y):\n",
    "    a={}\n",
    "    for i in range(len(y)):\n",
    "        a=y[i]\n",
    "        b=a[\"roll_no\"]\n",
    "        c=a[\"marks\"]\n",
    "        counter = 0\n",
    "        m=0\n",
    "        tot1=0\n",
    "        tot2=0\n",
    "            for j,k in c:\n",
    "                counter += 1\n",
    "                for m in k:\n",
    "                    if counter == 1:\n",
    "                        sub1=j\n",
    "                        tot1 +=m\n",
    "                    elif counter ==2:\n",
    "                        sub2=j\n",
    "                        tot2 +=m\n",
    "                        \n",
    "            "
   ]
  },
  {
   "cell_type": "code",
   "execution_count": null,
   "metadata": {},
   "outputs": [],
   "source": [
    "def nth_prime(N):\n",
    "    if N==1:\n",
    "        return 2\n",
    "    x=3\n",
    "    n=2\n",
    "    for i in range(n,N+1):\n",
    "        if n==N:"
   ]
  },
  {
   "cell_type": "code",
   "execution_count": null,
   "metadata": {},
   "outputs": [],
   "source": [
    "def check_key(k,d):\n",
    "    if k in d:\n",
    "        return True\n",
    "    else:\n",
    "        return False\n"
   ]
  },
  {
   "cell_type": "code",
   "execution_count": null,
   "metadata": {},
   "outputs": [],
   "source": [
    "a={\"Name\":\"Shafeeq\",\n",
    "   \"Roll\":\"p18-0039\"}\n"
   ]
  },
  {
   "cell_type": "code",
   "execution_count": null,
   "metadata": {},
   "outputs": [],
   "source": [
    "check_key(\"Name\",a)"
   ]
  },
  {
   "cell_type": "code",
   "execution_count": null,
   "metadata": {},
   "outputs": [],
   "source": [
    "d={\"num1\":1,\n",
    "    \"num2\":2,\n",
    "     \"num3\":3,\n",
    "     \"num4\":4}"
   ]
  },
  {
   "cell_type": "code",
   "execution_count": null,
   "metadata": {},
   "outputs": [],
   "source": [
    "def task_wrk(d):\n",
    "    x=0\n",
    "    y={}\n",
    "    for i in d:\n",
    "        print(i)\n",
    "    for j in d:\n",
    "        a=d[j]\n",
    "        print(a)\n",
    "        x+=a\n",
    "        y[\"sumed\"]=x\n",
    "    if x%2==0:\n",
    "        print(\"Sum is even\")\n",
    "    else:\n",
    "        print(\"Sum is odd\")\n",
    "    print(y)"
   ]
  },
  {
   "cell_type": "code",
   "execution_count": null,
   "metadata": {},
   "outputs": [],
   "source": [
    "task_wrk(d)"
   ]
  },
  {
   "cell_type": "code",
   "execution_count": null,
   "metadata": {},
   "outputs": [],
   "source": [
    "def make_tuple(t):\n",
    "    a=()\n",
    "    "
   ]
  },
  {
   "cell_type": "code",
   "execution_count": null,
   "metadata": {},
   "outputs": [],
   "source": [
    "def check_len(s,n):\n",
    "    a=[]\n",
    "    b=s.split(\" \")\n",
    "    print(s)\n",
    "    for i in b[1:]:\n",
    "        if len(i)>n:\n",
    "            a.append(i)\n",
    "            \n",
    "    return a"
   ]
  },
  {
   "cell_type": "code",
   "execution_count": 13,
   "metadata": {},
   "outputs": [
    {
     "ename": "NameError",
     "evalue": "name 'check_len' is not defined",
     "output_type": "error",
     "traceback": [
      "\u001b[1;31m---------------------------------------------------------------------------\u001b[0m",
      "\u001b[1;31mNameError\u001b[0m                                 Traceback (most recent call last)",
      "\u001b[1;32m<ipython-input-13-5fd245a38793>\u001b[0m in \u001b[0;36m<module>\u001b[1;34m()\u001b[0m\n\u001b[0;32m      1\u001b[0m \u001b[0mstri\u001b[0m\u001b[1;33m=\u001b[0m\u001b[1;34m\"Pass string as a parameter to a function\"\u001b[0m\u001b[1;33m\u001b[0m\u001b[0m\n\u001b[1;32m----> 2\u001b[1;33m \u001b[0mcheck_len\u001b[0m\u001b[1;33m(\u001b[0m\u001b[0mstri\u001b[0m\u001b[1;33m,\u001b[0m\u001b[1;36m4\u001b[0m\u001b[1;33m)\u001b[0m\u001b[1;33m\u001b[0m\u001b[0m\n\u001b[0m",
      "\u001b[1;31mNameError\u001b[0m: name 'check_len' is not defined"
     ]
    }
   ],
   "source": [
    "stri=\"Pass string as a parameter to a function\"\n",
    "check_len(stri,4)"
   ]
  },
  {
   "cell_type": "code",
   "execution_count": 14,
   "metadata": {},
   "outputs": [],
   "source": [
    "a = stri.split(\" \")"
   ]
  },
  {
   "cell_type": "code",
   "execution_count": 16,
   "metadata": {},
   "outputs": [
    {
     "data": {
      "text/plain": [
       "['Pass', 'string', 'as', 'a', 'parameter', 'to', 'a', 'function']"
      ]
     },
     "execution_count": 16,
     "metadata": {},
     "output_type": "execute_result"
    }
   ],
   "source": [
    "a"
   ]
  },
  {
   "cell_type": "code",
   "execution_count": 17,
   "metadata": {},
   "outputs": [
    {
     "data": {
      "text/plain": [
       "'Pass'"
      ]
     },
     "execution_count": 17,
     "metadata": {},
     "output_type": "execute_result"
    }
   ],
   "source": [
    "a[0]"
   ]
  },
  {
   "cell_type": "code",
   "execution_count": 26,
   "metadata": {},
   "outputs": [],
   "source": [
    "a={\"p180039\":\"Shafeeq\"}"
   ]
  },
  {
   "cell_type": "code",
   "execution_count": 21,
   "metadata": {},
   "outputs": [],
   "source": [
    "del a[\"p180039\"]"
   ]
  },
  {
   "cell_type": "code",
   "execution_count": 22,
   "metadata": {},
   "outputs": [
    {
     "data": {
      "text/plain": [
       "{}"
      ]
     },
     "execution_count": 22,
     "metadata": {},
     "output_type": "execute_result"
    }
   ],
   "source": [
    "a"
   ]
  },
  {
   "cell_type": "code",
   "execution_count": 24,
   "metadata": {},
   "outputs": [],
   "source": [
    "a.clear()"
   ]
  },
  {
   "cell_type": "code",
   "execution_count": null,
   "metadata": {},
   "outputs": [],
   "source": []
  },
  {
   "cell_type": "code",
   "execution_count": 48,
   "metadata": {},
   "outputs": [],
   "source": [
    "def search_element(l):\n",
    "    inp=int(input(\"enter search:\"))\n",
    "    for i in range(len(l)):\n",
    "        a=l[i]\n",
    "        for j in a:\n",
    "            if j==inp:\n",
    "                return True\n",
    "    else:\n",
    "        return False"
   ]
  },
  {
   "cell_type": "code",
   "execution_count": 50,
   "metadata": {},
   "outputs": [
    {
     "name": "stdout",
     "output_type": "stream",
     "text": [
      "enter search:10\n"
     ]
    },
    {
     "data": {
      "text/plain": [
       "False"
      ]
     },
     "execution_count": 50,
     "metadata": {},
     "output_type": "execute_result"
    }
   ],
   "source": [
    "L=[[1,2,3],[4,5,6],[7,8,9]]\n",
    "\n",
    "search_element(L)"
   ]
  },
  {
   "cell_type": "code",
   "execution_count": 52,
   "metadata": {},
   "outputs": [
    {
     "name": "stdout",
     "output_type": "stream",
     "text": [
      "dict_values([0, 1, 4, 1, 6, 7])\n"
     ]
    }
   ],
   "source": [
    "d={0:0,1:1,2:4,3:1,4:6,5:7}"
   ]
  },
  {
   "cell_type": "code",
   "execution_count": null,
   "metadata": {},
   "outputs": [],
   "source": [
    "def test_fun(d):\n",
    "    a=int(input(\"enter num\"))\n",
    "    d.values()"
   ]
  },
  {
   "cell_type": "code",
   "execution_count": 76,
   "metadata": {},
   "outputs": [],
   "source": [
    "def max_min(d):\n",
    "    a=d.values()\n",
    "    c=list(a)\n",
    "    c.sort()\n",
    "    print(c[-1])\n",
    "    "
   ]
  },
  {
   "cell_type": "code",
   "execution_count": 77,
   "metadata": {},
   "outputs": [
    {
     "name": "stdout",
     "output_type": "stream",
     "text": [
      "7\n"
     ]
    }
   ],
   "source": [
    "max_min(d)"
   ]
  },
  {
   "cell_type": "code",
   "execution_count": 80,
   "metadata": {},
   "outputs": [
    {
     "name": "stdout",
     "output_type": "stream",
     "text": [
      "1 2 3\n"
     ]
    }
   ],
   "source": [
    "tup=(1,2,3)\n",
    "a,b,c=tup\n",
    "print (a,b,c)\n"
   ]
  },
  {
   "cell_type": "code",
   "execution_count": 86,
   "metadata": {},
   "outputs": [],
   "source": [
    "d={0:0,1:1,2:4,3:1,4:6,5:7}\n"
   ]
  },
  {
   "cell_type": "code",
   "execution_count": 87,
   "metadata": {},
   "outputs": [],
   "source": [
    "def mul_val(d):\n",
    "    a=int(input(\"enter num:\"))\n",
    "    for i in range(len(d)):\n",
    "        val=d[i]\n",
    "        b=val*a\n",
    "        d[i]=b\n",
    "    print(d)"
   ]
  },
  {
   "cell_type": "code",
   "execution_count": 88,
   "metadata": {},
   "outputs": [
    {
     "name": "stdout",
     "output_type": "stream",
     "text": [
      "enter num:3\n",
      "{0: 0, 1: 3, 2: 12, 3: 3, 4: 18, 5: 21}\n"
     ]
    }
   ],
   "source": [
    "mul_val(d)"
   ]
  },
  {
   "cell_type": "code",
   "execution_count": null,
   "metadata": {},
   "outputs": [],
   "source": []
  }
 ],
 "metadata": {
  "kernelspec": {
   "display_name": "Python 3",
   "language": "python",
   "name": "python3"
  },
  "language_info": {
   "codemirror_mode": {
    "name": "ipython",
    "version": 3
   },
   "file_extension": ".py",
   "mimetype": "text/x-python",
   "name": "python",
   "nbconvert_exporter": "python",
   "pygments_lexer": "ipython3",
   "version": "3.6.5"
  }
 },
 "nbformat": 4,
 "nbformat_minor": 2
}
