{
 "cells": [
  {
   "cell_type": "code",
   "execution_count": 4,
   "metadata": {},
   "outputs": [
    {
     "data": {
      "text/plain": [
       "b'dfghjk'"
      ]
     },
     "execution_count": 4,
     "metadata": {},
     "output_type": "execute_result"
    }
   ],
   "source": [
    "\"dfghjk\".encode()"
   ]
  },
  {
   "cell_type": "code",
   "execution_count": 5,
   "metadata": {},
   "outputs": [
    {
     "data": {
      "text/plain": [
       "range(1, 9)"
      ]
     },
     "execution_count": 5,
     "metadata": {},
     "output_type": "execute_result"
    }
   ],
   "source": [
    "range(1,9)"
   ]
  },
  {
   "cell_type": "code",
   "execution_count": 27,
   "metadata": {},
   "outputs": [],
   "source": [
    "def sqrt(x):\n",
    "    return [x,x,x,x,x,x]"
   ]
  },
  {
   "cell_type": "code",
   "execution_count": 28,
   "metadata": {},
   "outputs": [
    {
     "data": {
      "text/plain": [
       "list"
      ]
     },
     "execution_count": 28,
     "metadata": {},
     "output_type": "execute_result"
    }
   ],
   "source": [
    "type(sqrt(6))"
   ]
  },
  {
   "cell_type": "code",
   "execution_count": 8,
   "metadata": {},
   "outputs": [
    {
     "name": "stdout",
     "output_type": "stream",
     "text": [
      "3\n"
     ]
    }
   ],
   "source": [
    "sqrt(x = 3)"
   ]
  },
  {
   "cell_type": "code",
   "execution_count": 30,
   "metadata": {},
   "outputs": [],
   "source": [
    "a ,b,c = (4,5,8)"
   ]
  },
  {
   "cell_type": "code",
   "execution_count": 17,
   "metadata": {},
   "outputs": [
    {
     "data": {
      "text/plain": [
       "4"
      ]
     },
     "execution_count": 17,
     "metadata": {},
     "output_type": "execute_result"
    }
   ],
   "source": [
    "a "
   ]
  },
  {
   "cell_type": "code",
   "execution_count": 18,
   "metadata": {},
   "outputs": [
    {
     "data": {
      "text/plain": [
       "5"
      ]
     },
     "execution_count": 18,
     "metadata": {},
     "output_type": "execute_result"
    }
   ],
   "source": [
    "b"
   ]
  },
  {
   "cell_type": "code",
   "execution_count": 21,
   "metadata": {},
   "outputs": [
    {
     "data": {
      "text/plain": [
       "8"
      ]
     },
     "execution_count": 21,
     "metadata": {},
     "output_type": "execute_result"
    }
   ],
   "source": [
    "c"
   ]
  },
  {
   "cell_type": "code",
   "execution_count": 43,
   "metadata": {},
   "outputs": [
    {
     "ename": "SyntaxError",
     "evalue": "invalid syntax (<ipython-input-43-bd7c65fbc791>, line 3)",
     "output_type": "error",
     "traceback": [
      "\u001b[1;36m  File \u001b[1;32m\"<ipython-input-43-bd7c65fbc791>\"\u001b[1;36m, line \u001b[1;32m3\u001b[0m\n\u001b[1;33m    a =return \"Please enter a string\"\u001b[0m\n\u001b[1;37m            ^\u001b[0m\n\u001b[1;31mSyntaxError\u001b[0m\u001b[1;31m:\u001b[0m invalid syntax\n"
     ]
    }
   ],
   "source": [
    "def ispalindrome(x):\n",
    "    if type(x) != str:\n",
    "        return \"Please enter a string\"\n",
    "    if len(x) < 1:return True\n",
    "    "
   ]
  },
  {
   "cell_type": "code",
   "execution_count": 24,
   "metadata": {},
   "outputs": [
    {
     "name": "stdout",
     "output_type": "stream",
     "text": [
      "Something\n"
     ]
    }
   ],
   "source": [
    "a = 2\n",
    "b = \"a\"\n",
    "if \"a\" != 97 and a == 2:\n",
    "    print(\"Something\")"
   ]
  },
  {
   "cell_type": "code",
   "execution_count": 25,
   "metadata": {},
   "outputs": [
    {
     "name": "stdout",
     "output_type": "stream",
     "text": [
      "Help on package cryptography:\n",
      "\n",
      "NAME\n",
      "    cryptography\n",
      "\n",
      "DESCRIPTION\n",
      "    # This file is dual licensed under the terms of the Apache License, Version\n",
      "    # 2.0, and the BSD License. See the LICENSE file in the root of this repository\n",
      "    # for complete details.\n",
      "\n",
      "PACKAGE CONTENTS\n",
      "    __about__\n",
      "    exceptions\n",
      "    fernet\n",
      "    hazmat (package)\n",
      "    utils\n",
      "    x509 (package)\n",
      "\n",
      "DATA\n",
      "    __all__ = ['__title__', '__summary__', '__uri__', '__version__', '__au...\n",
      "    __copyright__ = 'Copyright 2013-2017 The cryptography developers'\n",
      "    __email__ = 'cryptography-dev@python.org'\n",
      "    __license__ = 'BSD or Apache License, Version 2.0'\n",
      "    __summary__ = 'cryptography is a package which provides cryptographic ...\n",
      "    __title__ = 'cryptography'\n",
      "    __uri__ = 'https://github.com/pyca/cryptography'\n",
      "\n",
      "VERSION\n",
      "    2.2.2\n",
      "\n",
      "AUTHOR\n",
      "    The cryptography developers\n",
      "\n",
      "FILE\n",
      "    c:\\users\\rubix\\anaconda3\\lib\\site-packages\\cryptography\\__init__.py\n",
      "\n",
      "\n"
     ]
    }
   ],
   "source": [
    "help(\"cryptography\")"
   ]
  },
  {
   "cell_type": "code",
   "execution_count": 27,
   "metadata": {},
   "outputs": [
    {
     "name": "stdout",
     "output_type": "stream",
     "text": [
      "Help on package numpydoc:\n",
      "\n",
      "NAME\n",
      "    numpydoc\n",
      "\n",
      "PACKAGE CONTENTS\n",
      "    docscrape\n",
      "    docscrape_sphinx\n",
      "    numpydoc\n",
      "\n",
      "FUNCTIONS\n",
      "    setup(app, *args, **kwargs)\n",
      "\n",
      "DATA\n",
      "    absolute_import = _Feature((2, 5, 0, 'alpha', 1), (3, 0, 0, 'alpha', 0...\n",
      "    division = _Feature((2, 2, 0, 'alpha', 2), (3, 0, 0, 'alpha', 0), 8192...\n",
      "    print_function = _Feature((2, 6, 0, 'alpha', 2), (3, 0, 0, 'alpha', 0)...\n",
      "\n",
      "VERSION\n",
      "    0.8.0\n",
      "\n",
      "FILE\n",
      "    c:\\users\\rubix\\anaconda3\\lib\\site-packages\\numpydoc\\__init__.py\n",
      "\n",
      "\n"
     ]
    }
   ],
   "source": [
    "help(\"numpydoc\")"
   ]
  },
  {
   "cell_type": "code",
   "execution_count": 42,
   "metadata": {},
   "outputs": [
    {
     "data": {
      "text/plain": [
       "75.0"
      ]
     },
     "execution_count": 42,
     "metadata": {},
     "output_type": "execute_result"
    }
   ],
   "source": [
    "(25/100)*300"
   ]
  },
  {
   "cell_type": "code",
   "execution_count": 30,
   "metadata": {},
   "outputs": [
    {
     "data": {
      "text/plain": [
       "'Finger exercise: Write a program that examines three variables—x, y, and z—and\\nprints the largest odd number \\namong them. If none of them are odd, it should\\nprint a message to that effect.'"
      ]
     },
     "execution_count": 30,
     "metadata": {},
     "output_type": "execute_result"
    }
   ],
   "source": [
    "\"\"\"Finger exercise: Write a program that examines three variables—x, y, and z—and\n",
    "prints the largest odd number \n",
    "among them. If none of them are odd, it should\n",
    "print a message to that effect.\"\"\""
   ]
  },
  {
   "cell_type": "code",
   "execution_count": 31,
   "metadata": {},
   "outputs": [],
   "source": [
    "# -*- coding: utf-8 -*-"
   ]
  },
  {
   "cell_type": "code",
   "execution_count": 41,
   "metadata": {},
   "outputs": [
    {
     "name": "stdout",
     "output_type": "stream",
     "text": [
      "Enter an integer:24\n",
      "The value of answer changed to 1\n",
      "The value of answer changed to 2\n",
      "The value of answer changed to 3\n",
      "got 3 as the value of cube root.\n",
      "Using the concept of exhaustive enumeration.\n",
      "24 is not a perfect square.\n"
     ]
    }
   ],
   "source": [
    "x = int(input(\"Enter an integer:\"))\n",
    "ans = 0\n",
    "while ans**3 < abs(x):\n",
    "    ans += 1\n",
    "    print(\"The value of answer changed to {}\".format(ans))\n",
    "print(\"got {} as the value of cube root.\".format(ans))\n",
    "print(\"Using the concept of exhaustive enumeration.\")\n",
    "if ans**3 != abs(x):\n",
    "    print(\"{} is not a perfect square.\".format(x))\n",
    "else:"
   ]
  },
  {
   "cell_type": "code",
   "execution_count": 49,
   "metadata": {},
   "outputs": [],
   "source": [
    "a = 4\n",
    "b= a"
   ]
  },
  {
   "cell_type": "code",
   "execution_count": 43,
   "metadata": {},
   "outputs": [
    {
     "name": "stdout",
     "output_type": "stream",
     "text": [
      "-4\n"
     ]
    }
   ],
   "source": [
    "print(b)"
   ]
  },
  {
   "cell_type": "code",
   "execution_count": 44,
   "metadata": {},
   "outputs": [
    {
     "data": {
      "text/plain": [
       "int"
      ]
     },
     "execution_count": 44,
     "metadata": {},
     "output_type": "execute_result"
    }
   ],
   "source": [
    "type(b)"
   ]
  },
  {
   "cell_type": "code",
   "execution_count": 51,
   "metadata": {},
   "outputs": [],
   "source": [
    "a = \"hasta la bista\""
   ]
  },
  {
   "cell_type": "code",
   "execution_count": 55,
   "metadata": {},
   "outputs": [
    {
     "data": {
      "text/plain": [
       "False"
      ]
     },
     "execution_count": 55,
     "metadata": {},
     "output_type": "execute_result"
    }
   ],
   "source": [
    "b == a"
   ]
  },
  {
   "cell_type": "code",
   "execution_count": 53,
   "metadata": {},
   "outputs": [
    {
     "data": {
      "text/plain": [
       "'hasta la bista'"
      ]
     },
     "execution_count": 53,
     "metadata": {},
     "output_type": "execute_result"
    }
   ],
   "source": [
    "a"
   ]
  },
  {
   "cell_type": "code",
   "execution_count": 58,
   "metadata": {},
   "outputs": [
    {
     "name": "stdout",
     "output_type": "stream",
     "text": [
      "4\n",
      "+-+\n",
      "| |\n",
      "+-+-+\n",
      "      | |\n",
      "+-+-+\n",
      "    | |\n",
      "  +-+-+\n",
      "  | |\n",
      "    +-+\n"
     ]
    }
   ],
   "source": [
    "'''n = int(input())\n",
    "print('+-+')\n",
    "for i in range(0,n):\n",
    "    print('| |')\n",
    "    for j in range(n-1):\n",
    "        if j == i:\n",
    "            print('+-+-+')\n",
    "        if j < n-1 and j!= i:\n",
    "            print(' ', end = ' ')\n",
    "            \n",
    "print(end = '') \n",
    "print('+-+')'''\n",
    "        \n",
    "n = int(input())\n",
    "print('+-+')\n",
    "for i in range(0,n):\n",
    "    print('| |')\n",
    "    for j in range(n-1):\n",
    "        if j == i:\n",
    "            print('+-+-+')\n",
    "        if j != i-1:\n",
    "            print(' ', end = ' ')\n",
    "            \n",
    "print(end = '') \n",
    "print('+-+')"
   ]
  },
  {
   "cell_type": "code",
   "execution_count": null,
   "metadata": {},
   "outputs": [],
   "source": []
  }
 ],
 "metadata": {
  "kernelspec": {
   "display_name": "Python 3",
   "language": "python",
   "name": "python3"
  },
  "language_info": {
   "codemirror_mode": {
    "name": "ipython",
    "version": 3
   },
   "file_extension": ".py",
   "mimetype": "text/x-python",
   "name": "python",
   "nbconvert_exporter": "python",
   "pygments_lexer": "ipython3",
   "version": "3.6.5"
  }
 },
 "nbformat": 4,
 "nbformat_minor": 2
}
