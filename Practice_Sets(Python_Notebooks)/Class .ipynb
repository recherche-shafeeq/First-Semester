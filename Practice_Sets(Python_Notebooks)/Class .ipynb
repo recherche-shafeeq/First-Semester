{
 "cells": [
  {
   "cell_type": "code",
   "execution_count": 20,
   "metadata": {},
   "outputs": [],
   "source": [
    "def arithematic_op(x=1,y=1):\n",
    "    print(\"Add\",x+y)\n",
    "    print(\"Sub\",x*y)\n",
    "    print(\"Quotient=\",x/y)\n",
    "    print(\"Subtract=\",x-y)"
   ]
  },
  {
   "cell_type": "raw",
   "metadata": {},
   "source": []
  },
  {
   "cell_type": "code",
   "execution_count": 21,
   "metadata": {},
   "outputs": [
    {
     "name": "stdout",
     "output_type": "stream",
     "text": [
      "Add 8\n",
      "Sub 15\n",
      "Quotient= 0.6\n",
      "Subtract= -2\n"
     ]
    }
   ],
   "source": [
    "arithematic_op(3,5)"
   ]
  },
  {
   "cell_type": "code",
   "execution_count": 5,
   "metadata": {},
   "outputs": [
    {
     "data": {
      "text/plain": [
       "4.0"
      ]
     },
     "execution_count": 5,
     "metadata": {},
     "output_type": "execute_result"
    }
   ],
   "source": [
    "arithematic_op(4,7)"
   ]
  },
  {
   "cell_type": "code",
   "execution_count": 6,
   "metadata": {},
   "outputs": [],
   "source": [
    "def find_area(length,width):\n",
    "    result=length*width\n",
    "    print(\"Area=\",result)"
   ]
  },
  {
   "cell_type": "code",
   "execution_count": 8,
   "metadata": {},
   "outputs": [
    {
     "name": "stdout",
     "output_type": "stream",
     "text": [
      "Area= 42\n"
     ]
    }
   ],
   "source": [
    "find_area(width=6,length=7)"
   ]
  },
  {
   "cell_type": "code",
   "execution_count": 9,
   "metadata": {},
   "outputs": [],
   "source": [
    "from math import pi"
   ]
  },
  {
   "cell_type": "code",
   "execution_count": 10,
   "metadata": {},
   "outputs": [],
   "source": [
    "def find_diameter_circumference_area(radius):\n",
    "    D=2*radius\n",
    "    result=D\n",
    "    print (\"D=\",D)\n",
    "    C=2*pi*radius\n",
    "    print (\"C=\",C)\n",
    "    A=pi*(radius**2)   \n",
    "    print (\"A=\",A)"
   ]
  },
  {
   "cell_type": "code",
   "execution_count": 11,
   "metadata": {},
   "outputs": [
    {
     "name": "stdout",
     "output_type": "stream",
     "text": [
      "D= 8\n",
      "C= 25.132741228718345\n",
      "A= 50.26548245743669\n"
     ]
    }
   ],
   "source": [
    "find_diameter_circumference_area(4)"
   ]
  },
  {
   "cell_type": "code",
   "execution_count": 12,
   "metadata": {},
   "outputs": [],
   "source": [
    "def grams_kilograms(pounds):\n",
    "    result=pounds*0.454 #1 pound=0.454 kilogram\n",
    "    print(\"Kilogram=\",result)\n",
    "    result=pounds*453.59237\n",
    "    print(\"Grams=\",result)"
   ]
  },
  {
   "cell_type": "code",
   "execution_count": 13,
   "metadata": {},
   "outputs": [
    {
     "name": "stdout",
     "output_type": "stream",
     "text": [
      "Kilogram= 4.086\n",
      "Grams= 4082.33133\n"
     ]
    }
   ],
   "source": [
    "grams_kilograms(9)"
   ]
  },
  {
   "cell_type": "code",
   "execution_count": null,
   "metadata": {},
   "outputs": [],
   "source": []
  }
 ],
 "metadata": {
  "kernelspec": {
   "display_name": "Python 3",
   "language": "python",
   "name": "python3"
  },
  "language_info": {
   "codemirror_mode": {
    "name": "ipython",
    "version": 3
   },
   "file_extension": ".py",
   "mimetype": "text/x-python",
   "name": "python",
   "nbconvert_exporter": "python",
   "pygments_lexer": "ipython3",
   "version": "3.6.5"
  }
 },
 "nbformat": 4,
 "nbformat_minor": 2
}
