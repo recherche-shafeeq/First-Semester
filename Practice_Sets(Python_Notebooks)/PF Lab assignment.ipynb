{
 "cells": [
  {
   "cell_type": "code",
   "execution_count": null,
   "metadata": {},
   "outputs": [],
   "source": [
    "#program no# 01\n",
    "def mon_days(m):\n",
    "    if m == \"September\" or m == \"April\" or m == \"June\" or m == \"November\":\n",
    "        print(\"No. of days: \",30,\" days\")\n",
    "    elif m == \"February\":\n",
    "        print(\"No. of days: 28/29 days\")\n",
    "    else:\n",
    "        print(\"No. of days:\",31,\" days\")"
   ]
  },
  {
   "cell_type": "code",
   "execution_count": null,
   "metadata": {},
   "outputs": [],
   "source": [
    "x=input(\"Input the name of Month:\")\n",
    "mon_days(x)"
   ]
  },
  {
   "cell_type": "code",
   "execution_count": null,
   "metadata": {},
   "outputs": [],
   "source": [
    "\n",
    "    "
   ]
  },
  {
   "cell_type": "code",
   "execution_count": null,
   "metadata": {},
   "outputs": [],
   "source": [
    "#3d program  also can we use in operator\n",
    "a = [\"a\",\"b\",\"c\",\"d\",\"e\",\"f\",\"g\",\"h\",\"i\",\"j\",\"k\",\"l\",\"m\",\"n\",\"o\",\"p\",\"q\",\"r\",\"s\",\"t\",\"u\",\"v\",\"w\",\"x\",\"y\",\"z\"]\n",
    "b = [\"A\",\"B\",\"C\",\"D\",\"E\",\"F\",\"G\",\"H\",\"I\",\"J\",\"K\",\"L\",\"M\",\"N\",\"O\",\"P\",\"Q\",\"R\",\"S\",\"T\",\"U\",\"V\",\"W\",\"X\",\"Y\",\"Z\"]\n",
    "inp =input(\"Enter a sentence\")\n",
    "up_c = 0\n",
    "dn_c = 0\n",
    "for i in inp:\n",
    "    for j in a:\n",
    "        if i == j:\n",
    "            dn_c += 1\n",
    "    for k in b:\n",
    "        if i == k:\n",
    "            up_c +=1\n",
    "print(\"Upper Case:\",up_c)\n",
    "print(\"Lower Case:\",dn_c)"
   ]
  },
  {
   "cell_type": "code",
   "execution_count": null,
   "metadata": {},
   "outputs": [],
   "source": [
    "#program no 05\n",
    "a = int(input(\"Enter the value of A:\"))\n",
    "b = int(input(\"Enter the value of B:\"))\n",
    "c = int(input(\"Enter the value of C:\"))\n",
    "D = (pow(b,2) - (4*a*c))\n",
    "if D > 0:\n",
    "    r1 = (-1*(b)+D)/(2*a)\n",
    "    r2 = (-1*(b)-D)/(2*a)\n",
    "    print(\"root 1:\",r1,\"root 2:\",r2)\n",
    "elif D == 0:\n",
    "    r1 = (-1*(b)+D)/(2*a)\n",
    "    print(\"root is:\",r1)\n",
    "elif D < 0:\n",
    "    print(\"The roots are complex\")\n",
    "    "
   ]
  },
  {
   "cell_type": "code",
   "execution_count": null,
   "metadata": {},
   "outputs": [],
   "source": []
  },
  {
   "cell_type": "code",
   "execution_count": null,
   "metadata": {},
   "outputs": [],
   "source": [
    "#program no# 06\n",
    "inpt = float(input(\"Enter the magnitude of Earthquake\"))\n",
    "if inpt < 2:\n",
    "    print(\"A magnitude of \",inpt,\"earthquake is considered to be a micro earthquake\")\n",
    "elif inpt >= 2 and inpt < 3:\n",
    "    print(\"A magnitude of \",inpt,\"earthquake is considered to be a very minor earthquake\")\n",
    "elif inpt >= 3 and inpt < 4:\n",
    "    print(\"A magnitude of \",inpt,\"earthquake is considered to be a minor earthquake\")\n",
    "elif inpt >= 4 and inpt < 5:\n",
    "    print(\"A magnitude of \",inpt,\"earthquake is considered to be a light earthquake\")\n",
    "elif inpt >= 5 and inpt < 6:\n",
    "    print(\"A magnitude of \",inpt,\"earthquake is considered to be a moderate earthquake\")\n",
    "elif inpt >= 6 and inpt < 7:\n",
    "    print(\"A magnitude of \",inpt,\"earthquake is considered to be a strong earthquake\")\n",
    "elif inpt >= 7 and inpt < 8:\n",
    "    print(\"A magnitude of \",inpt,\"earthquake is considered to be a major earthquake\")\n",
    "elif inpt >= 8 and inpt < 10:\n",
    "    print(\"A magnitude of \",inpt,\"earthquake is considered to be a great earthquake\")\n",
    "elif inpt > 10:\n",
    "    print(\"A magnitude of \",inpt,\"earthquake is considered to be a meteoric earthquake\")"
   ]
  },
  {
   "cell_type": "code",
   "execution_count": null,
   "metadata": {},
   "outputs": [],
   "source": [
    "x =100\n",
    "x %=5\n",
    "print(x)"
   ]
  },
  {
   "cell_type": "code",
   "execution_count": null,
   "metadata": {},
   "outputs": [],
   "source": [
    "100**5"
   ]
  },
  {
   "cell_type": "code",
   "execution_count": null,
   "metadata": {},
   "outputs": [],
   "source": [
    "#program  # 07\n",
    "lst = []\n",
    "x = int(input(\"Enter a number:\"))\n",
    "counter = 0\n",
    "addi = 0\n",
    "while counter != 10:\n",
    "    lst.append(x)\n",
    "    counter += 1\n",
    "    \n",
    "    if counter == 10:\n",
    "        continue\n",
    "    x = int(input(\"Enter a number:\"))\n",
    "#finding mean\n",
    "for i in lst:\n",
    "    addi += i\n",
    "mean=addi/(counter)\n",
    "print(\"Mean value of the list is:\",mean)\n",
    "#finding median\n",
    "if len(lst)%2 == 0:\n",
    "    ind1 = ((len(lst))//2)\n",
    "    ind2 = ((len(lst))//2)+1\n",
    "    a = lst[ind1]+lst[ind2]\n",
    "    median = (a/(2))\n",
    "    print(\"Median is given by: \",median)\n",
    "# finding mode\n",
    "count = 0\n",
    "for i in lst:\n",
    "    b = lst.count(i)\n",
    "    if b >count:\n",
    "        count = b\n",
    "        num = i\n",
    "print(\"Mode of the given list is:\",num)\n",
    "#finding variation\n",
    "val_count = 0\n",
    "for k in lst:\n",
    "    val= pow((k-mean),2)\n",
    "    val_count +=val\n",
    "variance = (val_count)/(counter)\n",
    "print(\"Variance is: \",variance)\n",
    "#finding Standard Deviation\n",
    "from math import sqrt\n",
    "s_d = sqrt(variance)\n",
    "print(\"Standard deviation for the given data is: \",s_d)"
   ]
  },
  {
   "cell_type": "markdown",
   "metadata": {},
   "source": [
    "Enter a number:4\n",
    "Enter a number:4\n",
    "Enter a number:3\n",
    "Enter a number:5\n",
    "Enter a number:77\n",
    "Enter a number:4\n",
    "Enter a number:3\n",
    "Enter a number:2\n",
    "Enter a number:55\n",
    "Enter a number:33\n",
    "Mean value of the list is: 19.0\n",
    "Median is given by:  3.5\n",
    "4\n",
    "\n",
    "### ### "
   ]
  },
  {
   "cell_type": "code",
   "execution_count": null,
   "metadata": {},
   "outputs": [],
   "source": [
    "median = (3+4)/2\n",
    "print(median)"
   ]
  },
  {
   "cell_type": "code",
   "execution_count": null,
   "metadata": {},
   "outputs": [],
   "source": [
    "#program no#02\n",
    "a = input(\"Enter something something\")\n",
    "c = [\"0\",\"1\",\"2\",\"3\",\"4\",\"5\",\"6\",\"7\",\"8\",\"9\"]\n",
    "for i in a:\n",
    "    if i not in  c:\n",
    "        x = \"The string is not an integer:\"\n",
    "        print(x)\n",
    "        break\n",
    "else:\n",
    "    print(\"The string is an integer\")\n",
    "    "
   ]
  },
  {
   "cell_type": "code",
   "execution_count": null,
   "metadata": {},
   "outputs": [],
   "source": [
    "#program 08\n",
    "a = input(\"enter roll_no:\")\n",
    "b = input(\"enter the list of lab task marks:\")\n",
    "b = b.split(\",\") # the entered list in string form separated by comma will be converted to a list\n",
    "print(b)\n",
    "c = input(\"enter the list of quiz marks:\")\n",
    "c = c.split(\",\")\n",
    "print(c)\n",
    "counter1 = 0\n",
    "counter2 = 0\n",
    "m_task = 0\n",
    "m_quiz = 0\n",
    "for i in b:\n",
    "    counter1 +=1\n",
    "    m_task += int(i)\n",
    "for j in c:\n",
    "    counter2 +=1\n",
    "    m_quiz += int(j)\n",
    "mean = (m_task+m_quiz)/(counter1+counter2)\n"
   ]
  },
  {
   "cell_type": "code",
   "execution_count": null,
   "metadata": {},
   "outputs": [],
   "source": [
    "#program no# 04\n",
    "date = int(input(\"enter date:\"))\n",
    "month = input(\"month:\")\n",
    "if month == \"April\":\n",
    "    if date <= 20:\n",
    "        print(\"Your Astorlogical Sign is : Aries\")\n",
    "    elif date > 20:\n",
    "        print(\"Your Astorlogical Sign is : Taurus\")\n",
    "elif month == \"May\":\n",
    "    if date <= 20:\n",
    "        print(\"Your Astorlogical Sign is : Taurus\")\n",
    "    elif date > 20:\n",
    "        print(\"Your Astorlogical Sign is : Gemini\")\n",
    "elif month == \"June\":\n",
    "    if date <= 20:\n",
    "        print(\"Your Astorlogical Sign is : Gemini\")\n",
    "    elif date > 20:\n",
    "        print(\"Your Astorlogical Sign is : Cancer\")\n",
    "elif month == \"July\":\n",
    "    if date <= 22:\n",
    "        print(\"Your Astorlogical Sign is : Cancer\")\n",
    "    elif date > 22:\n",
    "        print(\"Your Astorlogical Sign is : Leo\")\n",
    "elif month == \"August\":\n",
    "    if date <= 22:\n",
    "        print(\"Your Astorlogical Sign is : Leo\")\n",
    "    elif date > 22:\n",
    "        print(\"Your Astorlogical Sign is : Virgo\")\n",
    "elif month == \"September\":\n",
    "    if date <= 22:\n",
    "        print(\"Your Astorlogical Sign is : Virgo\")\n",
    "    elif date > 22:\n",
    "        print(\"Your Astorlogical Sign is : Libra\")\n",
    "elif month == \"October\":\n",
    "    if date <= 22:\n",
    "        print(\"Your Astorlogical Sign is : Libra\")\n",
    "    elif date > 22:\n",
    "        print(\"Your Astorlogical Sign is : Scorpio\")\n",
    "elif month == \"November\":\n",
    "    if date <= 22:\n",
    "        print(\"Your Astorlogical Sign is : Scorpio\")\n",
    "    elif date > 22:\n",
    "        print(\"Your Astorlogical Sign is : Sagittarius\")\n",
    "elif month == \"December\":\n",
    "    if date <= 21:\n",
    "        print(\"Your Astorlogical Sign is : Sagittarius\")\n",
    "    elif date > 21:\n",
    "        print(\"Your Astorlogical Sign is : Capricorn\")\n",
    "elif month == \"January\":\n",
    "    if date <= 19:\n",
    "        print(\"Your Astorlogical Sign is : Capricorn\")\n",
    "    elif date > 19:\n",
    "        print(\"Your Astorlogical Sign is : Aquarius\")\n",
    "elif month == \"February\":\n",
    "    if date <= 19:\n",
    "        print(\"Your Astorlogical Sign is : Aquarius\")\n",
    "    elif date > 19:\n",
    "        print(\"Your Astorlogical Sign is : Pisces\")\n",
    "elif month == \"March\":\n",
    "    if date <= 20:\n",
    "        print(\"Your Astorlogical Sign is : Pisces\")\n",
    "    elif date > 20:\n",
    "        print(\"Your Astorlogical Sign is : Aries\")"
   ]
  },
  {
   "cell_type": "code",
   "execution_count": null,
   "metadata": {},
   "outputs": [],
   "source": [
    "print(\"enter date :6\")"
   ]
  },
  {
   "cell_type": "code",
   "execution_count": null,
   "metadata": {},
   "outputs": [],
   "source": [
    "a = [8,6,4,6,8,1,3,2,8,7,2,9,7,8,9,0,9,8,7,6,4,3,4,5]\n",
    "count = 0\n",
    "for i in a:\n",
    "    b = a.count(i)\n",
    "    if b >count:\n",
    "        count = b\n",
    "        num = i\n",
    "print(num)    "
   ]
  },
  {
   "cell_type": "code",
   "execution_count": null,
   "metadata": {},
   "outputs": [],
   "source": [
    "for i in lst:\n",
    "    addi += i\n",
    "mean=addi/(counter)"
   ]
  },
  {
   "cell_type": "code",
   "execution_count": null,
   "metadata": {},
   "outputs": [],
   "source": [
    "def gpa(n):\n",
    "    if n >= 90:\n",
    "        print(\"A+\")\n",
    "    elif n >= 80:\n",
    "        print(\"A\")\n",
    "    elif n >= 70:\n",
    "        print(\"B+\")\n",
    "    elif n >= 60:\n",
    "        print(\"B\")\n",
    "    elif n >= 50:\n",
    "        print(\"C\")\n",
    "    else:\n",
    "        print(\"D\")"
   ]
  },
  {
   "cell_type": "code",
   "execution_count": null,
   "metadata": {},
   "outputs": [],
   "source": [
    "gpa(66)"
   ]
  },
  {
   "cell_type": "code",
   "execution_count": null,
   "metadata": {},
   "outputs": [],
   "source": [
    "counter = 0\n",
    "for i in range(100):\n",
    "    if counter == 3:\n",
    "        break\n",
    "    else:\n",
    "        counter += 1\n",
    "        print(\"Hello  world\")"
   ]
  },
  {
   "cell_type": "code",
   "execution_count": null,
   "metadata": {},
   "outputs": [],
   "source": [
    "a = input(\"Enter a string:\")\n",
    "lst = [\"0\",\"1\",\"2\",\"3\",\"4\",\"5\",\"6\",\"7\",\"8\",\"9\"]\n",
    "for i in a:\n",
    "    if i in lst:\n",
    "        print(\"The string is an integer\")\n",
    "        break\n",
    "else:\n",
    "    print(\"The string is not an integer\")"
   ]
  },
  {
   "cell_type": "code",
   "execution_count": null,
   "metadata": {},
   "outputs": [],
   "source": [
    "a = []\n",
    "x = int(input(\"Enter a number:\"))\n",
    "counter = 0\n",
    "while counter != 10:\n",
    "    a.append(x)\n",
    "    counter += 1\n",
    "    if counter== 10:\n",
    "        continue\n",
    "    x = int(input(\"Enter a number:\"))\n",
    "print(a)"
   ]
  },
  {
   "cell_type": "markdown",
   "metadata": {},
   "source": []
  },
  {
   "cell_type": "code",
   "execution_count": 2,
   "metadata": {},
   "outputs": [
    {
     "name": "stdout",
     "output_type": "stream",
     "text": [
      "4.0\n"
     ]
    }
   ],
   "source": [
    "lst = [4,5,4,3,7,2,4,2,4,6,6,4,4,6,3,2,5,2,2,3,5,2,4,4,5,6]\n",
    "a = 0\n",
    "counter = 0\n",
    "for i in lst:\n",
    "    a += i\n",
    "    counter +=  1\n",
    "print(a/counter)\n",
    "\n"
   ]
  },
  {
   "cell_type": "markdown",
   "metadata": {},
   "source": [
    "# "
   ]
  },
  {
   "cell_type": "code",
   "execution_count": null,
   "metadata": {},
   "outputs": [],
   "source": [
    "#finding median\n",
    "counter = 0\n",
    "for i in lst:\n",
    "    counter += 1\n",
    "if counter%2 == 0:\n",
    "    a = lst[counter//2]\n",
    "    b= lst[(counter//2)+1]\n",
    "\n",
    "    \n",
    "    print((a+b)/2) \n",
    "else:\n",
    "    print(lst[counter//2])"
   ]
  },
  {
   "cell_type": "code",
   "execution_count": 3,
   "metadata": {},
   "outputs": [
    {
     "name": "stdout",
     "output_type": "stream",
     "text": [
      "4\n"
     ]
    }
   ],
   "source": [
    "maxi = 0\n",
    "for i in lst:\n",
    "    b = lst.count(i)\n",
    "    if b > maxi:\n",
    "        maxi = b\n",
    "        c = i\n",
    "print(c)"
   ]
  },
  {
   "cell_type": "code",
   "execution_count": 4,
   "metadata": {},
   "outputs": [
    {
     "data": {
      "text/plain": [
       "8"
      ]
     },
     "execution_count": 4,
     "metadata": {},
     "output_type": "execute_result"
    }
   ],
   "source": [
    "lst.count(4)"
   ]
  },
  {
   "cell_type": "code",
   "execution_count": 5,
   "metadata": {},
   "outputs": [
    {
     "data": {
      "text/plain": [
       "4"
      ]
     },
     "execution_count": 5,
     "metadata": {},
     "output_type": "execute_result"
    }
   ],
   "source": [
    "from statistics import mode\n",
    "mode(lst)"
   ]
  },
  {
   "cell_type": "code",
   "execution_count": null,
   "metadata": {},
   "outputs": [],
   "source": []
  }
 ],
 "metadata": {
  "kernelspec": {
   "display_name": "Python 3",
   "language": "python",
   "name": "python3"
  },
  "language_info": {
   "codemirror_mode": {
    "name": "ipython",
    "version": 3
   },
   "file_extension": ".py",
   "mimetype": "text/x-python",
   "name": "python",
   "nbconvert_exporter": "python",
   "pygments_lexer": "ipython3",
   "version": "3.6.5"
  }
 },
 "nbformat": 4,
 "nbformat_minor": 2
}
