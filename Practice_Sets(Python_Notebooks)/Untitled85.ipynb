{
 "cells": [
  {
   "cell_type": "code",
   "execution_count": null,
   "metadata": {},
   "outputs": [],
   "source": [
    "def sqrt(n,guess):\n",
    "    if n < 0:\n",
    "        raise TransitionError(\"Please enter a number which is not negative!\")\n",
    "    elif good_enough(n,guess):\n",
    "        print(\"getting returned\")\n",
    "        guess  = round(guess)\n",
    "        return guess\n",
    "    else:\n",
    "        new_guess = improve_guess(n,guess)\n",
    "        return sqrt(n,new_guess)\n",
    "def improve_guess(x,guess):\n",
    "    guess += 0.1\n",
    "    return guess\n",
    "def good_enough(x,y):\n",
    "    if abs(((y*y)-x))<0.1:\n",
    "        return True\n",
    "    else:\n",
    "        return False"
   ]
  },
  {
   "cell_type": "code",
   "execution_count": null,
   "metadata": {},
   "outputs": [],
   "source": [
    "try:\n",
    "    sqrt(-1,4)\n",
    "except ValueError:\n",
    "    \n",
    "    print(\"Please enter a number greater than zero\")\n",
    "    print(\"Please enter a number greater than zero)\n",
    "    print(\"Please enter a number greater than zero\")\n",
    "    print(\"Please enter a number greater than zero\")"
   ]
  },
  {
   "cell_type": "code",
   "execution_count": null,
   "metadata": {},
   "outputs": [],
   "source": [
    "try:\n",
    "    sqrt(-1,6)\n",
    "except ValueError:\n",
    "    print(\"Cant calculate the sqrt of a negative number:\")"
   ]
  },
  {
   "cell_type": "code",
   "execution_count": null,
   "metadata": {},
   "outputs": [],
   "source": [
    "import os\n",
    "with open(os.path.join(\"res\",\"dummy-out.csv\"),\"a\") as k:\n",
    "    with open(os.path.join(\"res\",\"Class.txt\"),\"r\") as f:\n",
    "    for i in f:\n",
    "        i.strip()"
   ]
  },
  {
   "cell_type": "code",
   "execution_count": null,
   "metadata": {},
   "outputs": [],
   "source": [
    "help(TransitionError)"
   ]
  },
  {
   "cell_type": "code",
   "execution_count": null,
   "metadata": {},
   "outputs": [],
   "source": [
    "lst = [\"a\"            ,\"b\" , \"c\"]\n",
    "new_lst = []\n",
    "for i in lst:\n",
    "    new_lst.append(i.strip())\n",
    "print(new_lst)"
   ]
  },
  {
   "cell_type": "code",
   "execution_count": null,
   "metadata": {},
   "outputs": [],
   "source": [
    "[\n",
    "{'roll_no': 'p18-1001', 'marks': {\n",
    "'english': (1.4, 2.5, 15, 9.6, 33),\n",
    "'calculus': (2.4, 1.5, 12, 1.6, 21),\n",
    "}, 'attendance': 88.4\n",
    "},\n",
    "{'roll_no': 'p18-1002', 'marks': {\n",
    "'english': (2.4, 1.5, 12, 1.6, 21),\n",
    " 'programming fundaments': (2.4, 1.5, 12, 1.6, 21),\n",
    "}, 'attendance': 79.4\n",
    "},\n",
    "{'roll_no': 'p18-1003', 'marks': {\n",
    "'calculus': (2.4, 1.5, 12, None, 21),\n",
    "'programming fundamentals': (2.4, 1.5, 12, 1.6, 21),\n",
    "}, 'attendance': 79.4\n",
    "}\n",
    "]"
   ]
  },
  {
   "cell_type": "code",
   "execution_count": null,
   "metadata": {},
   "outputs": [],
   "source": [
    "def get_student_marks(l):\n",
    "    ans_dic={}\n",
    "    a=l[0][\"roll_no\"]\n",
    "    b=l[0][\"marks\"]\n",
    "    ini1=0\n",
    "    ini3=0\n",
    "    for i in (\"english\",\"calculus\"):\n",
    "        c=b[i]\n",
    "        for j in c:\n",
    "            if j ==None:\n",
    "                continue\n",
    "            \n",
    "            if i==\"english\":\n",
    "                ini1+=j\n",
    "                e=i\n",
    "            elif i==\"calculus\":\n",
    "                ini3+=j\n",
    "                f=i\n",
    "    ans_dic[a]={e:ini1,f:ini3}\n",
    "    g=l[1][\"roll_no\"]\n",
    "    h=l[1][\"marks\"]\n",
    "    total_pf=0\n",
    "    total_eng=0\n",
    "    for s in \"english\",\"programming fundaments\":\n",
    "        m=h[s]\n",
    "        for n in m:\n",
    "            if n==None:\n",
    "                continue\n",
    "            if s==\"english\":   \n",
    "                total_eng=total_eng+n\n",
    "                p=s\n",
    "            elif s==\"programming fundaments\":\n",
    "                total_pf=total_pf+n\n",
    "                r=s\n",
    "    ans_dic[g]={p:total_eng,r:total_pf}\n",
    "    x1=l[2][\"roll_no\"]\n",
    "    y1=l[2][\"marks\"]\n",
    "    k1=0\n",
    "    k2=0\n",
    "    for v in \"calculus\",\"programming fundamentals\":\n",
    "        m1=y1[v]\n",
    "        for n1 in m1:\n",
    "            if n1==None:\n",
    "                continue\n",
    "            \n",
    "            if v==\"calculus\":\n",
    "                k1+=n1\n",
    "                p1=v\n",
    "            elif v==\"programming fundamentals\":\n",
    "                k2+=n1\n",
    "                r1=v\n",
    "    ans_dic[x1]={p1:k1,r1:k2}\n",
    "    return(ans_dic)\n"
   ]
  },
  {
   "cell_type": "code",
   "execution_count": null,
   "metadata": {},
   "outputs": [],
   "source": [
    "{\n",
    "'p18-1001': {'english': 61.5,\n",
    "'calculus': 38.5\n",
    "},\n",
    "'p18-1002': {'english': 38.5,\n",
    "'programming fundaments': 38.5\n",
    "},\n",
    "'p18-1003': {'calculus': 36.9,\n",
    "'programming fundamentals': 38.5\n",
    "}\n",
    "}\n"
   ]
  },
  {
   "cell_type": "code",
   "execution_count": null,
   "metadata": {},
   "outputs": [],
   "source": [
    "list = [\"4\",\"3\", \"4\",\"5\",\"2\",\"5\",\"3\"]"
   ]
  },
  {
   "cell_type": "code",
   "execution_count": null,
   "metadata": {},
   "outputs": [],
   "source": [
    "print(list)"
   ]
  },
  {
   "cell_type": "code",
   "execution_count": null,
   "metadata": {},
   "outputs": [],
   "source": [
    "a  = \"a\""
   ]
  },
  {
   "cell_type": "code",
   "execution_count": null,
   "metadata": {},
   "outputs": [],
   "source": [
    "type(a)"
   ]
  },
  {
   "cell_type": "code",
   "execution_count": null,
   "metadata": {},
   "outputs": [],
   "source": [
    "b = chr(int(10))"
   ]
  },
  {
   "cell_type": "code",
   "execution_count": null,
   "metadata": {},
   "outputs": [],
   "source": [
    "d = {\"key\":\"vlau\"}\n"
   ]
  },
  {
   "cell_type": "code",
   "execution_count": null,
   "metadata": {},
   "outputs": [],
   "source": [
    "d.keys()"
   ]
  },
  {
   "cell_type": "code",
   "execution_count": null,
   "metadata": {},
   "outputs": [],
   "source": [
    "def readVal(valType, requestMsg, errorMsg):\n",
    "    while True:\n",
    "        val = input(requestMsg + ' ')\n",
    "        try:\n",
    "            return(valType(val)) #convert str to valType before returning\n",
    "        except ValueError:\n",
    "              print(val, errorMsg)\n",
    "        readVal(int, 'Enter an integer:', 'is not an integer')"
   ]
  },
  {
   "cell_type": "code",
   "execution_count": null,
   "metadata": {},
   "outputs": [],
   "source": [
    "def find_even(l):\n",
    "    for i in l:\n",
    "        if i%2 ==0:\n",
    "            return i\n",
    "    raise ValueError(\"There isn't any even number in the given list\")"
   ]
  },
  {
   "cell_type": "code",
   "execution_count": null,
   "metadata": {},
   "outputs": [],
   "source": [
    "l=[3,5,7]"
   ]
  },
  {
   "cell_type": "code",
   "execution_count": null,
   "metadata": {},
   "outputs": [],
   "source": [
    "try:\n",
    "    find_even(l)\n",
    "except ValueError:\n",
    "    print(\"There isn't any even number in the given list\")"
   ]
  },
  {
   "cell_type": "code",
   "execution_count": null,
   "metadata": {},
   "outputs": [],
   "source": [
    "try:\n",
    "    print(getRatios([1.0,2.0,7.0,6.0], [1.0,2.0,0.0,3.0]))\n",
    "    print(getRatios([], []))\n",
    "    print(getRatios([1.0, 2.0], [3.0]))\n",
    "except ValueError as msg:\n",
    "    print(msg)"
   ]
  },
  {
   "cell_type": "code",
   "execution_count": null,
   "metadata": {},
   "outputs": [],
   "source": [
    "def getRatios(vect1, vect2):\n",
    "    ratios = []\n",
    "    if len(vect1) != len(vect2):\n",
    "        raise ValueError('getRatios called with bad arguments')\n",
    "    for index in range(len(vect1)):\n",
    "        vect1Elem = vect1[index]\n",
    "        vect2Elem = vect2[index]\n",
    "    if (type(vect1Elem) not in (int, float)) or (type(vect2Elem) not in (int, float)):\n",
    "        raise ValueError('getRatios called with bad arguments')\n",
    "    if vect2Elem == 0.0:\n",
    "        ratios.append(float('NaN')) #NaN = Not a Number\n",
    "    else:\n",
    "        ratios.append(vect1Elem/vect2Elem)\n",
    "        return ratios"
   ]
  },
  {
   "cell_type": "code",
   "execution_count": null,
   "metadata": {},
   "outputs": [],
   "source": [
    "def new_func():\n",
    "    if type(\"jasfk\") not in (int,float):\n",
    "        raise Exception(\"Please don't enter stirng\")\n",
    "    return None"
   ]
  },
  {
   "cell_type": "code",
   "execution_count": null,
   "metadata": {},
   "outputs": [],
   "source": [
    "try:\n",
    "    new_func()\n",
    "except Exception:\n",
    "    print(\"somthing something:\")"
   ]
  },
  {
   "cell_type": "code",
   "execution_count": null,
   "metadata": {},
   "outputs": [],
   "source": [
    "def assert_func():\n",
    "    return False\n",
    "\n"
   ]
  },
  {
   "cell_type": "code",
   "execution_count": null,
   "metadata": {},
   "outputs": [],
   "source": [
    "assert assert_func(),\"Cant work on False\""
   ]
  },
  {
   "cell_type": "code",
   "execution_count": null,
   "metadata": {},
   "outputs": [],
   "source": [
    "l = (0)"
   ]
  },
  {
   "cell_type": "code",
   "execution_count": null,
   "metadata": {},
   "outputs": [],
   "source": [
    "type(l)"
   ]
  },
  {
   "cell_type": "code",
   "execution_count": null,
   "metadata": {},
   "outputs": [],
   "source": [
    "print((2,3,4)+(2,3,4))"
   ]
  },
  {
   "cell_type": "code",
   "execution_count": null,
   "metadata": {},
   "outputs": [],
   "source": [
    "for i in l[-4:6]:\n",
    "    print(i)"
   ]
  },
  {
   "cell_type": "code",
   "execution_count": null,
   "metadata": {},
   "outputs": [],
   "source": [
    "t1 = (1, 'two', 3)\n",
    "t2 = (t1, 3.25)\n",
    "print(t2)\n",
    "print((t1 + t2))\n",
    "print((t1 + t2)[3])\n",
    "print((t1 + t2)[2:5])"
   ]
  },
  {
   "cell_type": "code",
   "execution_count": null,
   "metadata": {},
   "outputs": [],
   "source": [
    "print((t1 + t2)[3])"
   ]
  },
  {
   "cell_type": "code",
   "execution_count": null,
   "metadata": {},
   "outputs": [],
   "source": [
    "def intersect(t1, t2):\n",
    "    result = ()\n",
    "    for e in t1:\n",
    "        if e in t2:\n",
    "            result += (e,)\n",
    "    return result"
   ]
  },
  {
   "cell_type": "code",
   "execution_count": null,
   "metadata": {},
   "outputs": [],
   "source": [
    "tuple1 = (1,2,3,4)"
   ]
  },
  {
   "cell_type": "code",
   "execution_count": null,
   "metadata": {},
   "outputs": [],
   "source": [
    "tuple2 = (1,2,4,5)"
   ]
  },
  {
   "cell_type": "code",
   "execution_count": null,
   "metadata": {},
   "outputs": [],
   "source": [
    "intersect(tuple1,tuple2)"
   ]
  },
  {
   "cell_type": "code",
   "execution_count": null,
   "metadata": {},
   "outputs": [],
   "source": [
    "(1,)+(2,)"
   ]
  },
  {
   "cell_type": "code",
   "execution_count": null,
   "metadata": {},
   "outputs": [],
   "source": [
    "z = a,b,c =(\"1\",\"2\",\"3\")"
   ]
  },
  {
   "cell_type": "code",
   "execution_count": null,
   "metadata": {},
   "outputs": [],
   "source": [
    "lst = [\n",
    "{'roll_no': 'p18-1001', \n",
    " 'marks': {'english': (1.4, 2.5, 15, 9.6, 33),'calculus': (2.4, 1.5, 12, 1.6, 21),},\n",
    " 'attendance': 88.4\n",
    "},\n",
    "{'roll_no': 'p18-1002', 'marks': {\n",
    "'english': (2.4, 1.5, 12, 1.6, 21),\n",
    "'programming fundaments': (2.4, 1.5, 12, 1.6, 21),\n",
    "}, 'attendance': 79.4\n",
    "},\n",
    "{'roll_no': 'p18-1003', 'marks': {\n",
    "'calculus': (2.4, 1.5, 12, None, 21),\n",
    "'programming fundamentals': (2.4, 1.5, 12, 1.6, 21),\n",
    "}, 'attendance': 79.4\n",
    "},\n",
    "]"
   ]
  },
  {
   "cell_type": "code",
   "execution_count": null,
   "metadata": {},
   "outputs": [],
   "source": [
    "external_dic = {}\n",
    "for i in range(len(lst)):\n",
    "    a = lst[i][\"roll_no\"]\n",
    "    b = lst[i][\"marks\"]\n",
    "    internal_dic = {}\n",
    "    for j in b:\n",
    "        counter = 0\n",
    "        c = b[j]\n",
    "        for k in c:\n",
    "            if k == None:\n",
    "                continue\n",
    "            counter += k\n",
    "        internal_dic[j]= counter\n",
    "    external_dic[a] = internal_dic\n",
    "print(external_dic)"
   ]
  },
  {
   "cell_type": "code",
   "execution_count": null,
   "metadata": {},
   "outputs": [],
   "source": [
    "if external_dic ==check_dic:\n",
    "    print(\"good to go\")"
   ]
  },
  {
   "cell_type": "code",
   "execution_count": null,
   "metadata": {},
   "outputs": [],
   "source": [
    "check_dic ={\n",
    "'p18-1001': {'english': 61.5,\n",
    "'calculus': 38.5\n",
    "},\n",
    "'p18-1002': {'english': 38.5,\n",
    "'programming fundaments': 38.5\n",
    "},\n",
    "'p18-1003': {'calculus': 36.9,\n",
    "'programming fundamentals': 38.5\n",
    "}\n",
    "}\n"
   ]
  },
  {
   "cell_type": "code",
   "execution_count": 3,
   "metadata": {},
   "outputs": [],
   "source": [
    "def sorting(lst):\n",
    "    empt_lst = []\n",
    "    for i in range(len(lst)):\n",
    "        maxim = lst[0]\n",
    "        for j in lst:\n",
    "            if j >= maxim:\n",
    "                maxim = j\n",
    "        empt_lst.append(maxim)\n",
    "        lst.remove(maxim)\n",
    "    return empt_lst"
   ]
  },
  {
   "cell_type": "code",
   "execution_count": 4,
   "metadata": {},
   "outputs": [
    {
     "data": {
      "text/plain": [
       "[5, 5, 4, 3, 2]"
      ]
     },
     "execution_count": 4,
     "metadata": {},
     "output_type": "execute_result"
    }
   ],
   "source": [
    "sorting([2,3,4,5,5])"
   ]
  },
  {
   "cell_type": "code",
   "execution_count": null,
   "metadata": {},
   "outputs": [],
   "source": []
  },
  {
   "cell_type": "code",
   "execution_count": null,
   "metadata": {},
   "outputs": [],
   "source": []
  },
  {
   "cell_type": "code",
   "execution_count": null,
   "metadata": {},
   "outputs": [],
   "source": []
  },
  {
   "cell_type": "code",
   "execution_count": null,
   "metadata": {},
   "outputs": [],
   "source": []
  },
  {
   "cell_type": "code",
   "execution_count": null,
   "metadata": {},
   "outputs": [],
   "source": []
  },
  {
   "cell_type": "code",
   "execution_count": null,
   "metadata": {},
   "outputs": [],
   "source": []
  },
  {
   "cell_type": "code",
   "execution_count": null,
   "metadata": {},
   "outputs": [],
   "source": []
  }
 ],
 "metadata": {
  "kernelspec": {
   "display_name": "Python 3",
   "language": "python",
   "name": "python3"
  },
  "language_info": {
   "codemirror_mode": {
    "name": "ipython",
    "version": 3
   },
   "file_extension": ".py",
   "mimetype": "text/x-python",
   "name": "python",
   "nbconvert_exporter": "python",
   "pygments_lexer": "ipython3",
   "version": "3.6.5"
  }
 },
 "nbformat": 4,
 "nbformat_minor": 2
}
