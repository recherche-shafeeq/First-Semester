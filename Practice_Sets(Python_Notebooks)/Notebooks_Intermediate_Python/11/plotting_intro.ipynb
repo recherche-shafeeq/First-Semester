{
 "cells": [
  {
   "cell_type": "markdown",
   "metadata": {
    "slideshow": {
     "slide_type": "slide"
    }
   },
   "source": [
    "# Plotting Stuff "
   ]
  },
  {
   "cell_type": "code",
   "execution_count": null,
   "metadata": {},
   "outputs": [],
   "source": [
    "import numpy as np  \n",
    "X = np.linspace(0, 10, 40)\n",
    "print(X)"
   ]
  },
  {
   "cell_type": "code",
   "execution_count": null,
   "metadata": {},
   "outputs": [],
   "source": [
    "type(X)"
   ]
  },
  {
   "cell_type": "code",
   "execution_count": null,
   "metadata": {
    "slideshow": {
     "slide_type": "slide"
    }
   },
   "outputs": [],
   "source": [
    "C = np.cos(X)  # applies function to the vector, heavily optimized \n",
    "print(C)"
   ]
  },
  {
   "cell_type": "code",
   "execution_count": null,
   "metadata": {
    "collapsed": true,
    "slideshow": {
     "slide_type": "slide"
    }
   },
   "outputs": [],
   "source": [
    "import matplotlib.pyplot as plt"
   ]
  },
  {
   "cell_type": "code",
   "execution_count": null,
   "metadata": {
    "collapsed": true,
    "slideshow": {
     "slide_type": "fragment"
    }
   },
   "outputs": [],
   "source": [
    "# only needed in jupyter notebook \n",
    "%matplotlib inline  "
   ]
  },
  {
   "cell_type": "code",
   "execution_count": null,
   "metadata": {
    "slideshow": {
     "slide_type": "slide"
    }
   },
   "outputs": [],
   "source": [
    "_ = plt.plot(X, C)     # Notice the underscore "
   ]
  },
  {
   "cell_type": "code",
   "execution_count": null,
   "metadata": {
    "slideshow": {
     "slide_type": "slide"
    }
   },
   "outputs": [],
   "source": [
    "S = np.sin(X)\n",
    "print(S)"
   ]
  },
  {
   "cell_type": "code",
   "execution_count": null,
   "metadata": {
    "slideshow": {
     "slide_type": "slide"
    }
   },
   "outputs": [],
   "source": [
    "plt.figure() \n",
    "plt.plot(X, C)\n",
    "_ = plt.plot(X, S)"
   ]
  },
  {
   "cell_type": "code",
   "execution_count": null,
   "metadata": {
    "slideshow": {
     "slide_type": "slide"
    }
   },
   "outputs": [],
   "source": [
    "plt.figure() \n",
    "plt.plot(X, C, label='cos')\n",
    "plt.plot(X, S, label='sin')\n",
    "plt.xlabel('x')\n",
    "plt.ylabel('sin(x)/cos(x)')\n",
    "plt.legend()"
   ]
  },
  {
   "cell_type": "markdown",
   "metadata": {
    "slideshow": {
     "slide_type": "slide"
    }
   },
   "source": [
    "## Case study: Time taken by fib(n)"
   ]
  },
  {
   "cell_type": "code",
   "execution_count": 6,
   "metadata": {
    "collapsed": true,
    "slideshow": {
     "slide_type": "slide"
    }
   },
   "outputs": [],
   "source": [
    "def fibslow(n):  # our old fib function \n",
    "    if n <= 1 :\n",
    "        return n \n",
    "    \n",
    "    else: \n",
    "        return fibslow(n-1) + fibslow(n-2)\n",
    "    \n",
    "    \n",
    "def fibfast(n):  # Just another algo for computing fib \n",
    "    if n <= 1: return n \n",
    " \n",
    "    a, b = 0, 1 \n",
    "    \n",
    "    for i in range(1, n+1):\n",
    "        a, b = b, a + b\n",
    "        \n",
    "    return a"
   ]
  },
  {
   "cell_type": "code",
   "execution_count": 7,
   "metadata": {
    "collapsed": true,
    "slideshow": {
     "slide_type": "slide"
    }
   },
   "outputs": [],
   "source": [
    "def time_function(fn, X): \n",
    "    from datetime import datetime\n",
    "    \n",
    "    times = [] \n",
    "    for i in X: \n",
    "        start_time = datetime.now() \n",
    "        \n",
    "        _ = fn(i)  # actual call to the function, don't care about value \n",
    "        \n",
    "        end_time = datetime.now() \n",
    "        time_taken = end_time - start_time   # returns a timedelta \n",
    "        time_taken = time_taken.microseconds\n",
    "        \n",
    "        times.append(time_taken)\n",
    "    \n",
    "    return times        "
   ]
  },
  {
   "cell_type": "code",
   "execution_count": 8,
   "metadata": {
    "slideshow": {
     "slide_type": "slide"
    }
   },
   "outputs": [
    {
     "name": "stdout",
     "output_type": "stream",
     "text": [
      "Slow:  [10, 15, 3, 5, 7, 10, 44, 30, 38, 58, 94, 139, 242, 417, 857, 1439, 1810, 3131, 4611, 9717, 12260, 25439, 46601, 51586, 77910, 113543, 172739, 271235, 442046]\n",
      "Fast:  [4, 4, 3, 1, 1, 2, 2, 2, 2, 2, 2, 2, 2, 3, 3, 2, 5, 5, 4, 3, 3, 3, 3, 3, 13, 6, 5, 5, 6]\n"
     ]
    }
   ],
   "source": [
    "X = range(1, 30)\n",
    "\n",
    "fibslow_times = time_function(fibslow, X)\n",
    "fibfast_times = time_function(fibfast, X)\n",
    "\n",
    "print(\"Slow: \", fibslow_times)\n",
    "print(\"Fast: \", fibfast_times)"
   ]
  },
  {
   "cell_type": "code",
   "execution_count": 9,
   "metadata": {
    "collapsed": true
   },
   "outputs": [],
   "source": [
    "import matplotlib.pyplot as plt\n",
    "%matplotlib inline  "
   ]
  },
  {
   "cell_type": "code",
   "execution_count": 10,
   "metadata": {
    "slideshow": {
     "slide_type": "slide"
    }
   },
   "outputs": [
    {
     "data": {
      "text/plain": [
       "<matplotlib.legend.Legend at 0x112cdcc88>"
      ]
     },
     "execution_count": 10,
     "metadata": {},
     "output_type": "execute_result"
    },
    {
     "data": {
      "image/png": "[encoded data removed]",
      "text/plain": [
       "<matplotlib.figure.Figure at 0x10a951710>"
      ]
     },
     "metadata": {},
     "output_type": "display_data"
    }
   ],
   "source": [
    "plt.figure() \n",
    "plt.plot(X, fibslow_times, label='Slow Fib')\n",
    "plt.plot(X, fibfast_times, label='Fast Fib')\n",
    "plt.xlabel('n')\n",
    "plt.ylabel('time (microseconds)')\n",
    "plt.legend()"
   ]
  },
  {
   "cell_type": "code",
   "execution_count": null,
   "metadata": {
    "collapsed": true
   },
   "outputs": [],
   "source": []
  }
 ],
 "metadata": {
  "kernelspec": {
   "display_name": "Python 3",
   "language": "python",
   "name": "python3"
  },
  "language_info": {
   "codemirror_mode": {
    "name": "ipython",
    "version": 3
   },
   "file_extension": ".py",
   "mimetype": "text/x-python",
   "name": "python",
   "nbconvert_exporter": "python",
   "pygments_lexer": "ipython3",
   "version": "3.6.3"
  },
  "livereveal": {
   "transition": "fade"
  }
 },
 "nbformat": 4,
 "nbformat_minor": 2
}
