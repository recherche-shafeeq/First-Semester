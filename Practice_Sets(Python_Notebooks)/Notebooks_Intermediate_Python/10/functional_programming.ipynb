{
 "cells": [
  {
   "cell_type": "markdown",
   "metadata": {},
   "source": [
    "# Functional Programming"
   ]
  },
  {
   "cell_type": "markdown",
   "metadata": {},
   "source": [
    "<strong>Functional Programming</strong> is a different paradigm. \n",
    "\n",
    "The idea is to treat all computations as mathematical function -- no side effects. "
   ]
  },
  {
   "cell_type": "markdown",
   "metadata": {},
   "source": [
    "* Easier to predict outputs from inputs \n",
    "* Easier to debug\n",
    "* Easier to parallelize \n",
    "\n",
    "Great intro here: https://www.codenewbie.org/blogs/object-oriented-programming-vs-functional-programming"
   ]
  },
  {
   "cell_type": "markdown",
   "metadata": {},
   "source": [
    "## Map "
   ]
  },
  {
   "cell_type": "code",
   "execution_count": 1,
   "metadata": {},
   "outputs": [
    {
     "data": {
      "text/plain": [
       "[1.0, 2.0, 3.0, 4.0]"
      ]
     },
     "execution_count": 1,
     "metadata": {},
     "output_type": "execute_result"
    }
   ],
   "source": [
    "from math import sqrt \n",
    "[ sqrt(i) for i in [1, 4, 9, 16] ]"
   ]
  },
  {
   "cell_type": "markdown",
   "metadata": {},
   "source": [
    "Map applies a <strong>unary</strong> function to each element in the sequence and returns a new sequence containing the results, in the same order. "
   ]
  },
  {
   "cell_type": "code",
   "execution_count": 2,
   "metadata": {},
   "outputs": [
    {
     "data": {
      "text/plain": [
       "<map at 0x10f2ea4a8>"
      ]
     },
     "execution_count": 2,
     "metadata": {},
     "output_type": "execute_result"
    }
   ],
   "source": [
    "from math import sqrt\n",
    "map(sqrt, [1, 4, 9, 16])"
   ]
  },
  {
   "cell_type": "markdown",
   "metadata": {},
   "source": [
    "So, this is like a generator. "
   ]
  },
  {
   "cell_type": "code",
   "execution_count": 3,
   "metadata": {},
   "outputs": [
    {
     "data": {
      "text/plain": [
       "[1.0, 2.0, 3.0, 4.0]"
      ]
     },
     "execution_count": 3,
     "metadata": {},
     "output_type": "execute_result"
    }
   ],
   "source": [
    "x = map(sqrt, [1, 4, 9, 16])\n",
    "list(x)"
   ]
  },
  {
   "cell_type": "code",
   "execution_count": 4,
   "metadata": {
    "collapsed": true
   },
   "outputs": [],
   "source": [
    "def mymap(f, seq):\n",
    "    result = []\n",
    "    for elt in seq:\n",
    "        result.append( f(elt) )\n",
    "    return result"
   ]
  },
  {
   "cell_type": "code",
   "execution_count": 5,
   "metadata": {},
   "outputs": [
    {
     "data": {
      "text/plain": [
       "[1.0, 2.0, 3.0, 4.0]"
      ]
     },
     "execution_count": 5,
     "metadata": {},
     "output_type": "execute_result"
    }
   ],
   "source": [
    "mymap(sqrt, [1, 4, 9, 16])"
   ]
  },
  {
   "cell_type": "code",
   "execution_count": 6,
   "metadata": {},
   "outputs": [
    {
     "data": {
      "text/plain": [
       "8"
      ]
     },
     "execution_count": 6,
     "metadata": {},
     "output_type": "execute_result"
    }
   ],
   "source": [
    "def powerOfTwo(k):\n",
    "    return 2**k\n",
    "\n",
    "powerOfTwo(3)                 "
   ]
  },
  {
   "cell_type": "code",
   "execution_count": 7,
   "metadata": {},
   "outputs": [
    {
     "data": {
      "text/plain": [
       "[2, 4, 8, 16]"
      ]
     },
     "execution_count": 7,
     "metadata": {},
     "output_type": "execute_result"
    }
   ],
   "source": [
    "list(map(powerOfTwo, [1, 2, 3, 4]))"
   ]
  },
  {
   "cell_type": "code",
   "execution_count": 8,
   "metadata": {},
   "outputs": [
    {
     "data": {
      "text/plain": [
       "[2, 4, 8, 16]"
      ]
     },
     "execution_count": 8,
     "metadata": {},
     "output_type": "execute_result"
    }
   ],
   "source": [
    "# Short\n",
    "list(  map(lambda k: 2**k, [1, 2, 3, 4])  )"
   ]
  },
  {
   "cell_type": "markdown",
   "metadata": {},
   "source": [
    "## Filter "
   ]
  },
  {
   "cell_type": "code",
   "execution_count": 9,
   "metadata": {},
   "outputs": [
    {
     "name": "stdout",
     "output_type": "stream",
     "text": [
      "<filter object at 0x10f3be470>\n"
     ]
    }
   ],
   "source": [
    "x = filter(str.isalpha, ['x', 'y', '2', '3', 'a'])\n",
    "print(x)"
   ]
  },
  {
   "cell_type": "code",
   "execution_count": 10,
   "metadata": {},
   "outputs": [
    {
     "data": {
      "text/plain": [
       "['x', 'y', 'a']"
      ]
     },
     "execution_count": 10,
     "metadata": {},
     "output_type": "execute_result"
    }
   ],
   "source": [
    "list(x)"
   ]
  },
  {
   "cell_type": "markdown",
   "metadata": {},
   "source": [
    "## Reduce "
   ]
  },
  {
   "cell_type": "code",
   "execution_count": 11,
   "metadata": {
    "collapsed": true
   },
   "outputs": [],
   "source": [
    "from functools import reduce   # Need to import reduce "
   ]
  },
  {
   "cell_type": "code",
   "execution_count": 12,
   "metadata": {
    "collapsed": true
   },
   "outputs": [],
   "source": [
    "def add(x, y): \n",
    "    return x + y "
   ]
  },
  {
   "cell_type": "code",
   "execution_count": 14,
   "metadata": {},
   "outputs": [
    {
     "data": {
      "text/plain": [
       "15"
      ]
     },
     "execution_count": 14,
     "metadata": {},
     "output_type": "execute_result"
    }
   ],
   "source": [
    "reduce(add, [1, 10, 4], 0)   # Should give start value "
   ]
  },
  {
   "cell_type": "markdown",
   "metadata": {},
   "source": [
    "# But Why?"
   ]
  },
  {
   "cell_type": "code",
   "execution_count": 24,
   "metadata": {
    "collapsed": true
   },
   "outputs": [],
   "source": [
    "lines = [\n",
    "    \"A cow is a domestic animal. A cow is a very useful animal.\", \n",
    "    \"A cow is kept in barns. Cow milk is very healty.\", \n",
    "    \"Another cow.\"\n",
    "]"
   ]
  },
  {
   "cell_type": "markdown",
   "metadata": {},
   "source": [
    "Let's count words in all these lines. "
   ]
  },
  {
   "cell_type": "code",
   "execution_count": 16,
   "metadata": {
    "collapsed": true
   },
   "outputs": [],
   "source": [
    "from collections import defaultdict  \n",
    "\n",
    "def count_words(s):            # Takes in a single string \n",
    "    counts = defaultdict(int)  # Initializes keys not already present \n",
    "\n",
    "    for word in s.split(): \n",
    "        counts[word] += 1 \n",
    "        \n",
    "    return dict(counts)        # don't want to send back the defaultdict \n",
    "\n",
    "\n",
    "# See more about collections here: \n",
    "#     https://docs.python.org/dev/library/collections.html "
   ]
  },
  {
   "cell_type": "code",
   "execution_count": 17,
   "metadata": {},
   "outputs": [
    {
     "data": {
      "text/plain": [
       "{'A': 2,\n",
       " 'a': 2,\n",
       " 'animal.': 2,\n",
       " 'cow': 2,\n",
       " 'domestic': 1,\n",
       " 'is': 2,\n",
       " 'useful': 1,\n",
       " 'very': 1}"
      ]
     },
     "execution_count": 17,
     "metadata": {},
     "output_type": "execute_result"
    }
   ],
   "source": [
    "dict(count_words(lines[0]))"
   ]
  },
  {
   "cell_type": "code",
   "execution_count": 27,
   "metadata": {},
   "outputs": [
    {
     "data": {
      "text/plain": [
       "[{'A': 2,\n",
       "  'a': 2,\n",
       "  'animal.': 2,\n",
       "  'cow': 2,\n",
       "  'domestic': 1,\n",
       "  'is': 2,\n",
       "  'useful': 1,\n",
       "  'very': 1},\n",
       " {'A': 1,\n",
       "  'Cow': 1,\n",
       "  'barns.': 1,\n",
       "  'cow': 1,\n",
       "  'healty.': 1,\n",
       "  'in': 1,\n",
       "  'is': 2,\n",
       "  'kept': 1,\n",
       "  'milk': 1,\n",
       "  'very': 1},\n",
       " {'Another': 1, 'cow.': 1}]"
      ]
     },
     "execution_count": 27,
     "metadata": {},
     "output_type": "execute_result"
    }
   ],
   "source": [
    "list(map(count_words, lines))"
   ]
  },
  {
   "cell_type": "code",
   "execution_count": 28,
   "metadata": {
    "collapsed": true
   },
   "outputs": [],
   "source": [
    "counts_map = list(map(count_words, lines))"
   ]
  },
  {
   "cell_type": "code",
   "execution_count": 20,
   "metadata": {
    "collapsed": true
   },
   "outputs": [],
   "source": [
    "def reduce_counts(x, y): \n",
    "    print(\"x:\", x)    \n",
    "    print(\"y:\", y)\n",
    "    print(\"---\")\n",
    "    return {'word': 0}"
   ]
  },
  {
   "cell_type": "code",
   "execution_count": 29,
   "metadata": {},
   "outputs": [
    {
     "data": {
      "text/plain": [
       "{'A': 3,\n",
       " 'Another': 1,\n",
       " 'Cow': 1,\n",
       " 'a': 2,\n",
       " 'animal.': 2,\n",
       " 'barns.': 1,\n",
       " 'cow': 3,\n",
       " 'cow.': 1,\n",
       " 'domestic': 1,\n",
       " 'healty.': 1,\n",
       " 'in': 1,\n",
       " 'is': 4,\n",
       " 'kept': 1,\n",
       " 'milk': 1,\n",
       " 'useful': 1,\n",
       " 'very': 2}"
      ]
     },
     "execution_count": 29,
     "metadata": {},
     "output_type": "execute_result"
    }
   ],
   "source": [
    "reduce(reduce_counts, counts_map, {})"
   ]
  },
  {
   "cell_type": "code",
   "execution_count": 22,
   "metadata": {
    "collapsed": true
   },
   "outputs": [],
   "source": [
    "from collections import Counter  \n",
    "\n",
    "def reduce_counts(x, y): \n",
    "    counter = Counter()     # {Key: Value} where Value is the count  \n",
    "    \n",
    "    counter.update(x)       # Get numbers from x \n",
    "    counter.update(y)       # Add counts from y \n",
    "    \n",
    "    return dict(counter)"
   ]
  },
  {
   "cell_type": "code",
   "execution_count": 23,
   "metadata": {},
   "outputs": [
    {
     "data": {
      "text/plain": [
       "{'A': 3,\n",
       " 'Cow': 1,\n",
       " 'a': 2,\n",
       " 'animal.': 2,\n",
       " 'barns.': 1,\n",
       " 'cow': 3,\n",
       " 'domestic': 1,\n",
       " 'healty.': 1,\n",
       " 'in': 1,\n",
       " 'is': 4,\n",
       " 'kept': 1,\n",
       " 'milk': 1,\n",
       " 'useful': 1,\n",
       " 'very': 2}"
      ]
     },
     "execution_count": 23,
     "metadata": {},
     "output_type": "execute_result"
    }
   ],
   "source": [
    "reduce(reduce_counts, counts_map, {})"
   ]
  },
  {
   "cell_type": "markdown",
   "metadata": {},
   "source": [
    "This makes parallelization very easy! That's what MapReduce (and Hadoop/Spark) is built on top of!"
   ]
  },
  {
   "cell_type": "markdown",
   "metadata": {},
   "source": [
    "Imagine a scenario where you have 1 billion files and a Hadoop cluster of 5,000 machines. "
   ]
  },
  {
   "cell_type": "markdown",
   "metadata": {},
   "source": [
    "* Take a million files and pass to one machine  (Since they are independent, no network overhead)"
   ]
  },
  {
   "cell_type": "markdown",
   "metadata": {},
   "source": [
    "* Each machine computes their own sum "
   ]
  },
  {
   "cell_type": "markdown",
   "metadata": {},
   "source": [
    "* Add them all together once! "
   ]
  },
  {
   "cell_type": "markdown",
   "metadata": {
    "collapsed": true
   },
   "source": [
    "* Almost 5000x speedup (more if you use threads on one machine)"
   ]
  },
  {
   "cell_type": "markdown",
   "metadata": {},
   "source": [
    "## Hadoop and Spark \n",
    "\n",
    "If you're interested in MapReduce for <strong>big data processing</strong>: \n",
    "\n",
    "See here: https://www.cloudera.com/developers/get-started-with-hadoop-tutorial.html \n",
    "\n",
    "And here: https://spark.apache.org/docs/latest/quick-start.html"
   ]
  },
  {
   "cell_type": "code",
   "execution_count": null,
   "metadata": {
    "collapsed": true
   },
   "outputs": [],
   "source": []
  }
 ],
 "metadata": {
  "kernelspec": {
   "display_name": "Python 3",
   "language": "python",
   "name": "python3"
  },
  "language_info": {
   "codemirror_mode": {
    "name": "ipython",
    "version": 3
   },
   "file_extension": ".py",
   "mimetype": "text/x-python",
   "name": "python",
   "nbconvert_exporter": "python",
   "pygments_lexer": "ipython3",
   "version": "3.6.5"
  }
 },
 "nbformat": 4,
 "nbformat_minor": 2
}
