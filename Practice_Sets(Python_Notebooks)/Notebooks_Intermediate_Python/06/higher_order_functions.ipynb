{
 "cells": [
  {
   "cell_type": "markdown",
   "metadata": {
    "slideshow": {
     "slide_type": "slide"
    }
   },
   "source": [
    "# Higher Order Functions"
   ]
  },
  {
   "cell_type": "code",
   "execution_count": 1,
   "metadata": {
    "collapsed": true
   },
   "outputs": [],
   "source": [
    "x = 24 "
   ]
  },
  {
   "cell_type": "code",
   "execution_count": 2,
   "metadata": {
    "collapsed": true
   },
   "outputs": [],
   "source": [
    "def square(x): \n",
    "    return x*x"
   ]
  },
  {
   "cell_type": "code",
   "execution_count": 3,
   "metadata": {},
   "outputs": [
    {
     "data": {
      "text/plain": [
       "36"
      ]
     },
     "execution_count": 3,
     "metadata": {},
     "output_type": "execute_result"
    }
   ],
   "source": [
    "square(6)"
   ]
  },
  {
   "cell_type": "code",
   "execution_count": 4,
   "metadata": {},
   "outputs": [
    {
     "data": {
      "text/plain": [
       "<function __main__.square>"
      ]
     },
     "execution_count": 4,
     "metadata": {},
     "output_type": "execute_result"
    }
   ],
   "source": [
    "square"
   ]
  },
  {
   "cell_type": "code",
   "execution_count": 5,
   "metadata": {
    "collapsed": true
   },
   "outputs": [],
   "source": [
    "f = square "
   ]
  },
  {
   "cell_type": "code",
   "execution_count": 6,
   "metadata": {},
   "outputs": [
    {
     "data": {
      "text/plain": [
       "<function __main__.square>"
      ]
     },
     "execution_count": 6,
     "metadata": {},
     "output_type": "execute_result"
    }
   ],
   "source": [
    "f"
   ]
  },
  {
   "cell_type": "code",
   "execution_count": 7,
   "metadata": {},
   "outputs": [
    {
     "data": {
      "text/plain": [
       "36"
      ]
     },
     "execution_count": 7,
     "metadata": {},
     "output_type": "execute_result"
    }
   ],
   "source": [
    "f(6) "
   ]
  },
  {
   "cell_type": "markdown",
   "metadata": {},
   "source": [
    "So, `f` is just another name for `square`. "
   ]
  },
  {
   "cell_type": "markdown",
   "metadata": {},
   "source": [
    "## Simple Example"
   ]
  },
  {
   "cell_type": "markdown",
   "metadata": {},
   "source": [
    "Let's say we want to write a function for calculating sums: $$\\sum_{i=1}^{10}{i^2}$$"
   ]
  },
  {
   "cell_type": "code",
   "execution_count": 8,
   "metadata": {
    "collapsed": true
   },
   "outputs": [],
   "source": [
    "def summation(low, high): \n",
    "    total = 0 \n",
    "    for i in range(low, high+1):\n",
    "        val = i ** 2\n",
    "        total += val \n",
    "        \n",
    "    return total "
   ]
  },
  {
   "cell_type": "code",
   "execution_count": 9,
   "metadata": {},
   "outputs": [
    {
     "data": {
      "text/plain": [
       "14"
      ]
     },
     "execution_count": 9,
     "metadata": {},
     "output_type": "execute_result"
    }
   ],
   "source": [
    "summation(1, 3)"
   ]
  },
  {
   "cell_type": "markdown",
   "metadata": {},
   "source": [
    "Now, if I ask you to write another function that does this: $\\sum_{i=1}^{10}{i^3}$"
   ]
  },
  {
   "cell_type": "code",
   "execution_count": 10,
   "metadata": {
    "collapsed": true
   },
   "outputs": [],
   "source": [
    "def summation(low, high): \n",
    "    total = 0 \n",
    "    for i in range(low, high+1):\n",
    "        val = i ** 3\n",
    "        total += val \n",
    "        \n",
    "    return total "
   ]
  },
  {
   "cell_type": "markdown",
   "metadata": {},
   "source": [
    "But what's the difference? Only the `val` has changed. Can't we just write one function and have you decide how val needs to be calculated? "
   ]
  },
  {
   "cell_type": "code",
   "execution_count": 11,
   "metadata": {
    "collapsed": true
   },
   "outputs": [],
   "source": [
    "def square(x): \n",
    "    return x ** 2 \n",
    "def cube(x): \n",
    "    return x ** 3 "
   ]
  },
  {
   "cell_type": "code",
   "execution_count": 12,
   "metadata": {
    "collapsed": true
   },
   "outputs": [],
   "source": [
    "def summation(low, high, fn): \n",
    "    total = 0 \n",
    "    for i in range(low, high+1):\n",
    "        val = fn(i)\n",
    "        total += val \n",
    "        \n",
    "    return total "
   ]
  },
  {
   "cell_type": "markdown",
   "metadata": {},
   "source": [
    "Now, we can call summation and just change the function that calculates `val`. "
   ]
  },
  {
   "cell_type": "code",
   "execution_count": 13,
   "metadata": {},
   "outputs": [
    {
     "data": {
      "text/plain": [
       "5"
      ]
     },
     "execution_count": 13,
     "metadata": {},
     "output_type": "execute_result"
    }
   ],
   "source": [
    "summation(1, 2, square)"
   ]
  },
  {
   "cell_type": "code",
   "execution_count": 14,
   "metadata": {},
   "outputs": [
    {
     "data": {
      "text/plain": [
       "9"
      ]
     },
     "execution_count": 14,
     "metadata": {},
     "output_type": "execute_result"
    }
   ],
   "source": [
    "summation(1, 2, cube) "
   ]
  },
  {
   "cell_type": "markdown",
   "metadata": {},
   "source": [
    "We don't even have to name functions!"
   ]
  },
  {
   "cell_type": "code",
   "execution_count": 15,
   "metadata": {},
   "outputs": [
    {
     "data": {
      "text/plain": [
       "5"
      ]
     },
     "execution_count": 15,
     "metadata": {},
     "output_type": "execute_result"
    }
   ],
   "source": [
    "summation(1, 2, lambda i: i**2 )   # This is an anonymous function. "
   ]
  },
  {
   "cell_type": "markdown",
   "metadata": {},
   "source": [
    "Notice that this statement now looks very similar to the actual math notation we had earlier:  \n",
    "\n",
    "$$ \n",
    "\\sum_{i=1}^{10}{i^2}\n",
    "$$"
   ]
  },
  {
   "cell_type": "markdown",
   "metadata": {},
   "source": [
    "So, if you have to write another one for this:  $$\\sum_{i=1}^{10}{2i^2}$$ "
   ]
  },
  {
   "cell_type": "code",
   "execution_count": 16,
   "metadata": {},
   "outputs": [
    {
     "data": {
      "text/plain": [
       "770"
      ]
     },
     "execution_count": 16,
     "metadata": {},
     "output_type": "execute_result"
    }
   ],
   "source": [
    "summation(1, 10, lambda i: 2*(i**2) )   # no need to define a new summation function!  "
   ]
  },
  {
   "cell_type": "markdown",
   "metadata": {},
   "source": [
    "Summation is a \"higher order function\" because it takes another function as its input. "
   ]
  },
  {
   "cell_type": "markdown",
   "metadata": {},
   "source": [
    "# Case Study: Square Roots "
   ]
  },
  {
   "cell_type": "code",
   "execution_count": 20,
   "metadata": {
    "collapsed": true,
    "slideshow": {
     "slide_type": "slide"
    }
   },
   "outputs": [],
   "source": [
    "def sqrt(x, guess=0.1): \n",
    "    print(\"Trying:\", guess, \"-- Value:\", guess*guess)\n",
    "    if good_enough(guess, x): \n",
    "        return guess \n",
    "    \n",
    "    else: \n",
    "        guess = improve_guess(guess, x)  \n",
    "        return sqrt(x, guess)"
   ]
  },
  {
   "cell_type": "code",
   "execution_count": 17,
   "metadata": {
    "collapsed": true,
    "slideshow": {
     "slide_type": "slide"
    }
   },
   "outputs": [],
   "source": [
    "# Defined by the weather people \n",
    "def good_enough(guess, x): \n",
    "    if abs(guess * guess - x) < 1: \n",
    "        return True\n",
    "    else: \n",
    "        return False "
   ]
  },
  {
   "cell_type": "code",
   "execution_count": 18,
   "metadata": {
    "collapsed": true,
    "slideshow": {
     "slide_type": "slide"
    }
   },
   "outputs": [],
   "source": [
    "def avg(a, b): \n",
    "    return (a + b) / 2.0\n",
    "\n",
    "def improve_guess(guess, x): \n",
    "    return avg(guess, float(x)/guess)"
   ]
  },
  {
   "cell_type": "code",
   "execution_count": 21,
   "metadata": {
    "slideshow": {
     "slide_type": "slide"
    }
   },
   "outputs": [
    {
     "name": "stdout",
     "output_type": "stream",
     "text": [
      "Trying: 0.1 -- Value: 0.010000000000000002\n",
      "Trying: 180.05 -- Value: 32418.002500000002\n",
      "Trying: 90.12497222993613 -- Value: 8122.510619446759\n",
      "Trying: 45.26220878399787 -- Value: 2048.667544006214\n",
      "Trying: 23.028787149504215 -- Value: 530.3250375771704\n",
      "Trying: 12.296023969924157 -- Value: 151.19220546894942\n",
      "Trying: 7.611899827408357 -- Value: 57.94101898249938\n",
      "Trying: 6.170668368771986 -- Value: 38.07714811736313\n",
      "Trying: 6.002360173190208 -- Value: 36.028327648699985\n"
     ]
    },
    {
     "data": {
      "text/plain": [
       "6.002360173190208"
      ]
     },
     "execution_count": 21,
     "metadata": {},
     "output_type": "execute_result"
    }
   ],
   "source": [
    "sqrt(36)"
   ]
  },
  {
   "cell_type": "code",
   "execution_count": 22,
   "metadata": {
    "collapsed": true,
    "slideshow": {
     "slide_type": "slide"
    }
   },
   "outputs": [],
   "source": [
    "def sqrt(x, is_ge=good_enough, guess=0.1):     \n",
    "    print(\"Trying:\", guess, \"-- Value:\", guess*guess)\n",
    "    if is_ge(guess, x): \n",
    "        return guess \n",
    "    \n",
    "    else: \n",
    "        guess = improve_guess(guess, x)  \n",
    "        return sqrt(x, is_ge, guess)"
   ]
  },
  {
   "cell_type": "code",
   "execution_count": 23,
   "metadata": {
    "collapsed": true,
    "slideshow": {
     "slide_type": "slide"
    }
   },
   "outputs": [],
   "source": [
    "# By the nuclear reactor people\n",
    "def very_accurate_good_enough(guess, x): \n",
    "    return abs(guess * guess - x) < 0.000000001"
   ]
  },
  {
   "cell_type": "code",
   "execution_count": 24,
   "metadata": {
    "slideshow": {
     "slide_type": "slide"
    }
   },
   "outputs": [
    {
     "name": "stdout",
     "output_type": "stream",
     "text": [
      "Trying: 0.1 -- Value: 0.010000000000000002\n",
      "Trying: 180.05 -- Value: 32418.002500000002\n",
      "Trying: 90.12497222993613 -- Value: 8122.510619446759\n",
      "Trying: 45.26220878399787 -- Value: 2048.667544006214\n",
      "Trying: 23.028787149504215 -- Value: 530.3250375771704\n",
      "Trying: 12.296023969924157 -- Value: 151.19220546894942\n",
      "Trying: 7.611899827408357 -- Value: 57.94101898249938\n",
      "Trying: 6.170668368771986 -- Value: 38.07714811736313\n",
      "Trying: 6.002360173190208 -- Value: 36.028327648699985\n",
      "Trying: 6.00000046401893 -- Value: 36.00000556822737\n",
      "Trying: 6.000000000000018 -- Value: 36.00000000000021\n"
     ]
    },
    {
     "data": {
      "text/plain": [
       "6.000000000000018"
      ]
     },
     "execution_count": 24,
     "metadata": {},
     "output_type": "execute_result"
    }
   ],
   "source": [
    "sqrt(36, is_ge=very_accurate_good_enough)"
   ]
  },
  {
   "cell_type": "markdown",
   "metadata": {
    "collapsed": true
   },
   "source": [
    "The variable `is_ge` is what is termed as a *\"Callback\"* -- some function that you send to another piece of code. That piece of code calls this function back at a later point in time. "
   ]
  },
  {
   "cell_type": "markdown",
   "metadata": {},
   "source": [
    "This is the concept around which half of modern javascript is built! "
   ]
  }
 ],
 "metadata": {
  "kernelspec": {
   "display_name": "Python 3",
   "language": "python",
   "name": "python3"
  },
  "language_info": {
   "codemirror_mode": {
    "name": "ipython",
    "version": 3
   },
   "file_extension": ".py",
   "mimetype": "text/x-python",
   "name": "python",
   "nbconvert_exporter": "python",
   "pygments_lexer": "ipython3",
   "version": "3.6.3"
  }
 },
 "nbformat": 4,
 "nbformat_minor": 2
}
