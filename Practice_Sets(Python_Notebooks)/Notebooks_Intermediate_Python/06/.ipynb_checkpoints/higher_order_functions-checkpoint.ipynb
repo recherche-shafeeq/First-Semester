{
 "cells": [
  {
   "cell_type": "markdown",
   "metadata": {
    "slideshow": {
     "slide_type": "slide"
    }
   },
   "source": [
    "# Higher Order Functions"
   ]
  },
  {
   "cell_type": "code",
   "execution_count": null,
   "metadata": {
    "collapsed": true
   },
   "outputs": [],
   "source": [
    "def square(x): \n",
    "    return x*x"
   ]
  },
  {
   "cell_type": "code",
   "execution_count": null,
   "metadata": {},
   "outputs": [],
   "source": [
    "square(6)"
   ]
  },
  {
   "cell_type": "code",
   "execution_count": null,
   "metadata": {},
   "outputs": [],
   "source": [
    "square"
   ]
  },
  {
   "cell_type": "code",
   "execution_count": null,
   "metadata": {
    "collapsed": true
   },
   "outputs": [],
   "source": [
    "f = square "
   ]
  },
  {
   "cell_type": "code",
   "execution_count": null,
   "metadata": {},
   "outputs": [],
   "source": [
    "f"
   ]
  },
  {
   "cell_type": "code",
   "execution_count": null,
   "metadata": {},
   "outputs": [],
   "source": [
    "f(6) "
   ]
  },
  {
   "cell_type": "markdown",
   "metadata": {},
   "source": [
    "So, `f` is just another name for `square`. "
   ]
  },
  {
   "cell_type": "markdown",
   "metadata": {},
   "source": [
    "## Simple Example"
   ]
  },
  {
   "cell_type": "markdown",
   "metadata": {},
   "source": [
    "Let's say we want to write a function for calculating sums: $$\\sum_{i=1}^{10}{i^2}$$"
   ]
  },
  {
   "cell_type": "code",
   "execution_count": null,
   "metadata": {
    "collapsed": true
   },
   "outputs": [],
   "source": [
    "def summation(low, high): \n",
    "    total = 0 \n",
    "    for i in range(low, high+1):\n",
    "        val = i ** 2\n",
    "        total += val \n",
    "        \n",
    "    return total "
   ]
  },
  {
   "cell_type": "code",
   "execution_count": null,
   "metadata": {
    "collapsed": true
   },
   "outputs": [],
   "source": [
    "summation(1, 3)"
   ]
  },
  {
   "cell_type": "markdown",
   "metadata": {},
   "source": [
    "Now, if I ask you to write another function that does this: $\\sum_{i=1}^{10}{i^3}$"
   ]
  },
  {
   "cell_type": "code",
   "execution_count": null,
   "metadata": {
    "collapsed": true
   },
   "outputs": [],
   "source": [
    "def summation(low, high): \n",
    "    total = 0 \n",
    "    for i in range(low, high+1):\n",
    "        val = i ** 3\n",
    "        total += val \n",
    "        \n",
    "    return total "
   ]
  },
  {
   "cell_type": "markdown",
   "metadata": {},
   "source": [
    "But what's the difference? Only the `val` has changed. Can't we just write one function and have you decide how val needs to be calculated? "
   ]
  },
  {
   "cell_type": "code",
   "execution_count": null,
   "metadata": {
    "collapsed": true
   },
   "outputs": [],
   "source": [
    "def square(x): \n",
    "    return x ** 2 \n",
    "def cube(x): \n",
    "    return x ** 3 "
   ]
  },
  {
   "cell_type": "code",
   "execution_count": null,
   "metadata": {
    "collapsed": true
   },
   "outputs": [],
   "source": [
    "def summation(low, high, fn): \n",
    "    total = 0 \n",
    "    for i in range(low, high+1):\n",
    "        val = fn(i)\n",
    "        total += val \n",
    "        \n",
    "    return total "
   ]
  },
  {
   "cell_type": "markdown",
   "metadata": {},
   "source": [
    "Now, we can call summation and just change the function that calculates `val`. "
   ]
  },
  {
   "cell_type": "code",
   "execution_count": null,
   "metadata": {
    "collapsed": true
   },
   "outputs": [],
   "source": [
    "summation(1, 2, square)"
   ]
  },
  {
   "cell_type": "code",
   "execution_count": null,
   "metadata": {
    "collapsed": true
   },
   "outputs": [],
   "source": [
    "summation(1, 2, cube) "
   ]
  },
  {
   "cell_type": "markdown",
   "metadata": {},
   "source": [
    "We don't even have to name functions!"
   ]
  },
  {
   "cell_type": "code",
   "execution_count": null,
   "metadata": {
    "collapsed": true
   },
   "outputs": [],
   "source": [
    "summation(1, 10, lambda i: i**2 )   # This is an anonymous function. "
   ]
  },
  {
   "cell_type": "markdown",
   "metadata": {},
   "source": [
    "Notice that this statement now looks very similar to the actual math notation we had earlier:  \n",
    "\n",
    "$$ \n",
    "\\sum_{i=1}^{10}{i^2}\n",
    "$$"
   ]
  },
  {
   "cell_type": "markdown",
   "metadata": {},
   "source": [
    "So, if you have to write another one for this:  $$\\sum_{i=1}^{10}{2i^2}$$ "
   ]
  },
  {
   "cell_type": "code",
   "execution_count": null,
   "metadata": {
    "collapsed": true
   },
   "outputs": [],
   "source": [
    "summation(1, 10, lambda i: 2*(i**2) )   # no need to define a new summation function!  "
   ]
  },
  {
   "cell_type": "markdown",
   "metadata": {},
   "source": [
    "# Case Study: Square Roots "
   ]
  },
  {
   "cell_type": "code",
   "execution_count": null,
   "metadata": {
    "collapsed": true,
    "slideshow": {
     "slide_type": "slide"
    }
   },
   "outputs": [],
   "source": [
    "def sqrt(x, guess=0.1): \n",
    "    print(\"Trying:\", guess, \"-- Value:\", guess*guess)\n",
    "    if good_enough(guess, x): \n",
    "        return guess \n",
    "    \n",
    "    else: \n",
    "        guess = improve_guess(guess, x)  \n",
    "        return sqrt(x, guess)"
   ]
  },
  {
   "cell_type": "code",
   "execution_count": null,
   "metadata": {
    "collapsed": true,
    "slideshow": {
     "slide_type": "slide"
    }
   },
   "outputs": [],
   "source": [
    "# Defined by the weather people \n",
    "def good_enough(guess, x): \n",
    "    if abs(guess * guess - x) < 1: \n",
    "        return True\n",
    "    else: \n",
    "        return False "
   ]
  },
  {
   "cell_type": "code",
   "execution_count": null,
   "metadata": {
    "collapsed": true,
    "slideshow": {
     "slide_type": "slide"
    }
   },
   "outputs": [],
   "source": [
    "def avg(a, b): \n",
    "    return (a + b) / 2.0\n",
    "\n",
    "def improve_guess(guess, x): \n",
    "    return avg(guess, float(x)/guess)"
   ]
  },
  {
   "cell_type": "code",
   "execution_count": null,
   "metadata": {
    "collapsed": true,
    "slideshow": {
     "slide_type": "slide"
    }
   },
   "outputs": [],
   "source": [
    "sqrt(36)"
   ]
  },
  {
   "cell_type": "code",
   "execution_count": null,
   "metadata": {
    "collapsed": true,
    "slideshow": {
     "slide_type": "slide"
    }
   },
   "outputs": [],
   "source": [
    "def sqrt(x, is_ge=good_enough, guess=0.1):     \n",
    "    print(\"Trying:\", guess, \"-- Value:\", guess*guess)\n",
    "    if is_ge(guess, x): \n",
    "        return guess \n",
    "    \n",
    "    else: \n",
    "        guess = improve_guess(guess, x)  \n",
    "        return sqrt(x, is_ge, guess)"
   ]
  },
  {
   "cell_type": "code",
   "execution_count": null,
   "metadata": {
    "collapsed": true,
    "slideshow": {
     "slide_type": "slide"
    }
   },
   "outputs": [],
   "source": [
    "# By the nuclear reactor people\n",
    "def very_accurate_good_enough(guess, x): \n",
    "    return abs(guess * guess - x) < 0.000000001"
   ]
  },
  {
   "cell_type": "code",
   "execution_count": null,
   "metadata": {
    "collapsed": true,
    "slideshow": {
     "slide_type": "slide"
    }
   },
   "outputs": [],
   "source": [
    "sqrt(36, very_accurate_good_enough)"
   ]
  },
  {
   "cell_type": "markdown",
   "metadata": {
    "collapsed": true
   },
   "source": [
    "The variable `is_ge` is what is termed as a *\"Callback\"* -- some function that you send to another piece of code. That piece of code calls this function back at a later point in time. "
   ]
  },
  {
   "cell_type": "markdown",
   "metadata": {},
   "source": [
    "This is the concept around which half of modern javascript is built! "
   ]
  }
 ],
 "metadata": {
  "kernelspec": {
   "display_name": "Python 3",
   "language": "python",
   "name": "python3"
  },
  "language_info": {
   "codemirror_mode": {
    "name": "ipython",
    "version": 3
   },
   "file_extension": ".py",
   "mimetype": "text/x-python",
   "name": "python",
   "nbconvert_exporter": "python",
   "pygments_lexer": "ipython3",
   "version": "3.6.3"
  }
 },
 "nbformat": 4,
 "nbformat_minor": 2
}
