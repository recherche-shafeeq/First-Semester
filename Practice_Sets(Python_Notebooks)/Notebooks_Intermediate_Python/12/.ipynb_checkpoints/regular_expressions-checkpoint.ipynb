{
 "cells": [
  {
   "cell_type": "markdown",
   "metadata": {},
   "source": [
    "# Regular Expressions"
   ]
  },
  {
   "cell_type": "code",
   "execution_count": 2,
   "metadata": {
    "collapsed": true
   },
   "outputs": [],
   "source": [
    "text = \"\"\"03-02-2025 10:22pm: My email address is testuser@gmail.com and I check\n",
    "          it often. You should send me an email!\"\"\""
   ]
  },
  {
   "cell_type": "markdown",
   "metadata": {},
   "source": [
    "We want to extract the email address from this string. \n",
    "\n",
    "But let's start small. "
   ]
  },
  {
   "cell_type": "code",
   "execution_count": 3,
   "metadata": {
    "collapsed": true
   },
   "outputs": [],
   "source": [
    "haystack = \"Date: 03-02-2025\""
   ]
  },
  {
   "cell_type": "code",
   "execution_count": 4,
   "metadata": {
    "collapsed": true
   },
   "outputs": [],
   "source": [
    "needle = \"Da\""
   ]
  },
  {
   "cell_type": "code",
   "execution_count": 5,
   "metadata": {
    "collapsed": true
   },
   "outputs": [],
   "source": [
    "import re "
   ]
  },
  {
   "cell_type": "code",
   "execution_count": 6,
   "metadata": {},
   "outputs": [
    {
     "data": {
      "text/plain": [
       "<_sre.SRE_Match object; span=(0, 2), match='Da'>"
      ]
     },
     "execution_count": 6,
     "metadata": {},
     "output_type": "execute_result"
    }
   ],
   "source": [
    "re.match(needle, haystack)"
   ]
  },
  {
   "cell_type": "code",
   "execution_count": 7,
   "metadata": {
    "collapsed": true
   },
   "outputs": [],
   "source": [
    "match = re.match(needle, haystack)"
   ]
  },
  {
   "cell_type": "code",
   "execution_count": 8,
   "metadata": {},
   "outputs": [
    {
     "data": {
      "text/plain": [
       "'Da'"
      ]
     },
     "execution_count": 8,
     "metadata": {},
     "output_type": "execute_result"
    }
   ],
   "source": [
    "match.group(0)"
   ]
  },
  {
   "cell_type": "code",
   "execution_count": 12,
   "metadata": {
    "collapsed": true
   },
   "outputs": [],
   "source": [
    "needle = \"Date: \\d\\d\""
   ]
  },
  {
   "cell_type": "code",
   "execution_count": 13,
   "metadata": {},
   "outputs": [
    {
     "name": "stdout",
     "output_type": "stream",
     "text": [
      "Found!\n",
      "Date: 03\n"
     ]
    }
   ],
   "source": [
    "res = re.match(needle, haystack)\n",
    "if res:\n",
    "    print(\"Found!\")\n",
    "    print(res.group(0))\n",
    "else: \n",
    "    print(\"Not found!\")"
   ]
  },
  {
   "cell_type": "code",
   "execution_count": 14,
   "metadata": {},
   "outputs": [
    {
     "name": "stdout",
     "output_type": "stream",
     "text": [
      "Found!\n",
      "Date: 0\n"
     ]
    }
   ],
   "source": [
    "needle = \"......\\d\"\n",
    "res = re.match(needle, haystack)\n",
    "if res:\n",
    "    print(\"Found!\")\n",
    "    print(res.group(0))\n",
    "else: \n",
    "    print(\"Not found!\")"
   ]
  },
  {
   "cell_type": "code",
   "execution_count": 17,
   "metadata": {},
   "outputs": [
    {
     "name": "stdout",
     "output_type": "stream",
     "text": [
      "Found!\n",
      "Date: 03\n"
     ]
    }
   ],
   "source": [
    "needle = \".....\\s\\d\\d\"\n",
    "res = re.match(needle, haystack)\n",
    "if res:\n",
    "    print(\"Found!\")\n",
    "    print(res.group(0))\n",
    "else: \n",
    "    print(\"Not found!\")"
   ]
  },
  {
   "cell_type": "code",
   "execution_count": 18,
   "metadata": {},
   "outputs": [
    {
     "name": "stdout",
     "output_type": "stream",
     "text": [
      "Found!\n",
      "Date: 03\n"
     ]
    }
   ],
   "source": [
    "needle = \".{5}\\s\\d{2}\"\n",
    "res = re.match(needle, haystack)\n",
    "if res:\n",
    "    print(\"Found!\")\n",
    "    print(res.group(0))\n",
    "else: \n",
    "    print(\"Not found!\")"
   ]
  },
  {
   "cell_type": "code",
   "execution_count": 19,
   "metadata": {},
   "outputs": [
    {
     "name": "stdout",
     "output_type": "stream",
     "text": [
      "Found!\n",
      "Date: 03-02-2025\n"
     ]
    }
   ],
   "source": [
    "needle = \".*\\d{2}\"\n",
    "res = re.match(needle, haystack)\n",
    "if res:\n",
    "    print(\"Found!\")\n",
    "    print(res.group(0))\n",
    "else: \n",
    "    print(\"Not found!\")"
   ]
  },
  {
   "cell_type": "markdown",
   "metadata": {},
   "source": [
    "But that's not what we expected! \n",
    "\n",
    "The problem is that `.*` is matching everything and `d{2}` matches the last two digits!"
   ]
  },
  {
   "cell_type": "code",
   "execution_count": 20,
   "metadata": {},
   "outputs": [
    {
     "name": "stdout",
     "output_type": "stream",
     "text": [
      "Found!\n",
      "Date: 03\n"
     ]
    }
   ],
   "source": [
    "needle = \".*?\\d{2}\"\n",
    "res = re.match(needle, haystack)\n",
    "if res:\n",
    "    print(\"Found!\")\n",
    "    print(res.group(0))\n",
    "else: \n",
    "    print(\"Not found!\")"
   ]
  },
  {
   "cell_type": "markdown",
   "metadata": {},
   "source": [
    "The `?` means that it should not be <strong>greedy</strong>. As soon as `\\d{2}` can be satisfied, the effect of `.*` should be stopped. "
   ]
  },
  {
   "cell_type": "markdown",
   "metadata": {},
   "source": [
    "## Problem: This is already getting too complex! "
   ]
  },
  {
   "cell_type": "markdown",
   "metadata": {},
   "source": [
    "Oh, but regular expressions look <strong>ugly</strong>!\n",
    "\n",
    "That's because you need to approach them in a modular way, just as we break down our whole program into functions.  "
   ]
  },
  {
   "cell_type": "code",
   "execution_count": 21,
   "metadata": {},
   "outputs": [
    {
     "name": "stdout",
     "output_type": "stream",
     "text": [
      "Found!\n",
      "Date: 03\n"
     ]
    }
   ],
   "source": [
    "str_date = \".*?\"       # You can also use: \".*\\s\" \n",
    "str_day  = \"\\d{2}\"\n",
    "\n",
    "# needle = \".*?\\d{2}\"\n",
    "needle = str_date + str_day \n",
    "\n",
    "res = re.match(needle, haystack)\n",
    "if res:\n",
    "    print(\"Found!\")\n",
    "    print(res.group(0))\n",
    "else: \n",
    "    print(\"Not found!\")"
   ]
  },
  {
   "cell_type": "markdown",
   "metadata": {},
   "source": [
    "Let's take the more complicated string. "
   ]
  },
  {
   "cell_type": "code",
   "execution_count": 22,
   "metadata": {},
   "outputs": [
    {
     "name": "stdout",
     "output_type": "stream",
     "text": [
      "03-02-2025 10:22pm: My email address is testuser@gmail.com and I check\n",
      "          it often. You should send me an email!\n"
     ]
    }
   ],
   "source": [
    "haystack = text\n",
    "print(haystack)"
   ]
  },
  {
   "cell_type": "code",
   "execution_count": 23,
   "metadata": {},
   "outputs": [
    {
     "name": "stdout",
     "output_type": "stream",
     "text": [
      "Found!\n",
      "03-02-2025 10:22pm\n"
     ]
    }
   ],
   "source": [
    "str_day  = \"\\d{2}-\\d{2}-\\d{4}\"\n",
    "\n",
    "str_time = \"\\d{2}:\\d{2}pm\"\n",
    "\n",
    "needle = str_day + \"\\s\" + str_time \n",
    "\n",
    "res = re.match(needle, haystack)\n",
    "if res:\n",
    "    print(\"Found!\")\n",
    "    print(res.group(0))\n",
    "else: \n",
    "    print(\"Not found!\")"
   ]
  },
  {
   "cell_type": "markdown",
   "metadata": {},
   "source": [
    "But what if the time is in the morning! "
   ]
  },
  {
   "cell_type": "code",
   "execution_count": 28,
   "metadata": {},
   "outputs": [
    {
     "name": "stdout",
     "output_type": "stream",
     "text": [
      "Found!\n",
      "03-02-2025 10:22PM\n"
     ]
    }
   ],
   "source": [
    "haystack = \"\"\"03-02-2025 10:22PM: My email address is testuser@gmail.com and I check\n",
    "          it often. You should send me an email!\"\"\"\n",
    "\n",
    "str_day  = \"\\d{2}-\\d{2}-\\d{4}\"\n",
    "\n",
    "str_time = \"\\d{2}:\\d{2}[apAP][mM]\"\n",
    "\n",
    "\n",
    "\n",
    "needle = str_day + \"\\s\" + str_time \n",
    "\n",
    "res = re.match(needle, haystack)\n",
    "if res:\n",
    "    print(\"Found!\")\n",
    "    print(res.group(0))\n",
    "else: \n",
    "    print(\"Not found!\")"
   ]
  },
  {
   "cell_type": "markdown",
   "metadata": {},
   "source": [
    "Let's find that email!"
   ]
  },
  {
   "cell_type": "code",
   "execution_count": 29,
   "metadata": {
    "collapsed": true
   },
   "outputs": [],
   "source": [
    "haystack = \"\"\"03-02-2025 10:22am: My email address is testuser@gmail.com and I check\n",
    "          it often. You should send me an email!\"\"\""
   ]
  },
  {
   "cell_type": "code",
   "execution_count": 30,
   "metadata": {},
   "outputs": [
    {
     "name": "stdout",
     "output_type": "stream",
     "text": [
      "Found!\n",
      "03-02-2025 10:22am: My email address is testuser@gmail.com \n"
     ]
    }
   ],
   "source": [
    "str_prefix  = \".*\"\n",
    "\n",
    "str_username = \"[a-zA-Z0-9.]*\"                         # \"[a-zA-Z0-9_.]*\"\n",
    "str_domain = \".*\\..*?\"                           # \".*\\..*?\"\n",
    "\n",
    "str_email = str_username + \"@\" + str_domain\n",
    "\n",
    "needle = str_prefix + \"\\s\" + str_email + \"\\s\"\n",
    "\n",
    "res = re.match(needle, haystack)\n",
    "if res:\n",
    "    print(\"Found!\")\n",
    "    print(res.group(0))\n",
    "else: \n",
    "    print(\"Not found!\")"
   ]
  },
  {
   "cell_type": "code",
   "execution_count": 31,
   "metadata": {},
   "outputs": [
    {
     "name": "stdout",
     "output_type": "stream",
     "text": [
      ".*\\s[a-zA-Z0-9.]*@.*\\..*?\\s\n"
     ]
    }
   ],
   "source": [
    "# If we wrote this as one singlular RegExp: \n",
    "\n",
    "print(needle)  # Ouch! "
   ]
  },
  {
   "cell_type": "markdown",
   "metadata": {},
   "source": [
    "That's the stuff of nightmares!"
   ]
  },
  {
   "cell_type": "markdown",
   "metadata": {},
   "source": [
    "## Extraction "
   ]
  },
  {
   "cell_type": "code",
   "execution_count": null,
   "metadata": {
    "collapsed": true
   },
   "outputs": [],
   "source": [
    "str_prefix  = \".*\"\n",
    "\n",
    "str_username = \"([a-zA-Z0-9_.]*)\"\n",
    "str_domain = \".*\\..*?\"\n",
    "\n",
    "str_email = str_username + \"@\" + str_domain         # Add () around stuff you need\n",
    "\n",
    "needle = str_prefix + \"\\s\" + str_email + \"\\s\"\n",
    "\n",
    "res = re.match(needle, haystack)\n",
    "if res:\n",
    "    print(\"Found!\")\n",
    "    print(res.group(0))\n",
    "else: \n",
    "    print(\"Not found!\")"
   ]
  },
  {
   "cell_type": "code",
   "execution_count": null,
   "metadata": {
    "collapsed": true
   },
   "outputs": [],
   "source": [
    "res.group(1)"
   ]
  }
 ],
 "metadata": {
  "kernelspec": {
   "display_name": "Python 3",
   "language": "python",
   "name": "python3"
  },
  "language_info": {
   "codemirror_mode": {
    "name": "ipython",
    "version": 3
   },
   "file_extension": ".py",
   "mimetype": "text/x-python",
   "name": "python",
   "nbconvert_exporter": "python",
   "pygments_lexer": "ipython3",
   "version": "3.6.3"
  }
 },
 "nbformat": 4,
 "nbformat_minor": 2
}
