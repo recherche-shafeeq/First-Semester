{
 "cells": [
  {
   "cell_type": "markdown",
   "metadata": {},
   "source": [
    "# Multithreading "
   ]
  },
  {
   "cell_type": "code",
   "execution_count": 52,
   "metadata": {
    "collapsed": true
   },
   "outputs": [],
   "source": [
    "import requests"
   ]
  },
  {
   "cell_type": "code",
   "execution_count": 51,
   "metadata": {},
   "outputs": [
    {
     "name": "stdout",
     "output_type": "stream",
     "text": [
      "Requirement already satisfied: requests in /Users/nam/anaconda3/lib/python3.6/site-packages\n",
      "Requirement already satisfied: chardet<3.1.0,>=3.0.2 in /Users/nam/anaconda3/lib/python3.6/site-packages (from requests)\n",
      "Requirement already satisfied: idna<2.7,>=2.5 in /Users/nam/anaconda3/lib/python3.6/site-packages (from requests)\n",
      "Requirement already satisfied: urllib3<1.23,>=1.21.1 in /Users/nam/anaconda3/lib/python3.6/site-packages (from requests)\n",
      "Requirement already satisfied: certifi>=2017.4.17 in /Users/nam/anaconda3/lib/python3.6/site-packages (from requests)\n",
      "\u001b[33mYou are using pip version 9.0.1, however version 10.0.1 is available.\n",
      "You should consider upgrading via the 'pip install --upgrade pip' command.\u001b[0m\n"
     ]
    }
   ],
   "source": [
    "!pip install requests "
   ]
  },
  {
   "cell_type": "code",
   "execution_count": 3,
   "metadata": {},
   "outputs": [],
   "source": [
    "gists = ['https://gist.github.com/recluze/1d2989c7e345c8c3c542', \n",
    "        'https://gist.github.com/recluze/a98aa1804884ca3b3ad3', \n",
    "        'https://gist.github.com/recluze/5051735efe3fc189b90d', \n",
    "        'https://gist.github.com/recluze/460157afc6a7492555bb',\n",
    "        'https://gist.github.com/recluze/5051735efe3fc189b90d', \n",
    "        'https://gist.github.com/recluze/c9bc4130af995c36176d']"
   ]
  },
  {
   "cell_type": "code",
   "execution_count": 54,
   "metadata": {
    "collapsed": true
   },
   "outputs": [],
   "source": [
    "from contextlib import contextmanager  # import the decorator \n",
    "import time \n",
    "\n",
    "@contextmanager \n",
    "def timeit():\n",
    "    start_time = int(round(time.time() * 1000))\n",
    "\n",
    "    yield   # Remember this guy from the generators lecture? \n",
    "    \n",
    "    end_time = int(round(time.time() * 1000))\n",
    "    elapsed = end_time - start_time\n",
    "    print(\"Code took %d ms to run.\" % elapsed)"
   ]
  },
  {
   "cell_type": "code",
   "execution_count": 55,
   "metadata": {
    "collapsed": true
   },
   "outputs": [],
   "source": [
    "def get_gist(g):\n",
    "    print(\"Starting request: %s\" % g)\n",
    "    r = requests.get(g)\n",
    "    g_length = len(r.text)\n",
    "    print(\"Got response of length: %d\" % g_length)"
   ]
  },
  {
   "cell_type": "code",
   "execution_count": 56,
   "metadata": {},
   "outputs": [
    {
     "name": "stdout",
     "output_type": "stream",
     "text": [
      "Starting request: https://gist.github.com/recluze/1d2989c7e345c8c3c542\n",
      "Got response of length: 228613\n",
      "Starting request: https://gist.github.com/recluze/a98aa1804884ca3b3ad3\n",
      "Got response of length: 106686\n",
      "Starting request: https://gist.github.com/recluze/5051735efe3fc189b90d\n",
      "Got response of length: 40611\n",
      "Starting request: https://gist.github.com/recluze/460157afc6a7492555bb\n",
      "Got response of length: 44023\n",
      "Starting request: https://gist.github.com/recluze/5051735efe3fc189b90d\n",
      "Got response of length: 40611\n",
      "Starting request: https://gist.github.com/recluze/c9bc4130af995c36176d\n",
      "Got response of length: 62718\n",
      "All done.\n",
      "Code took 9723 ms to run.\n"
     ]
    }
   ],
   "source": [
    "with timeit(): \n",
    "    \n",
    "    for g in gists: \n",
    "        get_gist(g)\n",
    "    print(\"All done.\")"
   ]
  },
  {
   "cell_type": "markdown",
   "metadata": {},
   "source": [
    "Let's do all these in parallel!"
   ]
  },
  {
   "cell_type": "code",
   "execution_count": 57,
   "metadata": {},
   "outputs": [
    {
     "name": "stdout",
     "output_type": "stream",
     "text": [
      "Starting request: https://gist.github.com/recluze/5051735efe3fc189b90dStarting request: https://gist.github.com/recluze/1d2989c7e345c8c3c542Starting request: https://gist.github.com/recluze/a98aa1804884ca3b3ad3Starting request: https://gist.github.com/recluze/460157afc6a7492555bb\n",
      "\n",
      "\n",
      "\n",
      "Starting request: https://gist.github.com/recluze/5051735efe3fc189b90d\n",
      "Starting request: https://gist.github.com/recluze/c9bc4130af995c36176d\n",
      "Got response of length: 40611\n",
      "Got response of length: 40611\n",
      "Got response of length: 62719\n",
      "Got response of length: 44022\n",
      "Got response of length: 106685\n",
      "Got response of length: 228613\n",
      "All done.\n",
      "Code took 2161 ms to run.\n"
     ]
    }
   ],
   "source": [
    "import threading \n",
    "with timeit():\n",
    "    threads = []\n",
    "    for g in gists:\n",
    "        # Create workers\n",
    "        t = threading.Thread(target=get_gist, args=(g, ))\n",
    "        \n",
    "        # Go! \n",
    "        t.start()\n",
    "        \n",
    "        threads.append(t) # Keep a list for record \n",
    "\n",
    "    for t in threads: \n",
    "        t.join()          # Wait til it finishes \n",
    "        \n",
    "    print(\"All done.\")"
   ]
  },
  {
   "cell_type": "code",
   "execution_count": 13,
   "metadata": {},
   "outputs": [
    {
     "name": "stdout",
     "output_type": "stream",
     "text": [
      "starting request with https://gist.github.com/recluze/1d2989c7e345c8c3c542:\n",
      "starting request with https://gist.github.com/recluze/a98aa1804884ca3b3ad3:\n",
      "starting request with https://gist.github.com/recluze/5051735efe3fc189b90d:\n",
      "starting request with https://gist.github.com/recluze/460157afc6a7492555bb:\n",
      "starting request with https://gist.github.com/recluze/5051735efe3fc189b90d:\n",
      "starting request with https://gist.github.com/recluze/c9bc4130af995c36176d:\n"
     ]
    }
   ],
   "source": [
    "for g in gists:\n",
    "    get_gist(g)"
   ]
  },
  {
   "cell_type": "code",
   "execution_count": 12,
   "metadata": {},
   "outputs": [],
   "source": [
    "import requests\n",
    "def get_gist(g):\n",
    "    print(\"starting request with %s:\"%g)\n",
    "    v = requests.get(g)"
   ]
  },
  {
   "cell_type": "code",
   "execution_count": 16,
   "metadata": {},
   "outputs": [
    {
     "data": {
      "text/plain": [
       "2e+63"
      ]
     },
     "execution_count": 16,
     "metadata": {},
     "output_type": "execute_result"
    }
   ],
   "source": [
    "float(2E63)"
   ]
  },
  {
   "cell_type": "code",
   "execution_count": null,
   "metadata": {},
   "outputs": [],
   "source": []
  },
  {
   "cell_type": "code",
   "execution_count": null,
   "metadata": {},
   "outputs": [],
   "source": []
  }
 ],
 "metadata": {
  "kernelspec": {
   "display_name": "Python 3",
   "language": "python",
   "name": "python3"
  },
  "language_info": {
   "codemirror_mode": {
    "name": "ipython",
    "version": 3
   },
   "file_extension": ".py",
   "mimetype": "text/x-python",
   "name": "python",
   "nbconvert_exporter": "python",
   "pygments_lexer": "ipython3",
   "version": "3.6.5"
  }
 },
 "nbformat": 4,
 "nbformat_minor": 2
}
