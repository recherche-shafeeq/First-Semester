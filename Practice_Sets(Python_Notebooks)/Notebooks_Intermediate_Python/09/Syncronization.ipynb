{
 "cells": [
  {
   "cell_type": "code",
   "execution_count": 6,
   "metadata": {},
   "outputs": [],
   "source": [
    "import time\n",
    "counter = 0\n",
    "iterations_in_one_thread = 100\n",
    "no_threads = 5\n",
    "import threading\n",
    "lock = threading.Lock()\n",
    "def multi_things():\n",
    "    global counter\n",
    "    for i in range(iterations_in_one_thread):\n",
    "        lock.acquire()\n",
    "        v = counter\n",
    "        time.sleep(0.00000000001)\n",
    "        v += 1\n",
    "        counter = v\n",
    "        lock.release()"
   ]
  },
  {
   "cell_type": "code",
   "execution_count": 7,
   "metadata": {},
   "outputs": [],
   "source": [
    "import threading\n",
    "def run_experiment():\n",
    "    global counter\n",
    "    counter = 0\n",
    "    thread = []\n",
    "    for i in range(no_threads):\n",
    "        t = threading.Thread(target= multi_things)\n",
    "        t.start()\n",
    "        thread.append(t)\n",
    "    \n",
    "    for i in thread:\n",
    "        t.join()\n",
    "    print(thread)\n",
    "    print(\"we got the value of counter as :\",counter)"
   ]
  },
  {
   "cell_type": "code",
   "execution_count": 8,
   "metadata": {},
   "outputs": [
    {
     "name": "stdout",
     "output_type": "stream",
     "text": [
      "[<Thread(Thread-11, started 7448)>, <Thread(Thread-12, stopped 1232)>, <Thread(Thread-13, started 18112)>, <Thread(Thread-14, started 14552)>, <Thread(Thread-15, stopped 7688)>]\n",
      "we got the value of counter as : 303\n"
     ]
    }
   ],
   "source": [
    "run_experiment()"
   ]
  },
  {
   "cell_type": "code",
   "execution_count": 1,
   "metadata": {},
   "outputs": [],
   "source": [
    "def f():\n",
    "    global counter,lock\n",
    "\n",
    "    for i in range(iterations_in_one_thread):\n",
    "        v = counter \n",
    "        time.sleep(0.00000000000001)  # Do some stuff \n",
    "        v += 1\n",
    "        counter = v"
   ]
  },
  {
   "cell_type": "code",
   "execution_count": 2,
   "metadata": {},
   "outputs": [],
   "source": [
    "def run_experiment(): \n",
    "    global counter \n",
    "    counter = 0 \n",
    "    threads = []\n",
    "    for i in range(num_threads):\n",
    "        t = threading.Thread(target=f)\n",
    "        threads.append(t)\n",
    "        t.start()\n",
    "\n",
    "    for i in threads:  \n",
    "        i.join()\n",
    "\n",
    "    print(\"Calculated value: %d\" % counter)\n",
    "    print(\"Expected value:   %d\" % (num_threads * iterations_in_one_thread))"
   ]
  },
  {
   "cell_type": "code",
   "execution_count": 3,
   "metadata": {},
   "outputs": [],
   "source": [
    "num_threads = 5\n",
    "iterations_in_one_thread = 100"
   ]
  },
  {
   "cell_type": "code",
   "execution_count": 4,
   "metadata": {},
   "outputs": [],
   "source": [
    "import threading\n",
    "import time"
   ]
  },
  {
   "cell_type": "code",
   "execution_count": 5,
   "metadata": {},
   "outputs": [
    {
     "name": "stdout",
     "output_type": "stream",
     "text": [
      "Calculated value: 104\n",
      "Expected value:   500\n"
     ]
    }
   ],
   "source": [
    "run_experiment()"
   ]
  },
  {
   "cell_type": "code",
   "execution_count": 30,
   "metadata": {},
   "outputs": [],
   "source": [
    "no_iters = 100\n",
    "no_threads = 5\n",
    "counter = 0\n",
    "import time\n",
    "lock = threading.Lock()\n",
    "def iter_check():\n",
    "    global counter,lock\n",
    "    for i in range(no_iters):\n",
    "        lock.acquire()\n",
    "        store = counter\n",
    "        time.sleep(0.0000001)\n",
    "        store += 1\n",
    "        counter = store\n",
    "        lock.release()"
   ]
  },
  {
   "cell_type": "code",
   "execution_count": 31,
   "metadata": {},
   "outputs": [],
   "source": [
    "def check_iters_fun():\n",
    "    global counter,lock\n",
    "    thread = []\n",
    "    for i in range(no_threads):\n",
    "        t = threading.Thread(target = iter_check)\n",
    "        t.start()\n",
    "        thread.append(t)\n",
    "    for i in thread:\n",
    "        i.join()\n",
    "    print(\"the value of counter:\",counter)\n",
    "    print(\"all done\")"
   ]
  },
  {
   "cell_type": "code",
   "execution_count": 32,
   "metadata": {},
   "outputs": [
    {
     "name": "stdout",
     "output_type": "stream",
     "text": [
      "the value of counter: 500\n",
      "all done\n"
     ]
    }
   ],
   "source": [
    "check_iters_fun()"
   ]
  },
  {
   "cell_type": "code",
   "execution_count": null,
   "metadata": {},
   "outputs": [],
   "source": []
  }
 ],
 "metadata": {
  "kernelspec": {
   "display_name": "Python 3",
   "language": "python",
   "name": "python3"
  },
  "language_info": {
   "codemirror_mode": {
    "name": "ipython",
    "version": 3
   },
   "file_extension": ".py",
   "mimetype": "text/x-python",
   "name": "python",
   "nbconvert_exporter": "python",
   "pygments_lexer": "ipython3",
   "version": "3.6.5"
  }
 },
 "nbformat": 4,
 "nbformat_minor": 2
}
