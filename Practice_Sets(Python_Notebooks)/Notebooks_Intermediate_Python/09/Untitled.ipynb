{
 "cells": [
  {
   "cell_type": "code",
   "execution_count": 1,
   "metadata": {},
   "outputs": [
    {
     "name": "stdout",
     "output_type": "stream",
     "text": [
      "Requirement already satisfied: requests in c:\\users\\rubix\\anaconda3\\lib\\site-packages (2.18.4)\n",
      "Requirement already satisfied: chardet<3.1.0,>=3.0.2 in c:\\users\\rubix\\anaconda3\\lib\\site-packages (from requests) (3.0.4)\n",
      "Requirement already satisfied: idna<2.7,>=2.5 in c:\\users\\rubix\\anaconda3\\lib\\site-packages (from requests) (2.6)\n",
      "Requirement already satisfied: urllib3<1.23,>=1.21.1 in c:\\users\\rubix\\anaconda3\\lib\\site-packages (from requests) (1.22)\n",
      "Requirement already satisfied: certifi>=2017.4.17 in c:\\users\\rubix\\anaconda3\\lib\\site-packages (from requests) (2018.4.16)\n"
     ]
    }
   ],
   "source": [
    "! pip install requests"
   ]
  },
  {
   "cell_type": "code",
   "execution_count": 2,
   "metadata": {},
   "outputs": [],
   "source": [
    "from contextlib import contextmanager"
   ]
  },
  {
   "cell_type": "code",
   "execution_count": 3,
   "metadata": {},
   "outputs": [],
   "source": [
    "import time"
   ]
  },
  {
   "cell_type": "code",
   "execution_count": 4,
   "metadata": {},
   "outputs": [],
   "source": [
    "@contextmanager\n",
    "def time_it():\n",
    "    start_time = int(round(time.time()*1000))\n",
    "    yield\n",
    "    end_time = int(round(time.time()*1000))\n",
    "    print(\"total time taken is given by:\",end_time-start_time)"
   ]
  },
  {
   "cell_type": "code",
   "execution_count": 19,
   "metadata": {},
   "outputs": [
    {
     "name": "stdout",
     "output_type": "stream",
     "text": [
      "the value of the request is returned as:<Response [200]>\n",
      "Got the length of the page :225801\n",
      "the value of the request is returned as:<Response [200]>\n",
      "Got the length of the page :103873\n",
      "the value of the request is returned as:<Response [200]>\n",
      "Got the length of the page :37800\n",
      "the value of the request is returned as:<Response [200]>\n",
      "Got the length of the page :41209\n",
      "the value of the request is returned as:<Response [200]>\n",
      "Got the length of the page :37797\n",
      "the value of the request is returned as:<Response [200]>\n",
      "Got the length of the page :59906\n",
      "I am done\n",
      "total time taken is given by: 11697\n"
     ]
    }
   ],
   "source": [
    "with time_it():\n",
    "    for url in gists:\n",
    "        get_gist(url)\n",
    "    print(\"I am done\")"
   ]
  },
  {
   "cell_type": "code",
   "execution_count": 17,
   "metadata": {},
   "outputs": [],
   "source": [
    "import requests\n",
    "def get_gist(url):\n",
    "    var = requests.get(url)\n",
    "    print(\"the value of the request is returned as:%s\"%var)\n",
    "    print(\"Got the length of the page :%d\"%len(var.text))"
   ]
  },
  {
   "cell_type": "code",
   "execution_count": 18,
   "metadata": {},
   "outputs": [],
   "source": [
    "gists = ['https://gist.github.com/recluze/1d2989c7e345c8c3c542', \n",
    "        'https://gist.github.com/recluze/a98aa1804884ca3b3ad3', \n",
    "        'https://gist.github.com/recluze/5051735efe3fc189b90d', \n",
    "        'https://gist.github.com/recluze/460157afc6a7492555bb', \n",
    "        'https://gist.github.com/recluze/5051735efe3fc189b90d', \n",
    "        'https://gist.github.com/recluze/c9bc4130af995c36176d']"
   ]
  },
  {
   "cell_type": "code",
   "execution_count": null,
   "metadata": {},
   "outputs": [],
   "source": [
    "54**2999997892284"
   ]
  },
  {
   "cell_type": "code",
   "execution_count": null,
   "metadata": {},
   "outputs": [],
   "source": []
  }
 ],
 "metadata": {
  "kernelspec": {
   "display_name": "Python 3",
   "language": "python",
   "name": "python3"
  },
  "language_info": {
   "codemirror_mode": {
    "name": "ipython",
    "version": 3
   },
   "file_extension": ".py",
   "mimetype": "text/x-python",
   "name": "python",
   "nbconvert_exporter": "python",
   "pygments_lexer": "ipython3",
   "version": "3.6.5"
  }
 },
 "nbformat": 4,
 "nbformat_minor": 2
}
