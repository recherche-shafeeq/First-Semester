{
 "cells": [
  {
   "cell_type": "markdown",
   "metadata": {},
   "source": [
    "# Asynchronous Programming (Optional)"
   ]
  },
  {
   "cell_type": "markdown",
   "metadata": {},
   "source": [
    "It's a growing trend!\n",
    "\n",
    "<img src='../imgs/asyncio-trend.png' width='70%'/>"
   ]
  },
  {
   "cell_type": "code",
   "execution_count": 1,
   "metadata": {},
   "outputs": [
    {
     "name": "stdout",
     "output_type": "stream",
     "text": [
      "Requirement already satisfied: aiohttp in /Users/nam/anaconda3/lib/python3.6/site-packages\n",
      "Requirement already satisfied: attrs>=17.3.0 in /Users/nam/anaconda3/lib/python3.6/site-packages (from aiohttp)\n",
      "Requirement already satisfied: idna-ssl>=1.0 in /Users/nam/anaconda3/lib/python3.6/site-packages (from aiohttp)\n",
      "Requirement already satisfied: async-timeout<4.0,>=3.0 in /Users/nam/anaconda3/lib/python3.6/site-packages (from aiohttp)\n",
      "Requirement already satisfied: yarl<2.0,>=1.0 in /Users/nam/anaconda3/lib/python3.6/site-packages (from aiohttp)\n",
      "Requirement already satisfied: chardet<4.0,>=2.0 in /Users/nam/anaconda3/lib/python3.6/site-packages (from aiohttp)\n",
      "Requirement already satisfied: multidict<5.0,>=4.0 in /Users/nam/anaconda3/lib/python3.6/site-packages (from aiohttp)\n",
      "Requirement already satisfied: idna>=2.0 in /Users/nam/anaconda3/lib/python3.6/site-packages (from idna-ssl>=1.0->aiohttp)\n",
      "\u001b[33mYou are using pip version 9.0.1, however version 10.0.1 is available.\n",
      "You should consider upgrading via the 'pip install --upgrade pip' command.\u001b[0m\n"
     ]
    }
   ],
   "source": [
    "!pip install aiohttp    # let's install this first "
   ]
  },
  {
   "cell_type": "code",
   "execution_count": 2,
   "metadata": {
    "collapsed": true
   },
   "outputs": [],
   "source": [
    "gists = ['https://gist.github.com/recluze/1d2989c7e345c8c3c542', \n",
    "        'https://gist.github.com/recluze/a98aa1804884ca3b3ad3', \n",
    "        'https://gist.github.com/recluze/5051735efe3fc189b90d', \n",
    "        'https://gist.github.com/recluze/460157afc6a7492555bb', \n",
    "        'https://gist.github.com/recluze/5051735efe3fc189b90d', \n",
    "        'https://gist.github.com/recluze/c9bc4130af995c36176d']"
   ]
  },
  {
   "cell_type": "code",
   "execution_count": 3,
   "metadata": {
    "collapsed": true
   },
   "outputs": [],
   "source": [
    "import asyncio\n",
    "import aiohttp"
   ]
  },
  {
   "cell_type": "code",
   "execution_count": null,
   "metadata": {
    "collapsed": true
   },
   "outputs": [],
   "source": [
    "async def get_gist(url):\n",
    "    print('GET: ', url)\n",
    "\n",
    "    async with aiohttp.ClientSession() as session:\n",
    "         async with session.get(url) as response:\n",
    "            page_text = await response.text()            # Our culprit \n",
    "            g_length = len(page_text)\n",
    "            print(\"Len: %d\" % g_length)"
   ]
  },
  {
   "cell_type": "code",
   "execution_count": null,
   "metadata": {
    "collapsed": true
   },
   "outputs": [],
   "source": [
    "\n",
    "\n",
    "\n",
    "\n",
    "\n"
   ]
  },
  {
   "cell_type": "code",
   "execution_count": 4,
   "metadata": {
    "collapsed": true
   },
   "outputs": [],
   "source": [
    "async def get_gist(url):                           # Asynchronous \n",
    "    print('GET: ', url)\n",
    "    \n",
    "    async with aiohttp.ClientSession() as session: # Asynchronous \n",
    "        async with session.get(url) as response:   # Asynchronous \n",
    "            page_text = await response.text()      # Our culprit -- now we only have to define where we DO want to break \n",
    "            g_length = len(page_text)\n",
    "            print(\"Len: %d\" % g_length)\n",
    "            return g_length                        # return value "
   ]
  },
  {
   "cell_type": "code",
   "execution_count": 5,
   "metadata": {
    "collapsed": true
   },
   "outputs": [],
   "source": [
    "# Set the loop up \n",
    "asyncio.set_event_loop(asyncio.new_event_loop())   # An event loop runs async tasks \n",
    "loop = asyncio.get_event_loop()    "
   ]
  },
  {
   "cell_type": "code",
   "execution_count": 6,
   "metadata": {
    "collapsed": true
   },
   "outputs": [],
   "source": [
    "# Add tasks to run \n",
    "tasks = [] \n",
    "for g in gists: \n",
    "    future = asyncio.ensure_future(   get_gist(g)   ) \n",
    "    tasks.append(future) # save it for later reference "
   ]
  },
  {
   "cell_type": "markdown",
   "metadata": {},
   "source": [
    "We're not running anything til now! "
   ]
  },
  {
   "cell_type": "code",
   "execution_count": 7,
   "metadata": {},
   "outputs": [
    {
     "name": "stdout",
     "output_type": "stream",
     "text": [
      "GET:  https://gist.github.com/recluze/1d2989c7e345c8c3c542\n",
      "GET:  https://gist.github.com/recluze/a98aa1804884ca3b3ad3\n",
      "GET:  https://gist.github.com/recluze/5051735efe3fc189b90d\n",
      "GET:  https://gist.github.com/recluze/460157afc6a7492555bb\n",
      "GET:  https://gist.github.com/recluze/5051735efe3fc189b90d\n",
      "GET:  https://gist.github.com/recluze/c9bc4130af995c36176d\n",
      "Len: 40539\n",
      "Len: 228541\n",
      "Len: 40539\n",
      "Len: 106614\n",
      "Len: 43951\n",
      "Len: 62647\n",
      "CPU times: user 156 ms, sys: 127 ms, total: 283 ms\n",
      "Wall time: 2.09 s\n"
     ]
    },
    {
     "data": {
      "text/plain": [
       "({<Task finished coro=<get_gist() done, defined at <ipython-input-4-0a555373ce48>:1> result=62647>,\n",
       "  <Task finished coro=<get_gist() done, defined at <ipython-input-4-0a555373ce48>:1> result=40539>,\n",
       "  <Task finished coro=<get_gist() done, defined at <ipython-input-4-0a555373ce48>:1> result=43951>,\n",
       "  <Task finished coro=<get_gist() done, defined at <ipython-input-4-0a555373ce48>:1> result=228541>,\n",
       "  <Task finished coro=<get_gist() done, defined at <ipython-input-4-0a555373ce48>:1> result=40539>,\n",
       "  <Task finished coro=<get_gist() done, defined at <ipython-input-4-0a555373ce48>:1> result=106614>},\n",
       " set())"
      ]
     },
     "execution_count": 7,
     "metadata": {},
     "output_type": "execute_result"
    }
   ],
   "source": [
    "# Go! \n",
    "%time loop.run_until_complete(asyncio.wait(tasks))"
   ]
  },
  {
   "cell_type": "code",
   "execution_count": 8,
   "metadata": {
    "collapsed": true
   },
   "outputs": [],
   "source": [
    "# Housekeeping \n",
    "loop.close()"
   ]
  },
  {
   "cell_type": "code",
   "execution_count": 9,
   "metadata": {},
   "outputs": [
    {
     "data": {
      "text/plain": [
       "228541"
      ]
     },
     "execution_count": 9,
     "metadata": {},
     "output_type": "execute_result"
    }
   ],
   "source": [
    "tasks[0].result()   # After the loop is done, we can get the return values "
   ]
  },
  {
   "cell_type": "code",
   "execution_count": null,
   "metadata": {
    "collapsed": true
   },
   "outputs": [],
   "source": []
  }
 ],
 "metadata": {
  "kernelspec": {
   "display_name": "Python 3",
   "language": "python",
   "name": "python3"
  },
  "language_info": {
   "codemirror_mode": {
    "name": "ipython",
    "version": 3
   },
   "file_extension": ".py",
   "mimetype": "text/x-python",
   "name": "python",
   "nbconvert_exporter": "python",
   "pygments_lexer": "ipython3",
   "version": "3.6.5"
  }
 },
 "nbformat": 4,
 "nbformat_minor": 2
}
