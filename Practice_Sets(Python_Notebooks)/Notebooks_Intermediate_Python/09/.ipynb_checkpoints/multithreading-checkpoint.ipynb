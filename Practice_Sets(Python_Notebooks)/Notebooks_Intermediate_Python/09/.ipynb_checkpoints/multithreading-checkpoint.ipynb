{
 "cells": [
  {
   "cell_type": "markdown",
   "metadata": {},
   "source": [
    "# Multithreading "
   ]
  },
  {
   "cell_type": "code",
   "execution_count": null,
   "metadata": {
    "collapsed": true
   },
   "outputs": [],
   "source": [
    "import requests"
   ]
  },
  {
   "cell_type": "code",
   "execution_count": null,
   "metadata": {},
   "outputs": [],
   "source": [
    "!pip install requests "
   ]
  },
  {
   "cell_type": "code",
   "execution_count": null,
   "metadata": {
    "collapsed": true
   },
   "outputs": [],
   "source": [
    "gists = ['https://gist.github.com/recluze/1d2989c7e345c8c3c542', \n",
    "        'https://gist.github.com/recluze/a98aa1804884ca3b3ad3', \n",
    "        'https://gist.github.com/recluze/5051735efe3fc189b90d', \n",
    "        'https://gist.github.com/recluze/460157afc6a7492555bb', \n",
    "        'https://gist.github.com/recluze/5051735efe3fc189b90d', \n",
    "        'https://gist.github.com/recluze/c9bc4130af995c36176d']"
   ]
  },
  {
   "cell_type": "code",
   "execution_count": null,
   "metadata": {
    "collapsed": true
   },
   "outputs": [],
   "source": [
    "from contextlib import contextmanager  # import the decorator \n",
    "import time \n",
    "\n",
    "@contextmanager \n",
    "def timeit():\n",
    "    start_time = int(round(time.time() * 1000))\n",
    "\n",
    "    yield   # Remember this guy from the generators lecture? \n",
    "    \n",
    "    end_time = int(round(time.time() * 1000))\n",
    "    elapsed = end_time - start_time\n",
    "    print(\"Code took %d ms to run.\" % elapsed)"
   ]
  },
  {
   "cell_type": "code",
   "execution_count": null,
   "metadata": {
    "collapsed": true
   },
   "outputs": [],
   "source": [
    "def get_gist(g):\n",
    "    print(\"Starting request: %s\" % g)\n",
    "    r = requests.get(g)\n",
    "    g_length = len(r.text)\n",
    "    print(\"Got response of length: %d\" % g_length)"
   ]
  },
  {
   "cell_type": "code",
   "execution_count": null,
   "metadata": {},
   "outputs": [],
   "source": [
    "with timeit(): \n",
    "    lengths = []\n",
    "    for g in gists: \n",
    "        get_gist(g)\n",
    "    print(\"All done.\")"
   ]
  },
  {
   "cell_type": "markdown",
   "metadata": {},
   "source": [
    "Let's do all these in parallel!"
   ]
  },
  {
   "cell_type": "code",
   "execution_count": null,
   "metadata": {},
   "outputs": [],
   "source": [
    "with timeit(): \n",
    "    threads = [] \n",
    "    for g in gists:\n",
    "        # Create workers\n",
    "        t = threading.Thread(target=get_gist, args=(g, ))\n",
    "        \n",
    "        # Go! \n",
    "        t.start()\n",
    "        \n",
    "        threads.append(t) # Keep a list for record \n",
    "\n",
    "        \n",
    "    for t in threads: \n",
    "        t.join()          # Wait til it finishes \n",
    "        \n",
    "    print(\"All done.\")"
   ]
  }
 ],
 "metadata": {
  "kernelspec": {
   "display_name": "Python 3",
   "language": "python",
   "name": "python3"
  },
  "language_info": {
   "codemirror_mode": {
    "name": "ipython",
    "version": 3
   },
   "file_extension": ".py",
   "mimetype": "text/x-python",
   "name": "python",
   "nbconvert_exporter": "python",
   "pygments_lexer": "ipython3",
   "version": "3.6.3"
  }
 },
 "nbformat": 4,
 "nbformat_minor": 2
}
