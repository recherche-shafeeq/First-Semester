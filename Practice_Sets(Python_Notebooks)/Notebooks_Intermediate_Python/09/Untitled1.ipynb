{
 "cells": [
  {
   "cell_type": "code",
   "execution_count": 1,
   "metadata": {},
   "outputs": [],
   "source": [
    "import threading\n",
    "import time\n",
    "balance = 10000\n",
    "lock = threading.Lock()\n",
    "def with_draw():\n",
    "    global balance\n",
    "    lock.acquire()\n",
    "    if balance >= 10:\n",
    "        time.sleep(0.000000000000000000000000002)\n",
    "        balance -= 10\n",
    "    lock.release()\n",
    "def just_checking():\n",
    "    global balance\n",
    "    thread = []\n",
    "    for i in range(1010):\n",
    "        t = threading.Thread(target = with_draw)\n",
    "        t.start()\n",
    "        thread.append(t)\n",
    "    for i in thread:\n",
    "        i.join()\n",
    "    print(\"the value of balance is :%s\",balance)"
   ]
  },
  {
   "cell_type": "code",
   "execution_count": 2,
   "metadata": {},
   "outputs": [
    {
     "name": "stdout",
     "output_type": "stream",
     "text": [
      "the value of balance is :%s 0\n"
     ]
    }
   ],
   "source": [
    "just_checking()"
   ]
  },
  {
   "cell_type": "code",
   "execution_count": null,
   "metadata": {},
   "outputs": [],
   "source": []
  }
 ],
 "metadata": {
  "kernelspec": {
   "display_name": "Python 3",
   "language": "python",
   "name": "python3"
  },
  "language_info": {
   "codemirror_mode": {
    "name": "ipython",
    "version": 3
   },
   "file_extension": ".py",
   "mimetype": "text/x-python",
   "name": "python",
   "nbconvert_exporter": "python",
   "pygments_lexer": "ipython3",
   "version": "3.6.5"
  }
 },
 "nbformat": 4,
 "nbformat_minor": 2
}
