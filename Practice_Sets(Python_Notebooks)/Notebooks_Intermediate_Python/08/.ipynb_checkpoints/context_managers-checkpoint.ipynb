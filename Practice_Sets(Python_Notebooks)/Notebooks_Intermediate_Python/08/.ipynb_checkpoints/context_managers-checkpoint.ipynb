{
 "cells": [
  {
   "cell_type": "markdown",
   "metadata": {},
   "source": [
    "# Context Managers "
   ]
  },
  {
   "cell_type": "markdown",
   "metadata": {},
   "source": [
    "You've probably already worked with opening and closing files. "
   ]
  },
  {
   "cell_type": "code",
   "execution_count": null,
   "metadata": {
    "collapsed": true
   },
   "outputs": [],
   "source": [
    "f = open('dummy-file.txt', 'r')\n",
    "for line in f: \n",
    "    print(line)\n",
    "    \n",
    "f.close()     # People will always forget this! "
   ]
  },
  {
   "cell_type": "code",
   "execution_count": null,
   "metadata": {
    "collapsed": true
   },
   "outputs": [],
   "source": [
    "with open('dummy-file.txt', 'r') as f: \n",
    "    for line in f: \n",
    "        print(line)\n",
    "        \n",
    "# No need to close file since that's taken care of automatically "
   ]
  },
  {
   "cell_type": "markdown",
   "metadata": {},
   "source": [
    "The keyword `with` marks a context. We can define our own <strong>context managers</strong> as well! \n",
    "\n",
    "The idea is to create a context that requires some setup before starting and then some cleanup at the end. "
   ]
  },
  {
   "cell_type": "code",
   "execution_count": null,
   "metadata": {
    "collapsed": true
   },
   "outputs": [],
   "source": [
    "import time \n",
    "    \n",
    "def some_function(): \n",
    "    time.sleep(1) "
   ]
  },
  {
   "cell_type": "code",
   "execution_count": null,
   "metadata": {
    "collapsed": true
   },
   "outputs": [],
   "source": [
    "%time some_function()    # but this is only available in jupyter notebook "
   ]
  },
  {
   "cell_type": "code",
   "execution_count": null,
   "metadata": {
    "collapsed": true
   },
   "outputs": [],
   "source": [
    "start_time = int(round(time.time() * 1000))\n",
    "\n",
    "some_function()\n",
    "\n",
    "end_time = int(round(time.time() * 1000))\n",
    "elapsed = end_time - start_time\n",
    "print(\"Code took %d ms to run.\" % elapsed)"
   ]
  },
  {
   "cell_type": "markdown",
   "metadata": {},
   "source": [
    "Fairly simple but it's making our code look ugly and is a hassle. Let's do this using a context manager. It matches the pattern after all: \n",
    "\n",
    "* Do something at startup (Record start time)\n",
    "* Perform some (unspecified) work\n",
    "* Do something at end (Report time elapsed) "
   ]
  },
  {
   "cell_type": "code",
   "execution_count": null,
   "metadata": {
    "collapsed": true
   },
   "outputs": [],
   "source": [
    "from contextlib import contextmanager  # import the decorator \n",
    "\n",
    "@contextmanager \n",
    "def timeit():\n",
    "    start_time = int(round(time.time() * 1000))\n",
    "\n",
    "    yield   # Remember this guy from the generators lecture? \n",
    "    \n",
    "    end_time = int(round(time.time() * 1000))\n",
    "    elapsed = end_time - start_time\n",
    "    print(\"Code took %d ms to run.\" % elapsed)"
   ]
  },
  {
   "cell_type": "code",
   "execution_count": null,
   "metadata": {
    "collapsed": true
   },
   "outputs": [],
   "source": [
    "with timeit(): \n",
    "    some_function()"
   ]
  },
  {
   "cell_type": "code",
   "execution_count": null,
   "metadata": {
    "collapsed": true
   },
   "outputs": [],
   "source": [
    "def another_function(): \n",
    "    time.sleep(0.5) "
   ]
  },
  {
   "cell_type": "code",
   "execution_count": null,
   "metadata": {
    "collapsed": true
   },
   "outputs": [],
   "source": [
    "with timeit(): \n",
    "    another_function()"
   ]
  },
  {
   "cell_type": "markdown",
   "metadata": {},
   "source": [
    "Clean code, saves time! "
   ]
  },
  {
   "cell_type": "markdown",
   "metadata": {},
   "source": [
    "# Case Study: Temporary Directories"
   ]
  },
  {
   "cell_type": "markdown",
   "metadata": {},
   "source": [
    "It's common to create temporary directories for files and delete them after you're done with them. "
   ]
  },
  {
   "cell_type": "code",
   "execution_count": null,
   "metadata": {
    "collapsed": true
   },
   "outputs": [],
   "source": [
    "import tempfile\n",
    "import shutil \n",
    "import os \n",
    "\n",
    "try: \n",
    "    name = tempfile.mkdtemp()\n",
    "    print(\"Created temp directory: %s\" % name) \n",
    "    \n",
    "    filename = os.path.join(name, \"somefile.txt\")\n",
    "    \n",
    "    # Do some processing \n",
    "    with open(filename, 'w') as f: \n",
    "        print(\"Opened file: %s\" % filename)\n",
    "        f.write(\"Dummy text\")\n",
    "\n",
    "            \n",
    "finally:\n",
    "    print(\"Deleting directory: %s\" % name)\n",
    "    shutil.rmtree(name)"
   ]
  },
  {
   "cell_type": "code",
   "execution_count": null,
   "metadata": {
    "collapsed": true
   },
   "outputs": [],
   "source": [
    "@contextmanager \n",
    "def tempdir(filename): \n",
    "    try: \n",
    "        name = tempfile.mkdtemp()\n",
    "        print(\"Created temp directory: %s\" % name) \n",
    "\n",
    "        filename = os.path.join(name, filename)\n",
    "\n",
    "        # Do some processing \n",
    "        with open(filename, 'w') as f: \n",
    "            print(\"Opened file: %s\" % filename)\n",
    "            yield f \n",
    "\n",
    "\n",
    "    finally:\n",
    "        print(\"Deleting directory: %s\" % name)\n",
    "        shutil.rmtree(name)"
   ]
  },
  {
   "cell_type": "code",
   "execution_count": null,
   "metadata": {
    "collapsed": true
   },
   "outputs": [],
   "source": [
    "with tempdir('xyz') as f: \n",
    "    print(\"Doing something with the file ... \")"
   ]
  }
 ],
 "metadata": {
  "kernelspec": {
   "display_name": "Python 3",
   "language": "python",
   "name": "python3"
  },
  "language_info": {
   "codemirror_mode": {
    "name": "ipython",
    "version": 3
   },
   "file_extension": ".py",
   "mimetype": "text/x-python",
   "name": "python",
   "nbconvert_exporter": "python",
   "pygments_lexer": "ipython3",
   "version": "3.6.3"
  }
 },
 "nbformat": 4,
 "nbformat_minor": 2
}
