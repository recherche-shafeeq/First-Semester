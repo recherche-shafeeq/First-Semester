{
 "cells": [
  {
   "cell_type": "code",
   "execution_count": null,
   "metadata": {},
   "outputs": [],
   "source": [
    "import os\n",
    "handle = os.path.join(\"dummy-file.txt\")\n",
    "with open(handle,\"r\") as f:\n",
    "    for i in f:\n",
    "        print(i)"
   ]
  },
  {
   "cell_type": "code",
   "execution_count": null,
   "metadata": {},
   "outputs": [],
   "source": [
    "handle = open(\"dummy-file.txt\")"
   ]
  },
  {
   "cell_type": "code",
   "execution_count": null,
   "metadata": {},
   "outputs": [],
   "source": [
    "import time\n",
    "def some_function():\n",
    "    time.sleep(0.1)"
   ]
  },
  {
   "cell_type": "code",
   "execution_count": null,
   "metadata": {},
   "outputs": [],
   "source": [
    "start_time = int(round(time.time() * 1000))\n",
    "\n",
    "some_function()\n",
    "\n",
    "end_time = int(round(time.time() * 1000))\n",
    "elapsed = end_time - start_time\n",
    "print(\"Code took %d ms to run.\" % elapsed)"
   ]
  },
  {
   "cell_type": "code",
   "execution_count": null,
   "metadata": {},
   "outputs": [],
   "source": [
    "start_time = int(round(time.time()*1000))\n",
    "some_function()\n",
    "end_time = int(round(time.time()*1000))\n",
    "elapsed = end_time - start_time\n",
    "print(\"code took %d ms to run.\"%elapsed)"
   ]
  },
  {
   "cell_type": "code",
   "execution_count": null,
   "metadata": {},
   "outputs": [],
   "source": [
    "from contextlib import contextmanager"
   ]
  },
  {
   "cell_type": "code",
   "execution_count": null,
   "metadata": {},
   "outputs": [],
   "source": [
    "@contextmanager\n",
    "def time_cal():\n",
    "    time_start = int(round(time.time()*1000))\n",
    "    yield\n",
    "    time_end = int(round(time.time()*1000))\n",
    "    elapsed = time_end - time_start\n",
    "    print('the time took the code to run',elapsed)"
   ]
  },
  {
   "cell_type": "code",
   "execution_count": null,
   "metadata": {},
   "outputs": [],
   "source": [
    "with time_cal():\n",
    "    some_function()"
   ]
  },
  {
   "cell_type": "code",
   "execution_count": null,
   "metadata": {},
   "outputs": [],
   "source": [
    "import tempfile\n",
    "import shutil \n",
    "import os \n",
    "\n",
    "try: \n",
    "    name = tempfile.mkdtemp()\n",
    "    print(\"Created temp directory: %s\" % name) \n",
    "    \n",
    "    filename = os.path.join(name, \"somefile.txt\")\n",
    "    \n",
    "    # Do some processing \n",
    "    with open(filename, 'w') as f: \n",
    "        print(\"Opened file: %s\" % filename)\n",
    "        f.write(\"Dummy text\")\n",
    "\n",
    "            \n",
    "finally:\n",
    "    print(\"Deleting directory: %s\" % name)\n",
    "    shutil.rmtree(name)"
   ]
  },
  {
   "cell_type": "code",
   "execution_count": null,
   "metadata": {},
   "outputs": [],
   "source": [
    "import tempfile\n",
    "import shutil \n",
    "import os \n",
    "\n",
    "try: \n",
    "    name = tempfile.mkdtemp()\n",
    "    print(\"Created temp directory: %s\" % name) \n",
    "    \n",
    "    filename = os.path.join(name, \"somefile.txt\")\n",
    "    \n",
    "    # Do some processing \n",
    "    with open(filename, 'w') as f: \n",
    "        print(\"Opened file: %s\" % filename)\n",
    "        f.write(\"Dummy text\")\n",
    "\n",
    "            \n",
    "finally:\n",
    "    print(\"Deleting directory: %s\" % name)\n",
    "    shutil.rmtree(name)"
   ]
  },
  {
   "cell_type": "code",
   "execution_count": null,
   "metadata": {},
   "outputs": [],
   "source": []
  },
  {
   "cell_type": "code",
   "execution_count": null,
   "metadata": {},
   "outputs": [],
   "source": []
  },
  {
   "cell_type": "code",
   "execution_count": null,
   "metadata": {},
   "outputs": [],
   "source": []
  },
  {
   "cell_type": "code",
   "execution_count": null,
   "metadata": {},
   "outputs": [],
   "source": [
    "def logger(f): \n",
    "    \n",
    "    # f will be \"remembered\" by the wrapper even after we exit logger.\n",
    "    # This is the concept of a closure.\n",
    "    def wrapper(n): \n",
    "        print(\"I'm going to call a function.\")\n",
    "        v = f(n)\n",
    "        print(\"The function returned: \", v)\n",
    "        return v \n",
    "    return wrapper"
   ]
  },
  {
   "cell_type": "code",
   "execution_count": null,
   "metadata": {},
   "outputs": [],
   "source": [
    "import tempfile\n",
    "import os\n",
    "import shutil\n",
    "try:\n",
    "    name_dir = tempfile.mkdtemp()\n",
    "    print(\"made a new directory by the name:{}\".format(name_dir))\n",
    "    handle = os.path.join(name_dir,\"somefile.txt\")\n",
    "    \n",
    "    with open(handle,\"w\") as f:\n",
    "        print(\"opened the file handle:{}\".format(handle))\n",
    "        f.write(\"just dummy write it\")\n",
    "finally:\n",
    "    print(\"now finally deleting the dir :{}\".format(name_dir))\n",
    "    shutil.rmtree(name_dir)"
   ]
  },
  {
   "cell_type": "code",
   "execution_count": null,
   "metadata": {},
   "outputs": [],
   "source": [
    "from time import process_time\n",
    "saved_time = process_time()\n",
    "for i in range(10000000):\n",
    "    a = i\n",
    "print(process_time()-saved_time)"
   ]
  },
  {
   "cell_type": "code",
   "execution_count": null,
   "metadata": {},
   "outputs": [],
   "source": [
    "import time\n",
    "\n",
    "a = time.gmtime()\n",
    "for i in range(10000000):\n",
    "    a = i\n",
    "b = time.gmtime()-a\n",
    "print(b)"
   ]
  },
  {
   "cell_type": "code",
   "execution_count": null,
   "metadata": {},
   "outputs": [],
   "source": [
    "def outerfunction(fun):\n",
    "    def innerfunction(c):\n",
    "        var = fun(c)\n",
    "        return var\n",
    "    return innerfunction"
   ]
  },
  {
   "cell_type": "code",
   "execution_count": null,
   "metadata": {},
   "outputs": [],
   "source": [
    "def memoize(f):                    # Essentially 'memorize values' \n",
    "    mem = {}\n",
    "    \n",
    "    def memoized_function(n):      # typically called a wrapper \n",
    "        if n not in mem:            \n",
    "            mem[n] = f(n)\n",
    "            \n",
    "        return mem[n]\n",
    "    \n",
    "    return memoized_function"
   ]
  },
  {
   "cell_type": "code",
   "execution_count": null,
   "metadata": {},
   "outputs": [],
   "source": [
    "var = outerfunction(fib)\n",
    "var(4)"
   ]
  },
  {
   "cell_type": "code",
   "execution_count": null,
   "metadata": {},
   "outputs": [],
   "source": []
  },
  {
   "cell_type": "code",
   "execution_count": null,
   "metadata": {},
   "outputs": [],
   "source": [
    "def decorator_memory(fun):\n",
    "    mem = {}\n",
    "    def wrapper_here(n):\n",
    "        if n not in mem:\n",
    "            mem[n] = fun(n)\n",
    "        print(mem)\n",
    "        return mem[n]\n",
    "    return wrapper_here"
   ]
  },
  {
   "cell_type": "code",
   "execution_count": null,
   "metadata": {},
   "outputs": [],
   "source": [
    "var = decorator_memory(fib)\n",
    "var(6)"
   ]
  },
  {
   "cell_type": "code",
   "execution_count": null,
   "metadata": {},
   "outputs": [],
   "source": [
    "def fib(n):\n",
    "    if n <= 1:\n",
    "        return n\n",
    "    else:\n",
    "        return fib(n-1)+fib(n-2)\n",
    "def memoize(f):\n",
    "    m = {}\n",
    "    def inner_memoize(inp):\n",
    "        if inp not in m:\n",
    "            var[inp] = f(inp)\n",
    "        return var\n",
    "    return inner_memoize\n",
    "fib(4)"
   ]
  },
  {
   "cell_type": "code",
   "execution_count": null,
   "metadata": {},
   "outputs": [],
   "source": [
    "from contextlib import contextmanager\n",
    "@contextmanager\n",
    "def timeit():\n",
    "    start_time = int(round(time.time() * 1000))\n",
    "\n",
    "    yield   # Remember this guy from the generators lecture? \n",
    "    \n",
    "    end_time = int(round(time.time() * 1000))\n",
    "    elapsed = end_time - start_time\n",
    "    print(\"Code took %d ms to run.\" % elapsed)"
   ]
  },
  {
   "cell_type": "code",
   "execution_count": null,
   "metadata": {},
   "outputs": [],
   "source": [
    "a = 5\n",
    "b = 3\n",
    "a , b = a+b,a\n",
    "print(a)\n",
    "print(b)"
   ]
  },
  {
   "cell_type": "code",
   "execution_count": null,
   "metadata": {},
   "outputs": [],
   "source": [
    "def summation():\n",
    "    "
   ]
  },
  {
   "cell_type": "code",
   "execution_count": null,
   "metadata": {},
   "outputs": [],
   "source": [
    "def decorator(f):\n",
    "    def wrapper(n):\n",
    "        return f(n)\n",
    "    return wrapper"
   ]
  },
  {
   "cell_type": "code",
   "execution_count": null,
   "metadata": {},
   "outputs": [],
   "source": [
    "fib = decorator(fib)\n",
    "fib(3)"
   ]
  },
  {
   "cell_type": "code",
   "execution_count": null,
   "metadata": {},
   "outputs": [],
   "source": [
    "import time\n",
    "from contextlib import contextmanager\n",
    "@contextmanager\n",
    "def time_cal():\n",
    "    start_time = int(round(time.time()*1000))\n",
    "    yield\n",
    "    end_time = int(round(time.time()*1000))\n",
    "    print(\"the final calculated time is :\",end_time-start_time)"
   ]
  },
  {
   "cell_type": "code",
   "execution_count": null,
   "metadata": {},
   "outputs": [],
   "source": [
    "with time_cal():\n",
    "    fun_check()"
   ]
  },
  {
   "cell_type": "code",
   "execution_count": null,
   "metadata": {},
   "outputs": [],
   "source": [
    "def fun_check():\n",
    "    time.sleep(0.5)"
   ]
  },
  {
   "cell_type": "code",
   "execution_count": null,
   "metadata": {},
   "outputs": [],
   "source": [
    "import tempfile\n",
    "import shutil\n",
    "import os\n",
    "def temp_dir():\n",
    "    try :\n",
    "        direc = tempfile.mkdtemp()\n",
    "        print(\"the address of the directory is:\",direc)\n",
    "        yield direc\n",
    "    finally:\n",
    "        print(\"removing the directory\")\n",
    "        shutil.rmtree(direc)\n",
    "        "
   ]
  },
  {
   "cell_type": "code",
   "execution_count": null,
   "metadata": {},
   "outputs": [],
   "source": [
    "with open(os.path.join(temp_dir(),\"some_dummy_file.txt\"),\"w\") as f:\n",
    "    print(\"writing in the file\")\n",
    "    f.write(\"Just checking\")"
   ]
  },
  {
   "cell_type": "code",
   "execution_count": 5,
   "metadata": {},
   "outputs": [],
   "source": [
    "def time_cal():\n",
    "    start_time = int(round(time.time()*1000))\n",
    "    yield\n",
    "    end_time = int(round(time.time()*1000))\n",
    "    return (end_time-start_time)"
   ]
  },
  {
   "cell_type": "code",
   "execution_count": 9,
   "metadata": {},
   "outputs": [],
   "source": [
    "def fib(n):\n",
    "    if n<= 1:\n",
    "        return n\n",
    "    else:\n",
    "        return fib(n-1)+fib(n-2)\n",
    "def decorator(f):\n",
    "    m = {}\n",
    "    def wrapper(n):\n",
    "        if n not in m:\n",
    "            m[n] = f(n)\n",
    "        return m[n]\n",
    "    return wrapper\n",
    "fib =decorator(fib)\n",
    "fib(4)"
   ]
  },
  {
   "cell_type": "code",
   "execution_count": 21,
   "metadata": {},
   "outputs": [
    {
     "ename": "TypeError",
     "evalue": "wrapper() takes 0 positional arguments but 1 was given",
     "output_type": "error",
     "traceback": [
      "\u001b[1;31m---------------------------------------------------------------------------\u001b[0m",
      "\u001b[1;31mTypeError\u001b[0m                                 Traceback (most recent call last)",
      "\u001b[1;32m<ipython-input-21-6a6f008a8b83>\u001b[0m in \u001b[0;36m<module>\u001b[1;34m()\u001b[0m\n\u001b[0;32m      5\u001b[0m     \u001b[1;32mreturn\u001b[0m \u001b[0mwrapper\u001b[0m\u001b[1;33m\u001b[0m\u001b[0m\n\u001b[0;32m      6\u001b[0m \u001b[0mtime_cal\u001b[0m \u001b[1;33m=\u001b[0m \u001b[0mdecorator\u001b[0m\u001b[1;33m(\u001b[0m\u001b[0mtime_cal\u001b[0m\u001b[1;33m)\u001b[0m\u001b[1;33m\u001b[0m\u001b[0m\n\u001b[1;32m----> 7\u001b[1;33m \u001b[1;32mwith\u001b[0m \u001b[0mtime_cal\u001b[0m\u001b[1;33m(\u001b[0m\u001b[1;34m\"anything\"\u001b[0m\u001b[1;33m)\u001b[0m\u001b[1;33m:\u001b[0m\u001b[1;33m\u001b[0m\u001b[0m\n\u001b[0m\u001b[0;32m      8\u001b[0m     \u001b[0mprint\u001b[0m\u001b[1;33m(\u001b[0m\u001b[1;34m\"do something\"\u001b[0m\u001b[1;33m)\u001b[0m\u001b[1;33m\u001b[0m\u001b[0m\n",
      "\u001b[1;31mTypeError\u001b[0m: wrapper() takes 0 positional arguments but 1 was given"
     ]
    }
   ],
   "source": [
    "def decorator(f):\n",
    "    def wrapper():\n",
    "        a = f()\n",
    "        return a\n",
    "    return wrapper\n",
    "time_cal = decorator(time_cal)\n",
    "with time_cal(\"anything\"):\n",
    "    print(\"do something\")"
   ]
  },
  {
   "cell_type": "code",
   "execution_count": 3,
   "metadata": {},
   "outputs": [
    {
     "data": {
      "text/plain": [
       "<generator object time_cal at 0x000001B8BD496468>"
      ]
     },
     "execution_count": 3,
     "metadata": {},
     "output_type": "execute_result"
    }
   ],
   "source": [
    "time_cal()"
   ]
  },
  {
   "cell_type": "code",
   "execution_count": 22,
   "metadata": {},
   "outputs": [],
   "source": [
    "def time_it():\n",
    "    start_time = int(round(time.time()*1000))\n",
    "    yield\n",
    "    end_time = int(round(time.time(*1000)))"
   ]
  },
  {
   "cell_type": "code",
   "execution_count": 23,
   "metadata": {},
   "outputs": [
    {
     "ename": "AttributeError",
     "evalue": "__enter__",
     "output_type": "error",
     "traceback": [
      "\u001b[1;31m---------------------------------------------------------------------------\u001b[0m",
      "\u001b[1;31mAttributeError\u001b[0m                            Traceback (most recent call last)",
      "\u001b[1;32m<ipython-input-23-29cfea966aad>\u001b[0m in \u001b[0;36m<module>\u001b[1;34m()\u001b[0m\n\u001b[0;32m      1\u001b[0m \u001b[0mtime_it\u001b[0m \u001b[1;33m=\u001b[0m \u001b[0mdecorator\u001b[0m\u001b[1;33m(\u001b[0m\u001b[0mtime_it\u001b[0m\u001b[1;33m)\u001b[0m\u001b[1;33m\u001b[0m\u001b[0m\n\u001b[1;32m----> 2\u001b[1;33m \u001b[1;32mwith\u001b[0m \u001b[0mtime_it\u001b[0m\u001b[1;33m(\u001b[0m\u001b[1;33m)\u001b[0m\u001b[1;33m:\u001b[0m\u001b[1;33m\u001b[0m\u001b[0m\n\u001b[0m\u001b[0;32m      3\u001b[0m     \u001b[0msome_funciton\u001b[0m\u001b[1;33m(\u001b[0m\u001b[1;33m)\u001b[0m\u001b[1;33m\u001b[0m\u001b[0m\n",
      "\u001b[1;31mAttributeError\u001b[0m: __enter__"
     ]
    }
   ],
   "source": [
    "time_it = decorator(time_it)\n",
    "with time_it():\n",
    "    some_funciton()"
   ]
  },
  {
   "cell_type": "code",
   "execution_count": 11,
   "metadata": {},
   "outputs": [
    {
     "data": {
      "text/plain": [
       "5"
      ]
     },
     "execution_count": 11,
     "metadata": {},
     "output_type": "execute_result"
    }
   ],
   "source": [
    "fib(5)"
   ]
  },
  {
   "cell_type": "code",
   "execution_count": 13,
   "metadata": {},
   "outputs": [],
   "source": [
    "def some_function():\n",
    "    print(\"just checking\")"
   ]
  },
  {
   "cell_type": "code",
   "execution_count": null,
   "metadata": {},
   "outputs": [],
   "source": []
  }
 ],
 "metadata": {
  "kernelspec": {
   "display_name": "Python 3",
   "language": "python",
   "name": "python3"
  },
  "language_info": {
   "codemirror_mode": {
    "name": "ipython",
    "version": 3
   },
   "file_extension": ".py",
   "mimetype": "text/x-python",
   "name": "python",
   "nbconvert_exporter": "python",
   "pygments_lexer": "ipython3",
   "version": "3.6.5"
  }
 },
 "nbformat": 4,
 "nbformat_minor": 2
}
