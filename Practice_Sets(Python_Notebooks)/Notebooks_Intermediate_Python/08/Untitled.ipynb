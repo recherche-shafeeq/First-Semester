{
 "cells": [
  {
   "cell_type": "code",
   "execution_count": null,
   "metadata": {},
   "outputs": [],
   "source": [
    "import sys\n",
    "a = sys.stdin\n",
    "for line in a:\n",
    "    print(\"anything\")\n",
    "import fileinput\n",
    "for line in fileinput.input():\n",
    "    process(line)"
   ]
  },
  {
   "cell_type": "code",
   "execution_count": null,
   "metadata": {},
   "outputs": [],
   "source": [
    "print()"
   ]
  },
  {
   "cell_type": "code",
   "execution_count": null,
   "metadata": {},
   "outputs": [],
   "source": [
    "import fileinput\n",
    "for line in fileinput.input():\n",
    "    process(line)"
   ]
  },
  {
   "cell_type": "code",
   "execution_count": null,
   "metadata": {},
   "outputs": [],
   "source": [
    "x = True\n",
    "while x:\n",
    "    try:\n",
    "        x = int(input())\n",
    "    except ValueError:\n",
    "        print('Invalid Number')"
   ]
  },
  {
   "cell_type": "code",
   "execution_count": null,
   "metadata": {},
   "outputs": [],
   "source": []
  },
  {
   "cell_type": "code",
   "execution_count": null,
   "metadata": {},
   "outputs": [],
   "source": [
    "#Finger exercise: Write a program that asks the user to enter an integer and prints\n",
    "#two integers, root and pwr, such that 0 < pwr < 6 and root**pwr is equal to the integer \n",
    "#entered by the user. If no such pair of integers exists, \n",
    "#it should print a message to that effect."
   ]
  },
  {
   "cell_type": "code",
   "execution_count": null,
   "metadata": {},
   "outputs": [],
   "source": [
    "a = int(input(\"enter an integer\"))\n",
    "pwr = 0.1\n",
    "root = 0\n",
    "while pwr < 6:\n",
    "    if root**pwr == a:\n",
    "        print(root,pwr)\n",
    "        break\n",
    "    root += 0.1\n",
    "    pwr += 0.1\n",
    "    \n",
    "    \n",
    "    \n"
   ]
  },
  {
   "cell_type": "code",
   "execution_count": null,
   "metadata": {},
   "outputs": [],
   "source": [
    "for i in range(40,-5,-5):\n",
    "    print(i)"
   ]
  },
  {
   "cell_type": "code",
   "execution_count": null,
   "metadata": {},
   "outputs": [],
   "source": [
    "#Find the cube root of a perfect cube\n",
    "x = int(input('Enter an integer: '))\n",
    "for ans in range(0, abs(x)+1):\n",
    "    if ans**3 >= abs(x):\n",
    "        break\n",
    "if ans**3 != abs(x):\n",
    "    print(x, 'is not a perfect cube')\n",
    "else:\n",
    "    if x < 0:\n",
    "        ans = -ans\n",
    "print('Cube root of', x,'is', ans)"
   ]
  },
  {
   "cell_type": "code",
   "execution_count": null,
   "metadata": {},
   "outputs": [],
   "source": [
    "a = '1.23,2.4,3.123'"
   ]
  },
  {
   "cell_type": "code",
   "execution_count": null,
   "metadata": {},
   "outputs": [],
   "source": [
    "print(a)"
   ]
  },
  {
   "cell_type": "code",
   "execution_count": null,
   "metadata": {},
   "outputs": [],
   "source": [
    "total = 0\n",
    "strfloat = \"\"\n",
    "counter  = 0\n",
    "for i in a:\n",
    "    counter += 1\n",
    "    if i == \",\" or counter == len(a):\n",
    "        print(\"The total became:\",total)\n",
    "        total += float(strfloat)\n",
    "        strfloat = \"\"\n",
    "    else:\n",
    "        strfloat += i\n",
    "print(total)"
   ]
  },
  {
   "cell_type": "code",
   "execution_count": null,
   "metadata": {},
   "outputs": [],
   "source": [
    "3.123+2.4+float(str(1.23))"
   ]
  },
  {
   "cell_type": "code",
   "execution_count": null,
   "metadata": {},
   "outputs": [],
   "source": [
    "x = -25\n",
    "epsilon = 1\n",
    "step = epsilon**2\n",
    "numGuesses = 0\n",
    "ans = 0.0\n",
    "while abs(ans**2 - x) >= epsilon and ans <= x:\n",
    "    ans += step\n",
    "    numGuesses += 1\n",
    "    print(\"New value of :\",ans,\"ans**2 = \",abs(ans**2-x))\n",
    "print('numGuesses =', numGuesses)\n",
    "if abs(ans**2 - x) >= epsilon:\n",
    "    print('Failed on square root of', x)\n",
    "else:\n",
    "    print(ans, 'is close to square root of', x)"
   ]
  },
  {
   "cell_type": "code",
   "execution_count": null,
   "metadata": {},
   "outputs": [],
   "source": [
    "guess =4\n",
    "while guess > 0:\n",
    "    print(\"amazingly worked\")\n",
    "    guess -=1"
   ]
  },
  {
   "cell_type": "code",
   "execution_count": null,
   "metadata": {},
   "outputs": [],
   "source": [
    "x = 9\n",
    "epsilon = 0.01\n",
    "numGuesses = 0\n",
    "low = 0.0\n",
    "high = max(1.0, x)\n",
    "ans = (high + low)/2.0\n",
    "counter = 0\n",
    "while abs(ans**2 - x) >= epsilon:\n",
    "    counter += 1\n",
    "    print('low =', low, 'high =', high, 'ans =', ans)\n",
    "    numGuesses += 1\n",
    "    if ans**2 < x:\n",
    "        low = ans\n",
    "        print(\"Step low = ans\",counter)\n",
    "    else:\n",
    "        high = ans\n",
    "        print(\"Step high = ans\",counter)\n",
    "    ans = (high + low)/2.0\n",
    "print('numGuesses =', numGuesses)\n",
    "print(ans, 'is close to square root of', x)"
   ]
  },
  {
   "cell_type": "code",
   "execution_count": null,
   "metadata": {},
   "outputs": [],
   "source": [
    "#Newton-Raphson for square root\n",
    "#Find x such that x**2 - 24 is within epsilon of 0\n",
    "epsilon = 0.000000000000000000000000001\n",
    "k = 24.0\n",
    "guess = k/2.0\n",
    "while abs(guess*guess - k) >= epsilon:\n",
    "    print(guess)\n",
    "    guess = guess - (((guess**2) - k)/(2*guess))\n",
    "    print(guess)\n",
    "print('Square root of', k, 'is about', guess)"
   ]
  },
  {
   "cell_type": "code",
   "execution_count": null,
   "metadata": {},
   "outputs": [],
   "source": [
    "def loop():\n",
    "    a = int(input(\"Anything:\"))\n",
    "    if a != 0:\n",
    "        loop()"
   ]
  },
  {
   "cell_type": "code",
   "execution_count": null,
   "metadata": {},
   "outputs": [],
   "source": [
    "print(loop())"
   ]
  },
  {
   "cell_type": "markdown",
   "metadata": {},
   "source": []
  },
  {
   "cell_type": "code",
   "execution_count": null,
   "metadata": {},
   "outputs": [],
   "source": [
    "def printName(firstname,lastname,reverse = False):\n",
    "    if reverse:\n",
    "        print(lastname,\",\",firstname)\n",
    "    else:\n",
    "        print(firstname,\",\",lastname)"
   ]
  },
  {
   "cell_type": "code",
   "execution_count": null,
   "metadata": {},
   "outputs": [],
   "source": [
    "printName(\"lastname\",\"firstname\",reverse =True)"
   ]
  },
  {
   "cell_type": "code",
   "execution_count": null,
   "metadata": {},
   "outputs": [],
   "source": [
    "def f(x):\n",
    "    def g():\n",
    "        x = 'abc'\n",
    "        print('x =', x)\n",
    "    def h():\n",
    "        z = x\n",
    "        print('z =', z)\n",
    "    x = x + 1\n",
    "    print('x =', x)\n",
    "    h()\n",
    "    g()\n",
    "    print('x =', x)\n",
    "    return g\n",
    "x = 3\n",
    "z = f(x)\n",
    "print('x =', x)\n",
    "print('z =', z)\n",
    "z()"
   ]
  },
  {
   "cell_type": "code",
   "execution_count": null,
   "metadata": {},
   "outputs": [],
   "source": [
    "def f():\n",
    "    print(x)\n",
    "def g():\n",
    "    print(x)\n",
    "    x = 1\n",
    "x = 3\n",
    "f()\n",
    "x = 3\n",
    "g()"
   ]
  },
  {
   "cell_type": "code",
   "execution_count": null,
   "metadata": {},
   "outputs": [],
   "source": [
    "def factI(n): def factrR(n):\n",
    " \"\"\"Assumes n an int > 0 \"\"\"Assumes n an int > 0\n",
    " Returns n!\"\"\" Returns n!\"\"\"\n",
    " result = 1 if n == 1:\n",
    " while n > 1: return n\n",
    " result = result * n else:\n",
    " n -= 1 return n*factR(n - 1)"
   ]
  },
  {
   "cell_type": "code",
   "execution_count": null,
   "metadata": {},
   "outputs": [],
   "source": [
    "def factI(n):\n",
    "    ini = 1\n",
    "    result = 1\n",
    "    while ini <= n:\n",
    "        result *= ini\n",
    "        ini += 1\n",
    "    return result"
   ]
  },
  {
   "cell_type": "code",
   "execution_count": null,
   "metadata": {},
   "outputs": [],
   "source": [
    "factI(5)"
   ]
  },
  {
   "cell_type": "code",
   "execution_count": null,
   "metadata": {},
   "outputs": [],
   "source": [
    "def factII(n):\n",
    "    result = 1\n",
    "    while n > 1:\n",
    "        result *= n\n",
    "        n -= 1\n",
    "    return result"
   ]
  },
  {
   "cell_type": "code",
   "execution_count": null,
   "metadata": {},
   "outputs": [],
   "source": [
    "factII(5)"
   ]
  },
  {
   "cell_type": "code",
   "execution_count": null,
   "metadata": {},
   "outputs": [],
   "source": [
    "def facthard(n):\n",
    "    if n == 1:\n",
    "        return n\n",
    "    else:\n",
    "        print(\"I am done:\")\n",
    "        return n*facthard(n-1)"
   ]
  },
  {
   "cell_type": "code",
   "execution_count": null,
   "metadata": {},
   "outputs": [],
   "source": [
    "\"asdfafa.dsfasfasdfFDSDSSDSDSDSAD\".casefold()"
   ]
  },
  {
   "cell_type": "code",
   "execution_count": null,
   "metadata": {},
   "outputs": [],
   "source": [
    "def isPalindrome(s):\n",
    "    \"\"\" \n",
    "     Assumes s is a str\n",
    "    Returns True if letters in s form a palindrome; False\n",
    "     otherwise. Non-letters and capitalization are ignored.\"\"\"\n",
    "\n",
    "    def toChars(s):\n",
    "        s = s.lower()\n",
    "        letters = ''\n",
    "        for c in s:\n",
    "            if c in 'abcdefghijklmnopqrstuvwxyz':\n",
    "                letters = letters + c\n",
    "        return letters\n",
    "    def isPal(s):\n",
    "        if len(s) <= 1:\n",
    "            return True\n",
    "        else:\n",
    "            return s[0] == s[-1] and isPal(s[1:-1])\n",
    "\n",
    "    return isPal(toChars(s))"
   ]
  },
  {
   "cell_type": "code",
   "execution_count": null,
   "metadata": {},
   "outputs": [],
   "source": [
    "isPalindrome(\"shaahs\")"
   ]
  },
  {
   "cell_type": "code",
   "execution_count": null,
   "metadata": {},
   "outputs": [],
   "source": [
    "isPalindrome(\"abc.,/.,./cba\")"
   ]
  },
  {
   "cell_type": "code",
   "execution_count": null,
   "metadata": {},
   "outputs": [],
   "source": [
    "def cov_isPalindrome(s):\n",
    "    def check(s):\n",
    "        s = s.lower()\n",
    "        pure_letters = \"\"\n",
    "        for i in s:\n",
    "            if i in \"abcdefghijklmnopqrstuvwxyz\":\n",
    "                pure_letters += i\n",
    "        return pure_letters\n",
    "    def real_isPal(s):\n",
    "        if len(s) <= 1:\n",
    "            return True\n",
    "        else:\n",
    "            return s[0] == s[-1] and real_isPal(s[1:-1])\n",
    "    return real_isPal(check(s))"
   ]
  },
  {
   "cell_type": "code",
   "execution_count": null,
   "metadata": {},
   "outputs": [],
   "source": [
    "cov_isPalindrome(\"abcba\")"
   ]
  },
  {
   "cell_type": "code",
   "execution_count": null,
   "metadata": {},
   "outputs": [],
   "source": [
    "s =\"abcba\"\n",
    "print(list(s))"
   ]
  },
  {
   "cell_type": "code",
   "execution_count": null,
   "metadata": {},
   "outputs": [],
   "source": [
    "def isPalindrome(s):\n",
    "        def toChars(s):\n",
    "            s = s.lower()\n",
    "            letters = ''\n",
    "            for c in s:\n",
    "                if c in 'abcdefghijklmnopqrstuvwxyz':\n",
    "                    letters = letters + c\n",
    "            return letters\n",
    "        def isPal(s):\n",
    "            print(' isPal called with', s)\n",
    "            if len(s) <= 1:\n",
    "                print(' About to return True from base case')\n",
    "                return True\n",
    "            else:\n",
    "                answer = s[0] == s[-1] and isPal(s[1:-1])\n",
    "                print(' About to return', answer, 'for', s)\n",
    "                return answer\n",
    "        return isPal(toChars(s))\n",
    "def testIsPalindrome():\n",
    "    print('Try dogGod')\n",
    "    print(isPalindrome('dogGod'))\n",
    "    print('Try doGood')\n",
    "    print(isPalindrome('doGood'))"
   ]
  },
  {
   "cell_type": "code",
   "execution_count": null,
   "metadata": {},
   "outputs": [],
   "source": [
    "testIsPalindrome()"
   ]
  },
  {
   "cell_type": "code",
   "execution_count": null,
   "metadata": {},
   "outputs": [],
   "source": [
    "for i in range(1,5,None):\n",
    "    print(i)"
   ]
  },
  {
   "cell_type": "code",
   "execution_count": null,
   "metadata": {},
   "outputs": [],
   "source": [
    "import logging\n",
    "logging.basicConfig(format = \"%(levelname)s:%(message)s\",level = logging.DEBUG)\n",
    "from itertools import islice\n",
    "\n",
    "\n",
    "def is_sequence(list_digits):\n",
    "    logging.info(\"entered the function got {}\".format(list_digits))\n",
    "    sorted_digits = sorted(list_digits)\n",
    "    logging.info(\"Sorted_digits contain :{}\".format(sorted_digits))\n",
    "    start = sorted_digits[0]\n",
    "    logging.info(\"start contains the first ellement :{}\".format(start))\n",
    "    num_compare = len(sorted_digits) - 1\n",
    "    logging.info(\"decreased the lenght of sorted_digits |{}| to |{}|\".format(len(sorted_digits),num_compare))\n",
    "    diff_not_one = 0\n",
    "    diff_one = 0\n",
    "    logging.info(\"initialized diff_not_one and diff_one to |{}| and |{}| respectively\".format(diff_not_one,diff_one))\n",
    "    logging.info(\"know entering the loop\")\n",
    "    \n",
    "    for digit in islice(sorted_digits, 1, None):\n",
    "        if sorted_digits[0] == 0 and sorted_digits[-1] == 9:\n",
    "            if abs(start - digit) == 1:\n",
    "                diff_one += 1\n",
    "            else:\n",
    "                diff_not_one += 1\n",
    "        else:\n",
    "            if abs(start - digit) == 1:\n",
    "                diff_one += 1\n",
    "\n",
    "        start = digit\n",
    "\n",
    "    if diff_one == num_compare:\n",
    "        return 1\n",
    "    elif diff_one == (num_compare - 1) and diff_not_one == 1:\n",
    "        return 1\n",
    "    else:\n",
    "        return 0\n",
    "\n",
    "print(is_sequence([1, 2]))"
   ]
  },
  {
   "cell_type": "code",
   "execution_count": null,
   "metadata": {},
   "outputs": [],
   "source": [
    "a = [2,3,3,4,5,6,7,8]\n",
    "a[:-2]"
   ]
  },
  {
   "cell_type": "code",
   "execution_count": null,
   "metadata": {},
   "outputs": [],
   "source": [
    "a[:-3]"
   ]
  },
  {
   "cell_type": "code",
   "execution_count": null,
   "metadata": {},
   "outputs": [],
   "source": [
    "a[:-100]"
   ]
  },
  {
   "cell_type": "code",
   "execution_count": null,
   "metadata": {},
   "outputs": [],
   "source": [
    "a[1:2]"
   ]
  },
  {
   "cell_type": "code",
   "execution_count": null,
   "metadata": {},
   "outputs": [],
   "source": [
    "a\n"
   ]
  },
  {
   "cell_type": "code",
   "execution_count": null,
   "metadata": {},
   "outputs": [],
   "source": [
    "a[-1:-len(a):-1]"
   ]
  },
  {
   "cell_type": "code",
   "execution_count": null,
   "metadata": {},
   "outputs": [],
   "source": [
    "a[:len(a):1]"
   ]
  },
  {
   "cell_type": "code",
   "execution_count": null,
   "metadata": {},
   "outputs": [],
   "source": [
    "a[-1:0:-1]"
   ]
  },
  {
   "cell_type": "code",
   "execution_count": null,
   "metadata": {},
   "outputs": [],
   "source": [
    "a[-1:-len(a):-1]"
   ]
  },
  {
   "cell_type": "code",
   "execution_count": null,
   "metadata": {},
   "outputs": [],
   "source": [
    "len(a)"
   ]
  },
  {
   "cell_type": "code",
   "execution_count": null,
   "metadata": {},
   "outputs": [],
   "source": [
    "a[-1::-1]"
   ]
  },
  {
   "cell_type": "code",
   "execution_count": null,
   "metadata": {},
   "outputs": [],
   "source": [
    "len(a)\n",
    "a = 'apple'\n",
    "b = list(a)"
   ]
  },
  {
   "cell_type": "code",
   "execution_count": null,
   "metadata": {},
   "outputs": [],
   "source": [
    "int(1E99)"
   ]
  },
  {
   "cell_type": "code",
   "execution_count": null,
   "metadata": {},
   "outputs": [],
   "source": [
    "a[4::-1]"
   ]
  },
  {
   "cell_type": "code",
   "execution_count": null,
   "metadata": {},
   "outputs": [],
   "source": [
    "lst = list(\"python\")"
   ]
  },
  {
   "cell_type": "code",
   "execution_count": null,
   "metadata": {},
   "outputs": [],
   "source": [
    "lst1 = list(\"power\") "
   ]
  },
  {
   "cell_type": "code",
   "execution_count": null,
   "metadata": {},
   "outputs": [],
   "source": [
    "lst[9376359685986:234528657346285648562875728758] = lst1"
   ]
  },
  {
   "cell_type": "code",
   "execution_count": null,
   "metadata": {},
   "outputs": [],
   "source": [
    "print(lst)"
   ]
  },
  {
   "cell_type": "code",
   "execution_count": null,
   "metadata": {},
   "outputs": [],
   "source": [
    "a  = [2,3,4,5,6,7]\n",
    "b  = [9,8]\n",
    "a[1:4] = b"
   ]
  },
  {
   "cell_type": "code",
   "execution_count": null,
   "metadata": {},
   "outputs": [],
   "source": [
    "a[-1:None:None]"
   ]
  },
  {
   "cell_type": "code",
   "execution_count": null,
   "metadata": {},
   "outputs": [],
   "source": [
    "a[::-1]"
   ]
  },
  {
   "cell_type": "code",
   "execution_count": null,
   "metadata": {},
   "outputs": [],
   "source": [
    "a"
   ]
  },
  {
   "cell_type": "code",
   "execution_count": null,
   "metadata": {},
   "outputs": [],
   "source": [
    "a[-4:]"
   ]
  },
  {
   "cell_type": "code",
   "execution_count": null,
   "metadata": {},
   "outputs": [],
   "source": [
    "lisst = a[:]"
   ]
  },
  {
   "cell_type": "code",
   "execution_count": null,
   "metadata": {},
   "outputs": [],
   "source": [
    "lisst[-5::1]"
   ]
  },
  {
   "cell_type": "code",
   "execution_count": null,
   "metadata": {},
   "outputs": [],
   "source": [
    "if type(a) == list{\n",
    "    goto error\n",
    "}"
   ]
  },
  {
   "cell_type": "code",
   "execution_count": 17,
   "metadata": {},
   "outputs": [],
   "source": [
    "def fib(x):\n",
    "    global numFibCalls\n",
    "    numFibCalls += 1\n",
    "    if x == 0 or x == 1:\n",
    "        return 1\n",
    "    else:\n",
    "        return fib(x-1) + fib(x-2)\n",
    "def testFib(n):\n",
    "    for i in range(n+1):\n",
    "        global numFibCalls\n",
    "        numFibCalls = 0\n",
    "        print('fib of', i, '=', fib(i))\n",
    "        print('fib called', numFibCalls, 'times.')\n",
    "    \n",
    "    "
   ]
  },
  {
   "cell_type": "code",
   "execution_count": 20,
   "metadata": {},
   "outputs": [
    {
     "name": "stdout",
     "output_type": "stream",
     "text": [
      "fib of 0 = 1\n",
      "fib called 1 times.\n",
      "fib of 1 = 1\n",
      "fib called 1 times.\n",
      "fib of 2 = 2\n",
      "fib called 3 times.\n",
      "fib of 3 = 3\n",
      "fib called 5 times.\n",
      "fib of 4 = 5\n",
      "fib called 9 times.\n",
      "fib of 5 = 8\n",
      "fib called 15 times.\n",
      "fib of 6 = 13\n",
      "fib called 25 times.\n"
     ]
    }
   ],
   "source": [
    "testFib(6)"
   ]
  },
  {
   "cell_type": "code",
   "execution_count": 2,
   "metadata": {},
   "outputs": [],
   "source": [
    "a = outer_fun()\n"
   ]
  },
  {
   "cell_type": "code",
   "execution_count": 3,
   "metadata": {},
   "outputs": [
    {
     "ename": "NameError",
     "evalue": "name 'isperanza' is not defined",
     "output_type": "error",
     "traceback": [
      "\u001b[1;31m---------------------------------------------------------------------------\u001b[0m",
      "\u001b[1;31mNameError\u001b[0m                                 Traceback (most recent call last)",
      "\u001b[1;32m<ipython-input-3-8d7b4527e81d>\u001b[0m in \u001b[0;36m<module>\u001b[1;34m()\u001b[0m\n\u001b[1;32m----> 1\u001b[1;33m \u001b[0ma\u001b[0m\u001b[1;33m(\u001b[0m\u001b[1;33m)\u001b[0m\u001b[1;33m\u001b[0m\u001b[0m\n\u001b[0m",
      "\u001b[1;32m<ipython-input-1-bca509d8939a>\u001b[0m in \u001b[0;36minner_fun\u001b[1;34m()\u001b[0m\n\u001b[0;32m      3\u001b[0m     \u001b[1;32mdef\u001b[0m \u001b[0minner_fun\u001b[0m\u001b[1;33m(\u001b[0m\u001b[1;33m)\u001b[0m\u001b[1;33m:\u001b[0m\u001b[1;33m\u001b[0m\u001b[0m\n\u001b[0;32m      4\u001b[0m         \u001b[1;32mglobal\u001b[0m \u001b[0misperanza\u001b[0m\u001b[1;33m\u001b[0m\u001b[0m\n\u001b[1;32m----> 5\u001b[1;33m         \u001b[0mprint\u001b[0m\u001b[1;33m(\u001b[0m\u001b[0misperanza\u001b[0m\u001b[1;33m)\u001b[0m\u001b[1;33m\u001b[0m\u001b[0m\n\u001b[0m\u001b[0;32m      6\u001b[0m         \u001b[1;32mreturn\u001b[0m\u001b[1;33m\u001b[0m\u001b[0m\n\u001b[0;32m      7\u001b[0m     \u001b[1;32mreturn\u001b[0m \u001b[0minner_fun\u001b[0m\u001b[1;33m\u001b[0m\u001b[0m\n",
      "\u001b[1;31mNameError\u001b[0m: name 'isperanza' is not defined"
     ]
    }
   ],
   "source": [
    "a()"
   ]
  },
  {
   "cell_type": "code",
   "execution_count": 11,
   "metadata": {},
   "outputs": [],
   "source": [
    "import logging\n",
    "logging.basicConfig(format = \"%(levelname)s :%(messages)s\")\n",
    "an_counter = 0\n",
    "def fib(n):\n",
    "    global an_counter\n",
    "    an_counter += 1\n",
    "    logging.info(\"Entered the function {} time.\".format(an_counter))\n",
    "    global counter\n",
    "    counter += 1\n",
    "    logging.info(\"The value of the counter in the function is:{}\".format(counter))\n",
    "    if n == 0 or n == 1:\n",
    "        return 1\n",
    "    else:\n",
    "        return fib(n-1) +fib(n-2)\n",
    "    "
   ]
  },
  {
   "cell_type": "code",
   "execution_count": 12,
   "metadata": {},
   "outputs": [],
   "source": [
    "def test_fib(nn):\n",
    "    for i in range(nn+1):\n",
    "        global counter\n",
    "        counter = 0\n",
    "        print(\"Called {} with {} \".format(\"fib({})\".format(i),i),\"and got {}\".format(fib(i)))\n",
    "        print(\"The counter has reached:{}\".format(counter))"
   ]
  },
  {
   "cell_type": "code",
   "execution_count": 13,
   "metadata": {},
   "outputs": [
    {
     "name": "stdout",
     "output_type": "stream",
     "text": [
      "Called fib(0) with 0  and got 1\n",
      "The counter has reached:1\n",
      "Called fib(1) with 1  and got 1\n",
      "The counter has reached:1\n",
      "Called fib(2) with 2  and got 2\n",
      "The counter has reached:3\n",
      "Called fib(3) with 3  and got 3\n",
      "The counter has reached:5\n",
      "Called fib(4) with 4  and got 5\n",
      "The counter has reached:9\n",
      "Called fib(5) with 5  and got 8\n",
      "The counter has reached:15\n",
      "Called fib(6) with 6  and got 13\n",
      "The counter has reached:25\n"
     ]
    }
   ],
   "source": [
    "test_fib(6)"
   ]
  },
  {
   "cell_type": "code",
   "execution_count": 24,
   "metadata": {},
   "outputs": [
    {
     "name": "stdout",
     "output_type": "stream",
     "text": [
      "50.0\n"
     ]
    }
   ],
   "source": [
    "\"\"\" Compute the area of triangle with vertices (x0, y0), (x1, y1), and (x2, y2) \"\"\"\n",
    "def point_distance(x_0, y_0, x_1, y_1):\n",
    "    \"\"\" Return distance between two points (x0,y0) and (x1,y1) \"\"\"\n",
    "    x_dist = x_0 - x_1\n",
    "    y_dist = y_0 - y_1\n",
    "    return (x_dist ** 2 + y_dist ** 2) ** 0.5\n",
    "\n",
    "\n",
    "def triangle_area(x_0, y_0, x_1, y_1, x_2, y_2):\n",
    "    # Compute the lengths of the three sides.\n",
    "    len_01 = point_distance(x_0, y_0, x_1, y_1)\n",
    "    len_02 = point_distance(x_0, y_0, x_2, y_2)\n",
    "    len_12 = point_distance(x_1, y_1, x_2, y_2)\n",
    "    \n",
    "    # Compute the semi-perimeter length, i.e., half of the perimeter length.\n",
    "    semi_perim = (len_01 + len_02 + len_12) / 2\n",
    "    \n",
    "    # Compute the area according to Heron's formula.\n",
    "    return (semi_perim * (semi_perim - len_01) * (semi_perim - len_02) * (semi_perim - len_12)) ** 0.5\n",
    "\n",
    "\n",
    "# Compute area of triangle with vertices (10, 0), (0, 0), and (0, 10).\n",
    "# Since triangle is right trianga, area should be 50.0\n",
    "\n",
    "x_0, y_0 = 10, 0\n",
    "x_1, y_1 = 0, 0\n",
    "x_2, y_2 = 0, 10\n",
    "print(triangle_area(x_0, y_0, x_1, y_1, x_2, y_2))"
   ]
  },
  {
   "cell_type": "code",
   "execution_count": null,
   "metadata": {},
   "outputs": [],
   "source": []
  }
 ],
 "metadata": {
  "kernelspec": {
   "display_name": "Python 3",
   "language": "python",
   "name": "python3"
  },
  "language_info": {
   "codemirror_mode": {
    "name": "ipython",
    "version": 3
   },
   "file_extension": ".py",
   "mimetype": "text/x-python",
   "name": "python",
   "nbconvert_exporter": "python",
   "pygments_lexer": "ipython3",
   "version": "3.6.5"
  }
 },
 "nbformat": 4,
 "nbformat_minor": 2
}
