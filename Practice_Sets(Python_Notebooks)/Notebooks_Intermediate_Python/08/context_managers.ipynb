{
 "cells": [
  {
   "cell_type": "markdown",
   "metadata": {},
   "source": [
    "# Context Managers "
   ]
  },
  {
   "cell_type": "markdown",
   "metadata": {},
   "source": [
    "You've probably already worked with opening and closing files. "
   ]
  },
  {
   "cell_type": "code",
   "execution_count": null,
   "metadata": {
    "collapsed": true
   },
   "outputs": [],
   "source": [
    "f = open('dummy-file.txt', 'r')\n",
    "for line in f: \n",
    "    print(line)\n",
    "    \n",
    "f.close()     # People will always forget this! "
   ]
  },
  {
   "cell_type": "code",
   "execution_count": null,
   "metadata": {
    "collapsed": true
   },
   "outputs": [],
   "source": [
    "with open('dummy-file.txt', 'r') as f: \n",
    "    for line in f: \n",
    "        print(line)\n",
    "        \n",
    "# No need to close file since that's taken care of automatically "
   ]
  },
  {
   "cell_type": "markdown",
   "metadata": {},
   "source": [
    "The keyword `with` marks a context. We can define our own <strong>context managers</strong> as well! \n",
    "\n",
    "The idea is to create a context that requires some <strong>setup</strong> before starting and then some <strong>cleanup</strong> at the end. "
   ]
  },
  {
   "cell_type": "code",
   "execution_count": 51,
   "metadata": {
    "collapsed": true
   },
   "outputs": [],
   "source": [
    "import time \n",
    "    \n",
    "def some_function(): \n",
    "    time.sleep(1) "
   ]
  },
  {
   "cell_type": "code",
   "execution_count": 52,
   "metadata": {},
   "outputs": [
    {
     "name": "stdout",
     "output_type": "stream",
     "text": [
      "CPU times: user 727 µs, sys: 1.76 ms, total: 2.49 ms\n",
      "Wall time: 1.01 s\n"
     ]
    }
   ],
   "source": [
    "%time some_function()    # but this is only available in jupyter notebook "
   ]
  },
  {
   "cell_type": "code",
   "execution_count": null,
   "metadata": {
    "collapsed": true
   },
   "outputs": [],
   "source": [
    "start_time = int(round(time.time() * 1000))\n",
    "\n",
    "some_function()\n",
    "\n",
    "end_time = int(round(time.time() * 1000))\n",
    "elapsed = end_time - start_time\n",
    "print(\"Code took %d ms to run.\" % elapsed)"
   ]
  },
  {
   "cell_type": "markdown",
   "metadata": {},
   "source": [
    "Fairly simple but it's making our code look ugly and is a hassle. Let's do this using a context manager. It matches the pattern after all: \n",
    "\n",
    "* Do something at startup (Record start time)\n",
    "* Perform some (unspecified) work\n",
    "* Do something at end (Report time elapsed) "
   ]
  },
  {
   "cell_type": "code",
   "execution_count": 53,
   "metadata": {
    "collapsed": true
   },
   "outputs": [],
   "source": [
    "from contextlib import contextmanager  # import the decorator \n",
    "\n",
    "@contextmanager \n",
    "def timeit():\n",
    "    start_time = int(round(time.time() * 1000))\n",
    "\n",
    "    yield   # Remember this guy from the generators lecture? \n",
    "    \n",
    "    end_time = int(round(time.time() * 1000))\n",
    "    elapsed = end_time - start_time\n",
    "    print(\"Code took %d ms to run.\" % elapsed)"
   ]
  },
  {
   "cell_type": "code",
   "execution_count": 54,
   "metadata": {},
   "outputs": [
    {
     "name": "stdout",
     "output_type": "stream",
     "text": [
      "Code took 1003 ms to run.\n"
     ]
    }
   ],
   "source": [
    "with timeit(): \n",
    "    some_function()"
   ]
  },
  {
   "cell_type": "code",
   "execution_count": 55,
   "metadata": {
    "collapsed": true
   },
   "outputs": [],
   "source": [
    "def another_function(): \n",
    "    time.sleep(0.5) "
   ]
  },
  {
   "cell_type": "code",
   "execution_count": 56,
   "metadata": {},
   "outputs": [
    {
     "name": "stdout",
     "output_type": "stream",
     "text": [
      "Code took 505 ms to run.\n"
     ]
    }
   ],
   "source": [
    "with timeit(): \n",
    "    another_function()"
   ]
  },
  {
   "cell_type": "markdown",
   "metadata": {},
   "source": [
    "Clean code, saves time! "
   ]
  },
  {
   "cell_type": "markdown",
   "metadata": {},
   "source": [
    "# Case Study: Temporary Directories"
   ]
  },
  {
   "cell_type": "markdown",
   "metadata": {},
   "source": [
    "It's common to create temporary directories for files and delete them after you're done with them. "
   ]
  },
  {
   "cell_type": "code",
   "execution_count": 57,
   "metadata": {},
   "outputs": [
    {
     "name": "stdout",
     "output_type": "stream",
     "text": [
      "Created temp directory: /var/folders/sw/ch9b3fc964937k5cr4ff57l00000gn/T/tmp8pxal9tm\n",
      "Opened file: /var/folders/sw/ch9b3fc964937k5cr4ff57l00000gn/T/tmp8pxal9tm/somefile.txt\n",
      "Deleting directory: /var/folders/sw/ch9b3fc964937k5cr4ff57l00000gn/T/tmp8pxal9tm\n"
     ]
    }
   ],
   "source": [
    "import tempfile\n",
    "import shutil \n",
    "import os \n",
    "\n",
    "try: \n",
    "    name = tempfile.mkdtemp()\n",
    "    print(\"Created temp directory: %s\" % name) \n",
    "    \n",
    "    filename = os.path.join(name, \"somefile.txt\")\n",
    "    \n",
    "    # Do some processing \n",
    "    with open(filename, 'w') as f: \n",
    "        print(\"Opened file: %s\" % filename)\n",
    "        f.write(\"Dummy text\")\n",
    "\n",
    "            \n",
    "finally:\n",
    "    print(\"Deleting directory: %s\" % name)\n",
    "    shutil.rmtree(name)"
   ]
  },
  {
   "cell_type": "code",
   "execution_count": null,
   "metadata": {
    "collapsed": true
   },
   "outputs": [],
   "source": [
    "@contextmanager\n",
    "def tempdir(filename): \n",
    "    try: \n",
    "        name = tempfile.mkdtemp()\n",
    "        print(\"Created temp directory: %s\" % name) \n",
    "\n",
    "        filename = os.path.join(name, filename)\n",
    "\n",
    "        # Do some processing \n",
    "        with open(filename, 'w') as f: \n",
    "            print(\"Opened file: %s\" % filename)\n",
    "            yield f\n",
    "\n",
    "    finally:\n",
    "        print(\"Deleting directory: %s\" % name)\n",
    "        shutil.rmtree(name)"
   ]
  },
  {
   "cell_type": "code",
   "execution_count": 1,
   "metadata": {},
   "outputs": [
    {
     "ename": "NameError",
     "evalue": "name 'tempdir' is not defined",
     "output_type": "error",
     "traceback": [
      "\u001b[1;31m---------------------------------------------------------------------------\u001b[0m",
      "\u001b[1;31mNameError\u001b[0m                                 Traceback (most recent call last)",
      "\u001b[1;32m<ipython-input-1-fab45ed20294>\u001b[0m in \u001b[0;36m<module>\u001b[1;34m()\u001b[0m\n\u001b[1;32m----> 1\u001b[1;33m \u001b[1;32mwith\u001b[0m \u001b[0mtempdir\u001b[0m\u001b[1;33m(\u001b[0m\u001b[1;34m'xyz'\u001b[0m\u001b[1;33m)\u001b[0m \u001b[1;32mas\u001b[0m \u001b[0mf\u001b[0m\u001b[1;33m:\u001b[0m\u001b[1;33m\u001b[0m\u001b[0m\n\u001b[0m\u001b[0;32m      2\u001b[0m     \u001b[0mprint\u001b[0m\u001b[1;33m(\u001b[0m\u001b[1;34m\"Doing something with the file ... \"\u001b[0m\u001b[1;33m)\u001b[0m\u001b[1;33m\u001b[0m\u001b[0m\n",
      "\u001b[1;31mNameError\u001b[0m: name 'tempdir' is not defined"
     ]
    }
   ],
   "source": [
    "with tempdir('xyz') as f: \n",
    "    print(\"Doing something with the file ... \")"
   ]
  },
  {
   "cell_type": "code",
   "execution_count": 2,
   "metadata": {},
   "outputs": [
    {
     "name": "stdout",
     "output_type": "stream",
     "text": [
      "something somthing yet in the same line\n"
     ]
    }
   ],
   "source": [
    "print(\"something somthing\",end = \" \")\n",
    "print(\"yet in the same line\")"
   ]
  },
  {
   "cell_type": "code",
   "execution_count": 1,
   "metadata": {},
   "outputs": [],
   "source": []
  },
  {
   "cell_type": "code",
   "execution_count": null,
   "metadata": {},
   "outputs": [],
   "source": []
  },
  {
   "cell_type": "code",
   "execution_count": null,
   "metadata": {},
   "outputs": [],
   "source": []
  }
 ],
 "metadata": {
  "kernelspec": {
   "display_name": "Python 3",
   "language": "python",
   "name": "python3"
  },
  "language_info": {
   "codemirror_mode": {
    "name": "ipython",
    "version": 3
   },
   "file_extension": ".py",
   "mimetype": "text/x-python",
   "name": "python",
   "nbconvert_exporter": "python",
   "pygments_lexer": "ipython3",
   "version": "3.6.5"
  }
 },
 "nbformat": 4,
 "nbformat_minor": 2
}
