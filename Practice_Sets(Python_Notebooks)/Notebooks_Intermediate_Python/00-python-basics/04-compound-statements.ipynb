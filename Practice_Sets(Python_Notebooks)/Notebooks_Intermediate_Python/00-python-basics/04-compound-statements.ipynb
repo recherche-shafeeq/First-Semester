{
 "cells": [
  {
   "cell_type": "markdown",
   "metadata": {
    "slideshow": {
     "slide_type": "slide"
    }
   },
   "source": [
    "# Compound statements "
   ]
  },
  {
   "cell_type": "markdown",
   "metadata": {},
   "source": [
    "Compound statements take the form: \n",
    "    \n",
    "    <header>:\n",
    "        <statement>\n",
    "        <statement>\n",
    "        ...\n",
    "    <separating header>:\n",
    "        <statement>\n",
    "        <statement>\n",
    "        ...\n",
    "    ..."
   ]
  },
  {
   "cell_type": "markdown",
   "metadata": {
    "slideshow": {
     "slide_type": "slide"
    }
   },
   "source": [
    "Functions are a form of compound statements. For instance: "
   ]
  },
  {
   "cell_type": "code",
   "execution_count": null,
   "metadata": {
    "collapsed": true,
    "slideshow": {
     "slide_type": "-"
    }
   },
   "outputs": [],
   "source": [
    "def percent_difference(x, y):\n",
    "    difference = abs(x-y)\n",
    "    return 100 * difference / x\n",
    "\n",
    "result = percent_difference(40, 50)"
   ]
  },
  {
   "cell_type": "code",
   "execution_count": null,
   "metadata": {
    "collapsed": true
   },
   "outputs": [],
   "source": [
    "result"
   ]
  },
  {
   "cell_type": "markdown",
   "metadata": {
    "slideshow": {
     "slide_type": "slide"
    }
   },
   "source": [
    "<b>Important note:</b> Python forces you to do indentation! Many other languages don't but you still have to get in the habbit of proper indentation. \n",
    "\n",
    "Make sure you understand the difference between indenting with tabs and that with spaces. Also ensure you understand the capabilities of your text editor. "
   ]
  },
  {
   "cell_type": "markdown",
   "metadata": {
    "slideshow": {
     "slide_type": "slide"
    }
   },
   "source": [
    "## Conditionals "
   ]
  },
  {
   "cell_type": "markdown",
   "metadata": {},
   "source": [
    "Also called <b>branching statements</b>. These allow you to make decisions. "
   ]
  },
  {
   "cell_type": "code",
   "execution_count": 4,
   "metadata": {
    "collapsed": true,
    "slideshow": {
     "slide_type": "slide"
    }
   },
   "outputs": [],
   "source": [
    "def absolute_value(x):\n",
    "    \"\"\"Compute abs(x).\"\"\"\n",
    "    \n",
    "    if x > 0:\n",
    "        return x    \n",
    "    elif x == 0: \n",
    "        return 0 \n",
    "    else:\n",
    "        return -x"
   ]
  },
  {
   "cell_type": "code",
   "execution_count": null,
   "metadata": {
    "collapsed": true,
    "slideshow": {
     "slide_type": "slide"
    }
   },
   "outputs": [],
   "source": [
    "absolute_value(-5)"
   ]
  },
  {
   "cell_type": "code",
   "execution_count": null,
   "metadata": {
    "collapsed": true
   },
   "outputs": [],
   "source": [
    "absolute_value(6)"
   ]
  },
  {
   "cell_type": "code",
   "execution_count": null,
   "metadata": {
    "collapsed": true
   },
   "outputs": [],
   "source": [
    "absolute_value(0)"
   ]
  },
  {
   "cell_type": "code",
   "execution_count": null,
   "metadata": {
    "collapsed": true
   },
   "outputs": [],
   "source": [
    "absolute_value(-0.1)"
   ]
  },
  {
   "cell_type": "markdown",
   "metadata": {
    "slideshow": {
     "slide_type": "slide"
    }
   },
   "source": [
    "Aside: In C, `if` looks like this: \n",
    "        \n",
    "<img align='left' src='imgs/c-if.png' width='250px' /> "
   ]
  },
  {
   "cell_type": "code",
   "execution_count": null,
   "metadata": {
    "collapsed": true,
    "slideshow": {
     "slide_type": "slide"
    }
   },
   "outputs": [],
   "source": [
    "# Another way to write this: \n",
    "def absolute_value(x):\n",
    "    \"\"\"Compute abs(x).\"\"\"\n",
    "    if not x < 0:\n",
    "        return x\n",
    "    else:\n",
    "        return -x"
   ]
  },
  {
   "cell_type": "code",
   "execution_count": 2,
   "metadata": {
    "slideshow": {
     "slide_type": "slide"
    }
   },
   "outputs": [
    {
     "name": "stdout",
     "output_type": "stream",
     "text": [
      "a is more than 5 BUT b is not more than 6\n",
      "done\n"
     ]
    }
   ],
   "source": [
    "# we can also nest ifs \n",
    "a = 7\n",
    "b = 2\n",
    "\n",
    "if a > 5:\n",
    "    if b > 6: \n",
    "        print(\"a is more than 5 and b is more than 6\")\n",
    "    else: \n",
    "        print(\"a is more than 5 BUT b is not more than 6\")\n",
    "        \n",
    "else: \n",
    "    print(\"a is not more than 5\")\n",
    "\n",
    "print(\"done\")"
   ]
  },
  {
   "cell_type": "code",
   "execution_count": 5,
   "metadata": {
    "collapsed": true,
    "slideshow": {
     "slide_type": "slide"
    }
   },
   "outputs": [],
   "source": [
    "def is_weekday(day, month, year): \n",
    "    import datetime\n",
    "    return datetime.datetime(year=year, month=month, day=day).weekday() < 5"
   ]
  },
  {
   "cell_type": "code",
   "execution_count": null,
   "metadata": {
    "collapsed": true,
    "slideshow": {
     "slide_type": "slide"
    }
   },
   "outputs": [],
   "source": [
    "if is_weekday(30, 9, 2017):\n",
    "    print(\"It's a weekday.\")\n",
    "else: \n",
    "    print(\"Weekend!!\")"
   ]
  },
  {
   "cell_type": "code",
   "execution_count": 10,
   "metadata": {},
   "outputs": [
    {
     "name": "stdout",
     "output_type": "stream",
     "text": [
      "Put  milk  in the kettle.\n",
      "Put  water  in the kettle.\n",
      "Put  tea leaves  in the kettle.\n"
     ]
    }
   ],
   "source": [
    "for i in \"milk\", \"water\", \"tea leaves\": \n",
    "    print(\"Put \", i, \" in the kettle.\")"
   ]
  },
  {
   "cell_type": "code",
   "execution_count": 13,
   "metadata": {},
   "outputs": [
    {
     "name": "stdout",
     "output_type": "stream",
     "text": [
      "1\n",
      "2\n",
      "3\n",
      "4\n",
      "5\n",
      "6\n",
      "7\n",
      "8\n",
      "9\n",
      "10\n",
      "11\n",
      "12\n",
      "13\n",
      "14\n",
      "15\n",
      "16\n",
      "17\n",
      "18\n",
      "19\n"
     ]
    }
   ],
   "source": [
    "for i in range(1, 20): \n",
    "    print(i)"
   ]
  },
  {
   "cell_type": "code",
   "execution_count": 1,
   "metadata": {},
   "outputs": [
    {
     "name": "stdout",
     "output_type": "stream",
     "text": [
      "0\n",
      "1\n",
      "2\n",
      "3\n",
      "4\n",
      "5\n",
      "6\n",
      "7\n",
      "8\n",
      "9\n"
     ]
    }
   ],
   "source": [
    "i = 0 \n",
    "while i < 10: \n",
    "    print (i)\n",
    "    i = i + 1 "
   ]
  },
  {
   "cell_type": "code",
   "execution_count": null,
   "metadata": {
    "collapsed": true
   },
   "outputs": [],
   "source": []
  }
 ],
 "metadata": {
  "kernelspec": {
   "display_name": "Python 3",
   "language": "python",
   "name": "python3"
  },
  "language_info": {
   "codemirror_mode": {
    "name": "ipython",
    "version": 3
   },
   "file_extension": ".py",
   "mimetype": "text/x-python",
   "name": "python",
   "nbconvert_exporter": "python",
   "pygments_lexer": "ipython3",
   "version": "3.6.3"
  },
  "livereveal": {
   "scroll": true,
   "transition": "fade"
  }
 },
 "nbformat": 4,
 "nbformat_minor": 2
}
