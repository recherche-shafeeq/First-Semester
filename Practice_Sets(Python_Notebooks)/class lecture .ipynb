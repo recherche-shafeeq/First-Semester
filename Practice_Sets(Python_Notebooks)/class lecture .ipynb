{
 "cells": [
  {
   "cell_type": "code",
   "execution_count": 4,
   "metadata": {},
   "outputs": [
    {
     "name": "stdout",
     "output_type": "stream",
     "text": [
      "24\n"
     ]
    }
   ],
   "source": [
    "fac=1\n",
    "for i in range(1,5): \n",
    "    fac= fac* i\n",
    "print(fac)"
   ]
  },
  {
   "cell_type": "code",
   "execution_count": 5,
   "metadata": {},
   "outputs": [],
   "source": [
    "def fib(n):\n",
    "    if n==0 or n==1:\n",
    "        return n\n",
    "    else:\n",
    "        a=fib(n-1)\n",
    "        b=fib(n-2)\n",
    "        return a+bIso"
   ]
  },
  {
   "cell_type": "code",
   "execution_count": 7,
   "metadata": {},
   "outputs": [
    {
     "data": {
      "text/plain": [
       "514229"
      ]
     },
     "execution_count": 7,
     "metadata": {},
     "output_type": "execute_result"
    }
   ],
   "source": [
    "fib(29)"
   ]
  },
  {
   "cell_type": "code",
   "execution_count": null,
   "metadata": {},
   "outputs": [],
   "source": []
  },
  {
   "cell_type": "code",
   "execution_count": 1,
   "metadata": {},
   "outputs": [
    {
     "name": "stdout",
     "output_type": "stream",
     "text": [
      "Enter value=2\n",
      "222\n",
      "Enter value=2\n",
      "2222\n"
     ]
    }
   ],
   "source": [
    "a=input(\"Enter value=\")\n",
    "print(a*3)\n",
    "b=input(\"Enter value=\")\n",
    "print(b*4)"
   ]
  },
  {
   "cell_type": "code",
   "execution_count": 14,
   "metadata": {},
   "outputs": [],
   "source": [
    "def check_triangle():\n",
    "    print(\"Input lengths of a triangle sides\")\n",
    "    x=input(\"x:\")\n",
    "    y=input(\"y:\")\n",
    "    z=input(\"z:\")\n",
    "    if x==y and y==z:\n",
    "        print(\"Equalateral Triange\")\n",
    "    elif x==y or x==z or y==z:\n",
    "        print(\"Isosceles Triangle\")\n",
    "    else:\n",
    "        print(\"Scalene Triangle\")"
   ]
  },
  {
   "cell_type": "code",
   "execution_count": 15,
   "metadata": {},
   "outputs": [
    {
     "name": "stdout",
     "output_type": "stream",
     "text": [
      "Input lengths of a triangle sides\n",
      "x:12\n",
      "y:12\n",
      "z:12\n",
      "Equalateral Triange\n"
     ]
    }
   ],
   "source": [
    "check_triangle()"
   ]
  },
  {
   "cell_type": "code",
   "execution_count": 16,
   "metadata": {},
   "outputs": [
    {
     "name": "stdout",
     "output_type": "stream",
     "text": [
      "Input lengths of a triangle sides\n",
      "x:12\n",
      "y:12\n",
      "z:13\n",
      "Isosceles Triangle\n"
     ]
    }
   ],
   "source": [
    "check_triangle()"
   ]
  },
  {
   "cell_type": "code",
   "execution_count": 17,
   "metadata": {},
   "outputs": [
    {
     "name": "stdout",
     "output_type": "stream",
     "text": [
      "Input lengths of a triangle sides\n",
      "x:12\n",
      "y:13\n",
      "z:14\n",
      "Scalene Triangle\n"
     ]
    }
   ],
   "source": [
    "check_triangle()"
   ]
  },
  {
   "cell_type": "code",
   "execution_count": null,
   "metadata": {},
   "outputs": [],
   "source": []
  },
  {
   "cell_type": "code",
   "execution_count": null,
   "metadata": {},
   "outputs": [],
   "source": []
  },
  {
   "cell_type": "code",
   "execution_count": 19,
   "metadata": {},
   "outputs": [],
   "source": [
    "def multiplication_table():\n",
    "    b=int(input(\"Input Number: \"))\n",
    "    for i in range(1,11):\n",
    "        a=b*i\n",
    "        print(b,\"X\",i,\"=\",a)\n",
    "    \n",
    "    "
   ]
  },
  {
   "cell_type": "code",
   "execution_count": 20,
   "metadata": {},
   "outputs": [
    {
     "name": "stdout",
     "output_type": "stream",
     "text": [
      "Input Number: 5\n",
      "5 X 1 = 5\n",
      "5 X 2 = 10\n",
      "5 X 3 = 15\n",
      "5 X 4 = 20\n",
      "5 X 5 = 25\n",
      "5 X 6 = 30\n",
      "5 X 7 = 35\n",
      "5 X 8 = 40\n",
      "5 X 9 = 45\n",
      "5 X 10 = 50\n"
     ]
    }
   ],
   "source": [
    "multiplication_table()"
   ]
  },
  {
   "cell_type": "code",
   "execution_count": 1,
   "metadata": {},
   "outputs": [],
   "source": [
    "def vowel_consonant_check():\n",
    "    a=input(\"Enter alphabet:\")\n",
    "    \n",
    "    if a==\"A\" or a==\"a\" or a==\"E\" or a==\"e\" or a==\"I\" or a==\"i\" or a==\"O\" or a==\"o\" or a==\"U\" or a==\"u\":\n",
    "        print(\"alphabet is a vowel\")\n",
    "    else:\n",
    "        print(\"alphabet is a consonant\")"
   ]
  },
  {
   "cell_type": "code",
   "execution_count": 3,
   "metadata": {},
   "outputs": [
    {
     "name": "stdout",
     "output_type": "stream",
     "text": [
      "Enter alphabet:d\n",
      "alphabet is a consonant\n"
     ]
    }
   ],
   "source": [
    "vowel_consonant_check()"
   ]
  },
  {
   "cell_type": "code",
   "execution_count": 1,
   "metadata": {},
   "outputs": [],
   "source": [
    "def arithematic_calculator():\n",
    "    choice=\"y\"\n",
    "    while choice !=\"n\":\n",
    "        a=input(\"enter number:\")\n",
    "        a =int(a)\n",
    "        b=input(\"enter number:\")\n",
    "        b =int(b)\n",
    "        operation=input(\"enter operation +,-,*,/,**,//,%\")\n",
    "\n",
    "        if operation ==\"+\":\n",
    "            add=a+b\n",
    "            print(\"Addition:\",add)\n",
    "        \n",
    "        if operation ==\"-\":\n",
    "            sub=a-b\n",
    "            print(\"Subtraction:\",sub)\n",
    "        \n",
    "        if operation ==\"*\":\n",
    "            print(\"Multiplication:\",sub)\n",
    "    \n",
    "        if operation ==\"/\":\n",
    "            div=a/b\n",
    "            print(\"Division:\",div)\n",
    "    \n",
    "        if operation ==\"**\":\n",
    "            exp=a**b\n",
    "            print(\"Exponential:\",a**b)\n",
    "    \n",
    "        if operation ==\"//\":\n",
    "            flt=a//b\n",
    "            print(\"Integer:\",flt)\n",
    "        \n",
    "        if operation ==\"%\":\n",
    "            rem=a%b\n",
    "            print(\"Reminder\")\n",
    "        choice= input(\"you want to conitnue (y/n)?\")\n"
   ]
  },
  {
   "cell_type": "code",
   "execution_count": null,
   "metadata": {},
   "outputs": [
    {
     "name": "stdout",
     "output_type": "stream",
     "text": [
      "enter number:2\n",
      "enter number:3\n",
      "enter operation +,-,*,/,**,//,%+\n",
      "Addition: 5\n",
      "you want to conitnue (y/n)?y\n",
      "enter number:3\n",
      "enter number:4\n",
      "enter operation +,-,*,/,**,//,%**|\n"
     ]
    }
   ],
   "source": [
    "arithematic_calculator()"
   ]
  },
  {
   "cell_type": "code",
   "execution_count": null,
   "metadata": {},
   "outputs": [],
   "source": []
  }
 ],
 "metadata": {
  "kernelspec": {
   "display_name": "Python 3",
   "language": "python",
   "name": "python3"
  },
  "language_info": {
   "codemirror_mode": {
    "name": "ipython",
    "version": 3
   },
   "file_extension": ".py",
   "mimetype": "text/x-python",
   "name": "python",
   "nbconvert_exporter": "python",
   "pygments_lexer": "ipython3",
   "version": "3.6.5"
  }
 },
 "nbformat": 4,
 "nbformat_minor": 2
}
