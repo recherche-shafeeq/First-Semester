{
 "cells": [
  {
   "cell_type": "code",
   "execution_count": 10,
   "metadata": {},
   "outputs": [
    {
     "name": "stdout",
     "output_type": "stream",
     "text": [
      "(0, 13, 26, 39)\n",
      "[0, 60, 120, 180]\n",
      "[-14, 0, 14, 28]\n"
     ]
    }
   ],
   "source": [
    "#requirement the list/tuple must be in sequence(not as in object sequence),which means the difference between elements should be consistant\n",
    "#and it should contain only integers\n",
    "#input:given any list or tuple of integers it will convert it to its range\n",
    "#output:it will give the range of your input list/tuple\n",
    "#two examples are given\n",
    "import logging\n",
    "logging.basicConfig(format = \"%(levelname)s:%(message)s\",level = logging.DEBUG,filename =(\"file.log\"),filemode = \"w\")\n",
    "def mkrange(lst):\n",
    "    if len(lst) <= 1:\n",
    "        raise ValueError(\"Please enter a list of size greater than 1\")\n",
    "    for i in lst:\n",
    "        if type(i)!= int:\n",
    "            raise ValueError(\"The sequence contain an {},which is of non-int type\".format(i))\n",
    "    counter = 0\n",
    "    dif = lst[1]-lst[0]\n",
    "    logging.info(\"The value of dif is {}\".format(dif))\n",
    "    for j in lst[:-1]: \n",
    "        logging.info(\"The value of j is {}\".format(j))\n",
    "        logging.info(\"The difference between lst[lst.index(j)+1] - i = {}\".format(lst[lst.index(j)+1] - j))\n",
    "        if lst[lst.index(j)+1] - j == dif:\n",
    "            counter += 1\n",
    "            logging.info(\"Changing the value of counter to {}\".format(counter))\n",
    "    if counter == len(lst)-1:\n",
    "        if dif < 0:\n",
    "            logging.info(\"The difference is negative\")\n",
    "            return range(lst[0],lst[-1]-1,dif)\n",
    "        if dif > 0:\n",
    "            logging.info(\"The difference is positive\")\n",
    "            return range(lst[0],lst[-1]+1,dif)\n",
    "    else:\n",
    "        raise ValueError(\"You didn't enter a sequence of list\")\n",
    "exp1 = mkrange((0,13,26,39))\n",
    "exp2 = mkrange([0,60,120,180])\n",
    "exp3 = mkrange([-14,0,14,28])\n",
    "print(tuple(exp1))\n",
    "print(list(exp2))\n",
    "print(list(exp3))"
   ]
  },
  {
   "cell_type": "code",
   "execution_count": 11,
   "metadata": {},
   "outputs": [],
   "source": [
    "a = [1,3,4,2,3,4]"
   ]
  },
  {
   "cell_type": "code",
   "execution_count": 7,
   "metadata": {},
   "outputs": [
    {
     "data": {
      "text/plain": [
       "False"
      ]
     },
     "execution_count": 7,
     "metadata": {},
     "output_type": "execute_result"
    }
   ],
   "source": [
    "type(str) in a"
   ]
  },
  {
   "cell_type": "code",
   "execution_count": 8,
   "metadata": {},
   "outputs": [
    {
     "data": {
      "text/plain": [
       "False"
      ]
     },
     "execution_count": 8,
     "metadata": {},
     "output_type": "execute_result"
    }
   ],
   "source": [
    "type(dict) in a"
   ]
  },
  {
   "cell_type": "code",
   "execution_count": 9,
   "metadata": {},
   "outputs": [
    {
     "data": {
      "text/plain": [
       "False"
      ]
     },
     "execution_count": 9,
     "metadata": {},
     "output_type": "execute_result"
    }
   ],
   "source": [
    "for i in"
   ]
  },
  {
   "cell_type": "code",
   "execution_count": null,
   "metadata": {},
   "outputs": [],
   "source": [
    "def new_fun(lst):\n",
    "    for i in lst:\n",
    "        if type(i) != int:\n",
    "            "
   ]
  }
 ],
 "metadata": {
  "kernelspec": {
   "display_name": "Python 3",
   "language": "python",
   "name": "python3"
  },
  "language_info": {
   "codemirror_mode": {
    "name": "ipython",
    "version": 3
   },
   "file_extension": ".py",
   "mimetype": "text/x-python",
   "name": "python",
   "nbconvert_exporter": "python",
   "pygments_lexer": "ipython3",
   "version": "3.6.5"
  }
 },
 "nbformat": 4,
 "nbformat_minor": 2
}
