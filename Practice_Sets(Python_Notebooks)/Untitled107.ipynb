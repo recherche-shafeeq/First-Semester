{
 "cells": [
  {
   "cell_type": "code",
   "execution_count": 1,
   "metadata": {},
   "outputs": [
    {
     "name": "stdout",
     "output_type": "stream",
     "text": [
      "Collecting aiohttp\n",
      "  Downloading https://files.pythonhosted.org/packages/b0/b4/b5b59a05ac9845712902ea87c6b7945e041a78462c2c6e094b394fca6840/aiohttp-3.5.4-cp36-cp36m-win_amd64.whl (611kB)\n"
     ]
    },
    {
     "name": "stderr",
     "output_type": "stream",
     "text": [
      "Exception:\n",
      "Traceback (most recent call last):\n",
      "  File \"c:\\users\\rubix\\anaconda3\\lib\\site-packages\\pip\\_vendor\\urllib3\\response.py\", line 331, in _error_catcher\n",
      "    yield\n",
      "  File \"c:\\users\\rubix\\anaconda3\\lib\\site-packages\\pip\\_vendor\\urllib3\\response.py\", line 413, in read\n",
      "    data = self._fp.read(amt)\n",
      "  File \"c:\\users\\rubix\\anaconda3\\lib\\site-packages\\pip\\_vendor\\cachecontrol\\filewrapper.py\", line 62, in read\n",
      "    data = self.__fp.read(amt)\n",
      "  File \"c:\\users\\rubix\\anaconda3\\lib\\http\\client.py\", line 449, in read\n",
      "    n = self.readinto(b)\n",
      "  File \"c:\\users\\rubix\\anaconda3\\lib\\http\\client.py\", line 493, in readinto\n",
      "    n = self.fp.readinto(b)\n",
      "  File \"c:\\users\\rubix\\anaconda3\\lib\\socket.py\", line 586, in readinto\n",
      "    return self._sock.recv_into(b)\n",
      "  File \"c:\\users\\rubix\\anaconda3\\lib\\ssl.py\", line 1009, in recv_into\n",
      "    return self.read(nbytes, buffer)\n",
      "  File \"c:\\users\\rubix\\anaconda3\\lib\\ssl.py\", line 871, in read\n",
      "    return self._sslobj.read(len, buffer)\n",
      "  File \"c:\\users\\rubix\\anaconda3\\lib\\ssl.py\", line 631, in read\n",
      "    v = self._sslobj.read(len, buffer)\n",
      "socket.timeout: The read operation timed out\n",
      "\n",
      "During handling of the above exception, another exception occurred:\n",
      "\n",
      "Traceback (most recent call last):\n",
      "  File \"c:\\users\\rubix\\anaconda3\\lib\\site-packages\\pip\\_internal\\cli\\base_command.py\", line 143, in main\n",
      "    status = self.run(options, args)\n",
      "  File \"c:\\users\\rubix\\anaconda3\\lib\\site-packages\\pip\\_internal\\commands\\install.py\", line 318, in run\n",
      "    resolver.resolve(requirement_set)\n",
      "  File \"c:\\users\\rubix\\anaconda3\\lib\\site-packages\\pip\\_internal\\resolve.py\", line 102, in resolve\n",
      "    self._resolve_one(requirement_set, req)\n",
      "  File \"c:\\users\\rubix\\anaconda3\\lib\\site-packages\\pip\\_internal\\resolve.py\", line 256, in _resolve_one\n",
      "    abstract_dist = self._get_abstract_dist_for(req_to_install)\n",
      "  File \"c:\\users\\rubix\\anaconda3\\lib\\site-packages\\pip\\_internal\\resolve.py\", line 209, in _get_abstract_dist_for\n",
      "    self.require_hashes\n",
      "  File \"c:\\users\\rubix\\anaconda3\\lib\\site-packages\\pip\\_internal\\operations\\prepare.py\", line 283, in prepare_linked_requirement\n",
      "    progress_bar=self.progress_bar\n",
      "  File \"c:\\users\\rubix\\anaconda3\\lib\\site-packages\\pip\\_internal\\download.py\", line 836, in unpack_url\n",
      "    progress_bar=progress_bar\n",
      "  File \"c:\\users\\rubix\\anaconda3\\lib\\site-packages\\pip\\_internal\\download.py\", line 673, in unpack_http_url\n",
      "    progress_bar)\n",
      "  File \"c:\\users\\rubix\\anaconda3\\lib\\site-packages\\pip\\_internal\\download.py\", line 897, in _download_http_url\n",
      "    _download_url(resp, link, content_file, hashes, progress_bar)\n",
      "  File \"c:\\users\\rubix\\anaconda3\\lib\\site-packages\\pip\\_internal\\download.py\", line 617, in _download_url\n",
      "    hashes.check_against_chunks(downloaded_chunks)\n",
      "  File \"c:\\users\\rubix\\anaconda3\\lib\\site-packages\\pip\\_internal\\utils\\hashes.py\", line 48, in check_against_chunks\n",
      "    for chunk in chunks:\n",
      "  File \"c:\\users\\rubix\\anaconda3\\lib\\site-packages\\pip\\_internal\\download.py\", line 585, in written_chunks\n",
      "    for chunk in chunks:\n",
      "  File \"c:\\users\\rubix\\anaconda3\\lib\\site-packages\\pip\\_internal\\utils\\ui.py\", line 159, in iter\n",
      "    for x in it:\n",
      "  File \"c:\\users\\rubix\\anaconda3\\lib\\site-packages\\pip\\_internal\\download.py\", line 574, in resp_read\n",
      "    decode_content=False):\n",
      "  File \"c:\\users\\rubix\\anaconda3\\lib\\site-packages\\pip\\_vendor\\urllib3\\response.py\", line 465, in stream\n",
      "    data = self.read(amt=amt, decode_content=decode_content)\n",
      "  File \"c:\\users\\rubix\\anaconda3\\lib\\site-packages\\pip\\_vendor\\urllib3\\response.py\", line 430, in read\n",
      "    raise IncompleteRead(self._fp_bytes_read, self.length_remaining)\n",
      "  File \"c:\\users\\rubix\\anaconda3\\lib\\contextlib.py\", line 99, in __exit__\n",
      "    self.gen.throw(type, value, traceback)\n",
      "  File \"c:\\users\\rubix\\anaconda3\\lib\\site-packages\\pip\\_vendor\\urllib3\\response.py\", line 336, in _error_catcher\n",
      "    raise ReadTimeoutError(self._pool, None, 'Read timed out.')\n",
      "pip._vendor.urllib3.exceptions.ReadTimeoutError: HTTPSConnectionPool(host='files.pythonhosted.org', port=443): Read timed out.\n"
     ]
    }
   ],
   "source": [
    "!pip install aiohttp"
   ]
  },
  {
   "cell_type": "code",
   "execution_count": null,
   "metadata": {},
   "outputs": [],
   "source": []
  }
 ],
 "metadata": {
  "kernelspec": {
   "display_name": "Python 3",
   "language": "python",
   "name": "python3"
  },
  "language_info": {
   "codemirror_mode": {
    "name": "ipython",
    "version": 3
   },
   "file_extension": ".py",
   "mimetype": "text/x-python",
   "name": "python",
   "nbconvert_exporter": "python",
   "pygments_lexer": "ipython3",
   "version": "3.6.5"
  }
 },
 "nbformat": 4,
 "nbformat_minor": 2
}
