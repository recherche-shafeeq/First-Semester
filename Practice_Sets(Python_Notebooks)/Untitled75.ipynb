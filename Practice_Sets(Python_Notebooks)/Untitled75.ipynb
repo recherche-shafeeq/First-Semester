{
 "cells": [
  {
   "cell_type": "code",
   "execution_count": 16,
   "metadata": {},
   "outputs": [
    {
     "name": "stdout",
     "output_type": "stream",
     "text": [
      "Shafeeq\n",
      "Hamid\n",
      "Hamble\n",
      "Abddullah\n"
     ]
    }
   ],
   "source": [
    "import os\n",
    "with open(os.path.join(\"res\",\"dummy.txt\"),\"r\") as r:\n",
    "    counter =0 \n",
    "    for line in r:\n",
    "        print(line.strip())"
   ]
  },
  {
   "cell_type": "code",
   "execution_count": 17,
   "metadata": {},
   "outputs": [],
   "source": [
    "a = {}"
   ]
  },
  {
   "cell_type": "code",
   "execution_count": 22,
   "metadata": {},
   "outputs": [],
   "source": [
    "a[\"Car\"] = \"Mustang\"\n",
    "a[\"Model\"] = \"ABC-413\"\n",
    "a[\"Engine\"] = \"360\""
   ]
  },
  {
   "cell_type": "code",
   "execution_count": 27,
   "metadata": {},
   "outputs": [
    {
     "name": "stdout",
     "output_type": "stream",
     "text": [
      "Car = Mustang\n",
      "Model = ABC-413\n",
      "Engine = 360\n"
     ]
    }
   ],
   "source": [
    "for i in a:\n",
    "    print(i,\"=\",a[i])"
   ]
  },
  {
   "cell_type": "code",
   "execution_count": null,
   "metadata": {},
   "outputs": [],
   "source": []
  },
  {
   "cell_type": "code",
   "execution_count": null,
   "metadata": {},
   "outputs": [],
   "source": []
  }
 ],
 "metadata": {
  "kernelspec": {
   "display_name": "Python 3",
   "language": "python",
   "name": "python3"
  },
  "language_info": {
   "codemirror_mode": {
    "name": "ipython",
    "version": 3
   },
   "file_extension": ".py",
   "mimetype": "text/x-python",
   "name": "python",
   "nbconvert_exporter": "python",
   "pygments_lexer": "ipython3",
   "version": "3.6.5"
  }
 },
 "nbformat": 4,
 "nbformat_minor": 2
}
