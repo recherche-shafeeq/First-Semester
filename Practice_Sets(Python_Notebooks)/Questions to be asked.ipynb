{
 "cells": [
  {
   "cell_type": "code",
   "execution_count": 8,
   "metadata": {},
   "outputs": [
    {
     "name": "stdout",
     "output_type": "stream",
     "text": [
      "the value of strfloat 1\n",
      "the value of strfloat 1.\n",
      "the value of strfloat 1.2\n",
      "the value of strfloat 1.23\n",
      "The total became: 1.23\n",
      "the value of strfloat 2\n",
      "the value of strfloat 2.\n",
      "the value of strfloat 2.4\n",
      "The total became: 2.4\n",
      "the value of strfloat 3\n",
      "the value of strfloat 3.\n",
      "the value of strfloat 3.1\n",
      "the value of strfloat 3.12\n",
      "The total became: 3.12\n",
      "6.75\n"
     ]
    }
   ],
   "source": [
    "a = '1.23,2.4,3.123'\n",
    "total = 0\n",
    "strfloat = \"\"\n",
    "counter  = 0\n",
    "for i in a:\n",
    "    counter += 1\n",
    "    if i == \",\" or counter == len(a):\n",
    "        print(\"The total became:\",float(strfloat))\n",
    "        total += float(strfloat)\n",
    "        strfloat = \"\"\n",
    "    else:\n",
    "        strfloat += i\n",
    "        print(\"the value of strfloat\",strfloat)\n",
    "print(total)"
   ]
  },
  {
   "cell_type": "code",
   "execution_count": 3,
   "metadata": {},
   "outputs": [
    {
     "data": {
      "text/plain": [
       "6.753"
      ]
     },
     "execution_count": 3,
     "metadata": {},
     "output_type": "execute_result"
    }
   ],
   "source": [
    "float(str(1.23))+float(str(2.4))+float(str(3.123))"
   ]
  },
  {
   "cell_type": "code",
   "execution_count": 6,
   "metadata": {},
   "outputs": [
    {
     "name": "stdout",
     "output_type": "stream",
     "text": [
      "1.23\n",
      "2.4\n",
      "3.123\n",
      "6.753\n"
     ]
    }
   ],
   "source": [
    "totl = 0\n",
    "for j in [\"1.23\",\"2.4\",\"3.123\"]:\n",
    "    print(float(j))\n",
    "    totl += float(j)\n",
    "print(totl)"
   ]
  },
  {
   "cell_type": "code",
   "execution_count": null,
   "metadata": {},
   "outputs": [],
   "source": []
  }
 ],
 "metadata": {
  "kernelspec": {
   "display_name": "Python 3",
   "language": "python",
   "name": "python3"
  },
  "language_info": {
   "codemirror_mode": {
    "name": "ipython",
    "version": 3
   },
   "file_extension": ".py",
   "mimetype": "text/x-python",
   "name": "python",
   "nbconvert_exporter": "python",
   "pygments_lexer": "ipython3",
   "version": "3.6.5"
  }
 },
 "nbformat": 4,
 "nbformat_minor": 2
}
