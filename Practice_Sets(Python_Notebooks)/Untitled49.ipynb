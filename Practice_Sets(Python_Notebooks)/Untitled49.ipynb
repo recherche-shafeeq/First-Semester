{
 "cells": [
  {
   "cell_type": "code",
   "execution_count": null,
   "metadata": {},
   "outputs": [],
   "source": [
    "import os\n",
    "with open(os.path.join(\"res\",\"assignment.txt\"), \"r\") as f:\n",
    "    for line in f:\n",
    "        print(line.split(','))"
   ]
  },
  {
   "cell_type": "code",
   "execution_count": null,
   "metadata": {},
   "outputs": [],
   "source": [
    "s=\"Ali,Tariq,House 10,Street 20,30\"\n",
    "s.split(\",\")\n"
   ]
  },
  {
   "cell_type": "code",
   "execution_count": null,
   "metadata": {},
   "outputs": [],
   "source": [
    "def split_safe():\n",
    "    b=[]\n",
    "    with open(os.path.join(\"res\",\"assignment.txt\"), \"r\") as f:\n",
    "        for line in f:\n",
    "            for txt in line:\n",
    "                print(txt)\n",
    "                "
   ]
  },
  {
   "cell_type": "code",
   "execution_count": 18,
   "metadata": {},
   "outputs": [],
   "source": [
    "def split_safe(s):\n",
    "    ind = 0\n",
    "    lst = ['']\n",
    "    boolee = 0\n",
    "    boole = 0\n",
    "    \n",
    "    for ch in s:\n",
    "        if ch == ',' and boolee == 0:\n",
    "            lst.append('')\n",
    "            ind += 1\n",
    "            boole  = 1\n",
    "            \n",
    "        elif ch == \"'\" and boolee == 0:\n",
    "            boolee = 1\n",
    "            \n",
    "        elif ch == \"'\" and boolee == 1:\n",
    "            boolee = 0\n",
    "            \n",
    "        elif ch == \" \" and boole ==0:\n",
    "            lst[ind] = lst[ind] + ch\n",
    "            \n",
    "        elif ch !=' ':\n",
    "            lst[ind] = lst[ind] + ch\n",
    "            boole = 0\n",
    "            \n",
    "    return lst"
   ]
  },
  {
   "cell_type": "code",
   "execution_count": 19,
   "metadata": {},
   "outputs": [
    {
     "data": {
      "text/plain": [
       "['Ali', 'Tariq', 'House 10, Street 20', '30']"
      ]
     },
     "execution_count": 19,
     "metadata": {},
     "output_type": "execute_result"
    }
   ],
   "source": [
    "split_safe(\"Ali,Tariq,'House 10, Street 20',30\")"
   ]
  },
  {
   "cell_type": "code",
   "execution_count": null,
   "metadata": {},
   "outputs": [],
   "source": [
    "def split_safe(s):\n",
    "    lst = []\n",
    "    st = \"\"\n",
    "    stt = \"\"\n",
    "    boolee = False\n",
    "    boole = False\n",
    "    index = 0\n",
    "    time = 0\n",
    "    for let in s:\n",
    "        if let == \",\":\n",
    "            lst.append(st)\n",
    "            st = (\"\")\n",
    "            index += 1\n",
    "        elif let == \"'\":\n",
    "            time += 1\n",
    "            if boolee == True and let == \"'\":\n",
    "                lst.append(st)\n",
    "                stt = \"\"\n",
    "                for lsst in s:\n",
    "                    if lsst == \"'\" and time==1:\n",
    "                        boolee = True\n",
    "                        stt += lsst\n",
    "        elif let != \",\":\n",
    "            st += let\n",
    "\n",
    "            \n",
    "    return lst"
   ]
  },
  {
   "cell_type": "code",
   "execution_count": 37,
   "metadata": {},
   "outputs": [],
   "source": [
    "def read_data(directory,filename):\n",
    "    new_lst = []\n",
    "    file = os.path.join(directory,filename)\n",
    "    with open(file, \"r\") as f:\n",
    "        for line in f:\n",
    "            a=split_safe(line.strip())\n",
    "            new_lst.append(a)\n",
    "    return new_lst"
   ]
  },
  {
   "cell_type": "code",
   "execution_count": 38,
   "metadata": {},
   "outputs": [
    {
     "data": {
      "text/plain": [
       "[['Roll no', 'Full Name', 'A1', 'A2', 'A3', 'A4'],\n",
       " ['p101111', 'Ali Khayam', '64', '78.5', '89', '25'],\n",
       " ['p101112', 'Mudasser Farooq', '14', '28.5', '83', '76'],\n",
       " ['p101113', 'Tamleek Ali', '87', '12', '1.6', '22']]"
      ]
     },
     "execution_count": 38,
     "metadata": {},
     "output_type": "execute_result"
    }
   ],
   "source": [
    "read_data(\"res\",\"assignment.csv\")"
   ]
  },
  {
   "cell_type": "code",
   "execution_count": 34,
   "metadata": {},
   "outputs": [
    {
     "name": "stdout",
     "output_type": "stream",
     "text": [
      "Roll no,Full Name, A1, A2, A3, A4\n",
      "p101111,Ali Khayam, 64, 78.5, 89, 25\n",
      "p101112,Mudasser Farooq, 14, 28.5, 83, 76\n",
      "p101113,Tamleek Ali, 87, 12, 1.6, 22\n"
     ]
    }
   ],
   "source": [
    "file = os.path.join(\"res\",\"assignment.csv\")\n",
    "with open(file, \"r\") as f:\n",
    "    for line in f:\n",
    "        print(line.strip())"
   ]
  },
  {
   "cell_type": "code",
   "execution_count": null,
   "metadata": {},
   "outputs": [],
   "source": []
  }
 ],
 "metadata": {
  "kernelspec": {
   "display_name": "Python 3",
   "language": "python",
   "name": "python3"
  },
  "language_info": {
   "codemirror_mode": {
    "name": "ipython",
    "version": 3
   },
   "file_extension": ".py",
   "mimetype": "text/x-python",
   "name": "python",
   "nbconvert_exporter": "python",
   "pygments_lexer": "ipython3",
   "version": "3.6.5"
  }
 },
 "nbformat": 4,
 "nbformat_minor": 2
}
