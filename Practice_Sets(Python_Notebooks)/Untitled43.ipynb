{
 "cells": [
  {
   "cell_type": "code",
   "execution_count": 2,
   "metadata": {},
   "outputs": [],
   "source": [
    "import os"
   ]
  },
  {
   "cell_type": "code",
   "execution_count": 4,
   "metadata": {},
   "outputs": [
    {
     "name": "stdout",
     "output_type": "stream",
     "text": [
      "res\\dummy.txt\n"
     ]
    }
   ],
   "source": [
    "print(os.path.join(\"res\",\"dummy.txt\"))"
   ]
  },
  {
   "cell_type": "code",
   "execution_count": 15,
   "metadata": {},
   "outputs": [],
   "source": [
    "filename=os.path.join(\"res\",\"dummy.txt\")"
   ]
  },
  {
   "cell_type": "code",
   "execution_count": 9,
   "metadata": {},
   "outputs": [
    {
     "name": "stdout",
     "output_type": "stream",
     "text": [
      "res\\dummy.txt\n"
     ]
    }
   ],
   "source": [
    "print(os.path.join(\"res\",\"dummy.txt\"))"
   ]
  },
  {
   "cell_type": "code",
   "execution_count": 11,
   "metadata": {},
   "outputs": [
    {
     "data": {
      "text/plain": [
       "'res\\\\dummy.txt'"
      ]
     },
     "execution_count": 11,
     "metadata": {},
     "output_type": "execute_result"
    }
   ],
   "source": [
    "os.path.join(\"res\",\"dummy.txt\")"
   ]
  },
  {
   "cell_type": "code",
   "execution_count": 21,
   "metadata": {},
   "outputs": [
    {
     "name": "stdout",
     "output_type": "stream",
     "text": [
      "ndfskjlgafknnfdkajfdo\n",
      "\n",
      "gkojaongkdf\n",
      "\n",
      "fngsdfnfkjan\n",
      "\n",
      "ogsndfnkoml\n",
      "\n",
      "kgfdsjov\n"
     ]
    }
   ],
   "source": [
    "f=open(filename,\"r\")\n",
    "for i in f:\n",
    "    print(i)\n",
    "f.close()"
   ]
  },
  {
   "cell_type": "code",
   "execution_count": 37,
   "metadata": {},
   "outputs": [
    {
     "name": "stdout",
     "output_type": "stream",
     "text": [
      "ndfskjlgafknnfdkajfdo\n",
      "gkojaongkdf\n",
      "fngsdfnfkjan\n",
      "ogsndfnkoml\n",
      "kgfdsjov\n"
     ]
    }
   ],
   "source": [
    "f=open(filename)\n",
    "for i in f:\n",
    "    print(i.strip())\n"
   ]
  },
  {
   "cell_type": "code",
   "execution_count": null,
   "metadata": {},
   "outputs": [],
   "source": [
    "help(open)"
   ]
  },
  {
   "cell_type": "code",
   "execution_count": 40,
   "metadata": {},
   "outputs": [],
   "source": [
    "for line in f:\n",
    "    print(line.strip())\n",
    "    \n",
    "    \n",
    "        \n",
    "    "
   ]
  },
  {
   "cell_type": "code",
   "execution_count": 41,
   "metadata": {},
   "outputs": [],
   "source": [
    "import os"
   ]
  },
  {
   "cell_type": "code",
   "execution_count": 43,
   "metadata": {},
   "outputs": [
    {
     "name": "stdout",
     "output_type": "stream",
     "text": [
      "ndfskjlgafknnfdkajfdo\n",
      "\n",
      "gkojaongkdf\n",
      "\n",
      "fngsdfnfkjan\n",
      "\n",
      "ogsndfnkoml\n",
      "\n",
      "kgfdsjov\n"
     ]
    }
   ],
   "source": [
    "f= open(filename, \"r\")\n",
    "for line in f:\n",
    "    print(line)\n",
    "    "
   ]
  },
  {
   "cell_type": "code",
   "execution_count": 54,
   "metadata": {},
   "outputs": [
    {
     "name": "stdout",
     "output_type": "stream",
     "text": [
      "ndfskjlgafknnfdkajfdo\n",
      "gkojaongkdf\n",
      "fngsdfnfkjan\n",
      "ogsndfnkoml\n",
      "kgfdsjov\n"
     ]
    }
   ],
   "source": [
    "with open(filename,\"r\") as f:\n",
    "    for line in f:\n",
    "        print(line.strip())\n",
    "    "
   ]
  },
  {
   "cell_type": "code",
   "execution_count": null,
   "metadata": {},
   "outputs": [],
   "source": []
  },
  {
   "cell_type": "code",
   "execution_count": 67,
   "metadata": {},
   "outputs": [],
   "source": [
    "with open(filename,\"r\") as f:\n",
    "    f.read()"
   ]
  },
  {
   "cell_type": "code",
   "execution_count": 69,
   "metadata": {},
   "outputs": [
    {
     "name": "stdout",
     "output_type": "stream",
     "text": [
      "['ndfskjlgafknnfdkajfdo', 'gkojaongkdf', 'fngsdfnfkjan', 'ogsndfnkoml', 'kgfdsjov']\n"
     ]
    }
   ],
   "source": [
    "with open(filename,\"r\") as f:\n",
    "    l=f.read().split(\"\\n\")\n",
    "    print(l)"
   ]
  },
  {
   "cell_type": "code",
   "execution_count": 73,
   "metadata": {},
   "outputs": [],
   "source": [
    "out_name=\"dummy-out.txt\"\n"
   ]
  },
  {
   "cell_type": "code",
   "execution_count": 82,
   "metadata": {},
   "outputs": [],
   "source": [
    "out_filename=os.path.join(\"res\",out_name)\n",
    "with open(out_filename,\"a\") as f:\n",
    "    f.write(\"two....\\n\")\n",
    "    "
   ]
  },
  {
   "cell_type": "code",
   "execution_count": 84,
   "metadata": {},
   "outputs": [],
   "source": [
    "with open(os.path.join('res',' dummy-txt'),\"a\") as f:\n",
    "    f.write(\"jlkdsfajlfnlk\")\n",
    "    "
   ]
  },
  {
   "cell_type": "code",
   "execution_count": null,
   "metadata": {},
   "outputs": [],
   "source": []
  }
 ],
 "metadata": {
  "kernelspec": {
   "display_name": "Python 3",
   "language": "python",
   "name": "python3"
  },
  "language_info": {
   "codemirror_mode": {
    "name": "ipython",
    "version": 3
   },
   "file_extension": ".py",
   "mimetype": "text/x-python",
   "name": "python",
   "nbconvert_exporter": "python",
   "pygments_lexer": "ipython3",
   "version": "3.6.5"
  }
 },
 "nbformat": 4,
 "nbformat_minor": 2
}
