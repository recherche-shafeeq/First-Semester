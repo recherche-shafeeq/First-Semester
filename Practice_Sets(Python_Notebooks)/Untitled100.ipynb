{
 "cells": [
  {
   "cell_type": "code",
   "execution_count": null,
   "metadata": {},
   "outputs": [],
   "source": [
    "a  = {1:\"one\",\n",
    " 2:\"two\",\n",
    " \"one\":1,\n",
    " \"two\":2}"
   ]
  },
  {
   "cell_type": "code",
   "execution_count": null,
   "metadata": {},
   "outputs": [],
   "source": [
    "b = a.keys()"
   ]
  },
  {
   "cell_type": "code",
   "execution_count": null,
   "metadata": {},
   "outputs": [],
   "source": [
    "print(type(b))"
   ]
  },
  {
   "cell_type": "code",
   "execution_count": null,
   "metadata": {},
   "outputs": [],
   "source": [
    "c = a.values()"
   ]
  },
  {
   "cell_type": "code",
   "execution_count": null,
   "metadata": {},
   "outputs": [],
   "source": [
    "type(c)"
   ]
  },
  {
   "cell_type": "code",
   "execution_count": null,
   "metadata": {},
   "outputs": [],
   "source": [
    "c"
   ]
  },
  {
   "cell_type": "code",
   "execution_count": null,
   "metadata": {},
   "outputs": [],
   "source": [
    "b"
   ]
  },
  {
   "cell_type": "code",
   "execution_count": null,
   "metadata": {},
   "outputs": [
    {
     "name": "stdout",
     "output_type": "stream",
     "text": [
      "253355523454423555634566345633545445455445454353554455454.5454554455354545454\n",
      "It seems you didn't quite give me the float.\n",
      "253355523454423555634566345633545445455445454353554455454545455445535454545425335552345442355563456634563354544545544545435355445545454545544553545454542533555234544235556345663456335454454554454543535544554545454554455354545454253355523454423555634566345633545445455445454353554455454.5454554455354545454\n",
      "It seems you didn't quite give me the float.\n",
      "2533555234544235556345663456335454454554454543535544554545454554455354545454253355523454423555634566345633545445455445454353554455454545455445535454545425335552345442355563456634563354544545544545435355445545454545544553545454542533555234544235556345663456335454454554454543535544554545454554455354545454253355523454423555634566345633545445455445454353554455454545455445535454545425335552345442355563456634563354544545544545435355445545454545544553545454542533555234544235556345663456335454454554454543535544554545454554455354545454253355523454423555634566345633545445455445454353554455454545455445535454545425335552345442355563456634563354544545544545435355445545454545544553545454542533555234544235556345663456335454454554454543535544554545454554455354545454253355523454423555634566345633545445455445454353554455454545455445535454545425335552345442355563456634563354544545544545435355445545454545544553545454542533555234544235556345663456335454454554454543535544554545454554455354545454253355523454423555634566345633545445455445454353554455454545455445535454545425335552345442355563456634563354544545544545435355445545454545544553545454542533555234544235556345663456335454454554454543535544554545454554455354545454253355523454423555634566345633545445455445454353554455455454554455354545454.6356\n",
      "It seems you didn't quite give me the float.\n"
     ]
    }
   ],
   "source": [
    "gotit = False\n",
    "while not gotit:\n",
    "    inp = float(input())\n",
    "    if type(inp) == float(\"inf\"):\n",
    "        gotit = True\n",
    "        \n",
    "    else:\n",
    "        print(\"It seems you didn't quite give me the float.\")"
   ]
  },
  {
   "cell_type": "code",
   "execution_count": 8,
   "metadata": {},
   "outputs": [],
   "source": [
    " a = 2E572347856872658763248756823476578268456857632478563278568342465627456872346578624375845634782658675678222222222222222222222224652784365783246856832756324785678623756437856234785698"
   ]
  },
  {
   "cell_type": "code",
   "execution_count": 13,
   "metadata": {},
   "outputs": [
    {
     "data": {
      "text/plain": [
       "5687648257654283658732758425"
      ]
     },
     "execution_count": 13,
     "metadata": {},
     "output_type": "execute_result"
    }
   ],
   "source": [
    "b =a-728258758928745687326587687264457862783657823657823875783468275782875784328526437583275682374578326578\n",
    "5687648257654283658732758425\n"
   ]
  },
  {
   "cell_type": "code",
   "execution_count": 14,
   "metadata": {},
   "outputs": [
    {
     "data": {
      "text/plain": [
       "float"
      ]
     },
     "execution_count": 14,
     "metadata": {},
     "output_type": "execute_result"
    }
   ],
   "source": [
    "type(b)"
   ]
  },
  {
   "cell_type": "code",
   "execution_count": null,
   "metadata": {},
   "outputs": [],
   "source": [
    "3*float(\"inf\")"
   ]
  },
  {
   "cell_type": "code",
   "execution_count": null,
   "metadata": {},
   "outputs": [],
   "source": []
  },
  {
   "cell_type": "code",
   "execution_count": 19,
   "metadata": {},
   "outputs": [
    {
     "data": {
      "text/plain": [
       "nan"
      ]
     },
     "execution_count": 19,
     "metadata": {},
     "output_type": "execute_result"
    }
   ],
   "source": [
    "float(\"Nan\")"
   ]
  },
  {
   "cell_type": "code",
   "execution_count": 22,
   "metadata": {},
   "outputs": [
    {
     "data": {
      "text/plain": [
       "True"
      ]
     },
     "execution_count": 22,
     "metadata": {},
     "output_type": "execute_result"
    }
   ],
   "source": [
    "float(\"inf\") ==float(\"inf\")"
   ]
  },
  {
   "cell_type": "code",
   "execution_count": null,
   "metadata": {},
   "outputs": [],
   "source": []
  }
 ],
 "metadata": {
  "kernelspec": {
   "display_name": "Python 3",
   "language": "python",
   "name": "python3"
  },
  "language_info": {
   "codemirror_mode": {
    "name": "ipython",
    "version": 3
   },
   "file_extension": ".py",
   "mimetype": "text/x-python",
   "name": "python",
   "nbconvert_exporter": "python",
   "pygments_lexer": "ipython3",
   "version": "3.6.5"
  }
 },
 "nbformat": 4,
 "nbformat_minor": 2
}
