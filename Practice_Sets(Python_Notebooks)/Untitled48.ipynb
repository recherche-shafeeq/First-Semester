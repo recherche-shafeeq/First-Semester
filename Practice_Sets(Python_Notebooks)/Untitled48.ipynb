{
 "cells": [
  {
   "cell_type": "code",
   "execution_count": null,
   "metadata": {},
   "outputs": [],
   "source": [
    "import os\n",
    "file=os.path.join(\"res\",\"assignment.txt\")\n",
    "with open(file , \"r\") as f:\n",
    "    for line in f:\n",
    "        print(line.strip().split(\",\"))"
   ]
  },
  {
   "cell_type": "code",
   "execution_count": null,
   "metadata": {},
   "outputs": [],
   "source": [
    "def safe_split(line):\n",
    "    print(line)\n",
    "    a=[]\n",
    "    b=\"\"\n",
    "    for ch in line:\n",
    "\n",
    "        if ch == \"‘\":\n",
    "            while(ch!=\"’\"):\n",
    "                b += ch\n",
    "                \n",
    "        print(b)\n",
    "        #print(ch)\n",
    "    print(a)"
   ]
  },
  {
   "cell_type": "code",
   "execution_count": null,
   "metadata": {},
   "outputs": [],
   "source": [
    "safe_split(\"Ali,Tariq,'House 10, Street 20',30\")"
   ]
  },
  {
   "cell_type": "code",
   "execution_count": 1,
   "metadata": {},
   "outputs": [
    {
     "ename": "NameError",
     "evalue": "name 'ch' is not defined",
     "output_type": "error",
     "traceback": [
      "\u001b[1;31m---------------------------------------------------------------------------\u001b[0m",
      "\u001b[1;31mNameError\u001b[0m                                 Traceback (most recent call last)",
      "\u001b[1;32m<ipython-input-1-1f9807f48cda>\u001b[0m in \u001b[0;36m<module>\u001b[1;34m()\u001b[0m\n\u001b[1;32m----> 1\u001b[1;33m \u001b[1;32mif\u001b[0m \u001b[0mtype\u001b[0m\u001b[1;33m(\u001b[0m\u001b[0mch\u001b[0m\u001b[1;33m)\u001b[0m \u001b[1;33m==\u001b[0m \u001b[0mstr\u001b[0m \u001b[1;32mand\u001b[0m \u001b[0mch\u001b[0m \u001b[1;33m!=\u001b[0m \u001b[1;34m\",\"\u001b[0m\u001b[1;33m:\u001b[0m\u001b[1;33m\u001b[0m\u001b[0m\n\u001b[0m\u001b[0;32m      2\u001b[0m             \u001b[0mb\u001b[0m \u001b[1;33m+=\u001b[0m \u001b[0mch\u001b[0m\u001b[1;33m\u001b[0m\u001b[0m\n\u001b[0;32m      3\u001b[0m \u001b[1;32melif\u001b[0m \u001b[0mch\u001b[0m \u001b[1;33m==\u001b[0m \u001b[1;34m\",\"\u001b[0m\u001b[1;33m:\u001b[0m\u001b[1;33m\u001b[0m\u001b[0m\n\u001b[0;32m      4\u001b[0m             \u001b[0ma\u001b[0m\u001b[1;33m.\u001b[0m\u001b[0mappend\u001b[0m\u001b[1;33m(\u001b[0m\u001b[0mb\u001b[0m\u001b[1;33m)\u001b[0m\u001b[1;33m\u001b[0m\u001b[0m\n\u001b[0;32m      5\u001b[0m             \u001b[0mb\u001b[0m\u001b[1;33m=\u001b[0m\u001b[1;34m\"\"\u001b[0m\u001b[1;33m\u001b[0m\u001b[0m\n",
      "\u001b[1;31mNameError\u001b[0m: name 'ch' is not defined"
     ]
    }
   ],
   "source": [
    "if type(ch) == str and ch != \",\":\n",
    "            b += ch\n",
    "elif ch == \",\":\n",
    "            a.append(b)\n",
    "            b=\"\""
   ]
  },
  {
   "cell_type": "code",
   "execution_count": 15,
   "metadata": {},
   "outputs": [],
   "source": [
    "def split_safe(s):\n",
    "    if s == \"\":\n",
    "        lst = []\n",
    "        return lst\n",
    "    \n",
    "    lst = ['']\n",
    "    index = 0\n",
    "    comma = False\n",
    "    space = False\n",
    "    \n",
    "    for w in s:\n",
    "        if w == ',' and comma ==False:\n",
    "            lst.append('')\n",
    "            index += 1\n",
    "            space  = True\n",
    "            \n",
    "        elif w == \"'\" and comma == False:\n",
    "            comma = True\n",
    "            \n",
    "        elif w == \"'\" and comma == True:\n",
    "            comma = False\n",
    "            \n",
    "        elif w == \" \" and space ==False:\n",
    "            lst[index] = lst[index] + w\n",
    "            \n",
    "        elif w !=' ':\n",
    "            lst[index] = lst[index] + w\n",
    "            space = False\n",
    "            \n",
    "    return lst"
   ]
  },
  {
   "cell_type": "code",
   "execution_count": 8,
   "metadata": {},
   "outputs": [],
   "source": []
  },
  {
   "cell_type": "code",
   "execution_count": 20,
   "metadata": {},
   "outputs": [],
   "source": [
    "split_safe(\"Ali,Tariq,'House 10, Street 20',30\")"
   ]
  },
  {
   "cell_type": "code",
   "execution_count": 19,
   "metadata": {},
   "outputs": [],
   "source": [
    "def split_safe(line):\n",
    "    new_list = []\n",
    "    a = \"\"\n",
    "    counter = 0\n",
    "    b = False\n",
    "    for i in line:\n",
    "        if i == \",\" and b != True:\n",
    "            new_list.append(a)\n",
    "            a = \"\"\n",
    "        elif counter >= 1:\n",
    "            \n",
    "            new_list.append(a)\n",
    "            \n",
    "        elif i == \"'\" or b == True:\n",
    "            counter += 1\n",
    "            b = True\n",
    "            a += i\n",
    "            \n",
    "        elif i != \",\" and i != \"'\":\n",
    "            a += i\n",
    "        elif i == \"'\" and counter >= 1:\n",
    "            b= False\n",
    "        "
   ]
  },
  {
   "cell_type": "code",
   "execution_count": null,
   "metadata": {},
   "outputs": [],
   "source": [
    "def split_safe(line):\n",
    "    new_list = []\n",
    "    a = \"\"\n",
    "    counter = 0\n",
    "    b = False\n",
    "    for i in line:\n",
    "        if i == \",\" and b != True:\n",
    "            new_list.append(a)\n",
    "            a = \"\"\n",
    "            \n",
    "        elif i == \"'\":\n",
    "            for i in line[]\n",
    "            \n",
    "            \n",
    "        elif i != \",\" and i != \"'\":\n",
    "            a += i\n",
    "        elif i == \"'\":\n",
    "            b= False\n",
    "        "
   ]
  },
  {
   "cell_type": "code",
   "execution_count": null,
   "metadata": {},
   "outputs": [],
   "source": []
  }
 ],
 "metadata": {
  "kernelspec": {
   "display_name": "Python 3",
   "language": "python",
   "name": "python3"
  },
  "language_info": {
   "codemirror_mode": {
    "name": "ipython",
    "version": 3
   },
   "file_extension": ".py",
   "mimetype": "text/x-python",
   "name": "python",
   "nbconvert_exporter": "python",
   "pygments_lexer": "ipython3",
   "version": "3.6.5"
  }
 },
 "nbformat": 4,
 "nbformat_minor": 2
}
