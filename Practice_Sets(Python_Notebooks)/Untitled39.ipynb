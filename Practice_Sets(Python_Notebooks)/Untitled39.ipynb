{
 "cells": [
  {
   "cell_type": "code",
   "execution_count": null,
   "metadata": {},
   "outputs": [],
   "source": [
    "l=[\n",
    "{'roll_no': 'p18-1001',\n",
    " \n",
    " 'marks': {'english': (1.4, 2.5, 15, 9.6, 33),\n",
    "    \n",
    "           'calculus': (2.4, 1.5, 12, 1.6, 21),},\n",
    "            'attendance': 88.4},\n",
    "    \n",
    "{'roll_no': 'p18-1002',\n",
    " \n",
    " 'marks': {'english': (2.4, 1.5, 12, 1.6, 21),\n",
    "    \n",
    "           'programming fundaments': (2.4, 1.5, 12, 1.6, 21),},\n",
    " \n",
    "           'attendance': 79.4},\n",
    "    \n",
    "{'roll_no': 'p18-1003',\n",
    " \n",
    " 'marks': {'calculus': (2.4, 1.5, 12, None, 21),\n",
    "          \n",
    "           'programming fundamentals': (2.4, 1.5, 12, 1.6, 21),},\n",
    "            \n",
    "            'attendance': 79.4},\n",
    "]\n"
   ]
  },
  {
   "cell_type": "code",
   "execution_count": null,
   "metadata": {},
   "outputs": [],
   "source": [
    "d={ \n",
    "    \"package\": \"A package is a module that can be added to any program\", \n",
    "    \"random\":         \"Any data or information that has no order\",\n",
    "    \"unary operator\": \"An operator that takes only one value for its operation\"\n",
    "}"
   ]
  },
  {
   "cell_type": "code",
   "execution_count": null,
   "metadata": {},
   "outputs": [],
   "source": [
    "d[\"package\"]"
   ]
  },
  {
   "cell_type": "code",
   "execution_count": null,
   "metadata": {},
   "outputs": [],
   "source": [
    "\"package\" in d"
   ]
  },
  {
   "cell_type": "code",
   "execution_count": null,
   "metadata": {},
   "outputs": [],
   "source": [
    "d.items()"
   ]
  },
  {
   "cell_type": "code",
   "execution_count": null,
   "metadata": {},
   "outputs": [],
   "source": [
    "def get_student_marks():"
   ]
  },
  {
   "cell_type": "code",
   "execution_count": null,
   "metadata": {},
   "outputs": [],
   "source": [
    "s=l[0][\"marks\"][\"english\"]\n",
    "a=0\n",
    "\n",
    "for i in (s):\n",
    "    a+=i\n",
    "print(a)"
   ]
  },
  {
   "cell_type": "code",
   "execution_count": 11,
   "metadata": {},
   "outputs": [],
   "source": [
    "student_data = [ \n",
    "        {'roll_no': 'p18-1001', 'marks': {\n",
    "                'english': (1.4, 2.5, 15, 9.6, 33), \n",
    "                'calculus': (2.4, 1.5, 12, 1.6, 21),\n",
    "            }, 'attendance': 88.4\n",
    "        }, \n",
    "        {'roll_no': 'p18-1002', 'marks': {\n",
    "                'english': (2.4, 1.5, 12, 1.6, 21),\n",
    "                'programming fundaments': (2.4, 1.5, 12, 1.6, 21),\n",
    "            }, 'attendance': 79.4\n",
    "        }, \n",
    "        {'roll_no': 'p18-1003', 'marks': {\n",
    "                'calculus': (2.4, 1.5, 12, None, 21), \n",
    "                'programming fundamentals': (2.4, 1.5, 12, 1.6, 21), \n",
    "            }, 'attendance': 79.4\n",
    "         \n",
    "         \n",
    "        }, \n",
    "    ]"
   ]
  },
  {
   "cell_type": "code",
   "execution_count": 12,
   "metadata": {},
   "outputs": [],
   "source": [
    "def get_student_marks(l):\n",
    "    for i in range(0,3):\n",
    "        a=l[i]\n",
    "        a[\"marks\"]"
   ]
  },
  {
   "cell_type": "code",
   "execution_count": 14,
   "metadata": {},
   "outputs": [
    {
     "name": "stdout",
     "output_type": "stream",
     "text": [
      "{'english': (1.4, 2.5, 15, 9.6, 33), 'calculus': (2.4, 1.5, 12, 1.6, 21)}\n",
      "{'english': (2.4, 1.5, 12, 1.6, 21), 'programming fundaments': (2.4, 1.5, 12, 1.6, 21)}\n",
      "{'calculus': (2.4, 1.5, 12, None, 21), 'programming fundamentals': (2.4, 1.5, 12, 1.6, 21)}\n"
     ]
    }
   ],
   "source": [
    "get_student_marks(student_data)\n"
   ]
  },
  {
   "cell_type": "code",
   "execution_count": 5,
   "metadata": {},
   "outputs": [
    {
     "data": {
      "text/plain": [
       "{'english': (1.4, 2.5, 15, 9.6, 33), 'calculus': (2.4, 1.5, 12, 1.6, 21)}"
      ]
     },
     "execution_count": 5,
     "metadata": {},
     "output_type": "execute_result"
    }
   ],
   "source": [
    "a[\"marks\"]"
   ]
  },
  {
   "cell_type": "code",
   "execution_count": null,
   "metadata": {},
   "outputs": [],
   "source": []
  },
  {
   "cell_type": "code",
   "execution_count": null,
   "metadata": {},
   "outputs": [],
   "source": []
  },
  {
   "cell_type": "code",
   "execution_count": null,
   "metadata": {},
   "outputs": [],
   "source": []
  }
 ],
 "metadata": {
  "kernelspec": {
   "display_name": "Python 3",
   "language": "python",
   "name": "python3"
  },
  "language_info": {
   "codemirror_mode": {
    "name": "ipython",
    "version": 3
   },
   "file_extension": ".py",
   "mimetype": "text/x-python",
   "name": "python",
   "nbconvert_exporter": "python",
   "pygments_lexer": "ipython3",
   "version": "3.6.5"
  }
 },
 "nbformat": 4,
 "nbformat_minor": 2
}
