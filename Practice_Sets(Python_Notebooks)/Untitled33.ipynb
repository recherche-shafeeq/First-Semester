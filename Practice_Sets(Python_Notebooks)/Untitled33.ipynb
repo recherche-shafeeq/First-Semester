{
 "cells": [
  {
   "cell_type": "code",
   "execution_count": 3,
   "metadata": {},
   "outputs": [],
   "source": [
    "rem=12321%10\n",
    "n=n//10"
   ]
  },
  {
   "cell_type": "code",
   "execution_count": 4,
   "metadata": {},
   "outputs": [],
   "source": [
    "def test(n):\n",
    "    result=0\n",
    "    temp=n\n",
    "    while n!=0:\n",
    "        rem=n%10\n",
    "        n=n//10\n",
    "        result=result*10+rem"
   ]
  },
  {
   "cell_type": "code",
   "execution_count": 8,
   "metadata": {},
   "outputs": [
    {
     "ename": "SyntaxError",
     "evalue": "invalid syntax (<ipython-input-8-3d0d76fc3836>, line 1)",
     "output_type": "error",
     "traceback": [
      "\u001b[1;36m  File \u001b[1;32m\"<ipython-input-8-3d0d76fc3836>\"\u001b[1;36m, line \u001b[1;32m1\u001b[0m\n\u001b[1;33m    test(12321)8uhb\u001b[0m\n\u001b[1;37m               ^\u001b[0m\n\u001b[1;31mSyntaxError\u001b[0m\u001b[1;31m:\u001b[0m invalid syntax\n"
     ]
    }
   ],
   "source": [
    "test(12321)8uhb "
   ]
  },
  {
   "cell_type": "code",
   "execution_count": 9,
   "metadata": {},
   "outputs": [
    {
     "name": "stdout",
     "output_type": "stream",
     "text": [
      "Wall time: 0 ns\n"
     ]
    }
   ],
   "source": [
    "%time test(12321)"
   ]
  },
  {
   "cell_type": "code",
   "execution_count": null,
   "metadata": {},
   "outputs": [],
   "source": []
  },
  {
   "cell_type": "code",
   "execution_count": 10,
   "metadata": {},
   "outputs": [],
   "source": [
    "## IMPORTS GO HERE\n",
    "\n",
    "## END OF IMPORTS\n",
    "\n",
    "#### YOUR CODE FOR is_prime() FUNCTION GOES HERE ####\n",
    "def is_prime(n):\n",
    "\tif n-int(n)==0:\n",
    "\t\tfor i in range(2,int(n)):\n",
    "\t\t\tif n%i==0:\n",
    "\t\t\t\treturn False\n",
    "\t\telse: \n",
    "\t\t\treturn True\n",
    "\telif n-int(n) != 0:\n",
    "\t\treturn False\n",
    "\n",
    "#### End OF MARKER\n",
    "\n",
    "#### YOUR CODE FOR output_factors() FUNCTION GOES HERE ####\n",
    "def output_factors(n):\n",
    "    for i in range(1,n+1):\n",
    "        if n%i==0:\n",
    "            print(i)\n",
    "\n",
    "#### End OF MARKER\n",
    "\n",
    "#### YOUR CODE FOR get_largest_prime() FUNCTION GOES HERE ####\n",
    "def get_largest_prime(n):\n",
    "    count=0\n",
    "    for i in range(2,int(n)+1):\n",
    "        a=is_prime(i)\n",
    "        if a==True:\n",
    "            x=i\n",
    "\t\t\tcount += 1\n",
    "\tif count==0:\n",
    "\t\treturn None\n",
    "\telse:\n",
    "\t\treturn x\n",
    "#### End OF MARKER\n"
   ]
  },
  {
   "cell_type": "code",
   "execution_count": 14,
   "metadata": {},
   "outputs": [
    {
     "name": "stdout",
     "output_type": "stream",
     "text": [
      "Wall time: 42.8 s\n"
     ]
    },
    {
     "data": {
      "text/plain": [
       "99991"
      ]
     },
     "execution_count": 14,
     "metadata": {},
     "output_type": "execute_result"
    }
   ],
   "source": [
    "%time get_largest_prime(100000)"
   ]
  },
  {
   "cell_type": "code",
   "execution_count": null,
   "metadata": {},
   "outputs": [],
   "source": []
  }
 ],
 "metadata": {
  "kernelspec": {
   "display_name": "Python 3",
   "language": "python",
   "name": "python3"
  },
  "language_info": {
   "codemirror_mode": {
    "name": "ipython",
    "version": 3
   },
   "file_extension": ".py",
   "mimetype": "text/x-python",
   "name": "python",
   "nbconvert_exporter": "python",
   "pygments_lexer": "ipython3",
   "version": "3.6.5"
  }
 },
 "nbformat": 4,
 "nbformat_minor": 2
}
