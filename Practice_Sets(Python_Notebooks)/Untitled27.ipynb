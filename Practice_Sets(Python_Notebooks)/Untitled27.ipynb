{
 "cells": [
  {
   "cell_type": "code",
   "execution_count": 3,
   "metadata": {},
   "outputs": [
    {
     "name": "stdout",
     "output_type": "stream",
     "text": [
      "Press D for deposit,W for withdraw or Q for quit:D\n",
      "D=200\n",
      "Press D for deposit,W for withdraw or Q for quit:W\n",
      "W=50\n",
      "Press D for deposit,W for withdraw or Q for quit:Q\n",
      "Net amount: 150\n"
     ]
    }
   ],
   "source": [
    "a=input(\"Press D for deposit,W for withdraw or Q for quit:\")\n",
    "D=0\n",
    "W=0\n",
    "Q=0\n",
    "while a!=\"Q\":\n",
    "    if a == \"D\":\n",
    "        x=int(input(\"D=\"))\n",
    "        D=D+x\n",
    "        a=input(\"Press D for deposit,W for withdraw or Q for quit:\")\n",
    "        \n",
    "    if a == \"W\":\n",
    "        y=int(input(\"W=\"))\n",
    "        W=W+y\n",
    "        a=input(\"Press D for deposit,W for withdraw or Q for quit:\")\n",
    "if (a==\"Q\"):\n",
    "    Q=D-W\n",
    "    print(\"Net amount:\",Q)"
   ]
  },
  {
   "cell_type": "code",
   "execution_count": 1,
   "metadata": {},
   "outputs": [],
   "source": [
    "def check_armstrong():\n",
    "    a=\"Y\"\n",
    "    while a != \"N\":\n",
    "        a=input(\"Enter Number\")\n",
    "        b=int(a)\n",
    "        Armstrong=0\n",
    "        for i in a:\n",
    "            y=int(i)\n",
    "            x=pow(y,3)\n",
    "            Armstrong=Armstrong+x\n",
    "        if Armstrong==b:\n",
    "            print(\"Correct\")\n",
    "            a=input(\"Continue(Y/N)\")\n",
    "        else:\n",
    "            print(\"sorry\")\n",
    "            a=input(\"Continue(Y/N)\")"
   ]
  },
  {
   "cell_type": "code",
   "execution_count": 2,
   "metadata": {},
   "outputs": [
    {
     "name": "stdout",
     "output_type": "stream",
     "text": [
      "Enter Number153\n",
      "Correct\n",
      "Continue(Y/N)Y\n",
      "Enter Number163\n",
      "sorry\n",
      "Continue(Y/N)N\n"
     ]
    }
   ],
   "source": [
    "check_armstrong()"
   ]
  },
  {
   "cell_type": "code",
   "execution_count": null,
   "metadata": {},
   "outputs": [],
   "source": []
  }
 ],
 "metadata": {
  "kernelspec": {
   "display_name": "Python 3",
   "language": "python",
   "name": "python3"
  },
  "language_info": {
   "codemirror_mode": {
    "name": "ipython",
    "version": 3
   },
   "file_extension": ".py",
   "mimetype": "text/x-python",
   "name": "python",
   "nbconvert_exporter": "python",
   "pygments_lexer": "ipython3",
   "version": "3.6.5"
  }
 },
 "nbformat": 4,
 "nbformat_minor": 2
}
