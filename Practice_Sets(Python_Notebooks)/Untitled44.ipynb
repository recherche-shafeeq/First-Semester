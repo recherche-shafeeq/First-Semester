{
 "cells": [
  {
   "cell_type": "code",
   "execution_count": 41,
   "metadata": {},
   "outputs": [],
   "source": [
    "def get_student_marks(l):\n",
    "    ans_dic={}\n",
    "    a=l[0][\"roll_no\"]\n",
    "    b=l[0][\"marks\"]\n",
    "    ini1=0\n",
    "    ini3=0\n",
    "    for i in (\"english\",\"calculus\"):\n",
    "        c=b[i]\n",
    "        for j in c:\n",
    "            if j ==None:\n",
    "                continue\n",
    "            \n",
    "            if i==\"english\":\n",
    "                ini1+=j\n",
    "                e=i\n",
    "            elif i==\"calculus\":\n",
    "                ini3+=j\n",
    "                f=i\n",
    "    ans_dic[a]={e:ini1,f:ini3}\n",
    "    g=l[1][\"roll_no\"]\n",
    "    h=l[1][\"marks\"]\n",
    "    total_pf=0\n",
    "    total_eng=0\n",
    "    for s in \"english\",\"programming fundaments\":\n",
    "        m=h[s]\n",
    "        for n in m:\n",
    "            if n==None:\n",
    "                continue\n",
    "            if s==\"english\":   \n",
    "                total_eng=total_eng+n\n",
    "                p=s\n",
    "            elif s==\"programming fundaments\":\n",
    "                total_pf=total_pf+n\n",
    "                r=s\n",
    "    ans_dic[g]={p:total_eng,r:total_pf}\n",
    "    x1=l[2][\"roll_no\"]\n",
    "    y1=l[2][\"marks\"]\n",
    "    k1=0\n",
    "    k2=0\n",
    "    for v in \"calculus\",\"programming fundamentals\":\n",
    "        m1=y1[v]\n",
    "        for n1 in m1:\n",
    "            if n1==None:\n",
    "                continue\n",
    "            \n",
    "            if v==\"calculus\":\n",
    "                k1+=n1\n",
    "                p1=v\n",
    "            elif v==\"programming fundamentals\":\n",
    "                k2+=n1\n",
    "                r1=v\n",
    "    ans_dic[x1]={p1:k1,r1:k2}\n",
    "    return(ans_dic)"
   ]
  },
  {
   "cell_type": "code",
   "execution_count": 44,
   "metadata": {},
   "outputs": [],
   "source": [
    "student_data = [\n",
    "            {'roll_no': 'p18-1001', 'marks': {\n",
    "                    'english': (1.4, 2.5, 15, 9.6, 33),\n",
    "                    'calculus': (2.4, 1.5, 12, 1.6, 21),\n",
    "                }, 'attendance': 88.4\n",
    "            },\n",
    "            {'roll_no': 'p18-1002', 'marks': {\n",
    "                    'english': (2.4, 1.5, 12, 1.6, 21),\n",
    "                    'programming fundaments': (2.4, 1.5, 12, 1.6, 21),\n",
    "                }, 'attendance': 79.4\n",
    "            },\n",
    "            {'roll_no': 'p18-1122', 'marks': {\n",
    "                    'calculus': (2.4, 1.5, 12, 28, 21),\n",
    "                    'programming fundamentals': (2.4, 1.5, 12, 1.6, 21),\n",
    "                }, 'attendance': 79.4\n",
    "            },\n",
    "        ]"
   ]
  },
  {
   "cell_type": "code",
   "execution_count": 48,
   "metadata": {},
   "outputs": [
    {
     "data": {
      "text/plain": [
       "{'p18-1001': {'english': 61.5, 'calculus': 38.5},\n",
       " 'p18-1002': {'english': 38.5, 'programming fundaments': 38.5},\n",
       " 'p18-1122': {'calculus': 64.9, 'programming fundamentals': 38.5}}"
      ]
     },
     "execution_count": 48,
     "metadata": {},
     "output_type": "execute_result"
    }
   ],
   "source": [
    "get_student_marks(student_data)"
   ]
  },
  {
   "cell_type": "code",
   "execution_count": 46,
   "metadata": {},
   "outputs": [
    {
     "data": {
      "text/plain": [
       "{'calculus': (2.4, 1.5, 12, 28, 21),\n",
       " 'programming fundamentals': (2.4, 1.5, 12, 1.6, 21)}"
      ]
     },
     "execution_count": 46,
     "metadata": {},
     "output_type": "execute_result"
    }
   ],
   "source": [
    "student_data[2][\"marks\"]"
   ]
  },
  {
   "cell_type": "code",
   "execution_count": null,
   "metadata": {},
   "outputs": [],
   "source": []
  }
 ],
 "metadata": {
  "kernelspec": {
   "display_name": "Python 3",
   "language": "python",
   "name": "python3"
  },
  "language_info": {
   "codemirror_mode": {
    "name": "ipython",
    "version": 3
   },
   "file_extension": ".py",
   "mimetype": "text/x-python",
   "name": "python",
   "nbconvert_exporter": "python",
   "pygments_lexer": "ipython3",
   "version": "3.6.5"
  }
 },
 "nbformat": 4,
 "nbformat_minor": 2
}
