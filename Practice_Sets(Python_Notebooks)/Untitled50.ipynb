{
 "cells": [
  {
   "cell_type": "code",
   "execution_count": 9,
   "metadata": {},
   "outputs": [],
   "source": [
    "def safe_split(line):\n",
    "    a=[]\n",
    "    b=\"\"\n",
    "    c=\"\"\n",
    "    d=list(line)\n",
    "    counter =0\n",
    "    \n",
    "    for ch in line:\n",
    "        if ch != \",\" and  ch != \"'\":\n",
    "            b += ch\n",
    "            \n",
    "            \n",
    "        elif ch == \"'\" and counter !=1:\n",
    "            for che in line:\n",
    "                if che ==\"'\" and counter !=1:\n",
    "                    \n",
    "                    for i in d[2:-1]:\n",
    "                        c+= i\n",
    "                    counter +=1\n",
    "                    a.append(c)\n",
    "                    \n",
    "                    \n",
    "        elif ch == \",\" and counter !=1:\n",
    "            a.append(b)\n",
    "            b=\"\"\n",
    "        elif counter ==1:\n",
    "            a.append(b)\n",
    "            b=\"\"\n",
    "    \n",
    "    return a\n"
   ]
  },
  {
   "cell_type": "code",
   "execution_count": 10,
   "metadata": {},
   "outputs": [
    {
     "data": {
      "text/plain": [
       "['Ali',\n",
       " 'Tariq',\n",
       " \"i,Tariq,'House 10, Street 20',3\",\n",
       " 'House 10',\n",
       " ' Street 20',\n",
       " '']"
      ]
     },
     "execution_count": 10,
     "metadata": {},
     "output_type": "execute_result"
    }
   ],
   "source": [
    "x=\"Ali,Tariq,'House 10, Street 20',30\"\n",
    "\n",
    "safe_split(x)"
   ]
  },
  {
   "cell_type": "code",
   "execution_count": null,
   "metadata": {},
   "outputs": [],
   "source": [
    "def a(b):\n",
    "    c = len(b)\n",
    "    q = list(b)\n",
    "    \n",
    "    print (q)\n",
    "b = \"aasd\"\n",
    "a(b)"
   ]
  },
  {
   "cell_type": "code",
   "execution_count": null,
   "metadata": {},
   "outputs": [],
   "source": [
    "b=[]\n",
    "for i in x:\n",
    "    b.append(i)"
   ]
  },
  {
   "cell_type": "code",
   "execution_count": 7,
   "metadata": {},
   "outputs": [
    {
     "data": {
      "text/plain": [
       "\"'House 10\""
      ]
     },
     "execution_count": 7,
     "metadata": {},
     "output_type": "execute_result"
    }
   ],
   "source": [
    "y=x.split(\",\")\n",
    "str(y[2])"
   ]
  },
  {
   "cell_type": "code",
   "execution_count": 12,
   "metadata": {},
   "outputs": [
    {
     "name": "stdout",
     "output_type": "stream",
     "text": [
      "'House 10 Street 20'\n"
     ]
    }
   ],
   "source": [
    "g=\"\"\n",
    "for z in y[2:-1]:\n",
    "    g+=z\n",
    "print(g)"
   ]
  },
  {
   "cell_type": "code",
   "execution_count": null,
   "metadata": {},
   "outputs": [],
   "source": [
    "def read_data(directory,file):\n",
    "    with open(os.path.join(directory,file),\"r\") as f:\n",
    "                "
   ]
  }
 ],
 "metadata": {
  "kernelspec": {
   "display_name": "Python 3",
   "language": "python",
   "name": "python3"
  },
  "language_info": {
   "codemirror_mode": {
    "name": "ipython",
    "version": 3
   },
   "file_extension": ".py",
   "mimetype": "text/x-python",
   "name": "python",
   "nbconvert_exporter": "python",
   "pygments_lexer": "ipython3",
   "version": "3.6.5"
  }
 },
 "nbformat": 4,
 "nbformat_minor": 2
}
