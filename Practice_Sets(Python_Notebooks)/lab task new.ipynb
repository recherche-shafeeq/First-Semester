{
 "cells": [
  {
   "cell_type": "code",
   "execution_count": 2,
   "metadata": {},
   "outputs": [
    {
     "name": "stdout",
     "output_type": "stream",
     "text": [
      "Steak or Burgers:steaks\n",
      "Arizona Steak    650\n",
      "Mushroom Steak    650\n"
     ]
    }
   ],
   "source": [
    "choice = \"menu\"\n",
    "burgers = {\"Zinger Burger\":230,\"Zinger Cheese Burger\":260,\"Thames Special Burger\":320,\"Beef Burger\":250,\"Tower Burger\":320,\"Fish Burger\":260,\"Fish Cheese Burger\":290}\n",
    "steaks  = {\"Arizona Steak\":650,\"Mushroom Steak\":650,\"Pepper Steak\":650,\"Polo Tuscany\":650}\n",
    "while choice != \"enough\":\n",
    "    user_input = input(\"steak/ burgers:\")\n",
    "    if user_input == \"burgers\":\n",
    "    for x,y in burgers.items():\n",
    "        print(x,\"  \",y)\n",
    "    if user_input == \"steaks\":\n",
    "        for b,c in steaks.items():\n",
    "        print(b,\"  \",c)\n",
    "    choice=input(\"menu/enough\")\n",
    "    "
   ]
  },
  {
   "cell_type": "code",
   "execution_count": null,
   "metadata": {},
   "outputs": [],
   "source": []
  }
 ],
 "metadata": {
  "kernelspec": {
   "display_name": "Python 3",
   "language": "python",
   "name": "python3"
  },
  "language_info": {
   "codemirror_mode": {
    "name": "ipython",
    "version": 3
   },
   "file_extension": ".py",
   "mimetype": "text/x-python",
   "name": "python",
   "nbconvert_exporter": "python",
   "pygments_lexer": "ipython3",
   "version": "3.6.5"
  }
 },
 "nbformat": 4,
 "nbformat_minor": 2
}
