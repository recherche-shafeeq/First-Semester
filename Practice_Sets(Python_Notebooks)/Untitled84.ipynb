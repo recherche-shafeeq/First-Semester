{
 "cells": [
  {
   "cell_type": "code",
   "execution_count": null,
   "metadata": {},
   "outputs": [],
   "source": []
  },
  {
   "cell_type": "code",
   "execution_count": null,
   "metadata": {},
   "outputs": [],
   "source": [
    "inp = input(\"Enter a string:\")\n",
    "str_var = ''\n",
    "new_lst = []\n",
    "counter = 0\n",
    "for l in inp:\n",
    "    counter += 1\n",
    "    if l == \",\":\n",
    "        new_lst.append(str_var)\n",
    "        str_var = \"\"\n",
    "        continue\n",
    "    else:\n",
    "        str_var += l\n",
    "        if counter == len(inp):\n",
    "            new_lst.append(str_var)\n",
    "cap_let = [\"A\",\"B\",\"C\",\"D\",\"E\",\"F\",\"G\",\"H\"]\n",
    "small_let = [\"a\",\"b\",\"c\",\"d\",\"e\",\"f\",\"g\",\"h\"]\n",
    "strig = ''\n",
    "for i in new_lst:\n",
    "    for j in cap_let:\n",
    "        if j == i:\n",
    "            strig += small_let[cap_let.index(i)]\n",
    "    for k in small_let:\n",
    "        if k == i:\n",
    "            strig += cap_let[small_let.index(k)]"
   ]
  },
  {
   "cell_type": "code",
   "execution_count": null,
   "metadata": {},
   "outputs": [],
   "source": [
    "print(strig)"
   ]
  },
  {
   "cell_type": "code",
   "execution_count": null,
   "metadata": {},
   "outputs": [],
   "source": [
    "inp = input(\"Enter a string:\")\n",
    "str_var = ''\n",
    "new_lst = []\n",
    "counter = 0\n",
    "for l in inp:\n",
    "    counter += 1\n",
    "    if l == \",\":\n",
    "        new_lst.append(str_var)\n",
    "    if l == \",\":\n",
    "        str_var = \"\"\n",
    "        continue\n",
    "    else:\n",
    "        str_var += l\n",
    "        if counter == len(inp):\n",
    "            new_lst.append(str_var)"
   ]
  },
  {
   "cell_type": "code",
   "execution_count": null,
   "metadata": {},
   "outputs": [],
   "source": [
    "print(new_lst)"
   ]
  },
  {
   "cell_type": "code",
   "execution_count": null,
   "metadata": {},
   "outputs": [],
   "source": [
    "len(\"a,b\")"
   ]
  },
  {
   "cell_type": "code",
   "execution_count": null,
   "metadata": {},
   "outputs": [],
   "source": [
    "a = {\"key\":\"value\"}"
   ]
  },
  {
   "cell_type": "code",
   "execution_count": null,
   "metadata": {},
   "outputs": [],
   "source": [
    "a.remove(\"key\")"
   ]
  },
  {
   "cell_type": "code",
   "execution_count": null,
   "metadata": {},
   "outputs": [],
   "source": [
    "del a[\"key\"]"
   ]
  },
  {
   "cell_type": "code",
   "execution_count": null,
   "metadata": {},
   "outputs": [],
   "source": [
    "try:\n",
    "    del a[\"key\"]\n",
    "except KeyError:\n",
    "    print(\"The key doesn't exist in the required dictionary\")\n"
   ]
  },
  {
   "cell_type": "code",
   "execution_count": null,
   "metadata": {},
   "outputs": [],
   "source": [
    "a.get(\"key\")"
   ]
  },
  {
   "cell_type": "code",
   "execution_count": null,
   "metadata": {},
   "outputs": [],
   "source": [
    "try:\n",
    "    "
   ]
  },
  {
   "cell_type": "code",
   "execution_count": null,
   "metadata": {},
   "outputs": [],
   "source": [
    "def sqrt(n,guess):\n",
    "    if n < 0:\n",
    "        raise ValueError(\"Please enter a number which is not negative!\")\n",
    "    elif good_enough(n,guess):\n",
    "        print(\"getting returned\")\n",
    "        guess  = round(guess)\n",
    "        return guess\n",
    "    else:\n",
    "        new_guess = improve_guess(n,guess)\n",
    "        return sqrt(n,new_guess)"
   ]
  },
  {
   "cell_type": "code",
   "execution_count": 4,
   "metadata": {},
   "outputs": [],
   "source": [
    "def good_enough(x,y):\n",
    "    if abs(((y*y)-x))<0.1:\n",
    "        return True\n",
    "    else:\n",
    "        return False        "
   ]
  },
  {
   "cell_type": "code",
   "execution_count": 5,
   "metadata": {},
   "outputs": [],
   "source": [
    "def improve_guess(x,guess):\n",
    "    guess += 0.1\n",
    "    return guess\n"
   ]
  },
  {
   "cell_type": "code",
   "execution_count": 10,
   "metadata": {},
   "outputs": [],
   "source": [
    "try:\n",
    "    sqrt(25,-1)\n",
    "except ValueError:\n",
    "    print(\"Please Don't enter a number less than 0\")"
   ]
  },
  {
   "cell_type": "code",
   "execution_count": 11,
   "metadata": {},
   "outputs": [],
   "source": [
    "def sqrt(x,y):\n",
    "    if x < 0:\n",
    "        raise ValueError(\"Please enter a number greater than zero you moron\")\n",
    "        print(\"I am good \")"
   ]
  },
  {
   "cell_type": "code",
   "execution_count": 13,
   "metadata": {},
   "outputs": [],
   "source": [
    "sqrt(44,-7)"
   ]
  },
  {
   "cell_type": "code",
   "execution_count": null,
   "metadata": {},
   "outputs": [],
   "source": []
  },
  {
   "cell_type": "code",
   "execution_count": null,
   "metadata": {},
   "outputs": [],
   "source": []
  }
 ],
 "metadata": {
  "kernelspec": {
   "display_name": "Python 3",
   "language": "python",
   "name": "python3"
  },
  "language_info": {
   "codemirror_mode": {
    "name": "ipython",
    "version": 3
   },
   "file_extension": ".py",
   "mimetype": "text/x-python",
   "name": "python",
   "nbconvert_exporter": "python",
   "pygments_lexer": "ipython3",
   "version": "3.6.5"
  }
 },
 "nbformat": 4,
 "nbformat_minor": 2
}
