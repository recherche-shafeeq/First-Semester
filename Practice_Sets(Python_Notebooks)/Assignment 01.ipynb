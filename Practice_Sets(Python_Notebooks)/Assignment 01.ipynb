{
 "cells": [
  {
   "cell_type": "code",
   "execution_count": 1,
   "metadata": {},
   "outputs": [],
   "source": [
    "def sqrt(x,guess=0.0):\n",
    "    if x<0:\n",
    "        return None\n",
    "    if good_enough(guess,x):\n",
    "        return guess\n",
    "    else:\n",
    "        new_guess = improve_guess(guess,x)\n",
    "        return sqrt(x,new_guess)\n",
    "       "
   ]
  },
  {
   "cell_type": "code",
   "execution_count": 5,
   "metadata": {},
   "outputs": [],
   "source": [
    "def good_enough(guess,x):\n",
    "    if abs(guess*guess-x)<0.1:\n",
    "        return True\n",
    "    else:\n",
    "        return False\n",
    "    "
   ]
  },
  {
   "cell_type": "code",
   "execution_count": 6,
   "metadata": {},
   "outputs": [],
   "source": [
    "def improve_guess(guess,x):\n",
    "    if guess<x:\n",
    "        return guess+0.1\n",
    "    else:\n",
    "        return guess-0.1"
   ]
  },
  {
   "cell_type": "code",
   "execution_count": 8,
   "metadata": {},
   "outputs": [
    {
     "data": {
      "text/plain": [
       "2.0000000000000013"
      ]
     },
     "execution_count": 8,
     "metadata": {},
     "output_type": "execute_result"
    }
   ],
   "source": [
    "sqrt(4,-1.7)"
   ]
  },
  {
   "cell_type": "code",
   "execution_count": 9,
   "metadata": {},
   "outputs": [],
   "source": [
    "def improve_guess(n,g):\n",
    "    if n<0:\n",
    "        return None\n",
    "    else:\n",
    "        return (g-((g*g)-n)/2*g)\n",
    "        \n",
    "    "
   ]
  },
  {
   "cell_type": "code",
   "execution_count": 3,
   "metadata": {},
   "outputs": [],
   "source": [
    "m=0\n",
    "def sqrt(n,g=0.00000):\n",
    "    m=m+1\n",
    "    if n<0:\n",
    "        \n",
    "        return None\n",
    "    \n",
    "    if good_enough(n,g):\n",
    "    \n",
    "        return (g)\n",
    "    \n",
    "    else:\n",
    "        better_guess=improve_guess(n,g)\n",
    "        return (n,better_guess)"
   ]
  },
  {
   "cell_type": "code",
   "execution_count": null,
   "metadata": {},
   "outputs": [],
   "source": [
    "def good_enough(n,g):\n",
    "    if abs((guess*guess)-n)<0.00001:\n",
    "        return True\n",
    "    else:\n",
    "        return False"
   ]
  }
 ],
 "metadata": {
  "kernelspec": {
   "display_name": "Python 3",
   "language": "python",
   "name": "python3"
  },
  "language_info": {
   "codemirror_mode": {
    "name": "ipython",
    "version": 3
   },
   "file_extension": ".py",
   "mimetype": "text/x-python",
   "name": "python",
   "nbconvert_exporter": "python",
   "pygments_lexer": "ipython3",
   "version": "3.6.5"
  }
 },
 "nbformat": 4,
 "nbformat_minor": 2
}
