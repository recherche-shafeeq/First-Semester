{
 "cells": [
  {
   "cell_type": "code",
   "execution_count": 24,
   "metadata": {},
   "outputs": [
    {
     "name": "stderr",
     "output_type": "stream",
     "text": [
      "INFO:The value of dif is 13\n",
      "INFO:The value of i is 0\n",
      "INFO:The difference between lst[lst.index(i)+1] - i = 13\n",
      "INFO:Changing the value of counter to 1\n",
      "INFO:The value of i is 13\n",
      "INFO:The difference between lst[lst.index(i)+1] - i = 13\n",
      "INFO:Changing the value of counter to 2\n",
      "INFO:The value of i is 26\n",
      "INFO:The difference between lst[lst.index(i)+1] - i = 13\n",
      "INFO:Changing the value of counter to 3\n",
      "INFO:The difference is positive\n",
      "INFO:The value of dif is 60\n",
      "INFO:The value of i is 0\n",
      "INFO:The difference between lst[lst.index(i)+1] - i = 60\n",
      "INFO:Changing the value of counter to 1\n",
      "INFO:The value of i is 60\n",
      "INFO:The difference between lst[lst.index(i)+1] - i = 60\n",
      "INFO:Changing the value of counter to 2\n",
      "INFO:The value of i is 120\n",
      "INFO:The difference between lst[lst.index(i)+1] - i = 60\n",
      "INFO:Changing the value of counter to 3\n",
      "INFO:The difference is positive\n",
      "INFO:The value of dif is 14\n",
      "INFO:The value of i is -14\n",
      "INFO:The difference between lst[lst.index(i)+1] - i = 14\n",
      "INFO:Changing the value of counter to 1\n",
      "INFO:The value of i is 0\n",
      "INFO:The difference between lst[lst.index(i)+1] - i = 14\n",
      "INFO:Changing the value of counter to 2\n",
      "INFO:The value of i is 14\n",
      "INFO:The difference between lst[lst.index(i)+1] - i = 14\n",
      "INFO:Changing the value of counter to 3\n",
      "INFO:The difference is positive\n"
     ]
    },
    {
     "data": {
      "text/plain": [
       "[-14, 0, 14, 28]"
      ]
     },
     "execution_count": 24,
     "metadata": {},
     "output_type": "execute_result"
    }
   ],
   "source": [
    "#requirement the list/tuple must be in sequence(not as in object sequence),which means the difference between elements should be consistant\n",
    "#input:given any list or tuple it will convert it to its range\n",
    "#output:it will give the range of your input list/tuple\n",
    "#two examples are given\n",
    "import logging\n",
    "logging.basicConfig(format = \"%(levelname)s:%(message)s\",level = logging.DEBUG)\n",
    "def mkrange(lst):\n",
    "    if len(lst) <= 1:\n",
    "        raise ValueError(\"Please enter a list of size greater than 1\")\n",
    "    counter = 0\n",
    "    dif = lst[1]-lst[0]\n",
    "    logging.info(\"The value of dif is {}\".format(dif))\n",
    "    for i in lst[:-1]: \n",
    "        logging.info(\"The value of i is {}\".format(i))\n",
    "        logging.info(\"The difference between lst[lst.index(i)+1] - i = {}\".format(lst[lst.index(i)+1] - i))\n",
    "        if lst[lst.index(i)+1] - i == dif:\n",
    "            counter += 1\n",
    "            logging.info(\"Changing the value of counter to {}\".format(counter))\n",
    "    if counter == len(lst)-1:\n",
    "        if dif < 0:\n",
    "            logging.info(\"The difference is negative\")\n",
    "            return range(lst[0],lst[-1]-1,dif)\n",
    "        if dif > 0:\n",
    "            logging.info(\"The difference is positive\")\n",
    "            return range(lst[0],lst[-1]+1,dif)\n",
    "    else:\n",
    "        raise ValueError(\"You didn't enter a sequence of list\")\n",
    "exp1 = mkrange((0,13,26,39))\n",
    "exp2 = mkrange([0,60,120,180])\n",
    "exp3 = mkrange([-14,0,14,28])\n",
    "print(tuple(exp1))\n",
    "print(list(exp2))\n",
    "print(list(exp3))"
   ]
  },
  {
   "cell_type": "code",
   "execution_count": 26,
   "metadata": {},
   "outputs": [
    {
     "name": "stderr",
     "output_type": "stream",
     "text": [
      "INFO:The value of dif is 13\n",
      "INFO:The value of i is 0\n",
      "INFO:The difference between lst[lst.index(i)+1] - i = 13\n",
      "INFO:Changing the value of counter to 1\n",
      "INFO:The value of i is 13\n",
      "INFO:The difference between lst[lst.index(i)+1] - i = 13\n",
      "INFO:Changing the value of counter to 2\n",
      "INFO:The value of i is 26\n",
      "INFO:The difference between lst[lst.index(i)+1] - i = 13\n",
      "INFO:Changing the value of counter to 3\n",
      "INFO:The difference is positive\n",
      "INFO:The value of dif is 60\n",
      "INFO:The value of i is 0\n",
      "INFO:The difference between lst[lst.index(i)+1] - i = 60\n",
      "INFO:Changing the value of counter to 1\n",
      "INFO:The value of i is 60\n",
      "INFO:The difference between lst[lst.index(i)+1] - i = 60\n",
      "INFO:Changing the value of counter to 2\n",
      "INFO:The value of i is 120\n",
      "INFO:The difference between lst[lst.index(i)+1] - i = 60\n",
      "INFO:Changing the value of counter to 3\n",
      "INFO:The difference is positive\n",
      "INFO:The value of dif is 14\n",
      "INFO:The value of i is -14\n",
      "INFO:The difference between lst[lst.index(i)+1] - i = 14\n",
      "INFO:Changing the value of counter to 1\n",
      "INFO:The value of i is 0\n",
      "INFO:The difference between lst[lst.index(i)+1] - i = 14\n",
      "INFO:Changing the value of counter to 2\n",
      "INFO:The value of i is 14\n",
      "INFO:The difference between lst[lst.index(i)+1] - i = 14\n",
      "INFO:Changing the value of counter to 3\n",
      "INFO:The difference is positive\n"
     ]
    },
    {
     "data": {
      "text/plain": [
       "[-14, 0, 14, 28]"
      ]
     },
     "execution_count": 26,
     "metadata": {},
     "output_type": "execute_result"
    }
   ],
   "source": [
    "exp1 = mkrange((0,13,26,39))\n",
    "exp2 = mkrange([0,60,120,180])\n",
    "exp3 = mkrange([-14,0,14,28])\n",
    "tuple(exp1)\n",
    "list(exp2)\n",
    "list(exp3)"
   ]
  },
  {
   "cell_type": "code",
   "execution_count": 28,
   "metadata": {},
   "outputs": [
    {
     "name": "stdout",
     "output_type": "stream",
     "text": [
      "(0, 13, 26, 39)\n",
      "[0, 60, 120, 180]\n",
      "[-14, 0, 14, 28]\n"
     ]
    }
   ],
   "source": [
    "print(tuple(exp1))\n",
    "print(list(exp2))\n",
    "print(list(exp3))"
   ]
  },
  {
   "cell_type": "code",
   "execution_count": null,
   "metadata": {},
   "outputs": [],
   "source": [
    "# exps contains the  range the input\n",
    "exp1 = mkrange((0,13,26,39))\n",
    "exp2 = mkrange([0,60,120,180])\n",
    "exp3 = mkrange([-14,0,14,28])\n",
    "# converting back to the original input \n",
    "tuple(exp1)\n",
    "list(exp2)\n",
    "list(exp3)"
   ]
  },
  {
   "cell_type": "code",
   "execution_count": null,
   "metadata": {},
   "outputs": [],
   "source": [
    "a[x]"
   ]
  },
  {
   "cell_type": "code",
   "execution_count": null,
   "metadata": {},
   "outputs": [],
   "source": [
    "b = [5,7,2,8,6,4,7,5,2]"
   ]
  },
  {
   "cell_type": "code",
   "execution_count": null,
   "metadata": {},
   "outputs": [],
   "source": [
    "b[x]"
   ]
  },
  {
   "cell_type": "code",
   "execution_count": null,
   "metadata": {},
   "outputs": [],
   "source": [
    "b[a]"
   ]
  },
  {
   "cell_type": "code",
   "execution_count": null,
   "metadata": {},
   "outputs": [],
   "source": []
  },
  {
   "cell_type": "code",
   "execution_count": null,
   "metadata": {},
   "outputs": [],
   "source": [
    "import logging\n",
    "logging.basicConfig(format = \"%(levelname)s :%(message)s \",level = logging.DEBUG)\n",
    "def common_dev(in1,in2):\n",
    "    minVal = None\n",
    "    maxVal = None\n",
    "    for i in range(2,min(in1,in2)+1):\n",
    "        logging.info(\"Entered the loop with  {}\".format(i))\n",
    "        if in1%i == 0 and in2%i == 0:\n",
    "            logging.info(\"Found a common devisor{}\".format(i))\n",
    "            if minVal == None:\n",
    "                logging.info(\"Placing the value of minVal as {}\".format(i))\n",
    "                minVal = i\n",
    "            maxVal = i\n",
    "            \n",
    "    return (minVal,maxVal)"
   ]
  },
  {
   "cell_type": "code",
   "execution_count": null,
   "metadata": {},
   "outputs": [],
   "source": [
    "common_dev(27,81)"
   ]
  },
  {
   "cell_type": "code",
   "execution_count": null,
   "metadata": {},
   "outputs": [],
   "source": [
    "[1,2,3,4][1:3][1]"
   ]
  },
  {
   "cell_type": "code",
   "execution_count": null,
   "metadata": {},
   "outputs": [],
   "source": [
    "(5,2,3,5,2)-(4,5,6,6,3,4)"
   ]
  },
  {
   "cell_type": "code",
   "execution_count": null,
   "metadata": {},
   "outputs": [],
   "source": [
    "a =[1,2,3]"
   ]
  },
  {
   "cell_type": "code",
   "execution_count": null,
   "metadata": {},
   "outputs": [],
   "source": []
  },
  {
   "cell_type": "code",
   "execution_count": null,
   "metadata": {},
   "outputs": [],
   "source": []
  }
 ],
 "metadata": {
  "kernelspec": {
   "display_name": "Python 3",
   "language": "python",
   "name": "python3"
  }
 },
 "nbformat": 4,
 "nbformat_minor": 2
}
