{
 "cells": [
  {
   "cell_type": "code",
   "execution_count": null,
   "metadata": {},
   "outputs": [],
   "source": [
    "def sort(lst):\n",
    "    new_lst = []\n",
    "    while lst:\n",
    "        a = lst[0]\n",
    "        for i in lst:\n",
    "            if i > a:\n",
    "                a = i\n",
    "        new_lst.append(a)\n",
    "        lst.remove(a)\n",
    "    pri"
   ]
  },
  {
   "cell_type": "code",
   "execution_count": null,
   "metadata": {},
   "outputs": [],
   "source": [
    "sort([7,3,4,8,9,2,5,7,3,2])"
   ]
  },
  {
   "cell_type": "code",
   "execution_count": null,
   "metadata": {},
   "outputs": [],
   "source": [
    "def ari_func(x = 1,y = 1):\n",
    "    print(x+y)\n",
    "    print(x-y)\n",
    "    print(x*y)\n",
    "    print(x/y)\n",
    "    "
   ]
  },
  {
   "cell_type": "code",
   "execution_count": null,
   "metadata": {},
   "outputs": [],
   "source": [
    "from math import pi\n",
    "def new():\n",
    "    x = int(input(\"Enter radius:\"))\n",
    "    y = input(\"Enter Choice D/A/C: \")\n",
    "    if y == \"D\":\n",
    "        print(2*x)\n",
    "    elif y == \"A\":\n",
    "        print(2*pi*x)\n",
    "    "
   ]
  },
  {
   "cell_type": "code",
   "execution_count": null,
   "metadata": {},
   "outputs": [],
   "source": [
    "c = a+b"
   ]
  },
  {
   "cell_type": "code",
   "execution_count": null,
   "metadata": {},
   "outputs": [],
   "source": [
    "print(c)"
   ]
  },
  {
   "cell_type": "code",
   "execution_count": null,
   "metadata": {},
   "outputs": [],
   "source": [
    "maxim = 0\n",
    "for i in c:\n",
    "    if i==None:\n",
    "        maxim = i\n",
    "    if i > maxim:\n",
    "        maxim = i\n",
    "print(maxim)"
   ]
  },
  {
   "cell_type": "code",
   "execution_count": null,
   "metadata": {},
   "outputs": [],
   "source": [
    "def longest(s1, s2):\n",
    "    a = []\n",
    "    b = []\n",
    "    for i in s1:\n",
    "        a.append(i)\n",
    "    for j in s2:\n",
    "        b.append(j)\n",
    "    a.sort()\n",
    "    b.sort()\n",
    "    if len(a)>len(b):\n",
    "        for k in range(len(a)):\n",
    "            if a[k] == a[k+1]:\n",
    "                a.remove(a[k+1])\n",
    "        c = ''.join(a)\n",
    "        return c\n",
    "    elif len(a)<len(b):\n",
    "        d = ''.join(b)\n",
    "        return d\n",
    "longest(\"hjgkl\",\"kj\")"
   ]
  },
  {
   "cell_type": "code",
   "execution_count": null,
   "metadata": {},
   "outputs": [],
   "source": [
    "longest(\"hjgkl\",\"kj\")"
   ]
  },
  {
   "cell_type": "code",
   "execution_count": null,
   "metadata": {},
   "outputs": [],
   "source": [
    "a = [\"without\",\"hello\",\"bag\",\"world\"]"
   ]
  },
  {
   "cell_type": "code",
   "execution_count": null,
   "metadata": {},
   "outputs": [],
   "source": [
    "a.sort()"
   ]
  },
  {
   "cell_type": "code",
   "execution_count": null,
   "metadata": {},
   "outputs": [],
   "source": [
    "print(a)"
   ]
  },
  {
   "cell_type": "code",
   "execution_count": null,
   "metadata": {},
   "outputs": [],
   "source": [
    "counter = 6\n",
    "coun = -1\n",
    "for i in range(1,7):\n",
    "    counter -= 1\n",
    "    coun +=1\n",
    "    print(counter*\" \",i*\"*\"+coun*\"*\")\n",
    "    if i == 6:\n",
    "        for i in range(1,6):\n",
    "            coun -= 1\n",
    "            print(i*\" \",coun*\"*\"+((1+coun)*\"*\"))"
   ]
  },
  {
   "cell_type": "code",
   "execution_count": null,
   "metadata": {},
   "outputs": [],
   "source": [
    "import os"
   ]
  },
  {
   "cell_type": "code",
   "execution_count": null,
   "metadata": {},
   "outputs": [],
   "source": [
    "def new(a,b,c):\n",
    "    with open(os.path.join(a,c), \"w\") as s:\n",
    "        with open(os.path.join(a,b), \"r\") as f:\n",
    "            for line in f:\n",
    "                for i in line:\n",
    "                    \n",
    "                s.write(line)\n",
    "                "
   ]
  },
  {
   "cell_type": "code",
   "execution_count": null,
   "metadata": {},
   "outputs": [],
   "source": [
    "new(\"res\",\"dummy.txt\",\"dummy-txt\")"
   ]
  },
  {
   "cell_type": "code",
   "execution_count": null,
   "metadata": {},
   "outputs": [],
   "source": [
    "a = [[1,2],[3,4],[5,6]]"
   ]
  },
  {
   "cell_type": "code",
   "execution_count": null,
   "metadata": {},
   "outputs": [],
   "source": [
    "with open(os.path.join(\"res\",\"dummy-txt\"),\"r\") as f:\n",
    "    for line in f:\n",
    "        print(line)"
   ]
  },
  {
   "cell_type": "code",
   "execution_count": null,
   "metadata": {},
   "outputs": [],
   "source": [
    "a = [[1,2,3],[4,5,6],[7,8,9]]"
   ]
  },
  {
   "cell_type": "code",
   "execution_count": null,
   "metadata": {},
   "outputs": [],
   "source": [
    "def new_new():\n",
    "    global z\n",
    "    z=9"
   ]
  },
  {
   "cell_type": "code",
   "execution_count": null,
   "metadata": {},
   "outputs": [],
   "source": [
    "new_new()"
   ]
  },
  {
   "cell_type": "code",
   "execution_count": null,
   "metadata": {},
   "outputs": [],
   "source": [
    "z"
   ]
  },
  {
   "cell_type": "code",
   "execution_count": null,
   "metadata": {},
   "outputs": [],
   "source": [
    "a = \"gjkdghkkkdfkgl\""
   ]
  },
  {
   "cell_type": "code",
   "execution_count": null,
   "metadata": {},
   "outputs": [],
   "source": [
    "line = \"a/b/c\""
   ]
  },
  {
   "cell_type": "code",
   "execution_count": null,
   "metadata": {},
   "outputs": [],
   "source": [
    "line.split('/')"
   ]
  },
  {
   "cell_type": "code",
   "execution_count": null,
   "metadata": {},
   "outputs": [],
   "source": [
    "a = (\"fhkasj\",4)"
   ]
  },
  {
   "cell_type": "code",
   "execution_count": null,
   "metadata": {},
   "outputs": [],
   "source": [
    "type(a)"
   ]
  },
  {
   "cell_type": "code",
   "execution_count": null,
   "metadata": {},
   "outputs": [],
   "source": [
    "a = {\"fdjakjfklas\",\"mkfa\",\"fjalkn\",\"naff\"}"
   ]
  },
  {
   "cell_type": "code",
   "execution_count": null,
   "metadata": {},
   "outputs": [],
   "source": [
    "type(a)"
   ]
  },
  {
   "cell_type": "code",
   "execution_count": null,
   "metadata": {},
   "outputs": [],
   "source": [
    "a = [3,1,4,3,1,4,4,3,1]"
   ]
  },
  {
   "cell_type": "code",
   "execution_count": null,
   "metadata": {},
   "outputs": [],
   "source": [
    "a[::-1]"
   ]
  },
  {
   "cell_type": "code",
   "execution_count": null,
   "metadata": {},
   "outputs": [],
   "source": [
    "a"
   ]
  },
  {
   "cell_type": "code",
   "execution_count": null,
   "metadata": {},
   "outputs": [],
   "source": [
    "a.index(3)"
   ]
  },
  {
   "cell_type": "code",
   "execution_count": null,
   "metadata": {},
   "outputs": [],
   "source": [
    "a = {\"model\":\"ford\",\"noplate\":\"8329\"}"
   ]
  },
  {
   "cell_type": "code",
   "execution_count": null,
   "metadata": {},
   "outputs": [],
   "source": [
    "a.insert(2,5)"
   ]
  },
  {
   "cell_type": "code",
   "execution_count": null,
   "metadata": {},
   "outputs": [],
   "source": [
    "a"
   ]
  },
  {
   "cell_type": "code",
   "execution_count": null,
   "metadata": {},
   "outputs": [],
   "source": [
    "def new():\n",
    "    import os\n",
    "    with open(os.path.join(\"res\",\"dummyy-txt\"),\"w\") as f:\n",
    "        with open(os.path.join(\"res\",\"dummy.txt\"),\"r\") as s:\n",
    "            for line in s:\n",
    "                line=line.strip()\n",
    "                print(line)\n",
    "                a = input(\"Enter roll no for \"+line+\":\")\n",
    "                f.write(line)\n",
    "                f.write(\" \"+a+\"\\n\")"
   ]
  },
  {
   "cell_type": "code",
   "execution_count": null,
   "metadata": {},
   "outputs": [],
   "source": [
    "new()"
   ]
  },
  {
   "cell_type": "code",
   "execution_count": null,
   "metadata": {},
   "outputs": [],
   "source": [
    "import os\n",
    "with open(os.path.join(\"res\",\"dummyy-txt\"),\"r\") as f:\n",
    "     for line in f:\n",
    "            \n",
    "        print(line)"
   ]
  },
  {
   "cell_type": "code",
   "execution_count": null,
   "metadata": {},
   "outputs": [],
   "source": [
    "with open(os.path.join(\"res\",\"dummy.txt\"),\"r\") as s:\n",
    "    b = []\n",
    "    for line in s:\n",
    "        b.append(line.strip())\n",
    "    maxim = b[0]\n",
    "    length = len(b[0])\n",
    "    for i in b:\n",
    "        if len(i) < length:\n",
    "            maxim = i\n",
    "            length = len(i)\n",
    "    print(maxim,\":\",length)"
   ]
  },
  {
   "cell_type": "code",
   "execution_count": null,
   "metadata": {},
   "outputs": [],
   "source": [
    "print(b)"
   ]
  },
  {
   "cell_type": "code",
   "execution_count": null,
   "metadata": {},
   "outputs": [],
   "source": [
    "a = ['Names','Shafeeq','Hameed','Hamble', 'Abddullah']"
   ]
  },
  {
   "cell_type": "code",
   "execution_count": null,
   "metadata": {},
   "outputs": [],
   "source": [
    "min(a)"
   ]
  },
  {
   "cell_type": "code",
   "execution_count": null,
   "metadata": {},
   "outputs": [],
   "source": [
    "len(\"gssg\")"
   ]
  },
  {
   "cell_type": "code",
   "execution_count": 9,
   "metadata": {},
   "outputs": [
    {
     "name": "stdout",
     "output_type": "stream",
     "text": [
      "Enter roll no for Shafeeq:p45\n",
      "Enter roll no for Hamid:324\n",
      "Enter roll no for Hamble:\n",
      "Enter roll no for Abddullah:325\n"
     ]
    }
   ],
   "source": [
    "import os\n",
    "with open(os.path.join(\"res\",\"dummy-txt\"),\"w\") as f:\n",
    "    with open(os.path.join(\"res\",\"dummy.txt\"),\"r\") as s:\n",
    "        for line in s:\n",
    "            line = line.strip()\n",
    "            x = input(\"Enter roll no for \"+line+\":\")\n",
    "            f.write(line+\":\"+x+\"\\n\")"
   ]
  },
  {
   "cell_type": "markdown",
   "metadata": {},
   "source": [
    "#### "
   ]
  },
  {
   "cell_type": "code",
   "execution_count": 11,
   "metadata": {},
   "outputs": [
    {
     "name": "stdout",
     "output_type": "stream",
     "text": [
      "Shafeeq:p45\n",
      "Hamid:324\n",
      "Hamble:\n",
      "Abddullah:325\n"
     ]
    }
   ],
   "source": [
    "with open(os.path.join(\"res\",\"dummy-txt\"),\"r\") as f:\n",
    "    for line in f:\n",
    "\n",
    "        print(line.strip())"
   ]
  },
  {
   "cell_type": "code",
   "execution_count": 20,
   "metadata": {},
   "outputs": [],
   "source": [
    "def check(a):\n",
    "    with open(os.path.join(\"res\",\"dummy.txt\"),\"r\") as f:\n",
    "        for line in f:\n",
    "            print(line.strip())\n",
    "            if line.strip() == a:\n",
    "                return True\n",
    "        return False"
   ]
  },
  {
   "cell_type": "code",
   "execution_count": 21,
   "metadata": {},
   "outputs": [
    {
     "name": "stdout",
     "output_type": "stream",
     "text": [
      "Shafeeq\n",
      "Hamid\n",
      "Hamble\n"
     ]
    },
    {
     "data": {
      "text/plain": [
       "True"
      ]
     },
     "execution_count": 21,
     "metadata": {},
     "output_type": "execute_result"
    }
   ],
   "source": [
    "check(\"Hamble\")"
   ]
  },
  {
   "cell_type": "code",
   "execution_count": 24,
   "metadata": {},
   "outputs": [
    {
     "name": "stdout",
     "output_type": "stream",
     "text": [
      "Sha\n",
      "Ham\n",
      "Ham\n",
      "Abd\n"
     ]
    }
   ],
   "source": [
    "with open(os.path.join(\"res\",\"dummy.txt\"),\"r\") as f:\n",
    "    for line in f:\n",
    "        line = line.strip()\n",
    "        print(line[:3])"
   ]
  },
  {
   "cell_type": "code",
   "execution_count": 32,
   "metadata": {},
   "outputs": [
    {
     "name": "stdout",
     "output_type": "stream",
     "text": [
      "Shafeeq\n",
      "Hamid\n",
      "Hamble\n",
      "Abddullah\n",
      "27\n"
     ]
    }
   ],
   "source": [
    "counter = 0\n",
    "with open(os.path.join(\"res\",\"dummy.txt\"),\"r\") as f:\n",
    "    for line in f:\n",
    "        line = line.strip()\n",
    "        counter += len(line)"
   ]
  },
  {
   "cell_type": "code",
   "execution_count": 33,
   "metadata": {},
   "outputs": [
    {
     "data": {
      "text/plain": [
       "27"
      ]
     },
     "execution_count": 33,
     "metadata": {},
     "output_type": "execute_result"
    }
   ],
   "source": [
    "len(\"ShafeeqHamidHambleAbddullah\")"
   ]
  },
  {
   "cell_type": "code",
   "execution_count": 51,
   "metadata": {},
   "outputs": [
    {
     "name": "stdout",
     "output_type": "stream",
     "text": [
      "Enter string:gfghvhgvhvhjghgjhrtdsreewserduhlkj\n"
     ]
    }
   ],
   "source": [
    "a = input(\"Enter string:\")\n",
    "b= list(a)"
   ]
  },
  {
   "cell_type": "code",
   "execution_count": 38,
   "metadata": {},
   "outputs": [],
   "source": [
    "b = \"dsfgfdsgfdsfsfd\"\n",
    "for i in b:\n",
    "    if b.count(i) > 1:\n",
    "        b.remove(i)"
   ]
  },
  {
   "cell_type": "code",
   "execution_count": 43,
   "metadata": {},
   "outputs": [
    {
     "name": "stdout",
     "output_type": "stream",
     "text": [
      "['z', 's', 'd', 'j', 'k', 'g', 'n', 'k', 'a', 'f']\n",
      "z\n"
     ]
    }
   ],
   "source": [
    "print(b)\n",
    "c = b\n",
    "c[0] = 'z'\n",
    "print(b[0])"
   ]
  },
  {
   "cell_type": "code",
   "execution_count": 40,
   "metadata": {},
   "outputs": [
    {
     "data": {
      "text/plain": [
       "'gsdjkgnkaf'"
      ]
     },
     "execution_count": 40,
     "metadata": {},
     "output_type": "execute_result"
    }
   ],
   "source": [
    "\"\".join(b)"
   ]
  },
  {
   "cell_type": "code",
   "execution_count": 46,
   "metadata": {},
   "outputs": [
    {
     "data": {
      "text/plain": [
       "2"
      ]
     },
     "execution_count": 46,
     "metadata": {},
     "output_type": "execute_result"
    }
   ],
   "source": [
    "b.count(\"g\")"
   ]
  },
  {
   "cell_type": "code",
   "execution_count": 54,
   "metadata": {},
   "outputs": [],
   "source": [
    "c = []\n",
    "for i in b:\n",
    "    if b.count(i) > 1 and ((i in c)==False):\n",
    "        c.append(i)"
   ]
  },
  {
   "cell_type": "code",
   "execution_count": 55,
   "metadata": {},
   "outputs": [
    {
     "data": {
      "text/plain": [
       "['g', 'h', 'v', 'j', 'r', 'd', 's', 'e']"
      ]
     },
     "execution_count": 55,
     "metadata": {},
     "output_type": "execute_result"
    }
   ],
   "source": [
    "c"
   ]
  },
  {
   "cell_type": "code",
   "execution_count": 56,
   "metadata": {},
   "outputs": [],
   "source": [
    "new_list = []\n",
    "for i in b:\n",
    "    if i not in new_list:\n",
    "        new_list.append(i)"
   ]
  },
  {
   "cell_type": "code",
   "execution_count": 57,
   "metadata": {},
   "outputs": [
    {
     "data": {
      "text/plain": [
       "['g', 'f', 'h', 'v', 'j', 'r', 't', 'd', 's', 'e', 'w', 'u', 'l', 'k']"
      ]
     },
     "execution_count": 57,
     "metadata": {},
     "output_type": "execute_result"
    }
   ],
   "source": [
    "new_list"
   ]
  },
  {
   "cell_type": "code",
   "execution_count": null,
   "metadata": {},
   "outputs": [],
   "source": []
  }
 ],
 "metadata": {
  "kernelspec": {
   "display_name": "Python 3",
   "language": "python",
   "name": "python3"
  },
  "language_info": {
   "codemirror_mode": {
    "name": "ipython",
    "version": 3
   },
   "file_extension": ".py",
   "mimetype": "text/x-python",
   "name": "python",
   "nbconvert_exporter": "python",
   "pygments_lexer": "ipython3",
   "version": "3.6.5"
  }
 },
 "nbformat": 4,
 "nbformat_minor": 2
}
