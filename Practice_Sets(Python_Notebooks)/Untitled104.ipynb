{
 "cells": [
  {
   "cell_type": "code",
   "execution_count": 8,
   "metadata": {},
   "outputs": [
    {
     "name": "stdout",
     "output_type": "stream",
     "text": [
      "Requirement already satisfied: requests in c:\\users\\rubix\\anaconda3\\lib\\site-packages (2.18.4)\n",
      "Requirement already satisfied: chardet<3.1.0,>=3.0.2 in c:\\users\\rubix\\anaconda3\\lib\\site-packages (from requests) (3.0.4)\n",
      "Requirement already satisfied: idna<2.7,>=2.5 in c:\\users\\rubix\\anaconda3\\lib\\site-packages (from requests) (2.6)\n",
      "Requirement already satisfied: urllib3<1.23,>=1.21.1 in c:\\users\\rubix\\anaconda3\\lib\\site-packages (from requests) (1.22)\n",
      "Requirement already satisfied: certifi>=2017.4.17 in c:\\users\\rubix\\anaconda3\\lib\\site-packages (from requests) (2018.4.16)\n"
     ]
    }
   ],
   "source": [
    "import requests\n",
    "!pip install requests "
   ]
  },
  {
   "cell_type": "code",
   "execution_count": 2,
   "metadata": {},
   "outputs": [],
   "source": [
    "gists = ['https://gist.github.com/recluze/1d2989c7e345c8c3c542', \n",
    "        'https://gist.github.com/recluze/a98aa1804884ca3b3ad3', \n",
    "        'https://gist.github.com/recluze/5051735efe3fc189b90d', \n",
    "        'https://gist.github.com/recluze/460157afc6a7492555bb', \n",
    "        'https://gist.github.com/recluze/5051735efe3fc189b90d', \n",
    "        'https://gist.github.com/recluze/c9bc4130af995c36176d']"
   ]
  },
  {
   "cell_type": "code",
   "execution_count": 3,
   "metadata": {},
   "outputs": [],
   "source": [
    "from contextlib import contextmanager  # import the decorator \n",
    "import time \n",
    "\n",
    "@contextmanager \n",
    "def timeit():\n",
    "    start_time = int(round(time.time() * 1000))\n",
    "\n",
    "    yield   # Remember this guy from the generators lecture? \n",
    "    \n",
    "    end_time = int(round(time.time() * 1000))\n",
    "    elapsed = end_time - start_time\n",
    "    print(\"Code took %d ms to run.\" % elapsed)"
   ]
  },
  {
   "cell_type": "code",
   "execution_count": 4,
   "metadata": {},
   "outputs": [],
   "source": [
    "def get_gist(g):\n",
    "    print(\"Starting request: %s\" % g)\n",
    "    r = requests.get(g)\n",
    "    g_length = len(r.text)\n",
    "    print(\"Got response of length: %d\" % g_length)"
   ]
  },
  {
   "cell_type": "code",
   "execution_count": 5,
   "metadata": {},
   "outputs": [
    {
     "name": "stdout",
     "output_type": "stream",
     "text": [
      "Starting request: https://gist.github.com/recluze/1d2989c7e345c8c3c542\n",
      "Got response of length: 225802\n",
      "Starting request: https://gist.github.com/recluze/a98aa1804884ca3b3ad3\n",
      "Got response of length: 103873\n",
      "Starting request: https://gist.github.com/recluze/5051735efe3fc189b90d\n",
      "Got response of length: 37800\n",
      "Starting request: https://gist.github.com/recluze/460157afc6a7492555bb\n",
      "Got response of length: 41210\n",
      "Starting request: https://gist.github.com/recluze/5051735efe3fc189b90d\n",
      "Got response of length: 37798\n",
      "Starting request: https://gist.github.com/recluze/c9bc4130af995c36176d\n",
      "Got response of length: 59906\n",
      "All done.\n",
      "Code took 10151 ms to run.\n"
     ]
    }
   ],
   "source": [
    "with timeit():  \n",
    "    for g in gists: \n",
    "        get_gist(g)\n",
    "    print(\"All done.\")"
   ]
  },
  {
   "cell_type": "code",
   "execution_count": 6,
   "metadata": {},
   "outputs": [
    {
     "name": "stdout",
     "output_type": "stream",
     "text": [
      "Starting request: https://gist.github.com/recluze/1d2989c7e345c8c3c542Starting request: https://gist.github.com/recluze/a98aa1804884ca3b3ad3\n",
      "\n",
      "Starting request: https://gist.github.com/recluze/5051735efe3fc189b90dStarting request: https://gist.github.com/recluze/460157afc6a7492555bb\n",
      "\n",
      "Starting request: https://gist.github.com/recluze/5051735efe3fc189b90d\n",
      "Starting request: https://gist.github.com/recluze/c9bc4130af995c36176d\n",
      "Got response of length: 37798\n",
      "Got response of length: 103873\n",
      "Got response of length: 37798\n",
      "Got response of length: 41210\n",
      "Got response of length: 59915\n",
      "Got response of length: 225802\n",
      "All done.\n",
      "Code took 2037 ms to run.\n"
     ]
    }
   ],
   "source": [
    "import threading \n",
    "\n",
    "with timeit(): \n",
    "    threads = [] \n",
    "    for g in gists:\n",
    "        # Create workers\n",
    "        t = threading.Thread(target=get_gist, args=(g, ))\n",
    "        \n",
    "        # Go! \n",
    "        t.start()\n",
    "        \n",
    "        threads.append(t) # Keep a list for record \n",
    "\n",
    "        \n",
    "    for t in threads: \n",
    "        t.join()          # Wait til it finishes \n",
    "        \n",
    "    print(\"All done.\")"
   ]
  },
  {
   "cell_type": "code",
   "execution_count": 10,
   "metadata": {},
   "outputs": [
    {
     "name": "stdout",
     "output_type": "stream",
     "text": [
      "Starting request: https://gist.github.com/recluze/c9bc4130af995c36176dStarting request: https://gist.github.com/recluze/c9bc4130af995c36176d\n",
      "\n",
      "Starting request: https://gist.github.com/recluze/c9bc4130af995c36176dStarting request: https://gist.github.com/recluze/c9bc4130af995c36176d\n",
      "Starting request: https://gist.github.com/recluze/c9bc4130af995c36176d\n",
      "\n",
      "Starting request: https://gist.github.com/recluze/c9bc4130af995c36176d\n",
      "done!\n",
      "Code took 110 ms to run.\n",
      "Got response of length: 59906\n",
      "Got response of length: 59908\n",
      "Got response of length: 59908\n",
      "Got response of length: 59908\n",
      "Got response of length: 59905\n",
      "Got response of length: 59907\n"
     ]
    }
   ],
   "source": [
    "import threading\n",
    "with timeit():\n",
    "    thread = []\n",
    "    for f in gists:\n",
    "        t = threading.Thread(target = get_gist ,args = (g,))\n",
    "        t.start()\n",
    "        thread.append(t)\n",
    "    for t in threads:\n",
    "        t.join()\n",
    "    print(\"done!\")"
   ]
  },
  {
   "cell_type": "code",
   "execution_count": 11,
   "metadata": {},
   "outputs": [
    {
     "ename": "AttributeError",
     "evalue": "'list' object has no attribute 'Threading'",
     "output_type": "error",
     "traceback": [
      "\u001b[1;31m---------------------------------------------------------------------------\u001b[0m",
      "\u001b[1;31mAttributeError\u001b[0m                            Traceback (most recent call last)",
      "\u001b[1;32m<ipython-input-11-281d9be43c2a>\u001b[0m in \u001b[0;36m<module>\u001b[1;34m()\u001b[0m\n\u001b[0;32m      2\u001b[0m \u001b[1;32mfor\u001b[0m \u001b[0mg\u001b[0m \u001b[1;32min\u001b[0m \u001b[0mgists\u001b[0m\u001b[1;33m:\u001b[0m\u001b[1;33m\u001b[0m\u001b[0m\n\u001b[0;32m      3\u001b[0m     \u001b[0mthread\u001b[0m \u001b[1;33m=\u001b[0m \u001b[1;33m[\u001b[0m\u001b[1;33m]\u001b[0m\u001b[1;33m\u001b[0m\u001b[0m\n\u001b[1;32m----> 4\u001b[1;33m     \u001b[0mt\u001b[0m \u001b[1;33m=\u001b[0m \u001b[0mthread\u001b[0m\u001b[1;33m.\u001b[0m\u001b[0mThreading\u001b[0m\u001b[1;33m(\u001b[0m\u001b[0mtarget\u001b[0m \u001b[1;33m=\u001b[0m \u001b[0mget_gist\u001b[0m\u001b[1;33m,\u001b[0m\u001b[0margs\u001b[0m \u001b[1;33m=\u001b[0m \u001b[0mg\u001b[0m\u001b[1;33m)\u001b[0m\u001b[1;33m\u001b[0m\u001b[0m\n\u001b[0m\u001b[0;32m      5\u001b[0m     \u001b[0mt\u001b[0m\u001b[1;33m.\u001b[0m\u001b[0mstart\u001b[0m\u001b[1;33m(\u001b[0m\u001b[1;33m)\u001b[0m\u001b[1;33m\u001b[0m\u001b[0m\n\u001b[0;32m      6\u001b[0m     \u001b[0mthread\u001b[0m\u001b[1;33m.\u001b[0m\u001b[0mappend\u001b[0m\u001b[1;33m(\u001b[0m\u001b[0mt\u001b[0m\u001b[1;33m)\u001b[0m\u001b[1;33m\u001b[0m\u001b[0m\n",
      "\u001b[1;31mAttributeError\u001b[0m: 'list' object has no attribute 'Threading'"
     ]
    }
   ],
   "source": [
    "import threading\n",
    "for g in gists:\n",
    "    thread = []\n",
    "    t = thread.Threading(target = get_gist,args = g)\n",
    "    t.start()\n",
    "    thread.append(t)\n",
    "    for t in threads:\n",
    "        t.join()\n",
    "    print(\"done!\")"
   ]
  },
  {
   "cell_type": "code",
   "execution_count": 21,
   "metadata": {},
   "outputs": [
    {
     "ename": "ZeroDivisionError",
     "evalue": "got error",
     "output_type": "error",
     "traceback": [
      "\u001b[1;31m---------------------------------------------------------------------------\u001b[0m",
      "\u001b[1;31mZeroDivisionError\u001b[0m                         Traceback (most recent call last)",
      "\u001b[1;32m<ipython-input-21-0810e948042c>\u001b[0m in \u001b[0;36m<module>\u001b[1;34m()\u001b[0m\n\u001b[0;32m      4\u001b[0m \u001b[1;32mtry\u001b[0m\u001b[1;33m:\u001b[0m\u001b[1;33m\u001b[0m\u001b[0m\n\u001b[1;32m----> 5\u001b[1;33m     \u001b[0msqrt\u001b[0m\u001b[1;33m(\u001b[0m\u001b[1;33m)\u001b[0m\u001b[1;33m\u001b[0m\u001b[0m\n\u001b[0m\u001b[0;32m      6\u001b[0m \u001b[1;32mexcept\u001b[0m \u001b[0mZeroDivisionError\u001b[0m \u001b[1;32mas\u001b[0m \u001b[0me\u001b[0m\u001b[1;33m:\u001b[0m\u001b[1;33m\u001b[0m\u001b[0m\n",
      "\u001b[1;32m<ipython-input-21-0810e948042c>\u001b[0m in \u001b[0;36msqrt\u001b[1;34m()\u001b[0m\n\u001b[0;32m      1\u001b[0m \u001b[1;32mdef\u001b[0m \u001b[0msqrt\u001b[0m\u001b[1;33m(\u001b[0m\u001b[1;33m)\u001b[0m\u001b[1;33m:\u001b[0m\u001b[1;33m\u001b[0m\u001b[0m\n\u001b[1;32m----> 2\u001b[1;33m     \u001b[1;36m5\u001b[0m\u001b[1;33m/\u001b[0m\u001b[1;36m0\u001b[0m\u001b[1;33m\u001b[0m\u001b[0m\n\u001b[0m\u001b[0;32m      3\u001b[0m \u001b[1;32mimport\u001b[0m \u001b[0mlogging\u001b[0m\u001b[1;33m\u001b[0m\u001b[0m\n",
      "\u001b[1;31mZeroDivisionError\u001b[0m: division by zero",
      "\nDuring handling of the above exception, another exception occurred:\n",
      "\u001b[1;31mZeroDivisionError\u001b[0m                         Traceback (most recent call last)",
      "\u001b[1;32m<ipython-input-21-0810e948042c>\u001b[0m in \u001b[0;36m<module>\u001b[1;34m()\u001b[0m\n\u001b[0;32m      5\u001b[0m     \u001b[0msqrt\u001b[0m\u001b[1;33m(\u001b[0m\u001b[1;33m)\u001b[0m\u001b[1;33m\u001b[0m\u001b[0m\n\u001b[0;32m      6\u001b[0m \u001b[1;32mexcept\u001b[0m \u001b[0mZeroDivisionError\u001b[0m \u001b[1;32mas\u001b[0m \u001b[0me\u001b[0m\u001b[1;33m:\u001b[0m\u001b[1;33m\u001b[0m\u001b[0m\n\u001b[1;32m----> 7\u001b[1;33m     \u001b[1;32mraise\u001b[0m \u001b[0mZeroDivisionError\u001b[0m\u001b[1;33m(\u001b[0m\u001b[1;34m\"got error\"\u001b[0m\u001b[1;33m)\u001b[0m\u001b[1;33m\u001b[0m\u001b[0m\n\u001b[0m",
      "\u001b[1;31mZeroDivisionError\u001b[0m: got error"
     ]
    }
   ],
   "source": [
    "def sqrt():\n",
    "    5/0\n",
    "import logging\n",
    "try:\n",
    "    sqrt()\n",
    "except ZeroDivisionError as e:\n"
   ]
  },
  {
   "cell_type": "code",
   "execution_count": null,
   "metadata": {},
   "outputs": [],
   "source": []
  },
  {
   "cell_type": "code",
   "execution_count": null,
   "metadata": {},
   "outputs": [],
   "source": []
  }
 ],
 "metadata": {
  "kernelspec": {
   "display_name": "Python 3",
   "language": "python",
   "name": "python3"
  },
  "language_info": {
   "codemirror_mode": {
    "name": "ipython",
    "version": 3
   },
   "file_extension": ".py",
   "mimetype": "text/x-python",
   "name": "python",
   "nbconvert_exporter": "python",
   "pygments_lexer": "ipython3",
   "version": "3.6.5"
  }
 },
 "nbformat": 4,
 "nbformat_minor": 2
}
