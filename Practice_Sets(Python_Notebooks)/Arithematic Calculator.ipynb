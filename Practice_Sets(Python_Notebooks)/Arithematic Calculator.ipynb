{
 "cells": [
  {
   "cell_type": "code",
   "execution_count": null,
   "metadata": {},
   "outputs": [
    {
     "name": "stdout",
     "output_type": "stream",
     "text": [
      "enter number:66\n",
      "enter number:6\n",
      "enter operation +,-,*,/,**,//,%:+\n",
      "Addition: 72\n",
      "you want to continue (y/n)y\n",
      "enter number:6\n",
      "enter number:6\n",
      "enter operation +,-,*,/,**,//,%:**\n",
      "Power: 46656\n"
     ]
    }
   ],
   "source": [
    "choice=\"y\"\n",
    "while choice==\"y\":\n",
    "    a=int(input(\"enter number:\"))\n",
    "    \n",
    "    b=int(input(\"enter number:\"))\n",
    "    \n",
    "    c=input(\"enter operation +,-,*,/,**,//,%:\")\n",
    "    \n",
    "    if c==\"+\":\n",
    "        add=a+b\n",
    "        print(\"Addition:\",add)\n",
    "    \n",
    "    if c==\"-\":\n",
    "        sub=a-b\n",
    "        print(\"Subtraction:\",sub)\n",
    "    \n",
    "    if c==\"*\":\n",
    "        mul=a*b\n",
    "        print(\"Multiplication:\",mul)\n",
    "    \n",
    "    if c==\"/\":\n",
    "        div=a/b\n",
    "        print(\"Division:\",div)\n",
    "    \n",
    "    if c==\"**\":\n",
    "        power=a**b\n",
    "        print(\"Power:\",power)\n",
    "    \n",
    "    if c==\"//\":\n",
    "        float_div=a//b\n",
    "        print(\"Float Division:\",float_div)\n",
    "    \n",
    "    if c==\"%\":\n",
    "        rem= a%b\n",
    "        print(\"Modulus:\",rem)\n",
    "    \n",
    "    choice=input(\"you want to continue (y/n)\")\n",
    "    "
   ]
  },
  {
   "cell_type": "code",
   "execution_count": null,
   "metadata": {},
   "outputs": [],
   "source": []
  }
 ],
 "metadata": {
  "kernelspec": {
   "display_name": "Python 3",
   "language": "python",
   "name": "python3"
  },
  "language_info": {
   "codemirror_mode": {
    "name": "ipython",
    "version": 3
   },
   "file_extension": ".py",
   "mimetype": "text/x-python",
   "name": "python",
   "nbconvert_exporter": "python",
   "pygments_lexer": "ipython3",
   "version": "3.6.5"
  }
 },
 "nbformat": 4,
 "nbformat_minor": 2
}
