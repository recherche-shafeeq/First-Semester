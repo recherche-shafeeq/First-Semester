{
 "cells": [
  {
   "cell_type": "code",
   "execution_count": 1,
   "metadata": {},
   "outputs": [],
   "source": [
    "import os\n",
    "file=os.path.join(\"res\",\"datafile.csv\")"
   ]
  },
  {
   "cell_type": "code",
   "execution_count": null,
   "metadata": {},
   "outputs": [],
   "source": [
    "print(file)"
   ]
  },
  {
   "cell_type": "code",
   "execution_count": null,
   "metadata": {},
   "outputs": [],
   "source": [
    "rows=[]\n",
    "with open(file,\"r\") as f:\n",
    "    for line in f:\n",
    "        rows.append(line.strip().split(\",\"))\n",
    "rows"
   ]
  },
  {
   "cell_type": "code",
   "execution_count": 2,
   "metadata": {},
   "outputs": [
    {
     "ename": "NameError",
     "evalue": "name 'rows' is not defined",
     "output_type": "error",
     "traceback": [
      "\u001b[1;31m---------------------------------------------------------------------------\u001b[0m",
      "\u001b[1;31mNameError\u001b[0m                                 Traceback (most recent call last)",
      "\u001b[1;32m<ipython-input-2-9749f1f56141>\u001b[0m in \u001b[0;36m<module>\u001b[1;34m()\u001b[0m\n\u001b[1;32m----> 1\u001b[1;33m \u001b[1;32mfor\u001b[0m \u001b[0mi\u001b[0m \u001b[1;32min\u001b[0m \u001b[0mrows\u001b[0m\u001b[1;33m[\u001b[0m\u001b[1;36m1\u001b[0m\u001b[1;33m:\u001b[0m\u001b[1;33m]\u001b[0m\u001b[1;33m:\u001b[0m\u001b[1;33m\u001b[0m\u001b[0m\n\u001b[0m\u001b[0;32m      2\u001b[0m     \u001b[1;32mfor\u001b[0m \u001b[0mj\u001b[0m \u001b[1;32min\u001b[0m \u001b[0mrange\u001b[0m\u001b[1;33m(\u001b[0m\u001b[1;36m2\u001b[0m\u001b[1;33m,\u001b[0m\u001b[1;36m6\u001b[0m\u001b[1;33m)\u001b[0m\u001b[1;33m:\u001b[0m\u001b[1;33m\u001b[0m\u001b[0m\n\u001b[0;32m      3\u001b[0m         \u001b[0mi\u001b[0m\u001b[1;33m[\u001b[0m\u001b[0mj\u001b[0m\u001b[1;33m]\u001b[0m\u001b[1;33m=\u001b[0m\u001b[0mfloat\u001b[0m\u001b[1;33m(\u001b[0m\u001b[0mi\u001b[0m\u001b[1;33m[\u001b[0m\u001b[0mj\u001b[0m\u001b[1;33m]\u001b[0m\u001b[1;33m)\u001b[0m\u001b[1;33m\u001b[0m\u001b[0m\n\u001b[0;32m      4\u001b[0m \u001b[0mrows\u001b[0m\u001b[1;33m\u001b[0m\u001b[0m\n",
      "\u001b[1;31mNameError\u001b[0m: name 'rows' is not defined"
     ]
    }
   ],
   "source": [
    "for i in rows[1:]:\n",
    "    for j in range(2,6):\n",
    "        i[j]=float(i[j])\n",
    "rows"
   ]
  },
  {
   "cell_type": "code",
   "execution_count": null,
   "metadata": {},
   "outputs": [],
   "source": [
    "a=rows[3]\n",
    "a.append(5)"
   ]
  },
  {
   "cell_type": "code",
   "execution_count": 23,
   "metadata": {},
   "outputs": [
    {
     "data": {
      "text/plain": [
       "[['Roll no', 'Full Name', ' A1', ' A2', ' A3', ' A4'],\n",
       " ['p101111', 'Ali Khayam', ' 64', ' 78.5', ' 89', ' 25'],\n",
       " ['p101112', 'Mudasser Farooq', ' 14', ' 28.5', ' 83', ' 76'],\n",
       " ['p101113', 'Tamleek Ali', ' 87', ' 12', ' 1.6', ' 22']]"
      ]
     },
     "execution_count": 23,
     "metadata": {},
     "output_type": "execute_result"
    }
   ],
   "source": [
    "a=[]\n",
    "with open(file,\"r\") as f:\n",
    "    for i in f:\n",
    "        a.append(i.strip().split(\",\"))\n",
    "a"
   ]
  },
  {
   "cell_type": "code",
   "execution_count": 24,
   "metadata": {},
   "outputs": [
    {
     "data": {
      "text/plain": [
       "[['Roll no', 'Full Name', ' A1', ' A2', ' A3', ' A4'],\n",
       " ['p101111', 'Ali Khayam', 64.0, 78.5, 89.0, 25.0],\n",
       " ['p101112', 'Mudasser Farooq', 14.0, 28.5, 83.0, 76.0],\n",
       " ['p101113', 'Tamleek Ali', 87.0, 12.0, 1.6, 22.0]]"
      ]
     },
     "execution_count": 24,
     "metadata": {},
     "output_type": "execute_result"
    }
   ],
   "source": [
    "for i in a[1:]:\n",
    "    for j in range(2,6):\n",
    "        i[j]=float(i[j])\n",
    "a"
   ]
  },
  {
   "cell_type": "code",
   "execution_count": 26,
   "metadata": {},
   "outputs": [
    {
     "data": {
      "text/plain": [
       "[['Roll no', 'Full Name', ' A1', ' A2', ' A3', ' A4'],\n",
       " ['p101111', 'Ali Khayam', '64.0', '78.5', '89.0', '25.0'],\n",
       " ['p101112', 'Mudasser Farooq', '14.0', '28.5', '83.0', '76.0'],\n",
       " ['p101113', 'Tamleek Ali', '87.0', '12.0', '1.6', '22.0']]"
      ]
     },
     "execution_count": 26,
     "metadata": {},
     "output_type": "execute_result"
    }
   ],
   "source": [
    "new_seq=[]\n",
    "for e in a:\n",
    "    r=[str(c)    for c in e]\n",
    "    new_seq.append(r)\n",
    "new_seq"
   ]
  },
  {
   "cell_type": "code",
   "execution_count": 28,
   "metadata": {},
   "outputs": [
    {
     "data": {
      "text/plain": [
       "[['Roll no', 'Full Name', ' A1', ' A2', ' A3', ' A4'],\n",
       " ['p101111', 'Ali Khayam', '64.0', '78.5', '89.0', '25.0'],\n",
       " ['p101112', 'Mudasser Farooq', '14.0', '28.5', '83.0', '76.0'],\n",
       " ['p101113', 'Tamleek Ali', '87.0', '12.0', '1.6', '22.0']]"
      ]
     },
     "execution_count": 28,
     "metadata": {},
     "output_type": "execute_result"
    }
   ],
   "source": [
    "news_seq=[]\n",
    "for k in a:\n",
    "    v=[str(l)   for l in k]\n",
    "    news_seq.append(v)\n",
    "news_seq"
   ]
  },
  {
   "cell_type": "code",
   "execution_count": 31,
   "metadata": {},
   "outputs": [],
   "source": [
    "fileloc=os.path.join(\"res\",\"dummy-out.csv\")\n",
    "with open(fileloc,\"w\") as f:\n",
    "    for z in news_seq:\n",
    "        out_line=\",\".join(r)\n",
    "        f.write(out_line+\"\\n\")\n",
    "        "
   ]
  },
  {
   "cell_type": "code",
   "execution_count": null,
   "metadata": {},
   "outputs": [],
   "source": [
    "with open(fileloc,\"r\") as f:\n",
    "    for x in "
   ]
  }
 ],
 "metadata": {
  "kernelspec": {
   "display_name": "Python 3",
   "language": "python",
   "name": "python3"
  },
  "language_info": {
   "codemirror_mode": {
    "name": "ipython",
    "version": 3
   },
   "file_extension": ".py",
   "mimetype": "text/x-python",
   "name": "python",
   "nbconvert_exporter": "python",
   "pygments_lexer": "ipython3",
   "version": "3.6.5"
  }
 },
 "nbformat": 4,
 "nbformat_minor": 2
}
