{
 "cells": [
  {
   "cell_type": "code",
   "execution_count": null,
   "metadata": {},
   "outputs": [],
   "source": [
    "b={\n",
    "    \"house\":\"Our home have become house over the years\",\n",
    "    \"Fruits\":\"I do not like to eat fruits\",\n",
    "     \"Fraternize\":\"I do not like to fraternize over little things\",\n",
    "      \"Kidding\":\"You must be kidding yourself if you think I will help you after this\"\n",
    "}"
   ]
  },
  {
   "cell_type": "code",
   "execution_count": null,
   "metadata": {},
   "outputs": [],
   "source": [
    "b[\"house\"]"
   ]
  },
  {
   "cell_type": "code",
   "execution_count": null,
   "metadata": {},
   "outputs": [],
   "source": [
    "if b[\"house\"]==\"Our home have become house over the years\":\n",
    "    print(\"Good job\")"
   ]
  },
  {
   "cell_type": "code",
   "execution_count": null,
   "metadata": {},
   "outputs": [],
   "source": [
    "print(b[\"Fraternize\"])"
   ]
  },
  {
   "cell_type": "code",
   "execution_count": null,
   "metadata": {},
   "outputs": [],
   "source": [
    "for x,y in b.items():\n",
    "    print(x,\":\",y)\n",
    "    "
   ]
  },
  {
   "cell_type": "code",
   "execution_count": null,
   "metadata": {},
   "outputs": [],
   "source": []
  },
  {
   "cell_type": "code",
   "execution_count": null,
   "metadata": {},
   "outputs": [],
   "source": [
    "num_names={\n",
    "    1:\"one\",\n",
    "    2:\"two\",\n",
    "    3:\"three\"\n",
    "}"
   ]
  },
  {
   "cell_type": "code",
   "execution_count": null,
   "metadata": {},
   "outputs": [],
   "source": [
    "num_names[3]"
   ]
  },
  {
   "cell_type": "code",
   "execution_count": 6,
   "metadata": {},
   "outputs": [],
   "source": [
    "l=[\n",
    "    {'roll_no': 'p18-1001', 'marks': {\n",
    "    'english': (1.4, 2.5, 15, 9.6, 33),\n",
    "   'calculus': (2.4, 1.5, 12, 1.6, 21),\n",
    "    }, 'attendance': 88.4\n",
    "    },\n",
    "    {'roll_no': 'p18-1002', 'marks': {\n",
    "'english': (2.4, 1.5, 12, 1.6, 21),\n",
    "'programming fundaments': (2.4, 1.5, 12, 1.6, 21),\n",
    "}, 'attendance': 79.4\n",
    "},\n",
    "{'roll_no': 'p18-1003', 'marks': {\n",
    "'calculus': (2.4, 1.5, 12, None, 21),\n",
    "'programming fundamentals': (2.4, 1.5, 12, 1.6, 21),\n",
    "}, 'attendance': 79.4\n",
    "},\n",
    "]"
   ]
  },
  {
   "cell_type": "code",
   "execution_count": null,
   "metadata": {},
   "outputs": [],
   "source": [
    "{\n",
    "'p18-1001': {'english': 61.5,\n",
    "'calculus': 38.5\n",
    "},\n",
    "'p18-1002': {'english': 38.5,\n",
    "'programming fundaments': 38.5\n",
    "},\n",
    "'p18-1003': {'calculus': 36.9,\n",
    "'programming fundamentals': 38.5\n",
    "}\n",
    "}"
   ]
  },
  {
   "cell_type": "code",
   "execution_count": 14,
   "metadata": {},
   "outputs": [
    {
     "data": {
      "text/plain": [
       "(1.4, 2.5, 15, 9.6, 33)"
      ]
     },
     "execution_count": 14,
     "metadata": {},
     "output_type": "execute_result"
    }
   ],
   "source": [
    "l[0][\"marks\"][\"english\"]"
   ]
  },
  {
   "cell_type": "code",
   "execution_count": 13,
   "metadata": {},
   "outputs": [
    {
     "ename": "SyntaxError",
     "evalue": "'return' outside function (<ipython-input-13-4e54a963eb53>, line 3)",
     "output_type": "error",
     "traceback": [
      "\u001b[1;36m  File \u001b[1;32m\"<ipython-input-13-4e54a963eb53>\"\u001b[1;36m, line \u001b[1;32m3\u001b[0m\n\u001b[1;33m    return a\u001b[0m\n\u001b[1;37m    ^\u001b[0m\n\u001b[1;31mSyntaxError\u001b[0m\u001b[1;31m:\u001b[0m 'return' outside function\n"
     ]
    }
   ],
   "source": [
    "if 1"
   ]
  },
  {
   "cell_type": "code",
   "execution_count": 15,
   "metadata": {},
   "outputs": [],
   "source": []
  },
  {
   "cell_type": "code",
   "execution_count": 16,
   "metadata": {},
   "outputs": [],
   "source": [
    "def get_grade(x,y):\n",
    "    if x>=:\n",
    "        return y[80]\n",
    "    elif x<80 and x>=70:\n",
    "        return\"B\"\n",
    "    elif x<70 and x>=60:\n",
    "        return\"C\"\n",
    "    elif x<60 and x>=50:\n",
    "        return \"D\"\n",
    "    elif x<50:\n",
    "        return \"F\""
   ]
  },
  {
   "cell_type": "code",
   "execution_count": 20,
   "metadata": {},
   "outputs": [],
   "source": [
    "def get_grade(x,y):\n",
    "    if x>=y[\"A\"]:\n",
    "        return \"A\"\n",
    "    elif x<y[\"A\"] and x>=y[\"B\"]:\n",
    "        return \"B\"\n",
    "    elif x<y[\"B\"] and x>=y[\"C\"]:\n",
    "        return \"C\"\n",
    "    elif x<y[\"C\"] and x>=y[\"D\"]:\n",
    "        return \"D\"\n",
    "    else:\n",
    "        return \"F\""
   ]
  },
  {
   "cell_type": "code",
   "execution_count": 26,
   "metadata": {},
   "outputs": [
    {
     "data": {
      "text/plain": [
       "'C'"
      ]
     },
     "execution_count": 26,
     "metadata": {},
     "output_type": "execute_result"
    }
   ],
   "source": [
    "grade_boundaries = {'A': 80, 'B': 70, 'C': 60, 'D': 50}\n",
    "get_grade(69,grade_boundaries)\n"
   ]
  },
  {
   "cell_type": "code",
   "execution_count": null,
   "metadata": {},
   "outputs": [],
   "source": []
  }
 ],
 "metadata": {
  "kernelspec": {
   "display_name": "Python 3",
   "language": "python",
   "name": "python3"
  },
  "language_info": {
   "codemirror_mode": {
    "name": "ipython",
    "version": 3
   },
   "file_extension": ".py",
   "mimetype": "text/x-python",
   "name": "python",
   "nbconvert_exporter": "python",
   "pygments_lexer": "ipython3",
   "version": "3.6.5"
  }
 },
 "nbformat": 4,
 "nbformat_minor": 2
}
