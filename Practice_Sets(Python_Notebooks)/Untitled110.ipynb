{
 "cells": [
  {
   "cell_type": "code",
   "execution_count": 7,
   "metadata": {},
   "outputs": [
    {
     "name": "stdout",
     "output_type": "stream",
     "text": [
      "1\n",
      "2\n",
      "3 Fizz\n",
      "4\n",
      "5 Bizz\n",
      "6 Fizz\n",
      "7\n",
      "8\n",
      "9 Fizz\n",
      "10 Bizz\n",
      "11\n",
      "12 Fizz\n",
      "13\n",
      "14\n",
      "15 Fizz Bizz\n",
      "16\n",
      "17\n",
      "18 Fizz\n",
      "19\n",
      "20 Bizz\n"
     ]
    }
   ],
   "source": [
    "for i in range(1,21):\n",
    "    if i%3 == 0:\n",
    "        if i%5 == 0:\n",
    "            print(str(i)+\" Fizz Bizz\")\n",
    "        else:\n",
    "            print(str(i)+\" Fizz\")\n",
    "    elif i%5 == 0:\n",
    "        print(str(i)+\" Bizz\")\n",
    "    else:\n",
    "        print(i)"
   ]
  },
  {
   "cell_type": "code",
   "execution_count": null,
   "metadata": {},
   "outputs": [],
   "source": []
  }
 ],
 "metadata": {
  "kernelspec": {
   "display_name": "Python 3",
   "language": "python",
   "name": "python3"
  },
  "language_info": {
   "codemirror_mode": {
    "name": "ipython",
    "version": 3
   },
   "file_extension": ".py",
   "mimetype": "text/x-python",
   "name": "python",
   "nbconvert_exporter": "python",
   "pygments_lexer": "ipython3",
   "version": "3.6.5"
  }
 },
 "nbformat": 4,
 "nbformat_minor": 2
}
