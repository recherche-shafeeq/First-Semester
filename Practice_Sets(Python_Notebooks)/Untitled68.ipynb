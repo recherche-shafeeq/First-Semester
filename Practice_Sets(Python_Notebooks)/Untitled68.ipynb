{
 "cells": [
  {
   "cell_type": "code",
   "execution_count": 5,
   "metadata": {},
   "outputs": [],
   "source": [
    "a = {\"name1\":\"Password1\",\"name2\":\"Password2\",\"name3\":\"Password3\"}"
   ]
  },
  {
   "cell_type": "code",
   "execution_count": 8,
   "metadata": {},
   "outputs": [
    {
     "name": "stdout",
     "output_type": "stream",
     "text": [
      "Enter the user name:name1\n",
      "Enter Password:kjafsld\n",
      "Please enter a right passsword\n"
     ]
    }
   ],
   "source": [
    "x = input(\"Enter the user name:\")\n",
    "y = input(\"Enter Password:\")\n",
    "if x in a:\n",
    "    if y== a[x]:\n",
    "        print(\"You are know logged on to the computer\")\n",
    "    else:\n",
    "        print(\"Please enter a right passsword\")\n",
    "else:\n",
    "    print(\"The enter user is not valid and present in the system\")"
   ]
  },
  {
   "cell_type": "code",
   "execution_count": null,
   "metadata": {},
   "outputs": [],
   "source": []
  }
 ],
 "metadata": {
  "kernelspec": {
   "display_name": "Python 3",
   "language": "python",
   "name": "python3"
  },
  "language_info": {
   "codemirror_mode": {
    "name": "ipython",
    "version": 3
   },
   "file_extension": ".py",
   "mimetype": "text/x-python",
   "name": "python",
   "nbconvert_exporter": "python",
   "pygments_lexer": "ipython3",
   "version": "3.6.5"
  }
 },
 "nbformat": 4,
 "nbformat_minor": 2
}
