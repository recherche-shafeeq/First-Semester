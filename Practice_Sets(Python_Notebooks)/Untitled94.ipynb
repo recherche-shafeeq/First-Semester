{
 "cells": [
  {
   "cell_type": "code",
   "execution_count": null,
   "metadata": {},
   "outputs": [],
   "source": [
    "import logging\n",
    "logging.basicConfig(format = \"%(levelname)s:%(message)s:%(asctime)s,\",datefmt= \"%I:%M:%S\",level=logging.DEBUG)   # DEBUG, INFO, WARN, ERROR\n",
    "\n",
    "\n",
    "# add: filename='sqrt.log'\n",
    "\n",
    "def sqrt(x, guess = 1.0):\n",
    "    if x < 0:\n",
    "        logging.error(\"Got a request for square root of negative number.\")\n",
    "        raise ValueError\n",
    "\n",
    "    logging.info(\"Find sqrt of %s starting with guess %s\",x,guess)\n",
    "    if good_enough(guess, x):\n",
    "        return guess\n",
    "    else:\n",
    "        logging.debug(\"Guess isn't good enough. Improve ...\")\n",
    "        new_guess = improve_guess(guess, x)\n",
    "        return sqrt(x, new_guess)\n",
    "\n",
    "def good_enough(guess, x):\n",
    "    logging.debug(\"Checking if {} is a good enough guess.\".format(guess))\n",
    "    if abs(guess * guess - x) < 0.1:\n",
    "        return True\n",
    "    else:\n",
    "        return False\n",
    "\n",
    "\n",
    "\n",
    "def avg(a, b):\n",
    "    return (a+b)/2.0\n",
    "\n",
    "def improve_guess(guess, x):\n",
    "    new_guess = avg(guess, x/guess)\n",
    "    logging.debug(\"Improved guess to: {}\".format(new_guess))\n",
    "    return new_guess\n",
    "\n",
    "print(sqrt(-36))  # try sending -36\n",
    "\n",
    "# See more here: https://docs.python.org/3/howto/logging.html "
   ]
  },
  {
   "cell_type": "code",
   "execution_count": null,
   "metadata": {},
   "outputs": [],
   "source": [
    "%time(sqrt(36))"
   ]
  },
  {
   "cell_type": "code",
   "execution_count": 1,
   "metadata": {},
   "outputs": [],
   "source": [
    "def arithematic():\n",
    "    import logging\n",
    "    logging.basicConfig(level = logging.DEBUG,filename = \"dummy.txt\",filemode = \"w\",format = \"%(levelname)s:  %(message)s: %(asctime)s\")\n",
    "    num1  = int(input(\"Num1:\"))\n",
    "    num2  = int(input(\"Num2:\"))\n",
    "    option= input(\"Option DIV/MUL:\")\n",
    "    logging.info(\"Got %s and %s for %s\",num1,num2,option)\n",
    "    if option == \"DIV\":\n",
    "        logging.info(\"Entered the DIVISION part\")\n",
    "        if num2 == 0:\n",
    "            logging.error(\"num2 is {}\".format(num2))\n",
    "            raise ZeroDivisionError(\"Can't Divide by zero\")\n",
    "        return num1/num2\n",
    "    elif option == \"MUL\":\n",
    "        logging.info(\"Entered the MULTIPLICATION part.\")\n",
    "        return num1*num2\n",
    "    else:\n",
    "        print(\"Please enter a correct option\")"
   ]
  },
  {
   "cell_type": "code",
   "execution_count": 2,
   "metadata": {},
   "outputs": [
    {
     "name": "stdout",
     "output_type": "stream",
     "text": [
      "Num1:5\n",
      "Num2:5\n",
      "Option DIV/MUL:DIV\n"
     ]
    },
    {
     "data": {
      "text/plain": [
       "1.0"
      ]
     },
     "execution_count": 2,
     "metadata": {},
     "output_type": "execute_result"
    }
   ],
   "source": [
    "arithematic()"
   ]
  },
  {
   "cell_type": "code",
   "execution_count": null,
   "metadata": {},
   "outputs": [],
   "source": [
    "getattr(\"faf\",\"afdf\")"
   ]
  },
  {
   "cell_type": "code",
   "execution_count": null,
   "metadata": {},
   "outputs": [],
   "source": [
    "import logging\n",
    "loglevel = \"error\"\n",
    "numeric_level = getattr(logging, loglevel.upper())\n",
    "if not isinstance(numeric_level, int):\n",
    "    raise ValueError('Invalid log level: %s' % loglevel)\n",
    "logging.basicConfig(level=numeric_level)"
   ]
  },
  {
   "cell_type": "code",
   "execution_count": null,
   "metadata": {},
   "outputs": [],
   "source": [
    "import mylib"
   ]
  },
  {
   "cell_type": "code",
   "execution_count": null,
   "metadata": {},
   "outputs": [],
   "source": [
    "class Student:\n",
    "    student_id=\"\"\n",
    "    student_name=\"\""
   ]
  },
  {
   "cell_type": "code",
   "execution_count": null,
   "metadata": {},
   "outputs": [],
   "source": [
    "student = Student()"
   ]
  },
  {
   "cell_type": "code",
   "execution_count": null,
   "metadata": {},
   "outputs": [],
   "source": [
    "print(\"name of the studeents is:\",student)"
   ]
  },
  {
   "cell_type": "code",
   "execution_count": null,
   "metadata": {},
   "outputs": [],
   "source": [
    "getattr()"
   ]
  }
 ],
 "metadata": {
  "kernelspec": {
   "display_name": "Python 3",
   "language": "python",
   "name": "python3"
  },
  "language_info": {
   "codemirror_mode": {
    "name": "ipython",
    "version": 3
   },
   "file_extension": ".py",
   "mimetype": "text/x-python",
   "name": "python",
   "nbconvert_exporter": "python",
   "pygments_lexer": "ipython3",
   "version": "3.6.5"
  }
 },
 "nbformat": 4,
 "nbformat_minor": 2
}
